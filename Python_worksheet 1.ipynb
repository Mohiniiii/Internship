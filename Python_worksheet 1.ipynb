{
 "cells": [
  {
   "cell_type": "markdown",
   "id": "3fc8b5b5",
   "metadata": {},
   "source": [
    "# Python -worksheet 1 (Q.11-Q.15)"
   ]
  },
  {
   "cell_type": "markdown",
   "id": "f4fee458",
   "metadata": {},
   "source": [
    "Q.11. Write a python program to find the factorial of a number."
   ]
  },
  {
   "cell_type": "code",
   "execution_count": 1,
   "id": "5d082aa0",
   "metadata": {},
   "outputs": [
    {
     "name": "stdout",
     "output_type": "stream",
     "text": [
      "Enter a number :8\n",
      "The factorial of  8 is 40320\n"
     ]
    }
   ],
   "source": [
    "num = int(input(\"Enter a number :\"))\n",
    "fact=1\n",
    "a=1\n",
    "while a<=num:\n",
    "    fact*=a\n",
    "    a+=1\n",
    "print(\"The factorial of \", num,\"is\",fact)"
   ]
  },
  {
   "cell_type": "markdown",
   "id": "15c64b01",
   "metadata": {},
   "source": [
    "Q.12. Write a python program to find whether a number is prime or composite."
   ]
  },
  {
   "cell_type": "code",
   "execution_count": 2,
   "id": "fccc243c",
   "metadata": {},
   "outputs": [
    {
     "name": "stdout",
     "output_type": "stream",
     "text": [
      "Enter any number-4\n",
      "Please enter positive number only \n"
     ]
    }
   ],
   "source": [
    "n=int (input(\"Enter any number\"))   #to take number from the users\n",
    "if(n==0 or n==1):\n",
    "    print(n,\"Number is neither prime nor composite\")\n",
    "elif n>1 :\n",
    "    for i in range(2,n):\n",
    "        if(n%i == 0):\n",
    "            print(n,\"is not prime but composite number\")\n",
    "            break\n",
    "    else:\n",
    "        print(n,\"number is prime but not composite number\")\n",
    "else :\n",
    "    print(\"Please enter positive number only \")"
   ]
  },
  {
   "cell_type": "markdown",
   "id": "79cfadaf",
   "metadata": {},
   "source": [
    "Q.13. Write a python program to check whether a given string is palindrome or not"
   ]
  },
  {
   "cell_type": "code",
   "execution_count": 4,
   "id": "7011c070",
   "metadata": {},
   "outputs": [
    {
     "name": "stdout",
     "output_type": "stream",
     "text": [
      "Enter a string:Ram\n",
      "Ram is not a palindrome\n"
     ]
    }
   ],
   "source": [
    "s=input(\"Enter a string:\")\n",
    "if (s==s[::-1]):        #start:stop:step -1 means from last i will check\n",
    "    print(s,\"is a palindrome\")\n",
    "else:\n",
    "    print(s,\"is not a palindrome\")\n",
    "    "
   ]
  },
  {
   "cell_type": "markdown",
   "id": "ff372249",
   "metadata": {},
   "source": [
    "Q.14. Write a Python program to get the third side of right-angled triangle from two given sides."
   ]
  },
  {
   "cell_type": "code",
   "execution_count": 3,
   "id": "7edb3093",
   "metadata": {},
   "outputs": [
    {
     "name": "stdout",
     "output_type": "stream",
     "text": [
      "Enter base: 5\n",
      "Enter height: 3\n",
      "Hypotenuse = 5.830951894845301\n"
     ]
    }
   ],
   "source": [
    "import math\n",
    "a = float(input(\"Enter base: \"))\n",
    "b = float(input(\"Enter height: \"))\n",
    "\n",
    "c = math.sqrt(a ** 2 + b ** 2)\n",
    "\n",
    "print(\"Hypotenuse =\", c)"
   ]
  },
  {
   "cell_type": "markdown",
   "id": "553ae4f0",
   "metadata": {},
   "source": [
    "Q.15. Write a python program to print the frequency of each of the characters present in a given string."
   ]
  },
  {
   "cell_type": "code",
   "execution_count": 6,
   "id": "f563e919",
   "metadata": {},
   "outputs": [
    {
     "name": "stdout",
     "output_type": "stream",
     "text": [
      "The count of all characters in Python is :\n",
      " {'o': 1, 'h': 1, 't': 1, 'n': 1, 'y': 1, 'P': 1}\n"
     ]
    }
   ],
   "source": [
    "# Python3 code to demonstrate \n",
    "# each occurrence frequency using \n",
    "# set() + count()\n",
    "  \n",
    "# initializing string \n",
    "test_str = \"Python\"\n",
    "  \n",
    "# using set() + count() to get count \n",
    "# of each element in string \n",
    "res = {i : test_str.count(i) for i in set(test_str)}\n",
    "  \n",
    "# printing result \n",
    "print (\"The count of all characters in Python is :\\n \"\n",
    "                                               +  str(res))\n",
    "\n"
   ]
  },
  {
   "cell_type": "code",
   "execution_count": null,
   "id": "deef0cbb",
   "metadata": {},
   "outputs": [],
   "source": []
  }
 ],
 "metadata": {
  "kernelspec": {
   "display_name": "Python 3",
   "language": "python",
   "name": "python3"
  },
  "language_info": {
   "codemirror_mode": {
    "name": "ipython",
    "version": 3
   },
   "file_extension": ".py",
   "mimetype": "text/x-python",
   "name": "python",
   "nbconvert_exporter": "python",
   "pygments_lexer": "ipython3",
   "version": "3.8.8"
  }
 },
 "nbformat": 4,
 "nbformat_minor": 5
}
