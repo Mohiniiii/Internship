{
 "cells": [
  {
   "cell_type": "markdown",
   "id": "434dad8c",
   "metadata": {},
   "source": [
    "# Web Scraping (Using Selenium) -Assignment 2 "
   ]
  },
  {
   "cell_type": "code",
   "execution_count": 1,
   "id": "e1ec2061",
   "metadata": {},
   "outputs": [
    {
     "name": "stdout",
     "output_type": "stream",
     "text": [
      "Requirement already satisfied: selenium in c:\\users\\mohini\\anaconda3\\lib\\site-packages (4.1.3)\n",
      "Requirement already satisfied: trio-websocket~=0.9 in c:\\users\\mohini\\anaconda3\\lib\\site-packages (from selenium) (0.9.2)\n",
      "Requirement already satisfied: trio~=0.17 in c:\\users\\mohini\\anaconda3\\lib\\site-packages (from selenium) (0.20.0)\n",
      "Requirement already satisfied: urllib3[secure,socks]~=1.26 in c:\\users\\mohini\\anaconda3\\lib\\site-packages (from selenium) (1.26.4)\n",
      "Requirement already satisfied: attrs>=19.2.0 in c:\\users\\mohini\\anaconda3\\lib\\site-packages (from trio~=0.17->selenium) (20.3.0)\n",
      "Requirement already satisfied: sortedcontainers in c:\\users\\mohini\\anaconda3\\lib\\site-packages (from trio~=0.17->selenium) (2.3.0)\n",
      "Requirement already satisfied: outcome in c:\\users\\mohini\\anaconda3\\lib\\site-packages (from trio~=0.17->selenium) (1.1.0)\n",
      "Requirement already satisfied: idna in c:\\users\\mohini\\anaconda3\\lib\\site-packages (from trio~=0.17->selenium) (2.10)\n",
      "Requirement already satisfied: async-generator>=1.9 in c:\\users\\mohini\\anaconda3\\lib\\site-packages (from trio~=0.17->selenium) (1.10)\n",
      "Requirement already satisfied: sniffio in c:\\users\\mohini\\anaconda3\\lib\\site-packages (from trio~=0.17->selenium) (1.2.0)\n",
      "Requirement already satisfied: cffi>=1.14 in c:\\users\\mohini\\anaconda3\\lib\\site-packages (from trio~=0.17->selenium) (1.14.5)\n",
      "Requirement already satisfied: pycparser in c:\\users\\mohini\\anaconda3\\lib\\site-packages (from cffi>=1.14->trio~=0.17->selenium) (2.20)\n",
      "Requirement already satisfied: wsproto>=0.14 in c:\\users\\mohini\\anaconda3\\lib\\site-packages (from trio-websocket~=0.9->selenium) (1.1.0)\n",
      "Requirement already satisfied: cryptography>=1.3.4 in c:\\users\\mohini\\anaconda3\\lib\\site-packages (from urllib3[secure,socks]~=1.26->selenium) (3.4.7)\n",
      "Requirement already satisfied: pyOpenSSL>=0.14 in c:\\users\\mohini\\anaconda3\\lib\\site-packages (from urllib3[secure,socks]~=1.26->selenium) (20.0.1)\n",
      "Requirement already satisfied: certifi in c:\\users\\mohini\\anaconda3\\lib\\site-packages (from urllib3[secure,socks]~=1.26->selenium) (2020.12.5)\n",
      "Requirement already satisfied: PySocks!=1.5.7,<2.0,>=1.5.6 in c:\\users\\mohini\\anaconda3\\lib\\site-packages (from urllib3[secure,socks]~=1.26->selenium) (1.7.1)\n",
      "Requirement already satisfied: six>=1.5.2 in c:\\users\\mohini\\anaconda3\\lib\\site-packages (from pyOpenSSL>=0.14->urllib3[secure,socks]~=1.26->selenium) (1.15.0)\n",
      "Requirement already satisfied: h11<1,>=0.9.0 in c:\\users\\mohini\\anaconda3\\lib\\site-packages (from wsproto>=0.14->trio-websocket~=0.9->selenium) (0.13.0)\n"
     ]
    }
   ],
   "source": [
    "#Installing selenium library\n",
    "! pip install selenium"
   ]
  },
  {
   "cell_type": "code",
   "execution_count": 2,
   "id": "a96d61c7",
   "metadata": {},
   "outputs": [],
   "source": [
    "#importing Libraries\n",
    "import selenium\n",
    "import pandas as pd\n",
    "from selenium import webdriver\n",
    "import warnings\n",
    "warnings.filterwarnings(\"ignore\")\n",
    "import time"
   ]
  },
  {
   "cell_type": "code",
   "execution_count": 3,
   "id": "ea7dfcad",
   "metadata": {},
   "outputs": [],
   "source": [
    "#connecting to the web driver\n",
    "driver=webdriver.Chrome(r\"C:\\Users\\Mohini\\Downloads\\chromedriver_win32\\chromedriver.exe\")"
   ]
  },
  {
   "cell_type": "code",
   "execution_count": 4,
   "id": "6f157961",
   "metadata": {},
   "outputs": [],
   "source": [
    "driver=webdriver.Chrome(\"chromedriver.exe\")  #another way of opening our web browser\n",
    "time.sleep(2)"
   ]
  },
  {
   "cell_type": "code",
   "execution_count": 32,
   "id": "857f2036",
   "metadata": {},
   "outputs": [],
   "source": [
    "#driver.close()  #to close the web browser"
   ]
  },
  {
   "cell_type": "markdown",
   "id": "e0a17bc2",
   "metadata": {},
   "source": [
    "# Question 1: Write a python program to scrape data for “Data Analyst” Job position in “Bangalore” location. You have to scrape the job-title, job-location, company_name, experience_required. You have to scrape first 10 jobs data.\n",
    "\n",
    "\n"
   ]
  },
  {
   "cell_type": "code",
   "execution_count": 35,
   "id": "bc20e4e9",
   "metadata": {},
   "outputs": [],
   "source": [
    "driver.get(\"https://www.naukri.com/\")"
   ]
  },
  {
   "cell_type": "code",
   "execution_count": 36,
   "id": "14303535",
   "metadata": {},
   "outputs": [],
   "source": [
    "#Finding elements for job search bar\n",
    "search_field_designation=driver.find_element_by_class_name(\"suggestor-input\")\n",
    "search_field_designation.send_keys(\"Data Analyst\")\n",
    "search_field_location=driver.find_element_by_xpath(\"/html/body/div/div[2]/div[3]/div/div/div[3]/div/div/div/input\")\n",
    "search_field_location.send_keys(\"Banglore\")"
   ]
  },
  {
   "cell_type": "code",
   "execution_count": 37,
   "id": "5ee0a4e0",
   "metadata": {},
   "outputs": [],
   "source": [
    "#clicking on search button\n",
    "search_button = driver.find_element_by_xpath(\"/html/body/div/div[2]/div[3]/div/div/div[6]\")\n",
    "search_button.click()"
   ]
  },
  {
   "cell_type": "code",
   "execution_count": 38,
   "id": "bca37993",
   "metadata": {},
   "outputs": [],
   "source": [
    "#creating 4 empty lists as per the requirement of the question\n",
    "job_titles=[]\n",
    "company_names=[]\n",
    "locations_list=[]\n",
    "experience_list=[]"
   ]
  },
  {
   "cell_type": "code",
   "execution_count": 39,
   "id": "07c237b5",
   "metadata": {},
   "outputs": [
    {
     "data": {
      "text/plain": [
       "[<selenium.webdriver.remote.webelement.WebElement (session=\"4bcf066797d61b93d6ac48cbd6f5a7e4\", element=\"b30cd737-f285-4312-ae15-0c966268d9a4\")>,\n",
       " <selenium.webdriver.remote.webelement.WebElement (session=\"4bcf066797d61b93d6ac48cbd6f5a7e4\", element=\"409ab85f-9bb2-48d0-8505-bb189e447a97\")>,\n",
       " <selenium.webdriver.remote.webelement.WebElement (session=\"4bcf066797d61b93d6ac48cbd6f5a7e4\", element=\"76d04ef1-d22b-4818-b5c3-7411a5ab7860\")>,\n",
       " <selenium.webdriver.remote.webelement.WebElement (session=\"4bcf066797d61b93d6ac48cbd6f5a7e4\", element=\"60552c82-87e3-44e1-bfec-b8df513b75d2\")>,\n",
       " <selenium.webdriver.remote.webelement.WebElement (session=\"4bcf066797d61b93d6ac48cbd6f5a7e4\", element=\"9520060d-8813-4e98-a5c4-2a534e166d77\")>,\n",
       " <selenium.webdriver.remote.webelement.WebElement (session=\"4bcf066797d61b93d6ac48cbd6f5a7e4\", element=\"7834257d-7276-43f5-b422-1a6513461815\")>,\n",
       " <selenium.webdriver.remote.webelement.WebElement (session=\"4bcf066797d61b93d6ac48cbd6f5a7e4\", element=\"d1a0b295-5799-416c-ba16-2ed95d517fe8\")>,\n",
       " <selenium.webdriver.remote.webelement.WebElement (session=\"4bcf066797d61b93d6ac48cbd6f5a7e4\", element=\"41ebfd50-79c5-45e3-88d2-bb5ec81613b3\")>,\n",
       " <selenium.webdriver.remote.webelement.WebElement (session=\"4bcf066797d61b93d6ac48cbd6f5a7e4\", element=\"34f2d3a6-c467-43a0-830d-5ad6f30e1994\")>,\n",
       " <selenium.webdriver.remote.webelement.WebElement (session=\"4bcf066797d61b93d6ac48cbd6f5a7e4\", element=\"ed082d52-1056-45ba-a63a-f6405a1c1fcc\")>]"
      ]
     },
     "execution_count": 39,
     "metadata": {},
     "output_type": "execute_result"
    }
   ],
   "source": [
    "#Extracting all the tags having Job Titles:\n",
    "titles_tags=driver.find_elements_by_xpath(\"//a[@class='title fw500 ellipsis']\")  #single inverted commas in giving class name.\n",
    "titles_tags[0:10]  #for extracting first 10 data"
   ]
  },
  {
   "cell_type": "code",
   "execution_count": 40,
   "id": "d58fa5a7",
   "metadata": {},
   "outputs": [
    {
     "data": {
      "text/plain": [
       "['Data Analysts with Business Analysis',\n",
       " 'Data Analyst / Data Engineer',\n",
       " 'Senior Data Analyst (Digital Services Analytics)',\n",
       " 'Sr Domain Expert -Data Analysts',\n",
       " 'Business Analyst/Data Analyst',\n",
       " 'Senior Data Analyst - KPO',\n",
       " 'Senior Data Analyst',\n",
       " 'Data Analyst',\n",
       " 'HR Data Analyst',\n",
       " 'Blockchain AML Data Analyst']"
      ]
     },
     "execution_count": 40,
     "metadata": {},
     "output_type": "execute_result"
    }
   ],
   "source": [
    "#to extract the data from the tags above.\n",
    "for i in titles_tags:\n",
    "    title=i.text\n",
    "    job_titles.append(title)\n",
    "    \n",
    "job_titles[0:10]"
   ]
  },
  {
   "cell_type": "code",
   "execution_count": 41,
   "id": "7cfadc7b",
   "metadata": {},
   "outputs": [
    {
     "data": {
      "text/plain": [
       "[<selenium.webdriver.remote.webelement.WebElement (session=\"4bcf066797d61b93d6ac48cbd6f5a7e4\", element=\"35b21d0b-2f24-4075-84de-58496aaaf5fc\")>,\n",
       " <selenium.webdriver.remote.webelement.WebElement (session=\"4bcf066797d61b93d6ac48cbd6f5a7e4\", element=\"8cd7a726-4fd3-4312-8dd0-e08eaaa839a3\")>,\n",
       " <selenium.webdriver.remote.webelement.WebElement (session=\"4bcf066797d61b93d6ac48cbd6f5a7e4\", element=\"0a12704a-2612-4724-8256-64775224af97\")>,\n",
       " <selenium.webdriver.remote.webelement.WebElement (session=\"4bcf066797d61b93d6ac48cbd6f5a7e4\", element=\"ce956f4a-e627-4d9d-9ef1-45e1ece6aeb0\")>,\n",
       " <selenium.webdriver.remote.webelement.WebElement (session=\"4bcf066797d61b93d6ac48cbd6f5a7e4\", element=\"be746c8e-e34d-406f-982b-4ff43c939752\")>,\n",
       " <selenium.webdriver.remote.webelement.WebElement (session=\"4bcf066797d61b93d6ac48cbd6f5a7e4\", element=\"69245d2f-eea7-4137-899e-2bf7d5553ea5\")>,\n",
       " <selenium.webdriver.remote.webelement.WebElement (session=\"4bcf066797d61b93d6ac48cbd6f5a7e4\", element=\"9110c03e-24d1-4250-90ec-f953f39e0a95\")>,\n",
       " <selenium.webdriver.remote.webelement.WebElement (session=\"4bcf066797d61b93d6ac48cbd6f5a7e4\", element=\"fee6c859-f7cf-4199-8d50-ad87a2d6bb48\")>,\n",
       " <selenium.webdriver.remote.webelement.WebElement (session=\"4bcf066797d61b93d6ac48cbd6f5a7e4\", element=\"50bad87c-aa08-42cf-8616-9a015ebbd93d\")>,\n",
       " <selenium.webdriver.remote.webelement.WebElement (session=\"4bcf066797d61b93d6ac48cbd6f5a7e4\", element=\"20d38cbf-e710-4f42-9ffc-3121a6e4c228\")>]"
      ]
     },
     "execution_count": 41,
     "metadata": {},
     "output_type": "execute_result"
    }
   ],
   "source": [
    "#to extract all tags which include company name for above profiles\n",
    "\n",
    "companies_tags= driver.find_elements_by_xpath(\"//a[@class='subTitle ellipsis fleft']\")\n",
    "companies_tags[0:10]\n"
   ]
  },
  {
   "cell_type": "code",
   "execution_count": 42,
   "id": "31ae1732",
   "metadata": {},
   "outputs": [
    {
     "data": {
      "text/plain": [
       "['Avanze Technologies India Pvt. Ltd.',\n",
       " 'TALENT MAX HR & MANAGEMENT CONSULTANTS',\n",
       " 'Dell Technologies',\n",
       " 'Siemens',\n",
       " 'Telamon HR Solutions',\n",
       " 'Huquo Consulting Pvt. Ltd',\n",
       " 'Cerner',\n",
       " 'Enrich talents',\n",
       " 'Gojek',\n",
       " 'PayPal']"
      ]
     },
     "execution_count": 42,
     "metadata": {},
     "output_type": "execute_result"
    }
   ],
   "source": [
    "#Now extracting data from all the tags above\n",
    "for i in companies_tags:\n",
    "    company_name=i.text\n",
    "    company_names.append(company_name)\n",
    "    \n",
    "company_names[0:10]"
   ]
  },
  {
   "cell_type": "code",
   "execution_count": 43,
   "id": "fc684abb",
   "metadata": {},
   "outputs": [
    {
     "data": {
      "text/plain": [
       "[<selenium.webdriver.remote.webelement.WebElement (session=\"4bcf066797d61b93d6ac48cbd6f5a7e4\", element=\"d6e5086b-6086-4650-be32-e9492162310b\")>,\n",
       " <selenium.webdriver.remote.webelement.WebElement (session=\"4bcf066797d61b93d6ac48cbd6f5a7e4\", element=\"5f0b230b-7955-4941-89fb-69a7679edfcb\")>,\n",
       " <selenium.webdriver.remote.webelement.WebElement (session=\"4bcf066797d61b93d6ac48cbd6f5a7e4\", element=\"0b7f711e-a4f3-4f0a-b65c-5a87d04782c7\")>,\n",
       " <selenium.webdriver.remote.webelement.WebElement (session=\"4bcf066797d61b93d6ac48cbd6f5a7e4\", element=\"8f03b63b-1f54-43b7-b366-f1b7ecfc1698\")>,\n",
       " <selenium.webdriver.remote.webelement.WebElement (session=\"4bcf066797d61b93d6ac48cbd6f5a7e4\", element=\"81ea30a8-a4f3-4729-bd40-92891d4dbabc\")>,\n",
       " <selenium.webdriver.remote.webelement.WebElement (session=\"4bcf066797d61b93d6ac48cbd6f5a7e4\", element=\"524de88c-7214-449c-8447-368818246ba2\")>,\n",
       " <selenium.webdriver.remote.webelement.WebElement (session=\"4bcf066797d61b93d6ac48cbd6f5a7e4\", element=\"40f0069d-b9d8-4b7d-99c8-3305c561529a\")>,\n",
       " <selenium.webdriver.remote.webelement.WebElement (session=\"4bcf066797d61b93d6ac48cbd6f5a7e4\", element=\"fac13590-16d4-4d23-b558-4f3e24e41acf\")>,\n",
       " <selenium.webdriver.remote.webelement.WebElement (session=\"4bcf066797d61b93d6ac48cbd6f5a7e4\", element=\"f988ee6f-c43b-4f13-9197-616890e68251\")>,\n",
       " <selenium.webdriver.remote.webelement.WebElement (session=\"4bcf066797d61b93d6ac48cbd6f5a7e4\", element=\"a66d8488-6202-43ef-97e3-bd41322de1e6\")>]"
      ]
     },
     "execution_count": 43,
     "metadata": {},
     "output_type": "execute_result"
    }
   ],
   "source": [
    "#Extracting all the tags for experience required.\n",
    "\n",
    "experience_tags=driver.find_elements_by_xpath(\"//li[@class='fleft grey-text br2 placeHolderLi experience']/span[1]\")\n",
    "experience_tags[0:10]"
   ]
  },
  {
   "cell_type": "code",
   "execution_count": 44,
   "id": "b36e5e8d",
   "metadata": {},
   "outputs": [
    {
     "data": {
      "text/plain": [
       "['6-8 Yrs',\n",
       " '8-13 Yrs',\n",
       " '1-6 Yrs',\n",
       " '0-10 Yrs',\n",
       " '3-5 Yrs',\n",
       " '7-12 Yrs',\n",
       " '8-12 Yrs',\n",
       " '0-4 Yrs',\n",
       " '3-8 Yrs',\n",
       " '3-7 Yrs']"
      ]
     },
     "execution_count": 44,
     "metadata": {},
     "output_type": "execute_result"
    }
   ],
   "source": [
    "# extracting all the data from above tags\n",
    "\n",
    "for i in experience_tags:\n",
    "    experience=i.text\n",
    "    experience_list.append(experience)\n",
    "    \n",
    "experience_list[0:10]"
   ]
  },
  {
   "cell_type": "code",
   "execution_count": 45,
   "id": "4d20d903",
   "metadata": {},
   "outputs": [
    {
     "data": {
      "text/plain": [
       "[<selenium.webdriver.remote.webelement.WebElement (session=\"4bcf066797d61b93d6ac48cbd6f5a7e4\", element=\"e31b438e-ac4d-4959-a7fa-ddda5de14b8f\")>,\n",
       " <selenium.webdriver.remote.webelement.WebElement (session=\"4bcf066797d61b93d6ac48cbd6f5a7e4\", element=\"65e7316b-ee4b-49ef-a0ba-55c77b1b2d3a\")>,\n",
       " <selenium.webdriver.remote.webelement.WebElement (session=\"4bcf066797d61b93d6ac48cbd6f5a7e4\", element=\"3a2f89f0-7d8a-49f2-9529-254ce7e99135\")>,\n",
       " <selenium.webdriver.remote.webelement.WebElement (session=\"4bcf066797d61b93d6ac48cbd6f5a7e4\", element=\"902890be-9a20-4b3e-be27-6b6f6de2d2b2\")>,\n",
       " <selenium.webdriver.remote.webelement.WebElement (session=\"4bcf066797d61b93d6ac48cbd6f5a7e4\", element=\"3833761e-4127-4bca-a695-d88a20d35672\")>,\n",
       " <selenium.webdriver.remote.webelement.WebElement (session=\"4bcf066797d61b93d6ac48cbd6f5a7e4\", element=\"e6174f78-2669-4beb-85e4-c7285e5effab\")>,\n",
       " <selenium.webdriver.remote.webelement.WebElement (session=\"4bcf066797d61b93d6ac48cbd6f5a7e4\", element=\"c313ba9e-b6d9-4790-9c27-8f2e05d87daa\")>,\n",
       " <selenium.webdriver.remote.webelement.WebElement (session=\"4bcf066797d61b93d6ac48cbd6f5a7e4\", element=\"223cf685-c0a6-4818-b8c4-580330efd79f\")>,\n",
       " <selenium.webdriver.remote.webelement.WebElement (session=\"4bcf066797d61b93d6ac48cbd6f5a7e4\", element=\"8e513176-4f67-4f0d-aef5-6988c449e0b6\")>,\n",
       " <selenium.webdriver.remote.webelement.WebElement (session=\"4bcf066797d61b93d6ac48cbd6f5a7e4\", element=\"0bd64b56-4e68-4a56-8986-fe4fbdd46d6f\")>]"
      ]
     },
     "execution_count": 45,
     "metadata": {},
     "output_type": "execute_result"
    }
   ],
   "source": [
    "#extracting all the location tags first\n",
    "locations_tags=driver.find_elements_by_xpath(\"//li[@class='fleft grey-text br2 placeHolderLi location']/span[1]\")\n",
    "locations_tags[0:10]"
   ]
  },
  {
   "cell_type": "code",
   "execution_count": 46,
   "id": "c7ca3075",
   "metadata": {},
   "outputs": [
    {
     "data": {
      "text/plain": [
       "['Bangalore/Bengaluru',\n",
       " 'Indore, Pune, Bangalore/Bengaluru',\n",
       " 'Bangalore/Bengaluru',\n",
       " 'Bangalore/Bengaluru',\n",
       " 'Hyderabad/Secunderabad, Bangalore/Bengaluru, Delhi / NCR',\n",
       " 'Gurgaon/Gurugram, Bangalore/Bengaluru',\n",
       " 'Bangalore/Bengaluru',\n",
       " 'Bangalore/Bengaluru',\n",
       " 'Bangalore/Bengaluru',\n",
       " 'Bangalore/Bengaluru']"
      ]
     },
     "execution_count": 46,
     "metadata": {},
     "output_type": "execute_result"
    }
   ],
   "source": [
    "#extracting all the data from above tags for location\n",
    "for i in locations_tags:\n",
    "    location=i.text\n",
    "    locations_list.append(location)\n",
    "    \n",
    "locations_list[0:10]"
   ]
  },
  {
   "cell_type": "code",
   "execution_count": 47,
   "id": "d6afacff",
   "metadata": {},
   "outputs": [
    {
     "name": "stdout",
     "output_type": "stream",
     "text": [
      "20 20 20 20\n"
     ]
    }
   ],
   "source": [
    "#Now, we will check the length of each list so as to form a dataframe.\n",
    "print(len(job_titles),len(company_names),len(experience_list),len(locations_list))"
   ]
  },
  {
   "cell_type": "code",
   "execution_count": 48,
   "id": "f4f14c13",
   "metadata": {},
   "outputs": [
    {
     "data": {
      "text/html": [
       "<div>\n",
       "<style scoped>\n",
       "    .dataframe tbody tr th:only-of-type {\n",
       "        vertical-align: middle;\n",
       "    }\n",
       "\n",
       "    .dataframe tbody tr th {\n",
       "        vertical-align: top;\n",
       "    }\n",
       "\n",
       "    .dataframe thead th {\n",
       "        text-align: right;\n",
       "    }\n",
       "</style>\n",
       "<table border=\"1\" class=\"dataframe\">\n",
       "  <thead>\n",
       "    <tr style=\"text-align: right;\">\n",
       "      <th></th>\n",
       "      <th>Job Titles</th>\n",
       "      <th>Company Name</th>\n",
       "      <th>Location</th>\n",
       "      <th>Experience Required</th>\n",
       "    </tr>\n",
       "  </thead>\n",
       "  <tbody>\n",
       "    <tr>\n",
       "      <th>0</th>\n",
       "      <td>Data Analysts with Business Analysis</td>\n",
       "      <td>Avanze Technologies India Pvt. Ltd.</td>\n",
       "      <td>Bangalore/Bengaluru</td>\n",
       "      <td>6-8 Yrs</td>\n",
       "    </tr>\n",
       "    <tr>\n",
       "      <th>1</th>\n",
       "      <td>Data Analyst / Data Engineer</td>\n",
       "      <td>TALENT MAX HR &amp; MANAGEMENT CONSULTANTS</td>\n",
       "      <td>Indore, Pune, Bangalore/Bengaluru</td>\n",
       "      <td>8-13 Yrs</td>\n",
       "    </tr>\n",
       "    <tr>\n",
       "      <th>2</th>\n",
       "      <td>Senior Data Analyst (Digital Services Analytics)</td>\n",
       "      <td>Dell Technologies</td>\n",
       "      <td>Bangalore/Bengaluru</td>\n",
       "      <td>1-6 Yrs</td>\n",
       "    </tr>\n",
       "    <tr>\n",
       "      <th>3</th>\n",
       "      <td>Sr Domain Expert -Data Analysts</td>\n",
       "      <td>Siemens</td>\n",
       "      <td>Bangalore/Bengaluru</td>\n",
       "      <td>0-10 Yrs</td>\n",
       "    </tr>\n",
       "    <tr>\n",
       "      <th>4</th>\n",
       "      <td>Business Analyst/Data Analyst</td>\n",
       "      <td>Telamon HR Solutions</td>\n",
       "      <td>Hyderabad/Secunderabad, Bangalore/Bengaluru, D...</td>\n",
       "      <td>3-5 Yrs</td>\n",
       "    </tr>\n",
       "    <tr>\n",
       "      <th>5</th>\n",
       "      <td>Senior Data Analyst - KPO</td>\n",
       "      <td>Huquo Consulting Pvt. Ltd</td>\n",
       "      <td>Gurgaon/Gurugram, Bangalore/Bengaluru</td>\n",
       "      <td>7-12 Yrs</td>\n",
       "    </tr>\n",
       "    <tr>\n",
       "      <th>6</th>\n",
       "      <td>Senior Data Analyst</td>\n",
       "      <td>Cerner</td>\n",
       "      <td>Bangalore/Bengaluru</td>\n",
       "      <td>8-12 Yrs</td>\n",
       "    </tr>\n",
       "    <tr>\n",
       "      <th>7</th>\n",
       "      <td>Data Analyst</td>\n",
       "      <td>Enrich talents</td>\n",
       "      <td>Bangalore/Bengaluru</td>\n",
       "      <td>0-4 Yrs</td>\n",
       "    </tr>\n",
       "    <tr>\n",
       "      <th>8</th>\n",
       "      <td>HR Data Analyst</td>\n",
       "      <td>Gojek</td>\n",
       "      <td>Bangalore/Bengaluru</td>\n",
       "      <td>3-8 Yrs</td>\n",
       "    </tr>\n",
       "    <tr>\n",
       "      <th>9</th>\n",
       "      <td>Blockchain AML Data Analyst</td>\n",
       "      <td>PayPal</td>\n",
       "      <td>Bangalore/Bengaluru</td>\n",
       "      <td>3-7 Yrs</td>\n",
       "    </tr>\n",
       "    <tr>\n",
       "      <th>10</th>\n",
       "      <td>Senior Data Analyst</td>\n",
       "      <td>Walmart</td>\n",
       "      <td>Bangalore/Bengaluru</td>\n",
       "      <td>5-8 Yrs</td>\n",
       "    </tr>\n",
       "    <tr>\n",
       "      <th>11</th>\n",
       "      <td>Senior Data Analyst</td>\n",
       "      <td>LatentView</td>\n",
       "      <td>Chennai, Bangalore/Bengaluru</td>\n",
       "      <td>2-6 Yrs</td>\n",
       "    </tr>\n",
       "    <tr>\n",
       "      <th>12</th>\n",
       "      <td>Data Analyst - Python/SQL</td>\n",
       "      <td>Affine</td>\n",
       "      <td>Bangalore/Bengaluru</td>\n",
       "      <td>3-5 Yrs</td>\n",
       "    </tr>\n",
       "    <tr>\n",
       "      <th>13</th>\n",
       "      <td>Data Analyst</td>\n",
       "      <td>AECOM</td>\n",
       "      <td>Bangalore/Bengaluru</td>\n",
       "      <td>2-7 Yrs</td>\n",
       "    </tr>\n",
       "    <tr>\n",
       "      <th>14</th>\n",
       "      <td>Data Analyst - IT</td>\n",
       "      <td>Yespired</td>\n",
       "      <td>Bangalore/Bengaluru</td>\n",
       "      <td>3-8 Yrs</td>\n",
       "    </tr>\n",
       "    <tr>\n",
       "      <th>15</th>\n",
       "      <td>Business Analyst - Data Science &amp; Analytics, Omni</td>\n",
       "      <td>MORE RETAIL PRIVATE LIMITED</td>\n",
       "      <td>Bangalore/Bengaluru</td>\n",
       "      <td>1-5 Yrs</td>\n",
       "    </tr>\n",
       "    <tr>\n",
       "      <th>16</th>\n",
       "      <td>Senior Data Analyst</td>\n",
       "      <td>Intel</td>\n",
       "      <td>Bangalore/Bengaluru</td>\n",
       "      <td>3-8 Yrs</td>\n",
       "    </tr>\n",
       "    <tr>\n",
       "      <th>17</th>\n",
       "      <td>Senior Data Analyst</td>\n",
       "      <td>FINNOVATION TECH SOLUTIONS PRIVATE LIMITED</td>\n",
       "      <td>Bangalore/Bengaluru(Old Madras Road)</td>\n",
       "      <td>3-6 Yrs</td>\n",
       "    </tr>\n",
       "    <tr>\n",
       "      <th>18</th>\n",
       "      <td>Senior Data Analyst - Collibra</td>\n",
       "      <td>Shell</td>\n",
       "      <td>Bangalore/Bengaluru</td>\n",
       "      <td>8-12 Yrs</td>\n",
       "    </tr>\n",
       "    <tr>\n",
       "      <th>19</th>\n",
       "      <td>Assistant Manager / Lead / Manager - Data Anal...</td>\n",
       "      <td>Huquo Consulting Pvt. Ltd</td>\n",
       "      <td>Gurgaon/Gurugram, Bangalore/Bengaluru</td>\n",
       "      <td>2-6 Yrs</td>\n",
       "    </tr>\n",
       "  </tbody>\n",
       "</table>\n",
       "</div>"
      ],
      "text/plain": [
       "                                           Job Titles  \\\n",
       "0                Data Analysts with Business Analysis   \n",
       "1                        Data Analyst / Data Engineer   \n",
       "2    Senior Data Analyst (Digital Services Analytics)   \n",
       "3                     Sr Domain Expert -Data Analysts   \n",
       "4                       Business Analyst/Data Analyst   \n",
       "5                           Senior Data Analyst - KPO   \n",
       "6                                 Senior Data Analyst   \n",
       "7                                        Data Analyst   \n",
       "8                                     HR Data Analyst   \n",
       "9                         Blockchain AML Data Analyst   \n",
       "10                                Senior Data Analyst   \n",
       "11                                Senior Data Analyst   \n",
       "12                          Data Analyst - Python/SQL   \n",
       "13                                       Data Analyst   \n",
       "14                                  Data Analyst - IT   \n",
       "15  Business Analyst - Data Science & Analytics, Omni   \n",
       "16                                Senior Data Analyst   \n",
       "17                                Senior Data Analyst   \n",
       "18                     Senior Data Analyst - Collibra   \n",
       "19  Assistant Manager / Lead / Manager - Data Anal...   \n",
       "\n",
       "                                  Company Name  \\\n",
       "0          Avanze Technologies India Pvt. Ltd.   \n",
       "1       TALENT MAX HR & MANAGEMENT CONSULTANTS   \n",
       "2                            Dell Technologies   \n",
       "3                                      Siemens   \n",
       "4                         Telamon HR Solutions   \n",
       "5                    Huquo Consulting Pvt. Ltd   \n",
       "6                                       Cerner   \n",
       "7                               Enrich talents   \n",
       "8                                        Gojek   \n",
       "9                                       PayPal   \n",
       "10                                     Walmart   \n",
       "11                                  LatentView   \n",
       "12                                      Affine   \n",
       "13                                       AECOM   \n",
       "14                                    Yespired   \n",
       "15                 MORE RETAIL PRIVATE LIMITED   \n",
       "16                                       Intel   \n",
       "17  FINNOVATION TECH SOLUTIONS PRIVATE LIMITED   \n",
       "18                                       Shell   \n",
       "19                   Huquo Consulting Pvt. Ltd   \n",
       "\n",
       "                                             Location Experience Required  \n",
       "0                                 Bangalore/Bengaluru             6-8 Yrs  \n",
       "1                   Indore, Pune, Bangalore/Bengaluru            8-13 Yrs  \n",
       "2                                 Bangalore/Bengaluru             1-6 Yrs  \n",
       "3                                 Bangalore/Bengaluru            0-10 Yrs  \n",
       "4   Hyderabad/Secunderabad, Bangalore/Bengaluru, D...             3-5 Yrs  \n",
       "5               Gurgaon/Gurugram, Bangalore/Bengaluru            7-12 Yrs  \n",
       "6                                 Bangalore/Bengaluru            8-12 Yrs  \n",
       "7                                 Bangalore/Bengaluru             0-4 Yrs  \n",
       "8                                 Bangalore/Bengaluru             3-8 Yrs  \n",
       "9                                 Bangalore/Bengaluru             3-7 Yrs  \n",
       "10                                Bangalore/Bengaluru             5-8 Yrs  \n",
       "11                       Chennai, Bangalore/Bengaluru             2-6 Yrs  \n",
       "12                                Bangalore/Bengaluru             3-5 Yrs  \n",
       "13                                Bangalore/Bengaluru             2-7 Yrs  \n",
       "14                                Bangalore/Bengaluru             3-8 Yrs  \n",
       "15                                Bangalore/Bengaluru             1-5 Yrs  \n",
       "16                                Bangalore/Bengaluru             3-8 Yrs  \n",
       "17               Bangalore/Bengaluru(Old Madras Road)             3-6 Yrs  \n",
       "18                                Bangalore/Bengaluru            8-12 Yrs  \n",
       "19              Gurgaon/Gurugram, Bangalore/Bengaluru             2-6 Yrs  "
      ]
     },
     "execution_count": 48,
     "metadata": {},
     "output_type": "execute_result"
    }
   ],
   "source": [
    "#since it is equal , we can create a dataframe \n",
    "df=pd.DataFrame({'Job Titles': job_titles ,'Company Name': company_names ,'Location': locations_list ,'Experience Required': experience_list})\n",
    "df"
   ]
  },
  {
   "cell_type": "markdown",
   "id": "1c3b1027",
   "metadata": {},
   "source": [
    "# Question 2:Write a python program to scrape data for “Data Scientist” Job position in “Bangalore” location. You have to scrape the job-title, job-location, company_name. You have to scrape first 10 jobs data.\n"
   ]
  },
  {
   "cell_type": "code",
   "execution_count": 64,
   "id": "44aa6d2b",
   "metadata": {},
   "outputs": [],
   "source": [
    "#opening web browser\n",
    "driver=webdriver.Chrome(\"chromedriver.exe\")\n",
    "time.sleep(2)"
   ]
  },
  {
   "cell_type": "code",
   "execution_count": 65,
   "id": "52834ee0",
   "metadata": {},
   "outputs": [],
   "source": [
    "driver.get(\"https://www.naukri.com/\")"
   ]
  },
  {
   "cell_type": "code",
   "execution_count": 66,
   "id": "f40292af",
   "metadata": {},
   "outputs": [],
   "source": [
    "#Finding elements for job search bar\n",
    "search_field_designation=driver.find_element_by_class_name(\"suggestor-input\")\n",
    "search_field_designation.send_keys(\"Data Scientist\")\n",
    "search_field_location=driver.find_element_by_xpath(\"/html/body/div/div[2]/div[3]/div/div/div[3]/div/div/div/input\")\n",
    "search_field_location.send_keys(\"Banglore\")"
   ]
  },
  {
   "cell_type": "code",
   "execution_count": 67,
   "id": "0597462b",
   "metadata": {},
   "outputs": [],
   "source": [
    "search_button = driver.find_element_by_xpath(\"/html/body/div/div[2]/div[3]/div/div/div[6]\")\n",
    "search_button.click()"
   ]
  },
  {
   "cell_type": "code",
   "execution_count": 68,
   "id": "a6a9afa4",
   "metadata": {},
   "outputs": [],
   "source": [
    "#creating 3 empty lists as per the requirement of the question\n",
    "job_titles=[]\n",
    "company_names=[]\n",
    "locations_list=[]"
   ]
  },
  {
   "cell_type": "code",
   "execution_count": 69,
   "id": "ebef92b7",
   "metadata": {},
   "outputs": [
    {
     "data": {
      "text/plain": [
       "[<selenium.webdriver.remote.webelement.WebElement (session=\"c2eb7ee7a8e1d2beca248ff223a4db24\", element=\"a00b622b-91bc-4088-9659-7c5fdeb5589c\")>,\n",
       " <selenium.webdriver.remote.webelement.WebElement (session=\"c2eb7ee7a8e1d2beca248ff223a4db24\", element=\"5b10edde-3a6f-4f6c-904a-d6886d69fe48\")>,\n",
       " <selenium.webdriver.remote.webelement.WebElement (session=\"c2eb7ee7a8e1d2beca248ff223a4db24\", element=\"8f7d4d61-7925-410a-813b-3c65a0e8d64b\")>,\n",
       " <selenium.webdriver.remote.webelement.WebElement (session=\"c2eb7ee7a8e1d2beca248ff223a4db24\", element=\"c0913827-aaed-4136-b628-6cc72eaef55f\")>,\n",
       " <selenium.webdriver.remote.webelement.WebElement (session=\"c2eb7ee7a8e1d2beca248ff223a4db24\", element=\"b4c788d3-ecb6-4cb2-9f83-0388e27d288d\")>,\n",
       " <selenium.webdriver.remote.webelement.WebElement (session=\"c2eb7ee7a8e1d2beca248ff223a4db24\", element=\"4da54f40-80c3-4ae0-a538-2031661f6480\")>,\n",
       " <selenium.webdriver.remote.webelement.WebElement (session=\"c2eb7ee7a8e1d2beca248ff223a4db24\", element=\"35a822bf-5f9d-42c0-bc87-06727827110f\")>,\n",
       " <selenium.webdriver.remote.webelement.WebElement (session=\"c2eb7ee7a8e1d2beca248ff223a4db24\", element=\"3d81d3df-980f-41f6-88d2-870600e13022\")>,\n",
       " <selenium.webdriver.remote.webelement.WebElement (session=\"c2eb7ee7a8e1d2beca248ff223a4db24\", element=\"26baf641-2e45-4456-af0c-738c67bc18a6\")>,\n",
       " <selenium.webdriver.remote.webelement.WebElement (session=\"c2eb7ee7a8e1d2beca248ff223a4db24\", element=\"e8d3e421-dc95-4281-b3b7-7de863761af8\")>]"
      ]
     },
     "execution_count": 69,
     "metadata": {},
     "output_type": "execute_result"
    }
   ],
   "source": [
    "#extracting the job title tags first\n",
    "titles_tags=driver.find_elements_by_xpath(\"//a[@class='title fw500 ellipsis']\")  \n",
    "titles_tags[0:10]"
   ]
  },
  {
   "cell_type": "code",
   "execution_count": 70,
   "id": "bdb81ccc",
   "metadata": {},
   "outputs": [
    {
     "data": {
      "text/plain": [
       "['Data Scientist',\n",
       " 'ASSOCIATE DATA SCIENTIST',\n",
       " 'Data Scientist',\n",
       " 'Data Scientist',\n",
       " 'Manager - Data Scientist Job @ Applied Materials - Bangalore',\n",
       " 'Data Scientist/Engineer - Global Telecom Setup',\n",
       " 'Analyst- Data Scientist',\n",
       " 'Data Scientist - Immediate Joiners',\n",
       " 'Senior Data Scientist/Data Scientist - Research/Analytics/Consulting',\n",
       " 'Data Scientist']"
      ]
     },
     "execution_count": 70,
     "metadata": {},
     "output_type": "execute_result"
    }
   ],
   "source": [
    "#extract data from above tags\n",
    "for i in titles_tags:\n",
    "    title=i.text\n",
    "    job_titles.append(title)\n",
    "    \n",
    "job_titles[0:10]"
   ]
  },
  {
   "cell_type": "code",
   "execution_count": 72,
   "id": "e3f69e1d",
   "metadata": {},
   "outputs": [
    {
     "data": {
      "text/plain": [
       "[<selenium.webdriver.remote.webelement.WebElement (session=\"c2eb7ee7a8e1d2beca248ff223a4db24\", element=\"6a2b8ebf-45a5-4746-b63e-891d7f00294a\")>,\n",
       " <selenium.webdriver.remote.webelement.WebElement (session=\"c2eb7ee7a8e1d2beca248ff223a4db24\", element=\"b35d9ad8-a5b3-42c3-886e-8ad6c1e026dd\")>,\n",
       " <selenium.webdriver.remote.webelement.WebElement (session=\"c2eb7ee7a8e1d2beca248ff223a4db24\", element=\"0b56e368-0618-4e6e-91af-7144b5e3d990\")>,\n",
       " <selenium.webdriver.remote.webelement.WebElement (session=\"c2eb7ee7a8e1d2beca248ff223a4db24\", element=\"2e4747bd-3841-4f8e-91af-24adee3f0e4a\")>,\n",
       " <selenium.webdriver.remote.webelement.WebElement (session=\"c2eb7ee7a8e1d2beca248ff223a4db24\", element=\"9ecc0b51-f0ea-4c1e-b847-bfd8ebec4790\")>,\n",
       " <selenium.webdriver.remote.webelement.WebElement (session=\"c2eb7ee7a8e1d2beca248ff223a4db24\", element=\"c03af95f-d8d5-4720-9f28-2c8c13afd3c8\")>,\n",
       " <selenium.webdriver.remote.webelement.WebElement (session=\"c2eb7ee7a8e1d2beca248ff223a4db24\", element=\"9b07cb12-e085-4b83-9203-14600c030696\")>,\n",
       " <selenium.webdriver.remote.webelement.WebElement (session=\"c2eb7ee7a8e1d2beca248ff223a4db24\", element=\"8ef63f48-9214-421a-adc1-c742be66fa41\")>,\n",
       " <selenium.webdriver.remote.webelement.WebElement (session=\"c2eb7ee7a8e1d2beca248ff223a4db24\", element=\"53b7890e-3233-4ee5-861f-55a58ce354ed\")>,\n",
       " <selenium.webdriver.remote.webelement.WebElement (session=\"c2eb7ee7a8e1d2beca248ff223a4db24\", element=\"0637be14-0120-4c2a-b4de-60e2658c770c\")>]"
      ]
     },
     "execution_count": 72,
     "metadata": {},
     "output_type": "execute_result"
    }
   ],
   "source": [
    "#to extract all tags which include company name for above profiles\n",
    "\n",
    "companies_tags= driver.find_elements_by_xpath(\"//a[@class='subTitle ellipsis fleft']\")\n",
    "companies_tags[0:10]"
   ]
  },
  {
   "cell_type": "code",
   "execution_count": 73,
   "id": "298577f4",
   "metadata": {},
   "outputs": [
    {
     "data": {
      "text/plain": [
       "['Applied Materials',\n",
       " 'Hinduja Global',\n",
       " 'Applied Materials',\n",
       " 'Applied Materials',\n",
       " 'Applied Materials',\n",
       " 'Global Telecom Setup',\n",
       " 'Sigma Aldrich',\n",
       " 'Bristlecone',\n",
       " 'Hexaconcepts',\n",
       " 'GSK India']"
      ]
     },
     "execution_count": 73,
     "metadata": {},
     "output_type": "execute_result"
    }
   ],
   "source": [
    "#Now extracting data from all the tags above\n",
    "for i in companies_tags:\n",
    "    company_name=i.text\n",
    "    company_names.append(company_name)\n",
    "    \n",
    "company_names[0:10]"
   ]
  },
  {
   "cell_type": "code",
   "execution_count": 74,
   "id": "a8e25bd5",
   "metadata": {},
   "outputs": [
    {
     "data": {
      "text/plain": [
       "[<selenium.webdriver.remote.webelement.WebElement (session=\"c2eb7ee7a8e1d2beca248ff223a4db24\", element=\"fa9173ee-cdfe-4206-942a-fdf0557c4b49\")>,\n",
       " <selenium.webdriver.remote.webelement.WebElement (session=\"c2eb7ee7a8e1d2beca248ff223a4db24\", element=\"b01f0c0e-908e-4a94-8cbb-ee728c07ec11\")>,\n",
       " <selenium.webdriver.remote.webelement.WebElement (session=\"c2eb7ee7a8e1d2beca248ff223a4db24\", element=\"3ec31002-67d5-47fc-84e7-93754355989c\")>,\n",
       " <selenium.webdriver.remote.webelement.WebElement (session=\"c2eb7ee7a8e1d2beca248ff223a4db24\", element=\"f7f4bcbf-aa24-44ed-995b-447928934de9\")>,\n",
       " <selenium.webdriver.remote.webelement.WebElement (session=\"c2eb7ee7a8e1d2beca248ff223a4db24\", element=\"76a81bce-3706-4970-96f2-de5d051d9a3e\")>,\n",
       " <selenium.webdriver.remote.webelement.WebElement (session=\"c2eb7ee7a8e1d2beca248ff223a4db24\", element=\"b2433246-5ca0-4aab-8153-ff140f473bb7\")>,\n",
       " <selenium.webdriver.remote.webelement.WebElement (session=\"c2eb7ee7a8e1d2beca248ff223a4db24\", element=\"2837bcd7-3344-4bdd-a2b6-6260c797bbed\")>,\n",
       " <selenium.webdriver.remote.webelement.WebElement (session=\"c2eb7ee7a8e1d2beca248ff223a4db24\", element=\"130449b9-4289-4694-a33e-bcf0a3b6c29b\")>,\n",
       " <selenium.webdriver.remote.webelement.WebElement (session=\"c2eb7ee7a8e1d2beca248ff223a4db24\", element=\"dad6b057-bda8-4d3b-87f7-335f7a555cad\")>,\n",
       " <selenium.webdriver.remote.webelement.WebElement (session=\"c2eb7ee7a8e1d2beca248ff223a4db24\", element=\"56825e9c-2ba7-4b2b-b977-9552f07d40e0\")>]"
      ]
     },
     "execution_count": 74,
     "metadata": {},
     "output_type": "execute_result"
    }
   ],
   "source": [
    "locations_tags=driver.find_elements_by_xpath(\"//li[@class='fleft grey-text br2 placeHolderLi location']/span[1]\")\n",
    "locations_tags[0:10]"
   ]
  },
  {
   "cell_type": "code",
   "execution_count": 75,
   "id": "f9a07070",
   "metadata": {},
   "outputs": [
    {
     "data": {
      "text/plain": [
       "['Bangalore/Bengaluru',\n",
       " 'Bangalore/Bengaluru',\n",
       " 'Bangalore/Bengaluru',\n",
       " 'Bangalore/Bengaluru',\n",
       " 'Bangalore/Bengaluru(Whitefield)',\n",
       " 'Hyderabad/Secunderabad, Pune, Bangalore/Bengaluru',\n",
       " 'Bangalore/Bengaluru',\n",
       " 'Noida, Mumbai, Pune, Bangalore/Bengaluru',\n",
       " 'Bangalore/Bengaluru',\n",
       " 'Bangalore/Bengaluru']"
      ]
     },
     "execution_count": 75,
     "metadata": {},
     "output_type": "execute_result"
    }
   ],
   "source": [
    "#extracting all the data from above tags for location\n",
    "for i in locations_tags:\n",
    "    location=i.text\n",
    "    locations_list.append(location)\n",
    "    \n",
    "locations_list[0:10]"
   ]
  },
  {
   "cell_type": "code",
   "execution_count": 77,
   "id": "fc2d21ac",
   "metadata": {},
   "outputs": [
    {
     "name": "stdout",
     "output_type": "stream",
     "text": [
      "20 20 20\n"
     ]
    }
   ],
   "source": [
    "#Now, we will check the length of each list so as to form a dataframe.\n",
    "print(len(job_titles),len(company_names),len(locations_list))"
   ]
  },
  {
   "cell_type": "code",
   "execution_count": 78,
   "id": "759163d3",
   "metadata": {},
   "outputs": [
    {
     "data": {
      "text/html": [
       "<div>\n",
       "<style scoped>\n",
       "    .dataframe tbody tr th:only-of-type {\n",
       "        vertical-align: middle;\n",
       "    }\n",
       "\n",
       "    .dataframe tbody tr th {\n",
       "        vertical-align: top;\n",
       "    }\n",
       "\n",
       "    .dataframe thead th {\n",
       "        text-align: right;\n",
       "    }\n",
       "</style>\n",
       "<table border=\"1\" class=\"dataframe\">\n",
       "  <thead>\n",
       "    <tr style=\"text-align: right;\">\n",
       "      <th></th>\n",
       "      <th>Job Titles</th>\n",
       "      <th>Company Name</th>\n",
       "      <th>Location</th>\n",
       "    </tr>\n",
       "  </thead>\n",
       "  <tbody>\n",
       "    <tr>\n",
       "      <th>0</th>\n",
       "      <td>Data Scientist</td>\n",
       "      <td>Applied Materials</td>\n",
       "      <td>Bangalore/Bengaluru</td>\n",
       "    </tr>\n",
       "    <tr>\n",
       "      <th>1</th>\n",
       "      <td>ASSOCIATE DATA SCIENTIST</td>\n",
       "      <td>Hinduja Global</td>\n",
       "      <td>Bangalore/Bengaluru</td>\n",
       "    </tr>\n",
       "    <tr>\n",
       "      <th>2</th>\n",
       "      <td>Data Scientist</td>\n",
       "      <td>Applied Materials</td>\n",
       "      <td>Bangalore/Bengaluru</td>\n",
       "    </tr>\n",
       "    <tr>\n",
       "      <th>3</th>\n",
       "      <td>Data Scientist</td>\n",
       "      <td>Applied Materials</td>\n",
       "      <td>Bangalore/Bengaluru</td>\n",
       "    </tr>\n",
       "    <tr>\n",
       "      <th>4</th>\n",
       "      <td>Manager - Data Scientist Job @ Applied Materia...</td>\n",
       "      <td>Applied Materials</td>\n",
       "      <td>Bangalore/Bengaluru(Whitefield)</td>\n",
       "    </tr>\n",
       "    <tr>\n",
       "      <th>5</th>\n",
       "      <td>Data Scientist/Engineer - Global Telecom Setup</td>\n",
       "      <td>Global Telecom Setup</td>\n",
       "      <td>Hyderabad/Secunderabad, Pune, Bangalore/Bengaluru</td>\n",
       "    </tr>\n",
       "    <tr>\n",
       "      <th>6</th>\n",
       "      <td>Analyst- Data Scientist</td>\n",
       "      <td>Sigma Aldrich</td>\n",
       "      <td>Bangalore/Bengaluru</td>\n",
       "    </tr>\n",
       "    <tr>\n",
       "      <th>7</th>\n",
       "      <td>Data Scientist - Immediate Joiners</td>\n",
       "      <td>Bristlecone</td>\n",
       "      <td>Noida, Mumbai, Pune, Bangalore/Bengaluru</td>\n",
       "    </tr>\n",
       "    <tr>\n",
       "      <th>8</th>\n",
       "      <td>Senior Data Scientist/Data Scientist - Researc...</td>\n",
       "      <td>Hexaconcepts</td>\n",
       "      <td>Bangalore/Bengaluru</td>\n",
       "    </tr>\n",
       "    <tr>\n",
       "      <th>9</th>\n",
       "      <td>Data Scientist</td>\n",
       "      <td>GSK India</td>\n",
       "      <td>Bangalore/Bengaluru</td>\n",
       "    </tr>\n",
       "    <tr>\n",
       "      <th>10</th>\n",
       "      <td>Immediate requirement of Data Scientist ( Bang...</td>\n",
       "      <td>Firstsource Solutions Limited</td>\n",
       "      <td>Bangalore/Bengaluru</td>\n",
       "    </tr>\n",
       "    <tr>\n",
       "      <th>11</th>\n",
       "      <td>Senior Data Scientist</td>\n",
       "      <td>GSK India</td>\n",
       "      <td>Bangalore/Bengaluru</td>\n",
       "    </tr>\n",
       "    <tr>\n",
       "      <th>12</th>\n",
       "      <td>Junior Data Scientist</td>\n",
       "      <td>Accenture</td>\n",
       "      <td>Bangalore/Bengaluru</td>\n",
       "    </tr>\n",
       "    <tr>\n",
       "      <th>13</th>\n",
       "      <td>Data Analyst / Data Scientist</td>\n",
       "      <td>JK Technosoft</td>\n",
       "      <td>Noida, Hyderabad/Secunderabad, Bangalore/Benga...</td>\n",
       "    </tr>\n",
       "    <tr>\n",
       "      <th>14</th>\n",
       "      <td>Data Scientist</td>\n",
       "      <td>Applied Materials</td>\n",
       "      <td>Bangalore/Bengaluru</td>\n",
       "    </tr>\n",
       "    <tr>\n",
       "      <th>15</th>\n",
       "      <td>Data Scientist</td>\n",
       "      <td>Applied Materials</td>\n",
       "      <td>Bangalore/Bengaluru</td>\n",
       "    </tr>\n",
       "    <tr>\n",
       "      <th>16</th>\n",
       "      <td>Staff Data Scientist</td>\n",
       "      <td>Walmart</td>\n",
       "      <td>Bangalore/Bengaluru</td>\n",
       "    </tr>\n",
       "    <tr>\n",
       "      <th>17</th>\n",
       "      <td>Data Scientist</td>\n",
       "      <td>Walmart</td>\n",
       "      <td>Bangalore/Bengaluru</td>\n",
       "    </tr>\n",
       "    <tr>\n",
       "      <th>18</th>\n",
       "      <td>Data Scientist II- Merchandise &amp; Discovery</td>\n",
       "      <td>Swiggy</td>\n",
       "      <td>Bangalore/Bengaluru</td>\n",
       "    </tr>\n",
       "    <tr>\n",
       "      <th>19</th>\n",
       "      <td>Data Scientist - Deep Learning Solutions</td>\n",
       "      <td>Huquo Consulting Pvt. Ltd</td>\n",
       "      <td>Noida, Pune, Gurgaon/Gurugram, Bangalore/Benga...</td>\n",
       "    </tr>\n",
       "  </tbody>\n",
       "</table>\n",
       "</div>"
      ],
      "text/plain": [
       "                                           Job Titles  \\\n",
       "0                                      Data Scientist   \n",
       "1                            ASSOCIATE DATA SCIENTIST   \n",
       "2                                      Data Scientist   \n",
       "3                                      Data Scientist   \n",
       "4   Manager - Data Scientist Job @ Applied Materia...   \n",
       "5      Data Scientist/Engineer - Global Telecom Setup   \n",
       "6                             Analyst- Data Scientist   \n",
       "7                  Data Scientist - Immediate Joiners   \n",
       "8   Senior Data Scientist/Data Scientist - Researc...   \n",
       "9                                      Data Scientist   \n",
       "10  Immediate requirement of Data Scientist ( Bang...   \n",
       "11                              Senior Data Scientist   \n",
       "12                              Junior Data Scientist   \n",
       "13                      Data Analyst / Data Scientist   \n",
       "14                                     Data Scientist   \n",
       "15                                     Data Scientist   \n",
       "16                               Staff Data Scientist   \n",
       "17                                     Data Scientist   \n",
       "18         Data Scientist II- Merchandise & Discovery   \n",
       "19           Data Scientist - Deep Learning Solutions   \n",
       "\n",
       "                     Company Name  \\\n",
       "0               Applied Materials   \n",
       "1                  Hinduja Global   \n",
       "2               Applied Materials   \n",
       "3               Applied Materials   \n",
       "4               Applied Materials   \n",
       "5            Global Telecom Setup   \n",
       "6                   Sigma Aldrich   \n",
       "7                     Bristlecone   \n",
       "8                    Hexaconcepts   \n",
       "9                       GSK India   \n",
       "10  Firstsource Solutions Limited   \n",
       "11                      GSK India   \n",
       "12                      Accenture   \n",
       "13                  JK Technosoft   \n",
       "14              Applied Materials   \n",
       "15              Applied Materials   \n",
       "16                        Walmart   \n",
       "17                        Walmart   \n",
       "18                         Swiggy   \n",
       "19      Huquo Consulting Pvt. Ltd   \n",
       "\n",
       "                                             Location  \n",
       "0                                 Bangalore/Bengaluru  \n",
       "1                                 Bangalore/Bengaluru  \n",
       "2                                 Bangalore/Bengaluru  \n",
       "3                                 Bangalore/Bengaluru  \n",
       "4                     Bangalore/Bengaluru(Whitefield)  \n",
       "5   Hyderabad/Secunderabad, Pune, Bangalore/Bengaluru  \n",
       "6                                 Bangalore/Bengaluru  \n",
       "7            Noida, Mumbai, Pune, Bangalore/Bengaluru  \n",
       "8                                 Bangalore/Bengaluru  \n",
       "9                                 Bangalore/Bengaluru  \n",
       "10                                Bangalore/Bengaluru  \n",
       "11                                Bangalore/Bengaluru  \n",
       "12                                Bangalore/Bengaluru  \n",
       "13  Noida, Hyderabad/Secunderabad, Bangalore/Benga...  \n",
       "14                                Bangalore/Bengaluru  \n",
       "15                                Bangalore/Bengaluru  \n",
       "16                                Bangalore/Bengaluru  \n",
       "17                                Bangalore/Bengaluru  \n",
       "18                                Bangalore/Bengaluru  \n",
       "19  Noida, Pune, Gurgaon/Gurugram, Bangalore/Benga...  "
      ]
     },
     "execution_count": 78,
     "metadata": {},
     "output_type": "execute_result"
    }
   ],
   "source": [
    "#since it is equal , we can create a dataframe \n",
    "dc=pd.DataFrame({'Job Titles': job_titles ,'Company Name': company_names ,'Location': locations_list})\n",
    "dc"
   ]
  },
  {
   "cell_type": "markdown",
   "id": "75ccf536",
   "metadata": {},
   "source": [
    "# Question 3: In this question you have to scrape data using the filters available on the webpage: \n",
    "            \n"
   ]
  },
  {
   "cell_type": "markdown",
   "id": "7767dd8e",
   "metadata": {},
   "source": [
    "# You have to use the location and salary filter\n",
    "You have to scrape data for “Data Scientist” designation for first 10 job results.\n",
    "You have to scrape the job-title, job-location, company name, experience required.\n",
    "The location filter to be used is “Delhi/NCR”. The salary filter to be used is “3-6” lakhs"
   ]
  },
  {
   "cell_type": "code",
   "execution_count": 165,
   "id": "7c346b5e",
   "metadata": {},
   "outputs": [],
   "source": [
    "#opening web browser\n",
    "driver=webdriver.Chrome(\"chromedriver.exe\")\n",
    "time.sleep(2)"
   ]
  },
  {
   "cell_type": "code",
   "execution_count": 166,
   "id": "bc640b8f",
   "metadata": {},
   "outputs": [],
   "source": [
    "driver.get(\"https://www.naukri.com/\")"
   ]
  },
  {
   "cell_type": "code",
   "execution_count": 167,
   "id": "f7eb24ac",
   "metadata": {},
   "outputs": [],
   "source": [
    "#Finding elements for job search bar\n",
    "search_field_designation=driver.find_element_by_class_name(\"suggestor-input\")\n",
    "search_field_designation.send_keys(\"Data Scientist\")\n"
   ]
  },
  {
   "cell_type": "code",
   "execution_count": 168,
   "id": "a27b86bd",
   "metadata": {},
   "outputs": [],
   "source": [
    "search_button = driver.find_element_by_xpath(\"/html/body/div/div[2]/div[3]/div/div/div[6]\")\n",
    "search_button.click()"
   ]
  },
  {
   "cell_type": "code",
   "execution_count": 169,
   "id": "946c2b05",
   "metadata": {},
   "outputs": [],
   "source": [
    "#creating 4 empty lists as per the requirement of the question\n",
    "job_titles=[]\n",
    "company_names=[]\n",
    "locations_list=[]\n",
    "experience_list=[]"
   ]
  },
  {
   "cell_type": "code",
   "execution_count": 171,
   "id": "95b39a25",
   "metadata": {},
   "outputs": [],
   "source": [
    "#setting the location filter\n",
    "location_filter_tags=driver.find_element_by_xpath(\"/html/body/div[1]/div[3]/div[2]/section[1]/div[2]/div[4]/div[2]/div[3]/label/i\")\n",
    "location_filter_tags.click()"
   ]
  },
  {
   "cell_type": "code",
   "execution_count": 172,
   "id": "4910703f",
   "metadata": {},
   "outputs": [],
   "source": [
    "#setting the salary filter\n",
    "salary_filter_tags=driver.find_element_by_xpath(\"/html/body/div[1]/div[3]/div[2]/section[1]/div[2]/div[5]/div[2]/div[2]/label/i\")\n",
    "salary_filter_tags.click()"
   ]
  },
  {
   "cell_type": "code",
   "execution_count": 173,
   "id": "3912e881",
   "metadata": {},
   "outputs": [
    {
     "data": {
      "text/plain": [
       "[<selenium.webdriver.remote.webelement.WebElement (session=\"cce3c629f4146e55eacad59fc27af561\", element=\"4b8ffc01-2732-47a1-85a5-81a9bd32cfbf\")>,\n",
       " <selenium.webdriver.remote.webelement.WebElement (session=\"cce3c629f4146e55eacad59fc27af561\", element=\"635f3963-d866-4d24-a5f9-b66e0a714849\")>,\n",
       " <selenium.webdriver.remote.webelement.WebElement (session=\"cce3c629f4146e55eacad59fc27af561\", element=\"294a43db-f903-4de7-9874-c06a66587a37\")>,\n",
       " <selenium.webdriver.remote.webelement.WebElement (session=\"cce3c629f4146e55eacad59fc27af561\", element=\"7ac8cce3-66c3-484c-ac2c-026b29bef8ae\")>,\n",
       " <selenium.webdriver.remote.webelement.WebElement (session=\"cce3c629f4146e55eacad59fc27af561\", element=\"a4d96d50-d8f0-4d0d-966b-1e955877995b\")>,\n",
       " <selenium.webdriver.remote.webelement.WebElement (session=\"cce3c629f4146e55eacad59fc27af561\", element=\"35dea0c3-a203-47f0-b42b-1804f6bd8fd3\")>,\n",
       " <selenium.webdriver.remote.webelement.WebElement (session=\"cce3c629f4146e55eacad59fc27af561\", element=\"26c857ac-471c-4ac3-ae09-44cd621b646d\")>,\n",
       " <selenium.webdriver.remote.webelement.WebElement (session=\"cce3c629f4146e55eacad59fc27af561\", element=\"61a7927e-05ac-4a00-8204-25e85f15fe9b\")>,\n",
       " <selenium.webdriver.remote.webelement.WebElement (session=\"cce3c629f4146e55eacad59fc27af561\", element=\"65a3990e-1561-498b-aaa9-da33ec452d86\")>,\n",
       " <selenium.webdriver.remote.webelement.WebElement (session=\"cce3c629f4146e55eacad59fc27af561\", element=\"91c1e8c8-9eae-4759-bb60-242f7df1f170\")>]"
      ]
     },
     "execution_count": 173,
     "metadata": {},
     "output_type": "execute_result"
    }
   ],
   "source": [
    "titles_tags=driver.find_elements_by_xpath(\"//a[@class='title fw500 ellipsis']\")  \n",
    "titles_tags[0:10]"
   ]
  },
  {
   "cell_type": "code",
   "execution_count": 174,
   "id": "8136b055",
   "metadata": {},
   "outputs": [
    {
     "data": {
      "text/plain": [
       "['Associate Data Scientist',\n",
       " 'Data Scientist (freelance)',\n",
       " 'Hiring For Senior Data Scientist-Noida',\n",
       " 'Opening For Data Scientist',\n",
       " 'Data Scientist/ Machine Learning, 2022 Passout Can also apply',\n",
       " 'Data Scientist',\n",
       " 'Data Scientist',\n",
       " 'Urgent Requirement || Data Scientist || Noida',\n",
       " 'AM Data Scientist - Goods & Service Tax Network, Delhi',\n",
       " 'Data Scientist - MIND Infotech']"
      ]
     },
     "execution_count": 174,
     "metadata": {},
     "output_type": "execute_result"
    }
   ],
   "source": [
    "#extract data from above tags\n",
    "for i in titles_tags:\n",
    "    title=i.text\n",
    "    job_titles.append(title)\n",
    "    \n",
    "job_titles[0:10]"
   ]
  },
  {
   "cell_type": "code",
   "execution_count": 175,
   "id": "237ff3f0",
   "metadata": {},
   "outputs": [
    {
     "data": {
      "text/plain": [
       "[<selenium.webdriver.remote.webelement.WebElement (session=\"cce3c629f4146e55eacad59fc27af561\", element=\"4a91b10f-ad66-4b7b-8f92-e912e39f4db1\")>,\n",
       " <selenium.webdriver.remote.webelement.WebElement (session=\"cce3c629f4146e55eacad59fc27af561\", element=\"0d6924af-44c4-4590-808c-e27b9d5c1ab9\")>,\n",
       " <selenium.webdriver.remote.webelement.WebElement (session=\"cce3c629f4146e55eacad59fc27af561\", element=\"fda9793c-14a1-440b-ac11-e49995b02b83\")>,\n",
       " <selenium.webdriver.remote.webelement.WebElement (session=\"cce3c629f4146e55eacad59fc27af561\", element=\"8604398c-f376-48dd-8453-4c0f4e66216c\")>,\n",
       " <selenium.webdriver.remote.webelement.WebElement (session=\"cce3c629f4146e55eacad59fc27af561\", element=\"ba040a5e-dc58-448b-9197-e9101c7fe740\")>,\n",
       " <selenium.webdriver.remote.webelement.WebElement (session=\"cce3c629f4146e55eacad59fc27af561\", element=\"436c73f1-a559-4537-9e12-1bea169b1388\")>,\n",
       " <selenium.webdriver.remote.webelement.WebElement (session=\"cce3c629f4146e55eacad59fc27af561\", element=\"dbbcd9f1-9d19-4046-ae7e-214bad51f189\")>,\n",
       " <selenium.webdriver.remote.webelement.WebElement (session=\"cce3c629f4146e55eacad59fc27af561\", element=\"0132e3f4-7b37-4fa6-aac5-b47c3dc7a5ce\")>,\n",
       " <selenium.webdriver.remote.webelement.WebElement (session=\"cce3c629f4146e55eacad59fc27af561\", element=\"28674084-c7d8-4c20-ba93-3406990bdf6d\")>,\n",
       " <selenium.webdriver.remote.webelement.WebElement (session=\"cce3c629f4146e55eacad59fc27af561\", element=\"ced3ad21-7448-430d-982e-a0743d53730f\")>]"
      ]
     },
     "execution_count": 175,
     "metadata": {},
     "output_type": "execute_result"
    }
   ],
   "source": [
    "#to extract all tags which include company name for above profiles\n",
    "\n",
    "companies_tags= driver.find_elements_by_xpath(\"//a[@class='subTitle ellipsis fleft']\")\n",
    "companies_tags[0:10]"
   ]
  },
  {
   "cell_type": "code",
   "execution_count": 176,
   "id": "2f8b8429",
   "metadata": {},
   "outputs": [
    {
     "data": {
      "text/plain": [
       "['Optum',\n",
       " '2Coms',\n",
       " 'Lumiq.ai',\n",
       " 'Care Health Insurance',\n",
       " 'Creative Hands HR Consultancy',\n",
       " 'BlackBuck',\n",
       " 'Boston Consulting Group',\n",
       " 'HCL Technologies',\n",
       " 'NISG (National Institute for Smart Government)',\n",
       " 'MOTHERSONSUMI INFOTECH & DESIGNS LIMITED']"
      ]
     },
     "execution_count": 176,
     "metadata": {},
     "output_type": "execute_result"
    }
   ],
   "source": [
    "#Now extracting data from all the tags above\n",
    "for i in companies_tags:\n",
    "    company_name=i.text\n",
    "    company_names.append(company_name)\n",
    "    \n",
    "company_names[0:10]"
   ]
  },
  {
   "cell_type": "code",
   "execution_count": 177,
   "id": "c3b53189",
   "metadata": {},
   "outputs": [
    {
     "data": {
      "text/plain": [
       "[<selenium.webdriver.remote.webelement.WebElement (session=\"cce3c629f4146e55eacad59fc27af561\", element=\"b55530c6-68ac-4c04-a6db-f33124bfa2d8\")>,\n",
       " <selenium.webdriver.remote.webelement.WebElement (session=\"cce3c629f4146e55eacad59fc27af561\", element=\"06943efe-4e1f-4249-a71b-3813b7a2710e\")>,\n",
       " <selenium.webdriver.remote.webelement.WebElement (session=\"cce3c629f4146e55eacad59fc27af561\", element=\"4899b27b-51da-49b8-943c-70ec0da111e0\")>,\n",
       " <selenium.webdriver.remote.webelement.WebElement (session=\"cce3c629f4146e55eacad59fc27af561\", element=\"b7d85831-fdc1-4094-ba99-8b1e94a5233d\")>,\n",
       " <selenium.webdriver.remote.webelement.WebElement (session=\"cce3c629f4146e55eacad59fc27af561\", element=\"da8fa2ee-86a0-4613-a055-e14f88d6e780\")>,\n",
       " <selenium.webdriver.remote.webelement.WebElement (session=\"cce3c629f4146e55eacad59fc27af561\", element=\"2b71a8a3-e8c7-4490-b01a-83613ccc3bcf\")>,\n",
       " <selenium.webdriver.remote.webelement.WebElement (session=\"cce3c629f4146e55eacad59fc27af561\", element=\"ee011593-f1e5-4ed8-9c92-9c6dca9964e3\")>,\n",
       " <selenium.webdriver.remote.webelement.WebElement (session=\"cce3c629f4146e55eacad59fc27af561\", element=\"6517f59f-85b5-44cc-a814-b3a7c5812e2b\")>,\n",
       " <selenium.webdriver.remote.webelement.WebElement (session=\"cce3c629f4146e55eacad59fc27af561\", element=\"7c90ed4c-65f1-46cd-8cf0-ee5b7edf270e\")>,\n",
       " <selenium.webdriver.remote.webelement.WebElement (session=\"cce3c629f4146e55eacad59fc27af561\", element=\"f5c119f7-8696-40b2-a55e-84cd7fbff406\")>]"
      ]
     },
     "execution_count": 177,
     "metadata": {},
     "output_type": "execute_result"
    }
   ],
   "source": [
    "#Extracting all the tags for experience required.\n",
    "\n",
    "experience_tags=driver.find_elements_by_xpath(\"//li[@class='fleft grey-text br2 placeHolderLi experience']/span[1]\")\n",
    "experience_tags[0:10]"
   ]
  },
  {
   "cell_type": "code",
   "execution_count": 178,
   "id": "2a00ee1a",
   "metadata": {},
   "outputs": [
    {
     "data": {
      "text/plain": [
       "['1-5 Yrs',\n",
       " '2-7 Yrs',\n",
       " '2-6 Yrs',\n",
       " '1-5 Yrs',\n",
       " '0-4 Yrs',\n",
       " '3-7 Yrs',\n",
       " '2-5 Yrs',\n",
       " '3-8 Yrs',\n",
       " '3-8 Yrs',\n",
       " '4-8 Yrs']"
      ]
     },
     "execution_count": 178,
     "metadata": {},
     "output_type": "execute_result"
    }
   ],
   "source": [
    "# extracting all the data from above tags\n",
    "\n",
    "for i in experience_tags:\n",
    "    experience=i.text\n",
    "    experience_list.append(experience)\n",
    "    \n",
    "experience_list[0:10]"
   ]
  },
  {
   "cell_type": "code",
   "execution_count": 179,
   "id": "cba7b66a",
   "metadata": {},
   "outputs": [
    {
     "data": {
      "text/plain": [
       "[<selenium.webdriver.remote.webelement.WebElement (session=\"cce3c629f4146e55eacad59fc27af561\", element=\"cce49900-6350-4375-ae11-17fecf680412\")>,\n",
       " <selenium.webdriver.remote.webelement.WebElement (session=\"cce3c629f4146e55eacad59fc27af561\", element=\"83f395ad-5dcf-4349-8818-b21f2b2cdf5f\")>,\n",
       " <selenium.webdriver.remote.webelement.WebElement (session=\"cce3c629f4146e55eacad59fc27af561\", element=\"88fda77c-fedf-4a03-b4ea-441b423c6609\")>,\n",
       " <selenium.webdriver.remote.webelement.WebElement (session=\"cce3c629f4146e55eacad59fc27af561\", element=\"c2ee0fc9-e208-4338-a5d8-a71e3ac11d47\")>,\n",
       " <selenium.webdriver.remote.webelement.WebElement (session=\"cce3c629f4146e55eacad59fc27af561\", element=\"8822d711-5ad7-46e8-ada3-461bb2aaa393\")>,\n",
       " <selenium.webdriver.remote.webelement.WebElement (session=\"cce3c629f4146e55eacad59fc27af561\", element=\"6b67dc10-3ba1-4492-92b3-37654a3d3029\")>,\n",
       " <selenium.webdriver.remote.webelement.WebElement (session=\"cce3c629f4146e55eacad59fc27af561\", element=\"7b3d91c2-a72a-4cbe-b7ad-e75640d6f419\")>,\n",
       " <selenium.webdriver.remote.webelement.WebElement (session=\"cce3c629f4146e55eacad59fc27af561\", element=\"2c59ca1c-0772-44c8-92c5-a60b15c391b0\")>,\n",
       " <selenium.webdriver.remote.webelement.WebElement (session=\"cce3c629f4146e55eacad59fc27af561\", element=\"cf7ab6f9-b977-4c86-84a7-81c46fedda78\")>,\n",
       " <selenium.webdriver.remote.webelement.WebElement (session=\"cce3c629f4146e55eacad59fc27af561\", element=\"bea71b90-f80e-4d4f-8343-ceb465a1913b\")>]"
      ]
     },
     "execution_count": 179,
     "metadata": {},
     "output_type": "execute_result"
    }
   ],
   "source": [
    "locations_tags=driver.find_elements_by_xpath(\"//li[@class='fleft grey-text br2 placeHolderLi location']/span[1]\")\n",
    "locations_tags[0:10]"
   ]
  },
  {
   "cell_type": "code",
   "execution_count": 180,
   "id": "e3877fec",
   "metadata": {},
   "outputs": [
    {
     "data": {
      "text/plain": [
       "['Gurgaon/Gurugram',\n",
       " 'New Delhi, Delhi',\n",
       " 'Noida, Greater Noida, Delhi / NCR',\n",
       " 'Gurgaon/Gurugram',\n",
       " 'Hyderabad/Secunderabad, Ahmedabad, Chennai, Bangalore/Bengaluru, Delhi / NCR, Mumbai (All Areas)',\n",
       " 'Gurgaon, Bengaluru',\n",
       " 'New Delhi',\n",
       " 'Noida, Delhi / NCR',\n",
       " 'Delhi / NCR',\n",
       " 'Noida']"
      ]
     },
     "execution_count": 180,
     "metadata": {},
     "output_type": "execute_result"
    }
   ],
   "source": [
    "#extracting all the data from above tags for location\n",
    "for i in locations_tags:\n",
    "    location=i.text\n",
    "    locations_list.append(location)\n",
    "    \n",
    "locations_list[0:10]"
   ]
  },
  {
   "cell_type": "code",
   "execution_count": 181,
   "id": "aaced871",
   "metadata": {},
   "outputs": [
    {
     "name": "stdout",
     "output_type": "stream",
     "text": [
      "20 20 20 20\n"
     ]
    }
   ],
   "source": [
    "#Now, we will check the length of each list so as to form a dataframe.\n",
    "print(len(job_titles),len(company_names),len(experience_list),len(locations_list))"
   ]
  },
  {
   "cell_type": "code",
   "execution_count": 182,
   "id": "006f205e",
   "metadata": {},
   "outputs": [
    {
     "data": {
      "text/html": [
       "<div>\n",
       "<style scoped>\n",
       "    .dataframe tbody tr th:only-of-type {\n",
       "        vertical-align: middle;\n",
       "    }\n",
       "\n",
       "    .dataframe tbody tr th {\n",
       "        vertical-align: top;\n",
       "    }\n",
       "\n",
       "    .dataframe thead th {\n",
       "        text-align: right;\n",
       "    }\n",
       "</style>\n",
       "<table border=\"1\" class=\"dataframe\">\n",
       "  <thead>\n",
       "    <tr style=\"text-align: right;\">\n",
       "      <th></th>\n",
       "      <th>Job Titles</th>\n",
       "      <th>Company Name</th>\n",
       "      <th>Location</th>\n",
       "      <th>Experience Required</th>\n",
       "    </tr>\n",
       "  </thead>\n",
       "  <tbody>\n",
       "    <tr>\n",
       "      <th>0</th>\n",
       "      <td>Associate Data Scientist</td>\n",
       "      <td>Optum</td>\n",
       "      <td>Gurgaon/Gurugram</td>\n",
       "      <td>1-5 Yrs</td>\n",
       "    </tr>\n",
       "    <tr>\n",
       "      <th>1</th>\n",
       "      <td>Data Scientist (freelance)</td>\n",
       "      <td>2Coms</td>\n",
       "      <td>New Delhi, Delhi</td>\n",
       "      <td>2-7 Yrs</td>\n",
       "    </tr>\n",
       "    <tr>\n",
       "      <th>2</th>\n",
       "      <td>Hiring For Senior Data Scientist-Noida</td>\n",
       "      <td>Lumiq.ai</td>\n",
       "      <td>Noida, Greater Noida, Delhi / NCR</td>\n",
       "      <td>2-6 Yrs</td>\n",
       "    </tr>\n",
       "    <tr>\n",
       "      <th>3</th>\n",
       "      <td>Opening For Data Scientist</td>\n",
       "      <td>Care Health Insurance</td>\n",
       "      <td>Gurgaon/Gurugram</td>\n",
       "      <td>1-5 Yrs</td>\n",
       "    </tr>\n",
       "    <tr>\n",
       "      <th>4</th>\n",
       "      <td>Data Scientist/ Machine Learning, 2022 Passout...</td>\n",
       "      <td>Creative Hands HR Consultancy</td>\n",
       "      <td>Hyderabad/Secunderabad, Ahmedabad, Chennai, Ba...</td>\n",
       "      <td>0-4 Yrs</td>\n",
       "    </tr>\n",
       "    <tr>\n",
       "      <th>5</th>\n",
       "      <td>Data Scientist</td>\n",
       "      <td>BlackBuck</td>\n",
       "      <td>Gurgaon, Bengaluru</td>\n",
       "      <td>3-7 Yrs</td>\n",
       "    </tr>\n",
       "    <tr>\n",
       "      <th>6</th>\n",
       "      <td>Data Scientist</td>\n",
       "      <td>Boston Consulting Group</td>\n",
       "      <td>New Delhi</td>\n",
       "      <td>2-5 Yrs</td>\n",
       "    </tr>\n",
       "    <tr>\n",
       "      <th>7</th>\n",
       "      <td>Urgent Requirement || Data Scientist || Noida</td>\n",
       "      <td>HCL Technologies</td>\n",
       "      <td>Noida, Delhi / NCR</td>\n",
       "      <td>3-8 Yrs</td>\n",
       "    </tr>\n",
       "    <tr>\n",
       "      <th>8</th>\n",
       "      <td>AM Data Scientist - Goods &amp; Service Tax Networ...</td>\n",
       "      <td>NISG (National Institute for Smart Government)</td>\n",
       "      <td>Delhi / NCR</td>\n",
       "      <td>3-8 Yrs</td>\n",
       "    </tr>\n",
       "    <tr>\n",
       "      <th>9</th>\n",
       "      <td>Data Scientist - MIND Infotech</td>\n",
       "      <td>MOTHERSONSUMI INFOTECH &amp; DESIGNS LIMITED</td>\n",
       "      <td>Noida</td>\n",
       "      <td>4-8 Yrs</td>\n",
       "    </tr>\n",
       "    <tr>\n",
       "      <th>10</th>\n",
       "      <td>Senior Data Scientist</td>\n",
       "      <td>iNICU</td>\n",
       "      <td>Delhi</td>\n",
       "      <td>1-5 Yrs</td>\n",
       "    </tr>\n",
       "    <tr>\n",
       "      <th>11</th>\n",
       "      <td>Lead Data Scientist</td>\n",
       "      <td>KIA INDIA PRIVATE LIMITED</td>\n",
       "      <td>Gurgaon/Gurugram</td>\n",
       "      <td>7-10 Yrs</td>\n",
       "    </tr>\n",
       "    <tr>\n",
       "      <th>12</th>\n",
       "      <td>Data Scientist - Python/SQL</td>\n",
       "      <td>AVE-Promagne</td>\n",
       "      <td>Noida, Kota, Mumbai, Chandigarh, Lucknow, Agra...</td>\n",
       "      <td>3-8 Yrs</td>\n",
       "    </tr>\n",
       "    <tr>\n",
       "      <th>13</th>\n",
       "      <td>Data Scientist</td>\n",
       "      <td>Country Veggie</td>\n",
       "      <td>Bharuch, Jaipur, Bhopal, Mumbai, Jhansi, Nagpu...</td>\n",
       "      <td>1-3 Yrs</td>\n",
       "    </tr>\n",
       "    <tr>\n",
       "      <th>14</th>\n",
       "      <td>Associate Data Scientist</td>\n",
       "      <td>Right Step Consulting</td>\n",
       "      <td>Noida</td>\n",
       "      <td>3-6 Yrs</td>\n",
       "    </tr>\n",
       "    <tr>\n",
       "      <th>15</th>\n",
       "      <td>Junior AI Data Scientist</td>\n",
       "      <td>Seven Consultancy (HR Solution)</td>\n",
       "      <td>New Delhi</td>\n",
       "      <td>1-6 Yrs</td>\n",
       "    </tr>\n",
       "    <tr>\n",
       "      <th>16</th>\n",
       "      <td>AM - Data Scientist</td>\n",
       "      <td>GSTN</td>\n",
       "      <td>Delhi / NCR</td>\n",
       "      <td>3-5 Yrs</td>\n",
       "    </tr>\n",
       "    <tr>\n",
       "      <th>17</th>\n",
       "      <td>Data scientist- Python</td>\n",
       "      <td>TeamPlus Staffing Solution Pvt Ltd</td>\n",
       "      <td>Gurgaon/Gurugram</td>\n",
       "      <td>3-6 Yrs</td>\n",
       "    </tr>\n",
       "    <tr>\n",
       "      <th>18</th>\n",
       "      <td>Data Scientist</td>\n",
       "      <td>T &amp; A Solutions</td>\n",
       "      <td>Gurgaon/Gurugram</td>\n",
       "      <td>2-6 Yrs</td>\n",
       "    </tr>\n",
       "    <tr>\n",
       "      <th>19</th>\n",
       "      <td>Data Scientist</td>\n",
       "      <td>itForte Staffing Services Private Ltd.</td>\n",
       "      <td>Gurgaon</td>\n",
       "      <td>3-8 Yrs</td>\n",
       "    </tr>\n",
       "  </tbody>\n",
       "</table>\n",
       "</div>"
      ],
      "text/plain": [
       "                                           Job Titles  \\\n",
       "0                            Associate Data Scientist   \n",
       "1                          Data Scientist (freelance)   \n",
       "2              Hiring For Senior Data Scientist-Noida   \n",
       "3                          Opening For Data Scientist   \n",
       "4   Data Scientist/ Machine Learning, 2022 Passout...   \n",
       "5                                      Data Scientist   \n",
       "6                                      Data Scientist   \n",
       "7       Urgent Requirement || Data Scientist || Noida   \n",
       "8   AM Data Scientist - Goods & Service Tax Networ...   \n",
       "9                      Data Scientist - MIND Infotech   \n",
       "10                              Senior Data Scientist   \n",
       "11                                Lead Data Scientist   \n",
       "12                        Data Scientist - Python/SQL   \n",
       "13                                     Data Scientist   \n",
       "14                           Associate Data Scientist   \n",
       "15                           Junior AI Data Scientist   \n",
       "16                                AM - Data Scientist   \n",
       "17                             Data scientist- Python   \n",
       "18                                     Data Scientist   \n",
       "19                                     Data Scientist   \n",
       "\n",
       "                                      Company Name  \\\n",
       "0                                            Optum   \n",
       "1                                            2Coms   \n",
       "2                                         Lumiq.ai   \n",
       "3                            Care Health Insurance   \n",
       "4                    Creative Hands HR Consultancy   \n",
       "5                                        BlackBuck   \n",
       "6                          Boston Consulting Group   \n",
       "7                                 HCL Technologies   \n",
       "8   NISG (National Institute for Smart Government)   \n",
       "9         MOTHERSONSUMI INFOTECH & DESIGNS LIMITED   \n",
       "10                                           iNICU   \n",
       "11                       KIA INDIA PRIVATE LIMITED   \n",
       "12                                    AVE-Promagne   \n",
       "13                                  Country Veggie   \n",
       "14                           Right Step Consulting   \n",
       "15                 Seven Consultancy (HR Solution)   \n",
       "16                                            GSTN   \n",
       "17              TeamPlus Staffing Solution Pvt Ltd   \n",
       "18                                 T & A Solutions   \n",
       "19          itForte Staffing Services Private Ltd.   \n",
       "\n",
       "                                             Location Experience Required  \n",
       "0                                    Gurgaon/Gurugram             1-5 Yrs  \n",
       "1                                    New Delhi, Delhi             2-7 Yrs  \n",
       "2                   Noida, Greater Noida, Delhi / NCR             2-6 Yrs  \n",
       "3                                    Gurgaon/Gurugram             1-5 Yrs  \n",
       "4   Hyderabad/Secunderabad, Ahmedabad, Chennai, Ba...             0-4 Yrs  \n",
       "5                                  Gurgaon, Bengaluru             3-7 Yrs  \n",
       "6                                           New Delhi             2-5 Yrs  \n",
       "7                                  Noida, Delhi / NCR             3-8 Yrs  \n",
       "8                                         Delhi / NCR             3-8 Yrs  \n",
       "9                                               Noida             4-8 Yrs  \n",
       "10                                              Delhi             1-5 Yrs  \n",
       "11                                   Gurgaon/Gurugram            7-10 Yrs  \n",
       "12  Noida, Kota, Mumbai, Chandigarh, Lucknow, Agra...             3-8 Yrs  \n",
       "13  Bharuch, Jaipur, Bhopal, Mumbai, Jhansi, Nagpu...             1-3 Yrs  \n",
       "14                                              Noida             3-6 Yrs  \n",
       "15                                          New Delhi             1-6 Yrs  \n",
       "16                                        Delhi / NCR             3-5 Yrs  \n",
       "17                                   Gurgaon/Gurugram             3-6 Yrs  \n",
       "18                                   Gurgaon/Gurugram             2-6 Yrs  \n",
       "19                                            Gurgaon             3-8 Yrs  "
      ]
     },
     "execution_count": 182,
     "metadata": {},
     "output_type": "execute_result"
    }
   ],
   "source": [
    "#since it is equal , we can create a dataframe \n",
    "de=pd.DataFrame({'Job Titles': job_titles ,'Company Name': company_names ,'Location': locations_list ,'Experience Required': experience_list})\n",
    "de"
   ]
  },
  {
   "cell_type": "markdown",
   "id": "34f684c7",
   "metadata": {},
   "source": [
    "# Question 4: Scrape data of first 100 sunglasses listings on flipkart.com. You have to scrape four attributes:\n",
    "1. Brand\n",
    "2. Product Description\n",
    "3. Price"
   ]
  },
  {
   "cell_type": "code",
   "execution_count": 57,
   "id": "2300d227",
   "metadata": {},
   "outputs": [],
   "source": [
    "#opening web browser\n",
    "driver=webdriver.Chrome(\"chromedriver.exe\")\n",
    "time.sleep(2)"
   ]
  },
  {
   "cell_type": "code",
   "execution_count": 58,
   "id": "51660955",
   "metadata": {},
   "outputs": [],
   "source": [
    "driver.get(\"https://www.flipkart.com/\")"
   ]
  },
  {
   "cell_type": "code",
   "execution_count": 59,
   "id": "b07a1867",
   "metadata": {},
   "outputs": [],
   "source": [
    "#Finding elements for job search bar\n",
    "search_field_item=driver.find_element_by_class_name(\"_3704LK\")\n",
    "search_field_item.send_keys(\"sunglasses\")"
   ]
  },
  {
   "cell_type": "code",
   "execution_count": 60,
   "id": "de4cc890",
   "metadata": {},
   "outputs": [],
   "source": [
    "search_button=driver.find_element_by_xpath(\"/html/body/div[1]/div/div[1]/div[1]/div[2]/div[2]/form/div/button\")\n",
    "search_button.click()"
   ]
  },
  {
   "cell_type": "code",
   "execution_count": 61,
   "id": "6e475927",
   "metadata": {},
   "outputs": [],
   "source": [
    "#creating 3 empty lists as per the requirement of the question\n",
    "Brand=[]\n",
    "Desc=[]\n",
    "price=[]"
   ]
  },
  {
   "cell_type": "code",
   "execution_count": 62,
   "id": "15ab4702",
   "metadata": {},
   "outputs": [
    {
     "data": {
      "text/plain": [
       "[<selenium.webdriver.remote.webelement.WebElement (session=\"164cb8c55fd0451d6dcd4c4b6b4035e1\", element=\"463d93c3-45af-4c01-8c7b-a33da7e381e9\")>,\n",
       " <selenium.webdriver.remote.webelement.WebElement (session=\"164cb8c55fd0451d6dcd4c4b6b4035e1\", element=\"1f1e12ec-3fc5-4c7e-a5a0-717513968c34\")>,\n",
       " <selenium.webdriver.remote.webelement.WebElement (session=\"164cb8c55fd0451d6dcd4c4b6b4035e1\", element=\"5b2df115-f171-4aeb-9400-abb4b9aea5cd\")>,\n",
       " <selenium.webdriver.remote.webelement.WebElement (session=\"164cb8c55fd0451d6dcd4c4b6b4035e1\", element=\"7a91a6c2-d61e-4043-b9ae-557735854139\")>,\n",
       " <selenium.webdriver.remote.webelement.WebElement (session=\"164cb8c55fd0451d6dcd4c4b6b4035e1\", element=\"3d9573f2-f825-4657-a527-e82fdecf4e97\")>,\n",
       " <selenium.webdriver.remote.webelement.WebElement (session=\"164cb8c55fd0451d6dcd4c4b6b4035e1\", element=\"8915af4b-8535-4b97-a46c-726d190bfb12\")>,\n",
       " <selenium.webdriver.remote.webelement.WebElement (session=\"164cb8c55fd0451d6dcd4c4b6b4035e1\", element=\"3f5be8ed-5974-4ac1-9ebc-aa1b4dbc3125\")>,\n",
       " <selenium.webdriver.remote.webelement.WebElement (session=\"164cb8c55fd0451d6dcd4c4b6b4035e1\", element=\"12891431-f06e-40e5-bf13-a91af429c11c\")>,\n",
       " <selenium.webdriver.remote.webelement.WebElement (session=\"164cb8c55fd0451d6dcd4c4b6b4035e1\", element=\"c5522d14-5e8d-4901-8260-677dae8463ba\")>,\n",
       " <selenium.webdriver.remote.webelement.WebElement (session=\"164cb8c55fd0451d6dcd4c4b6b4035e1\", element=\"93d92e19-b146-4e0d-9e98-eed99ed418b9\")>,\n",
       " <selenium.webdriver.remote.webelement.WebElement (session=\"164cb8c55fd0451d6dcd4c4b6b4035e1\", element=\"e7d4108e-c7b7-4e24-b1c8-edafcf979c19\")>,\n",
       " <selenium.webdriver.remote.webelement.WebElement (session=\"164cb8c55fd0451d6dcd4c4b6b4035e1\", element=\"5a78d192-6fdc-4eb2-b9fb-79a779a9b5fe\")>,\n",
       " <selenium.webdriver.remote.webelement.WebElement (session=\"164cb8c55fd0451d6dcd4c4b6b4035e1\", element=\"b5c32b92-1878-4ac0-8ba2-616994cbfeb2\")>,\n",
       " <selenium.webdriver.remote.webelement.WebElement (session=\"164cb8c55fd0451d6dcd4c4b6b4035e1\", element=\"88ac3201-3115-423d-85fc-7dc9f5b96f79\")>,\n",
       " <selenium.webdriver.remote.webelement.WebElement (session=\"164cb8c55fd0451d6dcd4c4b6b4035e1\", element=\"a6236244-db9d-40ac-a9a9-53a01317882f\")>,\n",
       " <selenium.webdriver.remote.webelement.WebElement (session=\"164cb8c55fd0451d6dcd4c4b6b4035e1\", element=\"d73b0ac2-b646-49a3-8a09-4f5a5f2001b9\")>,\n",
       " <selenium.webdriver.remote.webelement.WebElement (session=\"164cb8c55fd0451d6dcd4c4b6b4035e1\", element=\"ec14ab25-5379-4424-af6d-4e917967da0c\")>,\n",
       " <selenium.webdriver.remote.webelement.WebElement (session=\"164cb8c55fd0451d6dcd4c4b6b4035e1\", element=\"bcf05c77-54e6-471f-bdec-f9a1660bd882\")>,\n",
       " <selenium.webdriver.remote.webelement.WebElement (session=\"164cb8c55fd0451d6dcd4c4b6b4035e1\", element=\"e09f4377-e0cb-47b6-b810-ca776ba5347f\")>,\n",
       " <selenium.webdriver.remote.webelement.WebElement (session=\"164cb8c55fd0451d6dcd4c4b6b4035e1\", element=\"2ccfa49c-0646-4f9a-b593-3f3cfa0f13bc\")>,\n",
       " <selenium.webdriver.remote.webelement.WebElement (session=\"164cb8c55fd0451d6dcd4c4b6b4035e1\", element=\"9cde00d9-6584-4e50-9284-9c586adfba08\")>,\n",
       " <selenium.webdriver.remote.webelement.WebElement (session=\"164cb8c55fd0451d6dcd4c4b6b4035e1\", element=\"5eab54a5-c440-41b1-bc8f-3adc72e22823\")>,\n",
       " <selenium.webdriver.remote.webelement.WebElement (session=\"164cb8c55fd0451d6dcd4c4b6b4035e1\", element=\"b0b2713c-618e-4e1f-9e25-d388b0eeef61\")>,\n",
       " <selenium.webdriver.remote.webelement.WebElement (session=\"164cb8c55fd0451d6dcd4c4b6b4035e1\", element=\"6ea5ad24-1047-4326-9839-a7318de56c07\")>,\n",
       " <selenium.webdriver.remote.webelement.WebElement (session=\"164cb8c55fd0451d6dcd4c4b6b4035e1\", element=\"7e9af6d3-a7ca-4f2b-be26-d1aaf95c61a3\")>,\n",
       " <selenium.webdriver.remote.webelement.WebElement (session=\"164cb8c55fd0451d6dcd4c4b6b4035e1\", element=\"36cef5e1-e7a6-46f1-b83f-8d9512e79ce8\")>,\n",
       " <selenium.webdriver.remote.webelement.WebElement (session=\"164cb8c55fd0451d6dcd4c4b6b4035e1\", element=\"92051105-7d4a-454e-91ac-044d7aaa7536\")>,\n",
       " <selenium.webdriver.remote.webelement.WebElement (session=\"164cb8c55fd0451d6dcd4c4b6b4035e1\", element=\"a7209451-4a60-4024-9114-e9d01567e8b8\")>,\n",
       " <selenium.webdriver.remote.webelement.WebElement (session=\"164cb8c55fd0451d6dcd4c4b6b4035e1\", element=\"cce00001-1291-4ddd-b9e6-c33a0e24b6aa\")>,\n",
       " <selenium.webdriver.remote.webelement.WebElement (session=\"164cb8c55fd0451d6dcd4c4b6b4035e1\", element=\"512a72ad-5437-420e-b46e-8d4e7b4e9496\")>,\n",
       " <selenium.webdriver.remote.webelement.WebElement (session=\"164cb8c55fd0451d6dcd4c4b6b4035e1\", element=\"6e6cf539-70b2-4cf3-9207-2a9f39df3f14\")>,\n",
       " <selenium.webdriver.remote.webelement.WebElement (session=\"164cb8c55fd0451d6dcd4c4b6b4035e1\", element=\"8fc61f5c-a4fb-4911-9d59-400cd43d755d\")>,\n",
       " <selenium.webdriver.remote.webelement.WebElement (session=\"164cb8c55fd0451d6dcd4c4b6b4035e1\", element=\"bd1eee52-1fb0-4223-84fd-980df1119577\")>,\n",
       " <selenium.webdriver.remote.webelement.WebElement (session=\"164cb8c55fd0451d6dcd4c4b6b4035e1\", element=\"9e6921fb-e5f8-4626-b392-88303c8d7609\")>,\n",
       " <selenium.webdriver.remote.webelement.WebElement (session=\"164cb8c55fd0451d6dcd4c4b6b4035e1\", element=\"11839652-e397-43a1-b525-fd4e0e20f831\")>,\n",
       " <selenium.webdriver.remote.webelement.WebElement (session=\"164cb8c55fd0451d6dcd4c4b6b4035e1\", element=\"751e7006-dc12-41eb-925e-232a1ff46d36\")>,\n",
       " <selenium.webdriver.remote.webelement.WebElement (session=\"164cb8c55fd0451d6dcd4c4b6b4035e1\", element=\"f727288d-4f5c-4a53-82aa-6caa5ba83187\")>,\n",
       " <selenium.webdriver.remote.webelement.WebElement (session=\"164cb8c55fd0451d6dcd4c4b6b4035e1\", element=\"901cb1c1-eb57-47fb-b6de-b3ddb3f38905\")>,\n",
       " <selenium.webdriver.remote.webelement.WebElement (session=\"164cb8c55fd0451d6dcd4c4b6b4035e1\", element=\"e6cb290f-79c1-4a11-84ea-5415049a43a8\")>,\n",
       " <selenium.webdriver.remote.webelement.WebElement (session=\"164cb8c55fd0451d6dcd4c4b6b4035e1\", element=\"3009f659-213f-4b4e-9880-bd0f01382f19\")>]"
      ]
     },
     "execution_count": 62,
     "metadata": {},
     "output_type": "execute_result"
    }
   ],
   "source": [
    "#code to extract brand tags first\n",
    "brand_tags=driver.find_elements_by_xpath(\"//div[@class='_2WkVRV']\")  \n",
    "brand_tags[0:100]"
   ]
  },
  {
   "cell_type": "code",
   "execution_count": 63,
   "id": "adde701d",
   "metadata": {},
   "outputs": [
    {
     "data": {
      "text/plain": [
       "['Singco India',\n",
       " 'VINCENT CHASE',\n",
       " 'Elligator',\n",
       " 'PIRASO',\n",
       " 'Fastrack',\n",
       " 'New Specs',\n",
       " 'Fastrack',\n",
       " 'ROZZETTA CRAFT',\n",
       " 'Lee Topper',\n",
       " 'hipe',\n",
       " 'SUNBEE',\n",
       " 'agera',\n",
       " 'SHAAH COLLECTIONS',\n",
       " 'Lee Topper',\n",
       " 'SRPM',\n",
       " 'ROZZETTA CRAFT',\n",
       " 'PIRASO',\n",
       " 'PIRASO',\n",
       " 'ROZZETTA CRAFT',\n",
       " 'VINCENT CHASE',\n",
       " 'PIRASO',\n",
       " 'New Specs',\n",
       " 'Fastrack',\n",
       " 'NuVew',\n",
       " 'PHENOMENAL',\n",
       " 'Roadster',\n",
       " 'DEIXELS',\n",
       " 'GANSTA',\n",
       " 'Fastrack',\n",
       " 'kingsunglasses',\n",
       " 'SUNBEE',\n",
       " 'Resist',\n",
       " 'Fastrack',\n",
       " 'hipe',\n",
       " 'PIRASO',\n",
       " 'GANSTA',\n",
       " 'Singco India',\n",
       " 'Fastrack',\n",
       " 'Fastrack',\n",
       " 'ROYAL SON']"
      ]
     },
     "execution_count": 63,
     "metadata": {},
     "output_type": "execute_result"
    }
   ],
   "source": [
    "#to extract the data from above tags\n",
    "for i in brand_tags:\n",
    "    brand=i.text\n",
    "    Brand.append(brand)\n",
    "    \n",
    "Brand[0:100]"
   ]
  },
  {
   "cell_type": "code",
   "execution_count": 64,
   "id": "bb4dcd31",
   "metadata": {},
   "outputs": [
    {
     "data": {
      "text/plain": [
       "[<selenium.webdriver.remote.webelement.WebElement (session=\"164cb8c55fd0451d6dcd4c4b6b4035e1\", element=\"9bc9eb22-983b-46fc-b9da-c3ae8a942814\")>,\n",
       " <selenium.webdriver.remote.webelement.WebElement (session=\"164cb8c55fd0451d6dcd4c4b6b4035e1\", element=\"666dd5d7-78cb-4468-a495-8a43c4ec43e4\")>,\n",
       " <selenium.webdriver.remote.webelement.WebElement (session=\"164cb8c55fd0451d6dcd4c4b6b4035e1\", element=\"57b1732f-3057-45fe-a90d-835a913ccb33\")>,\n",
       " <selenium.webdriver.remote.webelement.WebElement (session=\"164cb8c55fd0451d6dcd4c4b6b4035e1\", element=\"fa5a6767-fefc-483e-912d-fcdebb6431f7\")>,\n",
       " <selenium.webdriver.remote.webelement.WebElement (session=\"164cb8c55fd0451d6dcd4c4b6b4035e1\", element=\"f006e493-e88b-434e-8ee2-9e7fe3a7555e\")>,\n",
       " <selenium.webdriver.remote.webelement.WebElement (session=\"164cb8c55fd0451d6dcd4c4b6b4035e1\", element=\"a8961732-576a-471f-a1d4-8f7a0396091a\")>,\n",
       " <selenium.webdriver.remote.webelement.WebElement (session=\"164cb8c55fd0451d6dcd4c4b6b4035e1\", element=\"1036b8c2-2e06-40cf-bc1a-da5a9232fbd1\")>,\n",
       " <selenium.webdriver.remote.webelement.WebElement (session=\"164cb8c55fd0451d6dcd4c4b6b4035e1\", element=\"590e78b1-0709-476d-8a07-8f0cdcdecd4a\")>,\n",
       " <selenium.webdriver.remote.webelement.WebElement (session=\"164cb8c55fd0451d6dcd4c4b6b4035e1\", element=\"bfec97bd-2472-446f-869f-6fec91b48e5c\")>,\n",
       " <selenium.webdriver.remote.webelement.WebElement (session=\"164cb8c55fd0451d6dcd4c4b6b4035e1\", element=\"a68c7faf-be00-4174-b774-e282c27d6b13\")>,\n",
       " <selenium.webdriver.remote.webelement.WebElement (session=\"164cb8c55fd0451d6dcd4c4b6b4035e1\", element=\"79273880-331f-43b9-b85f-7914c222cf1d\")>,\n",
       " <selenium.webdriver.remote.webelement.WebElement (session=\"164cb8c55fd0451d6dcd4c4b6b4035e1\", element=\"310b902b-b2e1-4715-b740-2d6c02a3f46c\")>,\n",
       " <selenium.webdriver.remote.webelement.WebElement (session=\"164cb8c55fd0451d6dcd4c4b6b4035e1\", element=\"03bf78fb-aa0f-4b8c-a3d7-c41e60dcc49f\")>,\n",
       " <selenium.webdriver.remote.webelement.WebElement (session=\"164cb8c55fd0451d6dcd4c4b6b4035e1\", element=\"326b029c-0d17-49c4-83b8-cbfe376a0e5f\")>,\n",
       " <selenium.webdriver.remote.webelement.WebElement (session=\"164cb8c55fd0451d6dcd4c4b6b4035e1\", element=\"e486c763-400f-4d29-b3d1-ec0c3e41c6f1\")>,\n",
       " <selenium.webdriver.remote.webelement.WebElement (session=\"164cb8c55fd0451d6dcd4c4b6b4035e1\", element=\"5983a388-4276-4d24-b49e-afd5ec7695db\")>,\n",
       " <selenium.webdriver.remote.webelement.WebElement (session=\"164cb8c55fd0451d6dcd4c4b6b4035e1\", element=\"88711df3-cf7c-4846-b80c-c34528b645e6\")>,\n",
       " <selenium.webdriver.remote.webelement.WebElement (session=\"164cb8c55fd0451d6dcd4c4b6b4035e1\", element=\"96ac05e1-f25b-417e-bf70-4a74c191c3d8\")>,\n",
       " <selenium.webdriver.remote.webelement.WebElement (session=\"164cb8c55fd0451d6dcd4c4b6b4035e1\", element=\"b1a16b9f-1a29-489a-a684-643a634a9b63\")>,\n",
       " <selenium.webdriver.remote.webelement.WebElement (session=\"164cb8c55fd0451d6dcd4c4b6b4035e1\", element=\"035b2743-2da2-4a98-9828-c471b9a9f2f9\")>,\n",
       " <selenium.webdriver.remote.webelement.WebElement (session=\"164cb8c55fd0451d6dcd4c4b6b4035e1\", element=\"90f3abb0-dc9c-4793-bd43-95097bb8229d\")>,\n",
       " <selenium.webdriver.remote.webelement.WebElement (session=\"164cb8c55fd0451d6dcd4c4b6b4035e1\", element=\"87c348ee-b709-4cda-8d3f-5fe0b882a648\")>,\n",
       " <selenium.webdriver.remote.webelement.WebElement (session=\"164cb8c55fd0451d6dcd4c4b6b4035e1\", element=\"d958ab8c-0406-4fec-9089-8f96932aa000\")>,\n",
       " <selenium.webdriver.remote.webelement.WebElement (session=\"164cb8c55fd0451d6dcd4c4b6b4035e1\", element=\"6a44d317-2412-4360-8d90-adc87dfdd38b\")>,\n",
       " <selenium.webdriver.remote.webelement.WebElement (session=\"164cb8c55fd0451d6dcd4c4b6b4035e1\", element=\"a85cdd6d-7ba8-45f4-aa5b-ca99f3c6f130\")>,\n",
       " <selenium.webdriver.remote.webelement.WebElement (session=\"164cb8c55fd0451d6dcd4c4b6b4035e1\", element=\"917d08e2-345a-4700-98b8-e9489ed83094\")>,\n",
       " <selenium.webdriver.remote.webelement.WebElement (session=\"164cb8c55fd0451d6dcd4c4b6b4035e1\", element=\"4046143c-5f06-4a31-a145-4800c052f6b9\")>,\n",
       " <selenium.webdriver.remote.webelement.WebElement (session=\"164cb8c55fd0451d6dcd4c4b6b4035e1\", element=\"4b789d2a-bbe0-4b00-90f0-6caa9137add7\")>,\n",
       " <selenium.webdriver.remote.webelement.WebElement (session=\"164cb8c55fd0451d6dcd4c4b6b4035e1\", element=\"2eda3e86-e185-4d08-87ce-917012c93d91\")>,\n",
       " <selenium.webdriver.remote.webelement.WebElement (session=\"164cb8c55fd0451d6dcd4c4b6b4035e1\", element=\"f339a9b1-49e3-450b-8564-35b224ee67bd\")>,\n",
       " <selenium.webdriver.remote.webelement.WebElement (session=\"164cb8c55fd0451d6dcd4c4b6b4035e1\", element=\"49ad4730-4331-4bd1-af1f-f8f3f46bd934\")>,\n",
       " <selenium.webdriver.remote.webelement.WebElement (session=\"164cb8c55fd0451d6dcd4c4b6b4035e1\", element=\"5e1e0706-1071-4a0b-aa62-3d1706045541\")>,\n",
       " <selenium.webdriver.remote.webelement.WebElement (session=\"164cb8c55fd0451d6dcd4c4b6b4035e1\", element=\"f6ae81dd-c52d-4161-9c3b-eb76e540ab73\")>,\n",
       " <selenium.webdriver.remote.webelement.WebElement (session=\"164cb8c55fd0451d6dcd4c4b6b4035e1\", element=\"d4a142a9-401c-43ee-a459-dc4c5b265a3c\")>,\n",
       " <selenium.webdriver.remote.webelement.WebElement (session=\"164cb8c55fd0451d6dcd4c4b6b4035e1\", element=\"493fb2c7-e208-410d-bcf1-26fe8a820368\")>,\n",
       " <selenium.webdriver.remote.webelement.WebElement (session=\"164cb8c55fd0451d6dcd4c4b6b4035e1\", element=\"2b28c859-0e47-4ad8-900d-a92119676aac\")>,\n",
       " <selenium.webdriver.remote.webelement.WebElement (session=\"164cb8c55fd0451d6dcd4c4b6b4035e1\", element=\"f6bf205a-d5e2-4add-98b4-9ff0b2b18fad\")>,\n",
       " <selenium.webdriver.remote.webelement.WebElement (session=\"164cb8c55fd0451d6dcd4c4b6b4035e1\", element=\"d8b9319c-d93d-40cf-ae43-566f297faf0e\")>,\n",
       " <selenium.webdriver.remote.webelement.WebElement (session=\"164cb8c55fd0451d6dcd4c4b6b4035e1\", element=\"98e92123-2ddc-466c-84cd-6ae4df8afc83\")>,\n",
       " <selenium.webdriver.remote.webelement.WebElement (session=\"164cb8c55fd0451d6dcd4c4b6b4035e1\", element=\"235ae0a4-698f-4f35-9680-c9ac2a4cc121\")>]"
      ]
     },
     "execution_count": 64,
     "metadata": {},
     "output_type": "execute_result"
    }
   ],
   "source": [
    "#to extract the product description tags\n",
    "product_desc_tags=driver.find_elements_by_xpath(\"//a[@class='IRpwTa']\")\n",
    "product_desc_tags[0:100]"
   ]
  },
  {
   "cell_type": "code",
   "execution_count": 65,
   "id": "07684f6a",
   "metadata": {},
   "outputs": [
    {
     "data": {
      "text/plain": [
       "['Gradient, Toughened Glass Lens, UV Protection Retro Squ...',\n",
       " 'UV Protection Wayfarer Sunglasses (59)',\n",
       " 'UV Protection Round Sunglasses (54)',\n",
       " 'UV Protection Aviator Sunglasses (54)',\n",
       " 'UV Protection Rectangular Sunglasses (Free Size)',\n",
       " 'UV Protection Rectangular Sunglasses (Free Size)',\n",
       " 'UV Protection Wayfarer Sunglasses (Free Size)',\n",
       " 'UV Protection Spectacle Sunglasses (Free Size)',\n",
       " 'Riding Glasses Wrap-around Sunglasses (Free Size)',\n",
       " 'UV Protection Sports Sunglasses (Free Size)',\n",
       " 'UV Protection, Polarized Wayfarer Sunglasses (Free Size...',\n",
       " 'Gradient Aviator Sunglasses (55)',\n",
       " 'UV Protection, Polarized, Mirrored Rectangular Sunglass...',\n",
       " 'UV Protection Rectangular Sunglasses (Free Size)',\n",
       " 'UV Protection Wayfarer Sunglasses (50)',\n",
       " 'UV Protection, Gradient Rectangular Sunglasses (Free Si...',\n",
       " 'UV Protection Aviator Sunglasses (54)',\n",
       " 'UV Protection Wayfarer Sunglasses (32)',\n",
       " 'Polarized, Riding Glasses Sports, Wrap-around Sunglasse...',\n",
       " 'UV Protection Cat-eye Sunglasses (54)',\n",
       " 'UV Protection Aviator Sunglasses (54)',\n",
       " 'Mirrored, UV Protection, Riding Glasses, Others Round S...',\n",
       " 'Gradient, UV Protection Wayfarer Sunglasses (Free Size)',\n",
       " 'UV Protection Retro Square, Wayfarer Sunglasses (58)',\n",
       " 'UV Protection Retro Square Sunglasses (53)',\n",
       " 'UV Protection Oval Sunglasses (57)',\n",
       " 'UV Protection Aviator, Wayfarer Sunglasses (Free Size)',\n",
       " 'UV Protection Aviator Sunglasses (57)',\n",
       " 'UV Protection Wayfarer Sunglasses (Free Size)',\n",
       " 'UV Protection, Riding Glasses, Mirrored Wayfarer Sungla...',\n",
       " 'UV Protection, Polarized, Mirrored Retro Square Sunglas...',\n",
       " 'UV Protection, Riding Glasses, Toughened Glass Lens, Gr...',\n",
       " 'UV Protection Wayfarer Sunglasses (55)',\n",
       " 'Mirrored, UV Protection, Gradient Round Sunglasses (55)',\n",
       " 'UV Protection Over-sized Sunglasses (65)',\n",
       " 'Night Vision, Riding Glasses Wayfarer Sunglasses (53)',\n",
       " 'Riding Glasses, UV Protection, Others Aviator Sunglasse...',\n",
       " 'UV Protection Wayfarer Sunglasses (Free Size)',\n",
       " 'UV Protection Aviator Sunglasses (58)',\n",
       " 'Polarized, UV Protection Wrap-around Sunglasses (62)']"
      ]
     },
     "execution_count": 65,
     "metadata": {},
     "output_type": "execute_result"
    }
   ],
   "source": [
    "#to extract the data from above tags now\n",
    "for i in product_desc_tags:\n",
    "    product=i.text\n",
    "    Desc.append(product)\n",
    "    \n",
    "Desc[0:100]"
   ]
  },
  {
   "cell_type": "code",
   "execution_count": 66,
   "id": "d9c95647",
   "metadata": {},
   "outputs": [
    {
     "data": {
      "text/plain": [
       "[<selenium.webdriver.remote.webelement.WebElement (session=\"164cb8c55fd0451d6dcd4c4b6b4035e1\", element=\"4a62ab5c-6d5f-40e0-a77c-65dd18c4678e\")>,\n",
       " <selenium.webdriver.remote.webelement.WebElement (session=\"164cb8c55fd0451d6dcd4c4b6b4035e1\", element=\"f369d4b1-c6ec-4379-8306-f799c8faea2b\")>,\n",
       " <selenium.webdriver.remote.webelement.WebElement (session=\"164cb8c55fd0451d6dcd4c4b6b4035e1\", element=\"a0a15324-6d7d-4d48-a603-107812c1310d\")>,\n",
       " <selenium.webdriver.remote.webelement.WebElement (session=\"164cb8c55fd0451d6dcd4c4b6b4035e1\", element=\"11ac725f-9faf-4a1a-aa98-68af51e6624f\")>,\n",
       " <selenium.webdriver.remote.webelement.WebElement (session=\"164cb8c55fd0451d6dcd4c4b6b4035e1\", element=\"958730ce-6cf6-44a7-8905-38d48ed03cd5\")>,\n",
       " <selenium.webdriver.remote.webelement.WebElement (session=\"164cb8c55fd0451d6dcd4c4b6b4035e1\", element=\"148f9edc-fb88-4bec-b298-00e8661ded13\")>,\n",
       " <selenium.webdriver.remote.webelement.WebElement (session=\"164cb8c55fd0451d6dcd4c4b6b4035e1\", element=\"546c0c90-22f7-446d-83a5-69de1f630c10\")>,\n",
       " <selenium.webdriver.remote.webelement.WebElement (session=\"164cb8c55fd0451d6dcd4c4b6b4035e1\", element=\"10f1c8bd-0a55-4171-a76b-ba46dc0e05e5\")>,\n",
       " <selenium.webdriver.remote.webelement.WebElement (session=\"164cb8c55fd0451d6dcd4c4b6b4035e1\", element=\"461e6cf8-b649-4bd5-add1-eb874535e774\")>,\n",
       " <selenium.webdriver.remote.webelement.WebElement (session=\"164cb8c55fd0451d6dcd4c4b6b4035e1\", element=\"6f50c506-4485-4868-af3c-c7c6a7acf442\")>,\n",
       " <selenium.webdriver.remote.webelement.WebElement (session=\"164cb8c55fd0451d6dcd4c4b6b4035e1\", element=\"db8d2ee4-ea75-43ad-9962-a8c3009c6ecc\")>,\n",
       " <selenium.webdriver.remote.webelement.WebElement (session=\"164cb8c55fd0451d6dcd4c4b6b4035e1\", element=\"89876fe0-5992-44d4-84d5-1920e3761d00\")>,\n",
       " <selenium.webdriver.remote.webelement.WebElement (session=\"164cb8c55fd0451d6dcd4c4b6b4035e1\", element=\"5d3f29cd-7067-45a2-97c1-52bc08720bbc\")>,\n",
       " <selenium.webdriver.remote.webelement.WebElement (session=\"164cb8c55fd0451d6dcd4c4b6b4035e1\", element=\"be1a1637-5b43-4f97-98af-3ede39715579\")>,\n",
       " <selenium.webdriver.remote.webelement.WebElement (session=\"164cb8c55fd0451d6dcd4c4b6b4035e1\", element=\"b8380ae1-eb96-4947-909a-ed953306b216\")>,\n",
       " <selenium.webdriver.remote.webelement.WebElement (session=\"164cb8c55fd0451d6dcd4c4b6b4035e1\", element=\"8488caad-9547-4362-908c-2e20520e4eec\")>,\n",
       " <selenium.webdriver.remote.webelement.WebElement (session=\"164cb8c55fd0451d6dcd4c4b6b4035e1\", element=\"7ef4b1e2-d81a-48e1-a1b3-f61dcabece43\")>,\n",
       " <selenium.webdriver.remote.webelement.WebElement (session=\"164cb8c55fd0451d6dcd4c4b6b4035e1\", element=\"cfc06525-7ecb-43a5-8797-302fefb7f717\")>,\n",
       " <selenium.webdriver.remote.webelement.WebElement (session=\"164cb8c55fd0451d6dcd4c4b6b4035e1\", element=\"ef970849-3e43-4ba2-ad2c-d78e9b85346a\")>,\n",
       " <selenium.webdriver.remote.webelement.WebElement (session=\"164cb8c55fd0451d6dcd4c4b6b4035e1\", element=\"a71c7997-af79-42dd-aa52-ced1682157ae\")>,\n",
       " <selenium.webdriver.remote.webelement.WebElement (session=\"164cb8c55fd0451d6dcd4c4b6b4035e1\", element=\"e60e2acd-c296-42a8-acc4-6eda8b1b0e5d\")>,\n",
       " <selenium.webdriver.remote.webelement.WebElement (session=\"164cb8c55fd0451d6dcd4c4b6b4035e1\", element=\"c61687dc-9c67-4089-996a-d0e508b60c24\")>,\n",
       " <selenium.webdriver.remote.webelement.WebElement (session=\"164cb8c55fd0451d6dcd4c4b6b4035e1\", element=\"f8eaaa71-9569-44c1-b279-3bb386e548e8\")>,\n",
       " <selenium.webdriver.remote.webelement.WebElement (session=\"164cb8c55fd0451d6dcd4c4b6b4035e1\", element=\"0b728774-ee2d-43d1-9496-d74a2e8426b0\")>,\n",
       " <selenium.webdriver.remote.webelement.WebElement (session=\"164cb8c55fd0451d6dcd4c4b6b4035e1\", element=\"abe4fa1c-c70d-4674-baf8-21378bd3de63\")>,\n",
       " <selenium.webdriver.remote.webelement.WebElement (session=\"164cb8c55fd0451d6dcd4c4b6b4035e1\", element=\"0f19112c-761f-40c8-8c98-877b90b922a8\")>,\n",
       " <selenium.webdriver.remote.webelement.WebElement (session=\"164cb8c55fd0451d6dcd4c4b6b4035e1\", element=\"f7375e44-746e-4063-ab51-08061278181c\")>,\n",
       " <selenium.webdriver.remote.webelement.WebElement (session=\"164cb8c55fd0451d6dcd4c4b6b4035e1\", element=\"8ceb21ab-1823-4a16-a532-94b01e6cc040\")>,\n",
       " <selenium.webdriver.remote.webelement.WebElement (session=\"164cb8c55fd0451d6dcd4c4b6b4035e1\", element=\"a86b0a9e-c266-409f-8363-cc426dbec237\")>,\n",
       " <selenium.webdriver.remote.webelement.WebElement (session=\"164cb8c55fd0451d6dcd4c4b6b4035e1\", element=\"a8244d45-cd34-4f96-bdc4-399b3316607d\")>,\n",
       " <selenium.webdriver.remote.webelement.WebElement (session=\"164cb8c55fd0451d6dcd4c4b6b4035e1\", element=\"180dbcf8-d100-45f8-a847-d61568bdb745\")>,\n",
       " <selenium.webdriver.remote.webelement.WebElement (session=\"164cb8c55fd0451d6dcd4c4b6b4035e1\", element=\"1040bff3-8a1b-4097-a95b-20be38ea3208\")>,\n",
       " <selenium.webdriver.remote.webelement.WebElement (session=\"164cb8c55fd0451d6dcd4c4b6b4035e1\", element=\"4989c210-21b2-4e18-bbb0-0444da45cab1\")>,\n",
       " <selenium.webdriver.remote.webelement.WebElement (session=\"164cb8c55fd0451d6dcd4c4b6b4035e1\", element=\"feddce48-326b-4773-a021-582107d37e78\")>,\n",
       " <selenium.webdriver.remote.webelement.WebElement (session=\"164cb8c55fd0451d6dcd4c4b6b4035e1\", element=\"23b94f67-a41e-410b-a74c-317115b7d7e3\")>,\n",
       " <selenium.webdriver.remote.webelement.WebElement (session=\"164cb8c55fd0451d6dcd4c4b6b4035e1\", element=\"833e8748-1592-4423-aad3-25e07c5d2462\")>,\n",
       " <selenium.webdriver.remote.webelement.WebElement (session=\"164cb8c55fd0451d6dcd4c4b6b4035e1\", element=\"e801b9a6-0e71-4aad-8578-7158dd1791cc\")>,\n",
       " <selenium.webdriver.remote.webelement.WebElement (session=\"164cb8c55fd0451d6dcd4c4b6b4035e1\", element=\"ef7ba068-33a5-4131-9785-181f39d67d8a\")>,\n",
       " <selenium.webdriver.remote.webelement.WebElement (session=\"164cb8c55fd0451d6dcd4c4b6b4035e1\", element=\"42e324cb-345c-4726-aea2-4f00cd56ebe4\")>,\n",
       " <selenium.webdriver.remote.webelement.WebElement (session=\"164cb8c55fd0451d6dcd4c4b6b4035e1\", element=\"5522b388-4db4-4bb3-b49d-5e27f5ed7ede\")>]"
      ]
     },
     "execution_count": 66,
     "metadata": {},
     "output_type": "execute_result"
    }
   ],
   "source": [
    "#to extract all the desired price tags\n",
    "price_tags=driver.find_elements_by_xpath(\"//div[@class='_30jeq3']\")\n",
    "price_tags[0:100]"
   ]
  },
  {
   "cell_type": "code",
   "execution_count": 67,
   "id": "cada3257",
   "metadata": {},
   "outputs": [
    {
     "data": {
      "text/plain": [
       "['₹664',\n",
       " '₹649',\n",
       " '₹295',\n",
       " '₹249',\n",
       " '₹639',\n",
       " '₹265',\n",
       " '₹719',\n",
       " '₹399',\n",
       " '₹299',\n",
       " '₹258',\n",
       " '₹283',\n",
       " '₹224',\n",
       " '₹195',\n",
       " '₹219',\n",
       " '₹250',\n",
       " '₹449',\n",
       " '₹249',\n",
       " '₹225',\n",
       " '₹474',\n",
       " '₹649',\n",
       " '₹249',\n",
       " '₹299',\n",
       " '₹639',\n",
       " '₹275',\n",
       " '₹315',\n",
       " '₹649',\n",
       " '₹217',\n",
       " '₹284',\n",
       " '₹719',\n",
       " '₹209',\n",
       " '₹269',\n",
       " '₹948',\n",
       " '₹719',\n",
       " '₹210',\n",
       " '₹399',\n",
       " '₹221',\n",
       " '₹245',\n",
       " '₹699',\n",
       " '₹1,099',\n",
       " '₹799']"
      ]
     },
     "execution_count": 67,
     "metadata": {},
     "output_type": "execute_result"
    }
   ],
   "source": [
    "#to extract the data from above extracted tags\n",
    "for i in price_tags:\n",
    "    prices=i.text\n",
    "    price.append(prices)\n",
    "    \n",
    "price[0:100]"
   ]
  },
  {
   "cell_type": "code",
   "execution_count": 68,
   "id": "ee9f74a4",
   "metadata": {},
   "outputs": [
    {
     "name": "stdout",
     "output_type": "stream",
     "text": [
      "40 40 40\n"
     ]
    }
   ],
   "source": [
    "print(len(Brand),len(Desc),len(price))  #checking the length for each list"
   ]
  },
  {
   "cell_type": "code",
   "execution_count": 69,
   "id": "569c150a",
   "metadata": {},
   "outputs": [],
   "source": [
    "#scraping tags from next page\n",
    "next_page=driver.find_element_by_xpath(\"/html/body/div[1]/div/div[3]/div[1]/div[2]/div[12]/div/div/nav/a[11]/span\")\n",
    "next_page.click()"
   ]
  },
  {
   "cell_type": "code",
   "execution_count": 70,
   "id": "bbd1aa3e",
   "metadata": {},
   "outputs": [
    {
     "data": {
      "text/plain": [
       "[<selenium.webdriver.remote.webelement.WebElement (session=\"164cb8c55fd0451d6dcd4c4b6b4035e1\", element=\"bc48a88a-fd36-4795-ad6e-9a2d2d748ff0\")>,\n",
       " <selenium.webdriver.remote.webelement.WebElement (session=\"164cb8c55fd0451d6dcd4c4b6b4035e1\", element=\"55d5c0e5-b0f3-4ad2-ad12-c4235954aee8\")>,\n",
       " <selenium.webdriver.remote.webelement.WebElement (session=\"164cb8c55fd0451d6dcd4c4b6b4035e1\", element=\"a7d1cfc6-e240-4f43-ba28-b2c618214837\")>,\n",
       " <selenium.webdriver.remote.webelement.WebElement (session=\"164cb8c55fd0451d6dcd4c4b6b4035e1\", element=\"73eafba3-7795-4191-90c6-8f281d082568\")>,\n",
       " <selenium.webdriver.remote.webelement.WebElement (session=\"164cb8c55fd0451d6dcd4c4b6b4035e1\", element=\"c8cb8209-8a2f-45f2-a12e-49e0d4c59bd0\")>,\n",
       " <selenium.webdriver.remote.webelement.WebElement (session=\"164cb8c55fd0451d6dcd4c4b6b4035e1\", element=\"81a84330-7bcc-49e5-bbe4-c0a5fb7f20ad\")>,\n",
       " <selenium.webdriver.remote.webelement.WebElement (session=\"164cb8c55fd0451d6dcd4c4b6b4035e1\", element=\"1481d0c8-8e35-40c6-aa44-bd04cfa4ffb0\")>,\n",
       " <selenium.webdriver.remote.webelement.WebElement (session=\"164cb8c55fd0451d6dcd4c4b6b4035e1\", element=\"2a2f331a-e407-4a7b-bbd1-b6d328bb51de\")>,\n",
       " <selenium.webdriver.remote.webelement.WebElement (session=\"164cb8c55fd0451d6dcd4c4b6b4035e1\", element=\"0819f4ec-d2c2-4114-a6cb-5f4c432d7af8\")>,\n",
       " <selenium.webdriver.remote.webelement.WebElement (session=\"164cb8c55fd0451d6dcd4c4b6b4035e1\", element=\"a6e9ec54-fc17-46fb-bc68-84aaf42868a7\")>,\n",
       " <selenium.webdriver.remote.webelement.WebElement (session=\"164cb8c55fd0451d6dcd4c4b6b4035e1\", element=\"6a59b6ad-001d-4ba1-b4c2-6eef54de072a\")>,\n",
       " <selenium.webdriver.remote.webelement.WebElement (session=\"164cb8c55fd0451d6dcd4c4b6b4035e1\", element=\"365199a1-9b30-45dc-98b5-38bc10151435\")>,\n",
       " <selenium.webdriver.remote.webelement.WebElement (session=\"164cb8c55fd0451d6dcd4c4b6b4035e1\", element=\"c1e600c2-0ace-4dc9-86be-01b1ae336ec3\")>,\n",
       " <selenium.webdriver.remote.webelement.WebElement (session=\"164cb8c55fd0451d6dcd4c4b6b4035e1\", element=\"13be573c-1322-41b9-83e6-cfbd015fd4fe\")>,\n",
       " <selenium.webdriver.remote.webelement.WebElement (session=\"164cb8c55fd0451d6dcd4c4b6b4035e1\", element=\"7cb7d99b-b594-46ce-830e-722490133ee2\")>,\n",
       " <selenium.webdriver.remote.webelement.WebElement (session=\"164cb8c55fd0451d6dcd4c4b6b4035e1\", element=\"3d1347f4-3e90-43b7-b588-755abd6bbcd5\")>,\n",
       " <selenium.webdriver.remote.webelement.WebElement (session=\"164cb8c55fd0451d6dcd4c4b6b4035e1\", element=\"54d832db-1141-49d8-baaf-395704d28e5e\")>,\n",
       " <selenium.webdriver.remote.webelement.WebElement (session=\"164cb8c55fd0451d6dcd4c4b6b4035e1\", element=\"25a545ad-e3f1-403f-8098-ffc425d49b63\")>,\n",
       " <selenium.webdriver.remote.webelement.WebElement (session=\"164cb8c55fd0451d6dcd4c4b6b4035e1\", element=\"7095707d-046d-4b59-b22a-07a24c2afa6b\")>,\n",
       " <selenium.webdriver.remote.webelement.WebElement (session=\"164cb8c55fd0451d6dcd4c4b6b4035e1\", element=\"def2b7fe-c4f0-4444-a561-fa1f193061ea\")>,\n",
       " <selenium.webdriver.remote.webelement.WebElement (session=\"164cb8c55fd0451d6dcd4c4b6b4035e1\", element=\"6ea34fd5-2685-49cd-8904-f4034b2789b5\")>,\n",
       " <selenium.webdriver.remote.webelement.WebElement (session=\"164cb8c55fd0451d6dcd4c4b6b4035e1\", element=\"7d8f7bd1-4103-4981-a404-bdefb97b68b0\")>,\n",
       " <selenium.webdriver.remote.webelement.WebElement (session=\"164cb8c55fd0451d6dcd4c4b6b4035e1\", element=\"1888f5e8-5f16-4d47-8452-3211abb48295\")>,\n",
       " <selenium.webdriver.remote.webelement.WebElement (session=\"164cb8c55fd0451d6dcd4c4b6b4035e1\", element=\"c4fc8800-3c21-4d36-86d9-fef8af540079\")>,\n",
       " <selenium.webdriver.remote.webelement.WebElement (session=\"164cb8c55fd0451d6dcd4c4b6b4035e1\", element=\"4cf8c3d4-f48f-40b1-aab4-9d97c6d1d454\")>,\n",
       " <selenium.webdriver.remote.webelement.WebElement (session=\"164cb8c55fd0451d6dcd4c4b6b4035e1\", element=\"0506c69f-8f31-4362-ae8a-c0d38ad93cd5\")>,\n",
       " <selenium.webdriver.remote.webelement.WebElement (session=\"164cb8c55fd0451d6dcd4c4b6b4035e1\", element=\"cdc8d3ce-1355-4bf8-a0ee-0e4b1615c58a\")>,\n",
       " <selenium.webdriver.remote.webelement.WebElement (session=\"164cb8c55fd0451d6dcd4c4b6b4035e1\", element=\"9420d72d-a792-4270-8c05-62413f76c23b\")>,\n",
       " <selenium.webdriver.remote.webelement.WebElement (session=\"164cb8c55fd0451d6dcd4c4b6b4035e1\", element=\"13a2c0bc-f61b-4e6e-846f-ea2a4d693472\")>,\n",
       " <selenium.webdriver.remote.webelement.WebElement (session=\"164cb8c55fd0451d6dcd4c4b6b4035e1\", element=\"9439b2d4-4666-4b12-baaa-f60d314a97a3\")>,\n",
       " <selenium.webdriver.remote.webelement.WebElement (session=\"164cb8c55fd0451d6dcd4c4b6b4035e1\", element=\"12410675-6b63-4c46-87f2-b37bb6df77ab\")>,\n",
       " <selenium.webdriver.remote.webelement.WebElement (session=\"164cb8c55fd0451d6dcd4c4b6b4035e1\", element=\"a1672c4c-d433-47af-90e4-4d1a0ea1abbb\")>,\n",
       " <selenium.webdriver.remote.webelement.WebElement (session=\"164cb8c55fd0451d6dcd4c4b6b4035e1\", element=\"d521d6a7-715e-4477-8170-3b1a9498c548\")>,\n",
       " <selenium.webdriver.remote.webelement.WebElement (session=\"164cb8c55fd0451d6dcd4c4b6b4035e1\", element=\"6cd2ad84-54c7-48da-95b3-2eb372c6d2a1\")>,\n",
       " <selenium.webdriver.remote.webelement.WebElement (session=\"164cb8c55fd0451d6dcd4c4b6b4035e1\", element=\"8160cc9e-63d4-4ee0-aca2-f2d309328d11\")>,\n",
       " <selenium.webdriver.remote.webelement.WebElement (session=\"164cb8c55fd0451d6dcd4c4b6b4035e1\", element=\"a1a19019-2427-4575-9a93-edf75e79b959\")>,\n",
       " <selenium.webdriver.remote.webelement.WebElement (session=\"164cb8c55fd0451d6dcd4c4b6b4035e1\", element=\"af6ff65d-a4f6-4a33-8ffd-69308d2f4673\")>,\n",
       " <selenium.webdriver.remote.webelement.WebElement (session=\"164cb8c55fd0451d6dcd4c4b6b4035e1\", element=\"baca4345-8d8e-4c6e-8fbc-ec0f411116f3\")>,\n",
       " <selenium.webdriver.remote.webelement.WebElement (session=\"164cb8c55fd0451d6dcd4c4b6b4035e1\", element=\"ae1f18c1-e226-4558-95ee-ac06c1a02340\")>,\n",
       " <selenium.webdriver.remote.webelement.WebElement (session=\"164cb8c55fd0451d6dcd4c4b6b4035e1\", element=\"b0a04394-67ef-453c-ab4d-dad1e4238278\")>]"
      ]
     },
     "execution_count": 70,
     "metadata": {},
     "output_type": "execute_result"
    }
   ],
   "source": [
    "#clicking on search button\n",
    "search_next_item=driver.find_elements_by_xpath(\"//div[@class='_2WkVRV']\")\n",
    "search_next_item[0:100]\n",
    "    "
   ]
  },
  {
   "cell_type": "code",
   "execution_count": 71,
   "id": "c1502251",
   "metadata": {},
   "outputs": [
    {
     "data": {
      "text/plain": [
       "['Singco India',\n",
       " 'VINCENT CHASE',\n",
       " 'Elligator',\n",
       " 'PIRASO',\n",
       " 'Fastrack',\n",
       " 'New Specs',\n",
       " 'Fastrack',\n",
       " 'ROZZETTA CRAFT',\n",
       " 'Lee Topper',\n",
       " 'hipe',\n",
       " 'SUNBEE',\n",
       " 'agera',\n",
       " 'SHAAH COLLECTIONS',\n",
       " 'Lee Topper',\n",
       " 'SRPM',\n",
       " 'ROZZETTA CRAFT',\n",
       " 'PIRASO',\n",
       " 'PIRASO',\n",
       " 'ROZZETTA CRAFT',\n",
       " 'VINCENT CHASE',\n",
       " 'PIRASO',\n",
       " 'New Specs',\n",
       " 'Fastrack',\n",
       " 'NuVew',\n",
       " 'PHENOMENAL',\n",
       " 'Roadster',\n",
       " 'DEIXELS',\n",
       " 'GANSTA',\n",
       " 'Fastrack',\n",
       " 'kingsunglasses',\n",
       " 'SUNBEE',\n",
       " 'Resist',\n",
       " 'Fastrack',\n",
       " 'hipe',\n",
       " 'PIRASO',\n",
       " 'GANSTA',\n",
       " 'Singco India',\n",
       " 'Fastrack',\n",
       " 'Fastrack',\n",
       " 'ROYAL SON',\n",
       " 'GANSTA',\n",
       " 'SUNBEE',\n",
       " 'elegante',\n",
       " 'Singco India',\n",
       " 'Fastrack',\n",
       " 'kingsunglasses',\n",
       " 'kingsunglasses',\n",
       " 'ROYAL SON',\n",
       " 'hipe',\n",
       " 'Elligator',\n",
       " 'ROZZETTA CRAFT',\n",
       " 'GANSTA',\n",
       " 'SRPM',\n",
       " 'kingsunglasses',\n",
       " 'HIPPON',\n",
       " 'ROZZETTA CRAFT',\n",
       " 'hipe',\n",
       " 'GANSTA',\n",
       " 'Lee Topper',\n",
       " 'VINCENT CHASE',\n",
       " 'VINCENT CHASE',\n",
       " 'PHENOMENAL',\n",
       " 'ROYAL SON',\n",
       " 'AISLIN',\n",
       " 'Fastrack',\n",
       " 'kingsunglasses',\n",
       " 'kingsunglasses',\n",
       " 'NuVew',\n",
       " 'AISLIN',\n",
       " 'New Specs',\n",
       " 'SRPM',\n",
       " 'VINCENT CHASE',\n",
       " 'kingsunglasses',\n",
       " 'Roadster',\n",
       " 'Fastrack',\n",
       " 'ROYAL SON',\n",
       " 'hipe',\n",
       " 'ROZZETTA CRAFT',\n",
       " 'Silver Kartz',\n",
       " 'ROYAL SON']"
      ]
     },
     "execution_count": 71,
     "metadata": {},
     "output_type": "execute_result"
    }
   ],
   "source": [
    "for i in search_next_item:\n",
    "    pagebrand=i.text\n",
    "    Brand.append(pagebrand)\n",
    "    \n",
    "Brand[0:100]"
   ]
  },
  {
   "cell_type": "code",
   "execution_count": 73,
   "id": "f1251ec8",
   "metadata": {},
   "outputs": [
    {
     "data": {
      "text/plain": [
       "[<selenium.webdriver.remote.webelement.WebElement (session=\"164cb8c55fd0451d6dcd4c4b6b4035e1\", element=\"a74bbc31-33e3-4d4a-992a-1b5edd5d0194\")>,\n",
       " <selenium.webdriver.remote.webelement.WebElement (session=\"164cb8c55fd0451d6dcd4c4b6b4035e1\", element=\"dc50076f-e7dc-471b-ae60-ab294a300745\")>,\n",
       " <selenium.webdriver.remote.webelement.WebElement (session=\"164cb8c55fd0451d6dcd4c4b6b4035e1\", element=\"ca1d1f32-e67e-4ff1-98be-07e92b747ed0\")>,\n",
       " <selenium.webdriver.remote.webelement.WebElement (session=\"164cb8c55fd0451d6dcd4c4b6b4035e1\", element=\"8abe017b-de10-4e88-9e30-e3abebb48920\")>,\n",
       " <selenium.webdriver.remote.webelement.WebElement (session=\"164cb8c55fd0451d6dcd4c4b6b4035e1\", element=\"e22cedec-ff51-4b28-941a-ea8d8911c869\")>,\n",
       " <selenium.webdriver.remote.webelement.WebElement (session=\"164cb8c55fd0451d6dcd4c4b6b4035e1\", element=\"544a8698-7485-4fc9-bece-5a68b6816d18\")>,\n",
       " <selenium.webdriver.remote.webelement.WebElement (session=\"164cb8c55fd0451d6dcd4c4b6b4035e1\", element=\"4aad77af-5c75-4b64-8b6f-cc29ec953450\")>,\n",
       " <selenium.webdriver.remote.webelement.WebElement (session=\"164cb8c55fd0451d6dcd4c4b6b4035e1\", element=\"bf0fd93e-2b10-40b1-9976-6ca82a139c7e\")>,\n",
       " <selenium.webdriver.remote.webelement.WebElement (session=\"164cb8c55fd0451d6dcd4c4b6b4035e1\", element=\"98e97afd-0341-48d3-b629-f7473aaa5b22\")>,\n",
       " <selenium.webdriver.remote.webelement.WebElement (session=\"164cb8c55fd0451d6dcd4c4b6b4035e1\", element=\"ece62a11-5a97-412b-ba98-a32884d9a001\")>,\n",
       " <selenium.webdriver.remote.webelement.WebElement (session=\"164cb8c55fd0451d6dcd4c4b6b4035e1\", element=\"f1e91c4d-e5a1-49ff-99db-a5ae79e121fe\")>,\n",
       " <selenium.webdriver.remote.webelement.WebElement (session=\"164cb8c55fd0451d6dcd4c4b6b4035e1\", element=\"0f2ca78a-fb6a-4bfb-8642-5b7592736722\")>,\n",
       " <selenium.webdriver.remote.webelement.WebElement (session=\"164cb8c55fd0451d6dcd4c4b6b4035e1\", element=\"379b2b6c-74bc-4fbb-a4f6-571df13cfa37\")>,\n",
       " <selenium.webdriver.remote.webelement.WebElement (session=\"164cb8c55fd0451d6dcd4c4b6b4035e1\", element=\"4dd819a5-fa3d-4108-a378-b2254fcab49f\")>,\n",
       " <selenium.webdriver.remote.webelement.WebElement (session=\"164cb8c55fd0451d6dcd4c4b6b4035e1\", element=\"8c4d43ac-b887-44d8-8a37-196d8dddc139\")>,\n",
       " <selenium.webdriver.remote.webelement.WebElement (session=\"164cb8c55fd0451d6dcd4c4b6b4035e1\", element=\"8af40212-6b42-498f-b4cf-ec69cbce7c7c\")>,\n",
       " <selenium.webdriver.remote.webelement.WebElement (session=\"164cb8c55fd0451d6dcd4c4b6b4035e1\", element=\"314ff97e-e230-4f56-977b-9a10cf4e7775\")>,\n",
       " <selenium.webdriver.remote.webelement.WebElement (session=\"164cb8c55fd0451d6dcd4c4b6b4035e1\", element=\"5365f57d-18a1-49e9-8cbe-80b2059362ae\")>,\n",
       " <selenium.webdriver.remote.webelement.WebElement (session=\"164cb8c55fd0451d6dcd4c4b6b4035e1\", element=\"57574b35-04fc-4cd2-90da-907310dec809\")>,\n",
       " <selenium.webdriver.remote.webelement.WebElement (session=\"164cb8c55fd0451d6dcd4c4b6b4035e1\", element=\"f1c4eaf0-f812-4057-b875-c8d0f37b2f29\")>,\n",
       " <selenium.webdriver.remote.webelement.WebElement (session=\"164cb8c55fd0451d6dcd4c4b6b4035e1\", element=\"a4f8c054-6130-4fde-9998-286bd48a7a69\")>,\n",
       " <selenium.webdriver.remote.webelement.WebElement (session=\"164cb8c55fd0451d6dcd4c4b6b4035e1\", element=\"808c3ec5-ac77-487d-a10f-78763578df35\")>,\n",
       " <selenium.webdriver.remote.webelement.WebElement (session=\"164cb8c55fd0451d6dcd4c4b6b4035e1\", element=\"b93af49c-595f-4129-9cd8-66f92db4bf78\")>,\n",
       " <selenium.webdriver.remote.webelement.WebElement (session=\"164cb8c55fd0451d6dcd4c4b6b4035e1\", element=\"92c9e04e-767a-45c5-96a3-02208c693ef1\")>,\n",
       " <selenium.webdriver.remote.webelement.WebElement (session=\"164cb8c55fd0451d6dcd4c4b6b4035e1\", element=\"caf649b5-e77c-40a9-86c4-1170ae540314\")>,\n",
       " <selenium.webdriver.remote.webelement.WebElement (session=\"164cb8c55fd0451d6dcd4c4b6b4035e1\", element=\"4fb2059c-b057-4a2a-8bce-d469c62212fc\")>,\n",
       " <selenium.webdriver.remote.webelement.WebElement (session=\"164cb8c55fd0451d6dcd4c4b6b4035e1\", element=\"82e01693-7360-41e5-90f1-89e07128aa9d\")>,\n",
       " <selenium.webdriver.remote.webelement.WebElement (session=\"164cb8c55fd0451d6dcd4c4b6b4035e1\", element=\"ee6de221-c888-4fed-a07a-28ab661f3d81\")>,\n",
       " <selenium.webdriver.remote.webelement.WebElement (session=\"164cb8c55fd0451d6dcd4c4b6b4035e1\", element=\"af9368aa-19bb-410a-b55b-6eaac41654d9\")>,\n",
       " <selenium.webdriver.remote.webelement.WebElement (session=\"164cb8c55fd0451d6dcd4c4b6b4035e1\", element=\"fbfc1b24-cf68-4e37-b3b7-63252fb390bf\")>,\n",
       " <selenium.webdriver.remote.webelement.WebElement (session=\"164cb8c55fd0451d6dcd4c4b6b4035e1\", element=\"5452a9ab-a255-4150-b823-7e9ac154c002\")>,\n",
       " <selenium.webdriver.remote.webelement.WebElement (session=\"164cb8c55fd0451d6dcd4c4b6b4035e1\", element=\"033e8782-3186-4cfd-9ea5-63968450f63c\")>,\n",
       " <selenium.webdriver.remote.webelement.WebElement (session=\"164cb8c55fd0451d6dcd4c4b6b4035e1\", element=\"9bf2ae4a-68a0-44e4-ba86-98275e814604\")>,\n",
       " <selenium.webdriver.remote.webelement.WebElement (session=\"164cb8c55fd0451d6dcd4c4b6b4035e1\", element=\"6fe651cc-5801-4978-b6b8-7fb94223730e\")>,\n",
       " <selenium.webdriver.remote.webelement.WebElement (session=\"164cb8c55fd0451d6dcd4c4b6b4035e1\", element=\"74de1999-46cd-42f7-90fc-df337e007f78\")>,\n",
       " <selenium.webdriver.remote.webelement.WebElement (session=\"164cb8c55fd0451d6dcd4c4b6b4035e1\", element=\"775fc489-0085-41be-9a95-b91753feaecc\")>,\n",
       " <selenium.webdriver.remote.webelement.WebElement (session=\"164cb8c55fd0451d6dcd4c4b6b4035e1\", element=\"151ee202-d0f3-49c8-8ff1-a704c0730a5e\")>,\n",
       " <selenium.webdriver.remote.webelement.WebElement (session=\"164cb8c55fd0451d6dcd4c4b6b4035e1\", element=\"2f7260b2-e26c-43ac-bf8a-1d0c99f22bb4\")>]"
      ]
     },
     "execution_count": 73,
     "metadata": {},
     "output_type": "execute_result"
    }
   ],
   "source": [
    "search_desc_tags=driver.find_elements_by_xpath(\"//a[@class='IRpwTa']\")\n",
    "search_desc_tags[0:100]"
   ]
  },
  {
   "cell_type": "code",
   "execution_count": 74,
   "id": "5cecf4d9",
   "metadata": {},
   "outputs": [
    {
     "data": {
      "text/plain": [
       "['Gradient, Toughened Glass Lens, UV Protection Retro Squ...',\n",
       " 'UV Protection Wayfarer Sunglasses (59)',\n",
       " 'UV Protection Round Sunglasses (54)',\n",
       " 'UV Protection Aviator Sunglasses (54)',\n",
       " 'UV Protection Rectangular Sunglasses (Free Size)',\n",
       " 'UV Protection Rectangular Sunglasses (Free Size)',\n",
       " 'UV Protection Wayfarer Sunglasses (Free Size)',\n",
       " 'UV Protection Spectacle Sunglasses (Free Size)',\n",
       " 'Riding Glasses Wrap-around Sunglasses (Free Size)',\n",
       " 'UV Protection Sports Sunglasses (Free Size)',\n",
       " 'UV Protection, Polarized Wayfarer Sunglasses (Free Size...',\n",
       " 'Gradient Aviator Sunglasses (55)',\n",
       " 'UV Protection, Polarized, Mirrored Rectangular Sunglass...',\n",
       " 'UV Protection Rectangular Sunglasses (Free Size)',\n",
       " 'UV Protection Wayfarer Sunglasses (50)',\n",
       " 'UV Protection, Gradient Rectangular Sunglasses (Free Si...',\n",
       " 'UV Protection Aviator Sunglasses (54)',\n",
       " 'UV Protection Wayfarer Sunglasses (32)',\n",
       " 'Polarized, Riding Glasses Sports, Wrap-around Sunglasse...',\n",
       " 'UV Protection Cat-eye Sunglasses (54)',\n",
       " 'UV Protection Aviator Sunglasses (54)',\n",
       " 'Mirrored, UV Protection, Riding Glasses, Others Round S...',\n",
       " 'Gradient, UV Protection Wayfarer Sunglasses (Free Size)',\n",
       " 'UV Protection Retro Square, Wayfarer Sunglasses (58)',\n",
       " 'UV Protection Retro Square Sunglasses (53)',\n",
       " 'UV Protection Oval Sunglasses (57)',\n",
       " 'UV Protection Aviator, Wayfarer Sunglasses (Free Size)',\n",
       " 'UV Protection Aviator Sunglasses (57)',\n",
       " 'UV Protection Wayfarer Sunglasses (Free Size)',\n",
       " 'UV Protection, Riding Glasses, Mirrored Wayfarer Sungla...',\n",
       " 'UV Protection, Polarized, Mirrored Retro Square Sunglas...',\n",
       " 'UV Protection, Riding Glasses, Toughened Glass Lens, Gr...',\n",
       " 'UV Protection Wayfarer Sunglasses (55)',\n",
       " 'Mirrored, UV Protection, Gradient Round Sunglasses (55)',\n",
       " 'UV Protection Over-sized Sunglasses (65)',\n",
       " 'Night Vision, Riding Glasses Wayfarer Sunglasses (53)',\n",
       " 'Riding Glasses, UV Protection, Others Aviator Sunglasse...',\n",
       " 'UV Protection Wayfarer Sunglasses (Free Size)',\n",
       " 'UV Protection Aviator Sunglasses (58)',\n",
       " 'Polarized, UV Protection Wrap-around Sunglasses (62)',\n",
       " 'UV Protection, Riding Glasses Wayfarer Sunglasses (53)',\n",
       " 'UV Protection, Polarized, Mirrored Round Sunglasses (Fr...',\n",
       " 'Polarized, Riding Glasses, Night Vision Sports, Wrap-ar...',\n",
       " 'UV Protection Aviator Sunglasses (45)',\n",
       " 'UV Protection Wayfarer Sunglasses (Free Size)',\n",
       " 'UV Protection Rectangular Sunglasses (55)',\n",
       " 'Mirrored, UV Protection Wayfarer Sunglasses (Free Size)',\n",
       " 'Mirrored Wayfarer Sunglasses (55)',\n",
       " 'UV Protection Round Sunglasses (53)',\n",
       " 'UV Protection Retro Square Sunglasses (Free Size)',\n",
       " 'UV Protection, Night Vision, Riding Glasses Aviator Sun...',\n",
       " 'UV Protection Wayfarer Sunglasses (53)',\n",
       " 'UV Protection Round Sunglasses (Free Size)',\n",
       " 'UV Protection Wayfarer Sunglasses (55)',\n",
       " 'UV Protection Aviator Sunglasses (62)',\n",
       " 'UV Protection, Gradient, Mirrored, Riding Glasses Aviat...',\n",
       " 'UV Protection Aviator Sunglasses (57)',\n",
       " 'Riding Glasses, Night Vision Wrap-around Sunglasses (Fr...',\n",
       " 'UV Protection Round Sunglasses (47)',\n",
       " 'by Lenskart Polarized, UV Protection Wayfarer Sunglasse...',\n",
       " 'UV Protection Retro Square Sunglasses (Free Size)',\n",
       " 'UV Protection Rectangular, Retro Square Sunglasses (58)',\n",
       " 'UV Protection, Gradient Oval Sunglasses (58)',\n",
       " 'UV Protection Shield Sunglasses (Free Size)',\n",
       " 'UV Protection Round Sunglasses (54)',\n",
       " 'Mirrored, UV Protection Wayfarer Sunglasses (Free Size)',\n",
       " 'UV Protection, Mirrored, Gradient Cat-eye Sunglasses (6...',\n",
       " 'UV Protection, Gradient Butterfly, Retro Square Sunglas...',\n",
       " 'UV Protection Round Sunglasses (Free Size)',\n",
       " 'Night Vision, UV Protection Round Sunglasses (54)',\n",
       " 'UV Protection Wayfarer Sunglasses (62)',\n",
       " 'Mirrored, UV Protection Aviator Sunglasses (56)',\n",
       " 'UV Protection Aviator Sunglasses (60)',\n",
       " 'UV Protection Aviator Sunglasses (57)',\n",
       " 'Polarized, UV Protection Wrap-around Sunglasses (62)',\n",
       " 'UV Protection, Night Vision, Riding Glasses, Gradient, ...',\n",
       " 'UV Protection, Gradient Retro Square Sunglasses (Free S...',\n",
       " 'UV Protection Wayfarer Sunglasses (Free Size)']"
      ]
     },
     "execution_count": 74,
     "metadata": {},
     "output_type": "execute_result"
    }
   ],
   "source": [
    "for i in search_desc_tags:\n",
    "    descsp=i.text\n",
    "    Desc.append(descsp)\n",
    "    \n",
    "Desc[0:100]"
   ]
  },
  {
   "cell_type": "code",
   "execution_count": 75,
   "id": "14a35f5b",
   "metadata": {},
   "outputs": [
    {
     "data": {
      "text/plain": [
       "[<selenium.webdriver.remote.webelement.WebElement (session=\"164cb8c55fd0451d6dcd4c4b6b4035e1\", element=\"67af2b86-31a7-4adc-ba90-4feafe5089a7\")>,\n",
       " <selenium.webdriver.remote.webelement.WebElement (session=\"164cb8c55fd0451d6dcd4c4b6b4035e1\", element=\"76bbbbab-269d-4f02-b3ec-0ffcf0a45bdd\")>,\n",
       " <selenium.webdriver.remote.webelement.WebElement (session=\"164cb8c55fd0451d6dcd4c4b6b4035e1\", element=\"ed3c1fa4-0784-42bf-80c5-e174f8b5e522\")>,\n",
       " <selenium.webdriver.remote.webelement.WebElement (session=\"164cb8c55fd0451d6dcd4c4b6b4035e1\", element=\"989384fa-b45d-4f9d-bec0-bee74a867aca\")>,\n",
       " <selenium.webdriver.remote.webelement.WebElement (session=\"164cb8c55fd0451d6dcd4c4b6b4035e1\", element=\"c865842c-5e53-464f-9d55-9751888b5fb2\")>,\n",
       " <selenium.webdriver.remote.webelement.WebElement (session=\"164cb8c55fd0451d6dcd4c4b6b4035e1\", element=\"8bef4b9a-1d05-45d6-a91c-e9b5bf9a0c9b\")>,\n",
       " <selenium.webdriver.remote.webelement.WebElement (session=\"164cb8c55fd0451d6dcd4c4b6b4035e1\", element=\"5f67e2c1-30bc-4e6e-a1c8-8e903d38c12e\")>,\n",
       " <selenium.webdriver.remote.webelement.WebElement (session=\"164cb8c55fd0451d6dcd4c4b6b4035e1\", element=\"e12031c0-32f4-4e2b-bdcf-46dc712473ed\")>,\n",
       " <selenium.webdriver.remote.webelement.WebElement (session=\"164cb8c55fd0451d6dcd4c4b6b4035e1\", element=\"04e0d2a4-4752-4607-b45b-45865453eafc\")>,\n",
       " <selenium.webdriver.remote.webelement.WebElement (session=\"164cb8c55fd0451d6dcd4c4b6b4035e1\", element=\"436a86ea-7399-45cf-8a5d-500b35208b18\")>,\n",
       " <selenium.webdriver.remote.webelement.WebElement (session=\"164cb8c55fd0451d6dcd4c4b6b4035e1\", element=\"0173a42f-a5e1-4c21-81d6-b702eb0869c7\")>,\n",
       " <selenium.webdriver.remote.webelement.WebElement (session=\"164cb8c55fd0451d6dcd4c4b6b4035e1\", element=\"d9b69c7a-58e5-49aa-8f54-ffcd24e1f9e9\")>,\n",
       " <selenium.webdriver.remote.webelement.WebElement (session=\"164cb8c55fd0451d6dcd4c4b6b4035e1\", element=\"9d8be5b3-1f57-4ffe-bf05-e1b7ad3854ba\")>,\n",
       " <selenium.webdriver.remote.webelement.WebElement (session=\"164cb8c55fd0451d6dcd4c4b6b4035e1\", element=\"9264fa1e-e61d-49e1-bf59-e43daf8de4b4\")>,\n",
       " <selenium.webdriver.remote.webelement.WebElement (session=\"164cb8c55fd0451d6dcd4c4b6b4035e1\", element=\"bb2e8698-8ca5-4e5d-a1ef-0fd333460977\")>,\n",
       " <selenium.webdriver.remote.webelement.WebElement (session=\"164cb8c55fd0451d6dcd4c4b6b4035e1\", element=\"40c3119a-de2a-4a4d-87a9-10bc998426ca\")>,\n",
       " <selenium.webdriver.remote.webelement.WebElement (session=\"164cb8c55fd0451d6dcd4c4b6b4035e1\", element=\"53617fb4-c2fb-4721-b6ef-1b26a2e63de4\")>,\n",
       " <selenium.webdriver.remote.webelement.WebElement (session=\"164cb8c55fd0451d6dcd4c4b6b4035e1\", element=\"6d9aa317-1b84-4c10-a15b-779dad5e2485\")>,\n",
       " <selenium.webdriver.remote.webelement.WebElement (session=\"164cb8c55fd0451d6dcd4c4b6b4035e1\", element=\"b4f32740-e9dd-4f44-8ffc-48d9a07ee833\")>,\n",
       " <selenium.webdriver.remote.webelement.WebElement (session=\"164cb8c55fd0451d6dcd4c4b6b4035e1\", element=\"347caa7b-f5f9-4a80-9d42-6f06b8b04dec\")>,\n",
       " <selenium.webdriver.remote.webelement.WebElement (session=\"164cb8c55fd0451d6dcd4c4b6b4035e1\", element=\"25b935f6-bd31-4dd2-8151-e0c9e8a82de5\")>,\n",
       " <selenium.webdriver.remote.webelement.WebElement (session=\"164cb8c55fd0451d6dcd4c4b6b4035e1\", element=\"a72b9905-61fb-43e3-9276-a94ced9cf9f5\")>,\n",
       " <selenium.webdriver.remote.webelement.WebElement (session=\"164cb8c55fd0451d6dcd4c4b6b4035e1\", element=\"db7a7205-342b-4aed-951d-5faa09e1a77a\")>,\n",
       " <selenium.webdriver.remote.webelement.WebElement (session=\"164cb8c55fd0451d6dcd4c4b6b4035e1\", element=\"94b2926c-d1ed-4765-a7fe-16cecf173b4d\")>,\n",
       " <selenium.webdriver.remote.webelement.WebElement (session=\"164cb8c55fd0451d6dcd4c4b6b4035e1\", element=\"957c5add-0730-47cf-8c93-4fd7937f6d58\")>,\n",
       " <selenium.webdriver.remote.webelement.WebElement (session=\"164cb8c55fd0451d6dcd4c4b6b4035e1\", element=\"9fd05e5b-2f89-4ae5-833b-07aec3972566\")>,\n",
       " <selenium.webdriver.remote.webelement.WebElement (session=\"164cb8c55fd0451d6dcd4c4b6b4035e1\", element=\"873da128-22c1-498f-85ef-1a3cba54b08a\")>,\n",
       " <selenium.webdriver.remote.webelement.WebElement (session=\"164cb8c55fd0451d6dcd4c4b6b4035e1\", element=\"047a5991-21a6-4abe-9b94-9f306dadfca3\")>,\n",
       " <selenium.webdriver.remote.webelement.WebElement (session=\"164cb8c55fd0451d6dcd4c4b6b4035e1\", element=\"577f6862-0729-4a0e-83cf-d9f9bd8f4b9f\")>,\n",
       " <selenium.webdriver.remote.webelement.WebElement (session=\"164cb8c55fd0451d6dcd4c4b6b4035e1\", element=\"1bf12e6c-4286-4346-b24a-bfc316a59307\")>,\n",
       " <selenium.webdriver.remote.webelement.WebElement (session=\"164cb8c55fd0451d6dcd4c4b6b4035e1\", element=\"a7fdd710-d721-4ad3-8ea9-f1d4427f777d\")>,\n",
       " <selenium.webdriver.remote.webelement.WebElement (session=\"164cb8c55fd0451d6dcd4c4b6b4035e1\", element=\"0f8657ad-3d16-4473-b646-e5ac09fcd699\")>,\n",
       " <selenium.webdriver.remote.webelement.WebElement (session=\"164cb8c55fd0451d6dcd4c4b6b4035e1\", element=\"c9d41a78-a871-4c21-81d6-cb6c83d325b7\")>,\n",
       " <selenium.webdriver.remote.webelement.WebElement (session=\"164cb8c55fd0451d6dcd4c4b6b4035e1\", element=\"49b5963b-3d52-454b-8fbc-8a1d1a0140ff\")>,\n",
       " <selenium.webdriver.remote.webelement.WebElement (session=\"164cb8c55fd0451d6dcd4c4b6b4035e1\", element=\"a63415cb-0db8-47cc-b504-b3a2e6ef5b8f\")>,\n",
       " <selenium.webdriver.remote.webelement.WebElement (session=\"164cb8c55fd0451d6dcd4c4b6b4035e1\", element=\"e89c46c2-3c4c-4a07-a6b1-96481f2069e6\")>,\n",
       " <selenium.webdriver.remote.webelement.WebElement (session=\"164cb8c55fd0451d6dcd4c4b6b4035e1\", element=\"99ebf45d-9ccc-49ef-b0a7-676853500ef6\")>,\n",
       " <selenium.webdriver.remote.webelement.WebElement (session=\"164cb8c55fd0451d6dcd4c4b6b4035e1\", element=\"b648f178-37d1-43a2-9f4f-647df5f86623\")>,\n",
       " <selenium.webdriver.remote.webelement.WebElement (session=\"164cb8c55fd0451d6dcd4c4b6b4035e1\", element=\"5aaf3c45-3590-444d-8504-643ab8751245\")>,\n",
       " <selenium.webdriver.remote.webelement.WebElement (session=\"164cb8c55fd0451d6dcd4c4b6b4035e1\", element=\"dcd6ba33-571e-4ee1-904e-c662de7cafb1\")>]"
      ]
     },
     "execution_count": 75,
     "metadata": {},
     "output_type": "execute_result"
    }
   ],
   "source": [
    "search_price_ntags=driver.find_elements_by_xpath(\"//div[@class='_30jeq3']\")\n",
    "search_price_ntags[0:100]"
   ]
  },
  {
   "cell_type": "code",
   "execution_count": 76,
   "id": "fdd74f5c",
   "metadata": {},
   "outputs": [
    {
     "data": {
      "text/plain": [
       "['₹664',\n",
       " '₹649',\n",
       " '₹295',\n",
       " '₹249',\n",
       " '₹639',\n",
       " '₹265',\n",
       " '₹719',\n",
       " '₹399',\n",
       " '₹299',\n",
       " '₹258',\n",
       " '₹283',\n",
       " '₹224',\n",
       " '₹195',\n",
       " '₹219',\n",
       " '₹250',\n",
       " '₹449',\n",
       " '₹249',\n",
       " '₹225',\n",
       " '₹474',\n",
       " '₹649',\n",
       " '₹249',\n",
       " '₹299',\n",
       " '₹639',\n",
       " '₹275',\n",
       " '₹315',\n",
       " '₹649',\n",
       " '₹217',\n",
       " '₹284',\n",
       " '₹719',\n",
       " '₹209',\n",
       " '₹269',\n",
       " '₹948',\n",
       " '₹719',\n",
       " '₹210',\n",
       " '₹399',\n",
       " '₹221',\n",
       " '₹245',\n",
       " '₹699',\n",
       " '₹1,099',\n",
       " '₹799',\n",
       " '₹221',\n",
       " '₹324',\n",
       " '₹499',\n",
       " '₹329',\n",
       " '₹639',\n",
       " '₹189',\n",
       " '₹269',\n",
       " '₹699',\n",
       " '₹229',\n",
       " '₹229',\n",
       " '₹499',\n",
       " '₹295',\n",
       " '₹246',\n",
       " '₹329',\n",
       " '₹171',\n",
       " '₹616',\n",
       " '₹233',\n",
       " '₹284',\n",
       " '₹276',\n",
       " '₹649',\n",
       " '₹799',\n",
       " '₹379',\n",
       " '₹499',\n",
       " '₹498',\n",
       " '₹809',\n",
       " '₹214',\n",
       " '₹269',\n",
       " '₹345',\n",
       " '₹498',\n",
       " '₹264',\n",
       " '₹259',\n",
       " '₹649',\n",
       " '₹245',\n",
       " '₹709',\n",
       " '₹639',\n",
       " '₹799',\n",
       " '₹179',\n",
       " '₹349',\n",
       " '₹320',\n",
       " '₹699']"
      ]
     },
     "execution_count": 76,
     "metadata": {},
     "output_type": "execute_result"
    }
   ],
   "source": [
    "for i in search_price_ntags:\n",
    "    nprice=i.text\n",
    "    price.append(nprice)\n",
    "    \n",
    "price[0:100]"
   ]
  },
  {
   "cell_type": "code",
   "execution_count": 79,
   "id": "38831967",
   "metadata": {},
   "outputs": [],
   "source": [
    "#to go to next page for rest 20 data\n",
    "search_next_page=driver.find_element_by_xpath(\"/html/body/div/div/div[3]/div[1]/div[2]/div[12]/div/div/nav/a[4]\")\n",
    "search_next_page.click()"
   ]
  },
  {
   "cell_type": "code",
   "execution_count": 81,
   "id": "5d54ac2f",
   "metadata": {},
   "outputs": [
    {
     "data": {
      "text/plain": [
       "[<selenium.webdriver.remote.webelement.WebElement (session=\"164cb8c55fd0451d6dcd4c4b6b4035e1\", element=\"073246fb-f7e9-4ccd-8a8c-a7b93707bb44\")>,\n",
       " <selenium.webdriver.remote.webelement.WebElement (session=\"164cb8c55fd0451d6dcd4c4b6b4035e1\", element=\"3f711c19-4cb6-44d9-887c-0ae6d7783852\")>,\n",
       " <selenium.webdriver.remote.webelement.WebElement (session=\"164cb8c55fd0451d6dcd4c4b6b4035e1\", element=\"34354141-ead5-47ba-a13d-c6c270fc2db0\")>,\n",
       " <selenium.webdriver.remote.webelement.WebElement (session=\"164cb8c55fd0451d6dcd4c4b6b4035e1\", element=\"caba5fdb-6574-480c-a02f-3b7ae72a0237\")>,\n",
       " <selenium.webdriver.remote.webelement.WebElement (session=\"164cb8c55fd0451d6dcd4c4b6b4035e1\", element=\"684bd0eb-49a8-4034-9e24-32ba4f9ac0d8\")>,\n",
       " <selenium.webdriver.remote.webelement.WebElement (session=\"164cb8c55fd0451d6dcd4c4b6b4035e1\", element=\"699cccfc-7e34-459e-bad4-8f5a4fd9dd29\")>,\n",
       " <selenium.webdriver.remote.webelement.WebElement (session=\"164cb8c55fd0451d6dcd4c4b6b4035e1\", element=\"437b5dbf-bdb2-4478-8e51-e047f621a91d\")>,\n",
       " <selenium.webdriver.remote.webelement.WebElement (session=\"164cb8c55fd0451d6dcd4c4b6b4035e1\", element=\"0ad84a6b-b02b-44cc-bf29-57f7878dc16b\")>,\n",
       " <selenium.webdriver.remote.webelement.WebElement (session=\"164cb8c55fd0451d6dcd4c4b6b4035e1\", element=\"a46c0431-d01d-46d3-a08a-1e505a4bfb1e\")>,\n",
       " <selenium.webdriver.remote.webelement.WebElement (session=\"164cb8c55fd0451d6dcd4c4b6b4035e1\", element=\"dd1d81ea-680a-451b-b105-d96259957726\")>,\n",
       " <selenium.webdriver.remote.webelement.WebElement (session=\"164cb8c55fd0451d6dcd4c4b6b4035e1\", element=\"06e35b89-d9ab-452f-9ceb-ac68714a8037\")>,\n",
       " <selenium.webdriver.remote.webelement.WebElement (session=\"164cb8c55fd0451d6dcd4c4b6b4035e1\", element=\"4ce3413b-f294-411e-b3fd-8c399b0351be\")>,\n",
       " <selenium.webdriver.remote.webelement.WebElement (session=\"164cb8c55fd0451d6dcd4c4b6b4035e1\", element=\"1d3c64f2-9509-4b58-b43d-e034aa72ba6d\")>,\n",
       " <selenium.webdriver.remote.webelement.WebElement (session=\"164cb8c55fd0451d6dcd4c4b6b4035e1\", element=\"481b169c-5288-459c-9321-1b654d24b60d\")>,\n",
       " <selenium.webdriver.remote.webelement.WebElement (session=\"164cb8c55fd0451d6dcd4c4b6b4035e1\", element=\"2e390304-6f4c-4c0d-8e90-e2a507f4105f\")>,\n",
       " <selenium.webdriver.remote.webelement.WebElement (session=\"164cb8c55fd0451d6dcd4c4b6b4035e1\", element=\"42208d46-2697-4ef1-b00f-40626fb5a037\")>,\n",
       " <selenium.webdriver.remote.webelement.WebElement (session=\"164cb8c55fd0451d6dcd4c4b6b4035e1\", element=\"c59d820a-4bb4-47d1-b622-e12accaa98f2\")>,\n",
       " <selenium.webdriver.remote.webelement.WebElement (session=\"164cb8c55fd0451d6dcd4c4b6b4035e1\", element=\"5deb43c9-a98c-4651-8c7b-b1b8e086a107\")>,\n",
       " <selenium.webdriver.remote.webelement.WebElement (session=\"164cb8c55fd0451d6dcd4c4b6b4035e1\", element=\"33a65cef-65d1-480b-b765-36997b005da5\")>,\n",
       " <selenium.webdriver.remote.webelement.WebElement (session=\"164cb8c55fd0451d6dcd4c4b6b4035e1\", element=\"063ceac8-060c-4660-9988-b0d48920a22f\")>]"
      ]
     },
     "execution_count": 81,
     "metadata": {},
     "output_type": "execute_result"
    }
   ],
   "source": [
    "search_more_names=driver.find_elements_by_xpath(\"//div[@class='_2WkVRV']\")\n",
    "search_more_names[0:20]"
   ]
  },
  {
   "cell_type": "code",
   "execution_count": 82,
   "id": "f030ca0f",
   "metadata": {},
   "outputs": [
    {
     "data": {
      "text/plain": [
       "['Singco India',\n",
       " 'VINCENT CHASE',\n",
       " 'Elligator',\n",
       " 'PIRASO',\n",
       " 'Fastrack',\n",
       " 'New Specs',\n",
       " 'Fastrack',\n",
       " 'ROZZETTA CRAFT',\n",
       " 'Lee Topper',\n",
       " 'hipe',\n",
       " 'SUNBEE',\n",
       " 'agera',\n",
       " 'SHAAH COLLECTIONS',\n",
       " 'Lee Topper',\n",
       " 'SRPM',\n",
       " 'ROZZETTA CRAFT',\n",
       " 'PIRASO',\n",
       " 'PIRASO',\n",
       " 'ROZZETTA CRAFT',\n",
       " 'VINCENT CHASE']"
      ]
     },
     "execution_count": 82,
     "metadata": {},
     "output_type": "execute_result"
    }
   ],
   "source": [
    "for i in search_more_names:\n",
    "    more_n=i.text\n",
    "    Brand.append(more_n)\n",
    "    \n",
    "Brand[0:20]"
   ]
  },
  {
   "cell_type": "code",
   "execution_count": 83,
   "id": "29ebb529",
   "metadata": {},
   "outputs": [
    {
     "data": {
      "text/plain": [
       "[<selenium.webdriver.remote.webelement.WebElement (session=\"164cb8c55fd0451d6dcd4c4b6b4035e1\", element=\"6d57b994-6530-4daf-8338-519630400aed\")>,\n",
       " <selenium.webdriver.remote.webelement.WebElement (session=\"164cb8c55fd0451d6dcd4c4b6b4035e1\", element=\"dd944076-9649-48f0-8137-101d65d6f9e4\")>,\n",
       " <selenium.webdriver.remote.webelement.WebElement (session=\"164cb8c55fd0451d6dcd4c4b6b4035e1\", element=\"1bd966cc-53fa-4367-b557-48c3e9e20921\")>,\n",
       " <selenium.webdriver.remote.webelement.WebElement (session=\"164cb8c55fd0451d6dcd4c4b6b4035e1\", element=\"cf1966cf-56cb-4f21-9a87-deef0da403a4\")>,\n",
       " <selenium.webdriver.remote.webelement.WebElement (session=\"164cb8c55fd0451d6dcd4c4b6b4035e1\", element=\"f68ecc52-5c8d-4d51-b551-1e96143673fe\")>,\n",
       " <selenium.webdriver.remote.webelement.WebElement (session=\"164cb8c55fd0451d6dcd4c4b6b4035e1\", element=\"4c066aec-3bb5-410a-aaf6-caba58deacb1\")>,\n",
       " <selenium.webdriver.remote.webelement.WebElement (session=\"164cb8c55fd0451d6dcd4c4b6b4035e1\", element=\"d87e771a-0d95-4a15-9013-27fe12b95f9b\")>,\n",
       " <selenium.webdriver.remote.webelement.WebElement (session=\"164cb8c55fd0451d6dcd4c4b6b4035e1\", element=\"835ec24e-9c4c-474f-9c89-81bba7f17275\")>,\n",
       " <selenium.webdriver.remote.webelement.WebElement (session=\"164cb8c55fd0451d6dcd4c4b6b4035e1\", element=\"f5f3521e-f68e-4430-89c6-7f9c0f74d580\")>,\n",
       " <selenium.webdriver.remote.webelement.WebElement (session=\"164cb8c55fd0451d6dcd4c4b6b4035e1\", element=\"d972754c-5c0d-49ac-8e16-71983d5eaf3f\")>,\n",
       " <selenium.webdriver.remote.webelement.WebElement (session=\"164cb8c55fd0451d6dcd4c4b6b4035e1\", element=\"90e683c1-ed22-45e8-9bdf-d57bb0dcdc71\")>,\n",
       " <selenium.webdriver.remote.webelement.WebElement (session=\"164cb8c55fd0451d6dcd4c4b6b4035e1\", element=\"13099a96-a321-421d-99c0-2d005d01cd72\")>,\n",
       " <selenium.webdriver.remote.webelement.WebElement (session=\"164cb8c55fd0451d6dcd4c4b6b4035e1\", element=\"91897c36-010e-4f9b-a51f-f299c57cb723\")>,\n",
       " <selenium.webdriver.remote.webelement.WebElement (session=\"164cb8c55fd0451d6dcd4c4b6b4035e1\", element=\"4dc44809-143e-42ee-bc8e-366b75e3409b\")>,\n",
       " <selenium.webdriver.remote.webelement.WebElement (session=\"164cb8c55fd0451d6dcd4c4b6b4035e1\", element=\"fe0dfa24-2bac-4eeb-b596-bdde3d1b5dc5\")>,\n",
       " <selenium.webdriver.remote.webelement.WebElement (session=\"164cb8c55fd0451d6dcd4c4b6b4035e1\", element=\"b7fae909-441d-43ca-9e00-2e76481e4ebf\")>,\n",
       " <selenium.webdriver.remote.webelement.WebElement (session=\"164cb8c55fd0451d6dcd4c4b6b4035e1\", element=\"20269bca-8fed-42e0-b866-7b503b0982b4\")>,\n",
       " <selenium.webdriver.remote.webelement.WebElement (session=\"164cb8c55fd0451d6dcd4c4b6b4035e1\", element=\"a05de92b-7920-43e7-9fb2-c2f589c675fe\")>,\n",
       " <selenium.webdriver.remote.webelement.WebElement (session=\"164cb8c55fd0451d6dcd4c4b6b4035e1\", element=\"19f6b931-822c-46b9-809e-ea06b6fdaf4e\")>,\n",
       " <selenium.webdriver.remote.webelement.WebElement (session=\"164cb8c55fd0451d6dcd4c4b6b4035e1\", element=\"4b5b78bf-65e1-4985-b70c-b8a22ed732c1\")>]"
      ]
     },
     "execution_count": 83,
     "metadata": {},
     "output_type": "execute_result"
    }
   ],
   "source": [
    "search_more_desc=driver.find_elements_by_xpath(\"//a[@class='IRpwTa']\")\n",
    "search_more_desc[0:20]"
   ]
  },
  {
   "cell_type": "code",
   "execution_count": 84,
   "id": "cc2b2bf1",
   "metadata": {},
   "outputs": [
    {
     "data": {
      "text/plain": [
       "['Gradient, Toughened Glass Lens, UV Protection Retro Squ...',\n",
       " 'UV Protection Wayfarer Sunglasses (59)',\n",
       " 'UV Protection Round Sunglasses (54)',\n",
       " 'UV Protection Aviator Sunglasses (54)',\n",
       " 'UV Protection Rectangular Sunglasses (Free Size)',\n",
       " 'UV Protection Rectangular Sunglasses (Free Size)',\n",
       " 'UV Protection Wayfarer Sunglasses (Free Size)',\n",
       " 'UV Protection Spectacle Sunglasses (Free Size)',\n",
       " 'Riding Glasses Wrap-around Sunglasses (Free Size)',\n",
       " 'UV Protection Sports Sunglasses (Free Size)',\n",
       " 'UV Protection, Polarized Wayfarer Sunglasses (Free Size...',\n",
       " 'Gradient Aviator Sunglasses (55)',\n",
       " 'UV Protection, Polarized, Mirrored Rectangular Sunglass...',\n",
       " 'UV Protection Rectangular Sunglasses (Free Size)',\n",
       " 'UV Protection Wayfarer Sunglasses (50)',\n",
       " 'UV Protection, Gradient Rectangular Sunglasses (Free Si...',\n",
       " 'UV Protection Aviator Sunglasses (54)',\n",
       " 'UV Protection Wayfarer Sunglasses (32)',\n",
       " 'Polarized, Riding Glasses Sports, Wrap-around Sunglasse...',\n",
       " 'UV Protection Cat-eye Sunglasses (54)']"
      ]
     },
     "execution_count": 84,
     "metadata": {},
     "output_type": "execute_result"
    }
   ],
   "source": [
    "for i in search_more_desc:\n",
    "    more_d=i.text\n",
    "    Desc.append(more_d)\n",
    "    \n",
    "Desc[0:20]"
   ]
  },
  {
   "cell_type": "code",
   "execution_count": 85,
   "id": "f54de716",
   "metadata": {},
   "outputs": [
    {
     "data": {
      "text/plain": [
       "[<selenium.webdriver.remote.webelement.WebElement (session=\"164cb8c55fd0451d6dcd4c4b6b4035e1\", element=\"49a19e66-2710-4426-88fc-505218c69e2b\")>,\n",
       " <selenium.webdriver.remote.webelement.WebElement (session=\"164cb8c55fd0451d6dcd4c4b6b4035e1\", element=\"9d5e6cc0-d6cd-4552-aff4-ba291dd05764\")>,\n",
       " <selenium.webdriver.remote.webelement.WebElement (session=\"164cb8c55fd0451d6dcd4c4b6b4035e1\", element=\"ed9fe190-11d4-4f00-987b-e791527f14bc\")>,\n",
       " <selenium.webdriver.remote.webelement.WebElement (session=\"164cb8c55fd0451d6dcd4c4b6b4035e1\", element=\"66aa9aa7-7219-4de0-911d-635edbb7a3b3\")>,\n",
       " <selenium.webdriver.remote.webelement.WebElement (session=\"164cb8c55fd0451d6dcd4c4b6b4035e1\", element=\"560dd9e7-c7a8-4283-ac10-a3f032d0ad5c\")>,\n",
       " <selenium.webdriver.remote.webelement.WebElement (session=\"164cb8c55fd0451d6dcd4c4b6b4035e1\", element=\"2fdecb0a-1d5a-494d-809c-04723f2eac02\")>,\n",
       " <selenium.webdriver.remote.webelement.WebElement (session=\"164cb8c55fd0451d6dcd4c4b6b4035e1\", element=\"8889e868-8a11-432c-a729-29a2a4a0f376\")>,\n",
       " <selenium.webdriver.remote.webelement.WebElement (session=\"164cb8c55fd0451d6dcd4c4b6b4035e1\", element=\"33b4a6ec-ced1-4b72-8ef1-9157c15a0272\")>,\n",
       " <selenium.webdriver.remote.webelement.WebElement (session=\"164cb8c55fd0451d6dcd4c4b6b4035e1\", element=\"d94302b3-a167-4244-a9ab-c6e7a65e328b\")>,\n",
       " <selenium.webdriver.remote.webelement.WebElement (session=\"164cb8c55fd0451d6dcd4c4b6b4035e1\", element=\"e00bfd20-a8b7-47cf-87f3-e45ce97b61f6\")>,\n",
       " <selenium.webdriver.remote.webelement.WebElement (session=\"164cb8c55fd0451d6dcd4c4b6b4035e1\", element=\"4fe2e5d5-af72-4963-9e5b-721222808a70\")>,\n",
       " <selenium.webdriver.remote.webelement.WebElement (session=\"164cb8c55fd0451d6dcd4c4b6b4035e1\", element=\"888e7879-5a4d-4622-bcd0-d33f85f6922f\")>,\n",
       " <selenium.webdriver.remote.webelement.WebElement (session=\"164cb8c55fd0451d6dcd4c4b6b4035e1\", element=\"462d88aa-67c9-4293-a88a-d85317147c47\")>,\n",
       " <selenium.webdriver.remote.webelement.WebElement (session=\"164cb8c55fd0451d6dcd4c4b6b4035e1\", element=\"533dc109-c8eb-4472-b330-717874fafdba\")>,\n",
       " <selenium.webdriver.remote.webelement.WebElement (session=\"164cb8c55fd0451d6dcd4c4b6b4035e1\", element=\"92fde0c5-eaf7-42fd-836f-77b018c4f61f\")>,\n",
       " <selenium.webdriver.remote.webelement.WebElement (session=\"164cb8c55fd0451d6dcd4c4b6b4035e1\", element=\"a32202fa-ec42-4dd3-905e-12a5fcdef3c6\")>,\n",
       " <selenium.webdriver.remote.webelement.WebElement (session=\"164cb8c55fd0451d6dcd4c4b6b4035e1\", element=\"1f7cdefe-e7e2-420d-8fb5-4ae029cfa928\")>,\n",
       " <selenium.webdriver.remote.webelement.WebElement (session=\"164cb8c55fd0451d6dcd4c4b6b4035e1\", element=\"99596851-7737-4ebb-b0c1-04bb12f67fef\")>,\n",
       " <selenium.webdriver.remote.webelement.WebElement (session=\"164cb8c55fd0451d6dcd4c4b6b4035e1\", element=\"a5d5c865-42df-4c84-9da0-7c2602fe7e8c\")>,\n",
       " <selenium.webdriver.remote.webelement.WebElement (session=\"164cb8c55fd0451d6dcd4c4b6b4035e1\", element=\"2ccb114a-a2f4-422c-964c-58fe99aa8e5e\")>]"
      ]
     },
     "execution_count": 85,
     "metadata": {},
     "output_type": "execute_result"
    }
   ],
   "source": [
    "search_more_price=driver.find_elements_by_xpath(\"//div[@class='_30jeq3']\")\n",
    "search_more_price[0:20]"
   ]
  },
  {
   "cell_type": "code",
   "execution_count": 86,
   "id": "2680b7da",
   "metadata": {},
   "outputs": [
    {
     "data": {
      "text/plain": [
       "['₹664',\n",
       " '₹649',\n",
       " '₹295',\n",
       " '₹249',\n",
       " '₹639',\n",
       " '₹265',\n",
       " '₹719',\n",
       " '₹399',\n",
       " '₹299',\n",
       " '₹258',\n",
       " '₹283',\n",
       " '₹224',\n",
       " '₹195',\n",
       " '₹219',\n",
       " '₹250',\n",
       " '₹449',\n",
       " '₹249',\n",
       " '₹225',\n",
       " '₹474',\n",
       " '₹649']"
      ]
     },
     "execution_count": 86,
     "metadata": {},
     "output_type": "execute_result"
    }
   ],
   "source": [
    "#scraping data from above tags\n",
    "for i in search_more_price:\n",
    "    more_p=i.text\n",
    "    price.append(more_p)\n",
    "    \n",
    "price[0:20]"
   ]
  },
  {
   "cell_type": "code",
   "execution_count": 87,
   "id": "32fd9c80",
   "metadata": {},
   "outputs": [
    {
     "name": "stdout",
     "output_type": "stream",
     "text": [
      "120 118 120\n"
     ]
    }
   ],
   "source": [
    "#checking the length of the lists to create the dataframe\n",
    "print(len(Brand),len(Desc),len(price))"
   ]
  },
  {
   "cell_type": "code",
   "execution_count": 89,
   "id": "ca584add",
   "metadata": {},
   "outputs": [
    {
     "data": {
      "text/plain": [
       "['Singco India',\n",
       " 'VINCENT CHASE',\n",
       " 'Elligator',\n",
       " 'PIRASO',\n",
       " 'Fastrack',\n",
       " 'New Specs',\n",
       " 'Fastrack',\n",
       " 'ROZZETTA CRAFT',\n",
       " 'Lee Topper',\n",
       " 'hipe',\n",
       " 'SUNBEE',\n",
       " 'agera',\n",
       " 'SHAAH COLLECTIONS',\n",
       " 'Lee Topper',\n",
       " 'SRPM',\n",
       " 'ROZZETTA CRAFT',\n",
       " 'PIRASO',\n",
       " 'PIRASO',\n",
       " 'ROZZETTA CRAFT',\n",
       " 'VINCENT CHASE',\n",
       " 'PIRASO',\n",
       " 'New Specs',\n",
       " 'Fastrack',\n",
       " 'NuVew',\n",
       " 'PHENOMENAL',\n",
       " 'Roadster',\n",
       " 'DEIXELS',\n",
       " 'GANSTA',\n",
       " 'Fastrack',\n",
       " 'kingsunglasses',\n",
       " 'SUNBEE',\n",
       " 'Resist',\n",
       " 'Fastrack',\n",
       " 'hipe',\n",
       " 'PIRASO',\n",
       " 'GANSTA',\n",
       " 'Singco India',\n",
       " 'Fastrack',\n",
       " 'Fastrack',\n",
       " 'ROYAL SON',\n",
       " 'GANSTA',\n",
       " 'SUNBEE',\n",
       " 'elegante',\n",
       " 'Singco India',\n",
       " 'Fastrack',\n",
       " 'kingsunglasses',\n",
       " 'kingsunglasses',\n",
       " 'ROYAL SON',\n",
       " 'hipe',\n",
       " 'Elligator',\n",
       " 'ROZZETTA CRAFT',\n",
       " 'GANSTA',\n",
       " 'SRPM',\n",
       " 'kingsunglasses',\n",
       " 'HIPPON',\n",
       " 'ROZZETTA CRAFT',\n",
       " 'hipe',\n",
       " 'GANSTA',\n",
       " 'Lee Topper',\n",
       " 'VINCENT CHASE',\n",
       " 'VINCENT CHASE',\n",
       " 'PHENOMENAL',\n",
       " 'ROYAL SON',\n",
       " 'AISLIN',\n",
       " 'Fastrack',\n",
       " 'kingsunglasses',\n",
       " 'kingsunglasses',\n",
       " 'NuVew',\n",
       " 'AISLIN',\n",
       " 'New Specs',\n",
       " 'SRPM',\n",
       " 'VINCENT CHASE',\n",
       " 'kingsunglasses',\n",
       " 'Roadster',\n",
       " 'Fastrack',\n",
       " 'ROYAL SON',\n",
       " 'hipe',\n",
       " 'ROZZETTA CRAFT',\n",
       " 'Silver Kartz',\n",
       " 'ROYAL SON',\n",
       " 'PIRASO',\n",
       " 'ROZZETTA CRAFT',\n",
       " 'SHAAH COLLECTIONS',\n",
       " 'ROZZETTA CRAFT',\n",
       " 'Fastrack',\n",
       " 'VINCENT CHASE',\n",
       " 'Elligator',\n",
       " 'VINCENT CHASE',\n",
       " 'AISLIN',\n",
       " 'kingsunglasses',\n",
       " 'ROZZETTA CRAFT',\n",
       " 'NuVew',\n",
       " 'VINCENT CHASE',\n",
       " 'Singco India',\n",
       " 'PHENOMENAL',\n",
       " 'agera',\n",
       " 'hipe',\n",
       " 'ROZZETTA CRAFT',\n",
       " 'Fastrack',\n",
       " 'ROZZETTA CRAFT']"
      ]
     },
     "execution_count": 89,
     "metadata": {},
     "output_type": "execute_result"
    }
   ],
   "source": [
    "Brand=Brand[0:100]\n",
    "Brand"
   ]
  },
  {
   "cell_type": "code",
   "execution_count": 90,
   "id": "62b0be63",
   "metadata": {},
   "outputs": [
    {
     "data": {
      "text/plain": [
       "['Gradient, Toughened Glass Lens, UV Protection Retro Squ...',\n",
       " 'UV Protection Wayfarer Sunglasses (59)',\n",
       " 'UV Protection Round Sunglasses (54)',\n",
       " 'UV Protection Aviator Sunglasses (54)',\n",
       " 'UV Protection Rectangular Sunglasses (Free Size)',\n",
       " 'UV Protection Rectangular Sunglasses (Free Size)',\n",
       " 'UV Protection Wayfarer Sunglasses (Free Size)',\n",
       " 'UV Protection Spectacle Sunglasses (Free Size)',\n",
       " 'Riding Glasses Wrap-around Sunglasses (Free Size)',\n",
       " 'UV Protection Sports Sunglasses (Free Size)',\n",
       " 'UV Protection, Polarized Wayfarer Sunglasses (Free Size...',\n",
       " 'Gradient Aviator Sunglasses (55)',\n",
       " 'UV Protection, Polarized, Mirrored Rectangular Sunglass...',\n",
       " 'UV Protection Rectangular Sunglasses (Free Size)',\n",
       " 'UV Protection Wayfarer Sunglasses (50)',\n",
       " 'UV Protection, Gradient Rectangular Sunglasses (Free Si...',\n",
       " 'UV Protection Aviator Sunglasses (54)',\n",
       " 'UV Protection Wayfarer Sunglasses (32)',\n",
       " 'Polarized, Riding Glasses Sports, Wrap-around Sunglasse...',\n",
       " 'UV Protection Cat-eye Sunglasses (54)',\n",
       " 'UV Protection Aviator Sunglasses (54)',\n",
       " 'Mirrored, UV Protection, Riding Glasses, Others Round S...',\n",
       " 'Gradient, UV Protection Wayfarer Sunglasses (Free Size)',\n",
       " 'UV Protection Retro Square, Wayfarer Sunglasses (58)',\n",
       " 'UV Protection Retro Square Sunglasses (53)',\n",
       " 'UV Protection Oval Sunglasses (57)',\n",
       " 'UV Protection Aviator, Wayfarer Sunglasses (Free Size)',\n",
       " 'UV Protection Aviator Sunglasses (57)',\n",
       " 'UV Protection Wayfarer Sunglasses (Free Size)',\n",
       " 'UV Protection, Riding Glasses, Mirrored Wayfarer Sungla...',\n",
       " 'UV Protection, Polarized, Mirrored Retro Square Sunglas...',\n",
       " 'UV Protection, Riding Glasses, Toughened Glass Lens, Gr...',\n",
       " 'UV Protection Wayfarer Sunglasses (55)',\n",
       " 'Mirrored, UV Protection, Gradient Round Sunglasses (55)',\n",
       " 'UV Protection Over-sized Sunglasses (65)',\n",
       " 'Night Vision, Riding Glasses Wayfarer Sunglasses (53)',\n",
       " 'Riding Glasses, UV Protection, Others Aviator Sunglasse...',\n",
       " 'UV Protection Wayfarer Sunglasses (Free Size)',\n",
       " 'UV Protection Aviator Sunglasses (58)',\n",
       " 'Polarized, UV Protection Wrap-around Sunglasses (62)',\n",
       " 'UV Protection, Riding Glasses Wayfarer Sunglasses (53)',\n",
       " 'UV Protection, Polarized, Mirrored Round Sunglasses (Fr...',\n",
       " 'Polarized, Riding Glasses, Night Vision Sports, Wrap-ar...',\n",
       " 'UV Protection Aviator Sunglasses (45)',\n",
       " 'UV Protection Wayfarer Sunglasses (Free Size)',\n",
       " 'UV Protection Rectangular Sunglasses (55)',\n",
       " 'Mirrored, UV Protection Wayfarer Sunglasses (Free Size)',\n",
       " 'Mirrored Wayfarer Sunglasses (55)',\n",
       " 'UV Protection Round Sunglasses (53)',\n",
       " 'UV Protection Retro Square Sunglasses (Free Size)',\n",
       " 'UV Protection, Night Vision, Riding Glasses Aviator Sun...',\n",
       " 'UV Protection Wayfarer Sunglasses (53)',\n",
       " 'UV Protection Round Sunglasses (Free Size)',\n",
       " 'UV Protection Wayfarer Sunglasses (55)',\n",
       " 'UV Protection Aviator Sunglasses (62)',\n",
       " 'UV Protection, Gradient, Mirrored, Riding Glasses Aviat...',\n",
       " 'UV Protection Aviator Sunglasses (57)',\n",
       " 'Riding Glasses, Night Vision Wrap-around Sunglasses (Fr...',\n",
       " 'UV Protection Round Sunglasses (47)',\n",
       " 'by Lenskart Polarized, UV Protection Wayfarer Sunglasse...',\n",
       " 'UV Protection Retro Square Sunglasses (Free Size)',\n",
       " 'UV Protection Rectangular, Retro Square Sunglasses (58)',\n",
       " 'UV Protection, Gradient Oval Sunglasses (58)',\n",
       " 'UV Protection Shield Sunglasses (Free Size)',\n",
       " 'UV Protection Round Sunglasses (54)',\n",
       " 'Mirrored, UV Protection Wayfarer Sunglasses (Free Size)',\n",
       " 'UV Protection, Mirrored, Gradient Cat-eye Sunglasses (6...',\n",
       " 'UV Protection, Gradient Butterfly, Retro Square Sunglas...',\n",
       " 'UV Protection Round Sunglasses (Free Size)',\n",
       " 'Night Vision, UV Protection Round Sunglasses (54)',\n",
       " 'UV Protection Wayfarer Sunglasses (62)',\n",
       " 'Mirrored, UV Protection Aviator Sunglasses (56)',\n",
       " 'UV Protection Aviator Sunglasses (60)',\n",
       " 'UV Protection Aviator Sunglasses (57)',\n",
       " 'Polarized, UV Protection Wrap-around Sunglasses (62)',\n",
       " 'UV Protection, Night Vision, Riding Glasses, Gradient, ...',\n",
       " 'UV Protection, Gradient Retro Square Sunglasses (Free S...',\n",
       " 'UV Protection Wayfarer Sunglasses (Free Size)',\n",
       " 'Mirrored Aviator Sunglasses (32)',\n",
       " 'UV Protection, Gradient Retro Square Sunglasses (Free S...',\n",
       " 'UV Protection, Polarized, Mirrored Rectangular Sunglass...',\n",
       " 'UV Protection Spectacle Sunglasses (Free Size)',\n",
       " 'UV Protection Aviator Sunglasses (Free Size)',\n",
       " 'by Lenskart UV Protection Wayfarer Sunglasses (51)',\n",
       " 'UV Protection Aviator Sunglasses (55)',\n",
       " 'UV Protection Rectangular Sunglasses (50)',\n",
       " 'UV Protection, Gradient Round, Cat-eye Sunglasses (60)',\n",
       " 'UV Protection, Night Vision Wayfarer Sunglasses (Free S...',\n",
       " 'UV Protection, Gradient Round Sunglasses (Free Size)',\n",
       " 'UV Protection Retro Square, Wayfarer Sunglasses (58)',\n",
       " 'UV Protection Wayfarer Sunglasses (59)',\n",
       " 'Gradient, Toughened Glass Lens, UV Protection Retro Squ...',\n",
       " 'UV Protection, Mirrored Clubmaster Sunglasses (Free Siz...',\n",
       " 'Gradient Aviator Sunglasses (55)',\n",
       " 'Mirrored, Gradient, Riding Glasses Round Sunglasses (55...',\n",
       " 'UV Protection, Gradient Rectangular Sunglasses (Free Si...',\n",
       " 'UV Protection Aviator Sunglasses (58)',\n",
       " 'UV Protection, Gradient Rectangular Sunglasses (Free Si...',\n",
       " 'Night Vision, UV Protection Spectacle Sunglasses (50)',\n",
       " 'Toughened Glass Lens, UV Protection Wayfarer, Rectangul...']"
      ]
     },
     "execution_count": 90,
     "metadata": {},
     "output_type": "execute_result"
    }
   ],
   "source": [
    "Desc=Desc[0:100]\n",
    "Desc"
   ]
  },
  {
   "cell_type": "code",
   "execution_count": 91,
   "id": "72114cdd",
   "metadata": {},
   "outputs": [
    {
     "data": {
      "text/plain": [
       "['₹664',\n",
       " '₹649',\n",
       " '₹295',\n",
       " '₹249',\n",
       " '₹639',\n",
       " '₹265',\n",
       " '₹719',\n",
       " '₹399',\n",
       " '₹299',\n",
       " '₹258',\n",
       " '₹283',\n",
       " '₹224',\n",
       " '₹195',\n",
       " '₹219',\n",
       " '₹250',\n",
       " '₹449',\n",
       " '₹249',\n",
       " '₹225',\n",
       " '₹474',\n",
       " '₹649',\n",
       " '₹249',\n",
       " '₹299',\n",
       " '₹639',\n",
       " '₹275',\n",
       " '₹315',\n",
       " '₹649',\n",
       " '₹217',\n",
       " '₹284',\n",
       " '₹719',\n",
       " '₹209',\n",
       " '₹269',\n",
       " '₹948',\n",
       " '₹719',\n",
       " '₹210',\n",
       " '₹399',\n",
       " '₹221',\n",
       " '₹245',\n",
       " '₹699',\n",
       " '₹1,099',\n",
       " '₹799',\n",
       " '₹221',\n",
       " '₹324',\n",
       " '₹499',\n",
       " '₹329',\n",
       " '₹639',\n",
       " '₹189',\n",
       " '₹269',\n",
       " '₹699',\n",
       " '₹229',\n",
       " '₹229',\n",
       " '₹499',\n",
       " '₹295',\n",
       " '₹246',\n",
       " '₹329',\n",
       " '₹171',\n",
       " '₹616',\n",
       " '₹233',\n",
       " '₹284',\n",
       " '₹276',\n",
       " '₹649',\n",
       " '₹799',\n",
       " '₹379',\n",
       " '₹499',\n",
       " '₹498',\n",
       " '₹809',\n",
       " '₹214',\n",
       " '₹269',\n",
       " '₹345',\n",
       " '₹498',\n",
       " '₹264',\n",
       " '₹259',\n",
       " '₹649',\n",
       " '₹245',\n",
       " '₹709',\n",
       " '₹639',\n",
       " '₹799',\n",
       " '₹179',\n",
       " '₹349',\n",
       " '₹320',\n",
       " '₹699',\n",
       " '₹199',\n",
       " '₹349',\n",
       " '₹213',\n",
       " '₹399',\n",
       " '₹639',\n",
       " '₹749',\n",
       " '₹333',\n",
       " '₹649',\n",
       " '₹498',\n",
       " '₹299',\n",
       " '₹342',\n",
       " '₹275',\n",
       " '₹649',\n",
       " '₹664',\n",
       " '₹369',\n",
       " '₹224',\n",
       " '₹210',\n",
       " '₹379',\n",
       " '₹1,099',\n",
       " '₹449']"
      ]
     },
     "execution_count": 91,
     "metadata": {},
     "output_type": "execute_result"
    }
   ],
   "source": [
    "price=price[0:100]\n",
    "price"
   ]
  },
  {
   "cell_type": "code",
   "execution_count": 92,
   "id": "976ff824",
   "metadata": {},
   "outputs": [
    {
     "name": "stdout",
     "output_type": "stream",
     "text": [
      "100 100 100\n"
     ]
    }
   ],
   "source": [
    "print(len(Brand),len(Desc),len(price))\n"
   ]
  },
  {
   "cell_type": "code",
   "execution_count": 93,
   "id": "363548a2",
   "metadata": {},
   "outputs": [
    {
     "data": {
      "text/html": [
       "<div>\n",
       "<style scoped>\n",
       "    .dataframe tbody tr th:only-of-type {\n",
       "        vertical-align: middle;\n",
       "    }\n",
       "\n",
       "    .dataframe tbody tr th {\n",
       "        vertical-align: top;\n",
       "    }\n",
       "\n",
       "    .dataframe thead th {\n",
       "        text-align: right;\n",
       "    }\n",
       "</style>\n",
       "<table border=\"1\" class=\"dataframe\">\n",
       "  <thead>\n",
       "    <tr style=\"text-align: right;\">\n",
       "      <th></th>\n",
       "      <th>Brand Names</th>\n",
       "      <th>Product Description</th>\n",
       "      <th>Price</th>\n",
       "    </tr>\n",
       "  </thead>\n",
       "  <tbody>\n",
       "    <tr>\n",
       "      <th>0</th>\n",
       "      <td>Singco India</td>\n",
       "      <td>Gradient, Toughened Glass Lens, UV Protection ...</td>\n",
       "      <td>₹664</td>\n",
       "    </tr>\n",
       "    <tr>\n",
       "      <th>1</th>\n",
       "      <td>VINCENT CHASE</td>\n",
       "      <td>UV Protection Wayfarer Sunglasses (59)</td>\n",
       "      <td>₹649</td>\n",
       "    </tr>\n",
       "    <tr>\n",
       "      <th>2</th>\n",
       "      <td>Elligator</td>\n",
       "      <td>UV Protection Round Sunglasses (54)</td>\n",
       "      <td>₹295</td>\n",
       "    </tr>\n",
       "    <tr>\n",
       "      <th>3</th>\n",
       "      <td>PIRASO</td>\n",
       "      <td>UV Protection Aviator Sunglasses (54)</td>\n",
       "      <td>₹249</td>\n",
       "    </tr>\n",
       "    <tr>\n",
       "      <th>4</th>\n",
       "      <td>Fastrack</td>\n",
       "      <td>UV Protection Rectangular Sunglasses (Free Size)</td>\n",
       "      <td>₹639</td>\n",
       "    </tr>\n",
       "    <tr>\n",
       "      <th>...</th>\n",
       "      <td>...</td>\n",
       "      <td>...</td>\n",
       "      <td>...</td>\n",
       "    </tr>\n",
       "    <tr>\n",
       "      <th>95</th>\n",
       "      <td>agera</td>\n",
       "      <td>UV Protection, Gradient Rectangular Sunglasses...</td>\n",
       "      <td>₹224</td>\n",
       "    </tr>\n",
       "    <tr>\n",
       "      <th>96</th>\n",
       "      <td>hipe</td>\n",
       "      <td>UV Protection Aviator Sunglasses (58)</td>\n",
       "      <td>₹210</td>\n",
       "    </tr>\n",
       "    <tr>\n",
       "      <th>97</th>\n",
       "      <td>ROZZETTA CRAFT</td>\n",
       "      <td>UV Protection, Gradient Rectangular Sunglasses...</td>\n",
       "      <td>₹379</td>\n",
       "    </tr>\n",
       "    <tr>\n",
       "      <th>98</th>\n",
       "      <td>Fastrack</td>\n",
       "      <td>Night Vision, UV Protection Spectacle Sunglass...</td>\n",
       "      <td>₹1,099</td>\n",
       "    </tr>\n",
       "    <tr>\n",
       "      <th>99</th>\n",
       "      <td>ROZZETTA CRAFT</td>\n",
       "      <td>Toughened Glass Lens, UV Protection Wayfarer, ...</td>\n",
       "      <td>₹449</td>\n",
       "    </tr>\n",
       "  </tbody>\n",
       "</table>\n",
       "<p>100 rows × 3 columns</p>\n",
       "</div>"
      ],
      "text/plain": [
       "       Brand Names                                Product Description   Price\n",
       "0     Singco India  Gradient, Toughened Glass Lens, UV Protection ...    ₹664\n",
       "1    VINCENT CHASE             UV Protection Wayfarer Sunglasses (59)    ₹649\n",
       "2        Elligator                UV Protection Round Sunglasses (54)    ₹295\n",
       "3           PIRASO              UV Protection Aviator Sunglasses (54)    ₹249\n",
       "4         Fastrack   UV Protection Rectangular Sunglasses (Free Size)    ₹639\n",
       "..             ...                                                ...     ...\n",
       "95           agera  UV Protection, Gradient Rectangular Sunglasses...    ₹224\n",
       "96            hipe              UV Protection Aviator Sunglasses (58)    ₹210\n",
       "97  ROZZETTA CRAFT  UV Protection, Gradient Rectangular Sunglasses...    ₹379\n",
       "98        Fastrack  Night Vision, UV Protection Spectacle Sunglass...  ₹1,099\n",
       "99  ROZZETTA CRAFT  Toughened Glass Lens, UV Protection Wayfarer, ...    ₹449\n",
       "\n",
       "[100 rows x 3 columns]"
      ]
     },
     "execution_count": 93,
     "metadata": {},
     "output_type": "execute_result"
    }
   ],
   "source": [
    "#since the length is equal , hence we will make the dataframe.\n",
    "df=pd.DataFrame({'Brand Names': Brand ,'Product Description': Desc ,'Price': price})\n",
    "df"
   ]
  },
  {
   "cell_type": "code",
   "execution_count": null,
   "id": "88e07c4e",
   "metadata": {},
   "outputs": [],
   "source": []
  },
  {
   "cell_type": "markdown",
   "id": "a8846579",
   "metadata": {},
   "source": [
    "# Question 5: Scrape 100 reviews data from flipkart.com for iphone11 phone. You have to go the link: \n",
    " \n"
   ]
  },
  {
   "cell_type": "markdown",
   "id": "04d1fca9",
   "metadata": {},
   "source": [
    "https://www.flipkart.com/apple-iphone-11-black-64-gb-includes-%20earpods-poweradapter/p/itm0f37c2240b217?pid=MOBFKCTSVZAXUHGR&lid=LSTMOBFKCTSVZAXUHGREPBFGI&marketplace"
   ]
  },
  {
   "cell_type": "code",
   "execution_count": 183,
   "id": "02f13269",
   "metadata": {},
   "outputs": [],
   "source": [
    "#opening web browser\n",
    "driver=webdriver.Chrome(\"chromedriver.exe\")\n",
    "time.sleep(2)"
   ]
  },
  {
   "cell_type": "code",
   "execution_count": 184,
   "id": "d48dbe8e",
   "metadata": {},
   "outputs": [],
   "source": [
    "driver.get(\"https://www.flipkart.com/apple-iphone-11-black-64-gb-includes-%20earpods-poweradapter/p/itm0f37c2240b217?pid=MOBFKCTSVZAXUHGR&lid=LSTMOBFKCTSVZAXUHGREPBFGI&marketplace\")\n"
   ]
  },
  {
   "cell_type": "code",
   "execution_count": 185,
   "id": "850efe98",
   "metadata": {},
   "outputs": [],
   "source": [
    "#creating 3 empty lists as per the requirement of the question\n",
    "Rating=[]\n",
    "Summary=[]\n",
    "Full=[]"
   ]
  },
  {
   "cell_type": "code",
   "execution_count": 187,
   "id": "2dff8f08",
   "metadata": {},
   "outputs": [],
   "source": [
    "#to first open all reviews using click method\n",
    "show_all_data=driver.find_element_by_xpath(\"/html/body/div[1]/div/div[3]/div[1]/div[2]/div[9]/div/div/div[5]/div/a/div/span\")\n",
    "show_all_data.click()"
   ]
  },
  {
   "cell_type": "code",
   "execution_count": 188,
   "id": "cd68a4b0",
   "metadata": {},
   "outputs": [
    {
     "data": {
      "text/plain": [
       "[<selenium.webdriver.remote.webelement.WebElement (session=\"f52bb3895c741e41cc55d159c838bf89\", element=\"65d633df-dfa7-49ea-a08f-3eedeb27ccbb\")>,\n",
       " <selenium.webdriver.remote.webelement.WebElement (session=\"f52bb3895c741e41cc55d159c838bf89\", element=\"16a12565-1fbd-423f-84b4-096461043900\")>,\n",
       " <selenium.webdriver.remote.webelement.WebElement (session=\"f52bb3895c741e41cc55d159c838bf89\", element=\"3d55e0bd-a165-4f9f-8082-401914c1ca7a\")>,\n",
       " <selenium.webdriver.remote.webelement.WebElement (session=\"f52bb3895c741e41cc55d159c838bf89\", element=\"53fc4649-e35d-43bb-abc0-277ced4c1f8a\")>,\n",
       " <selenium.webdriver.remote.webelement.WebElement (session=\"f52bb3895c741e41cc55d159c838bf89\", element=\"abaa3a6b-02d6-46fe-85b9-87aeef169cac\")>,\n",
       " <selenium.webdriver.remote.webelement.WebElement (session=\"f52bb3895c741e41cc55d159c838bf89\", element=\"7904e3ac-7a7e-4b38-bd81-6ceca3bcaabf\")>,\n",
       " <selenium.webdriver.remote.webelement.WebElement (session=\"f52bb3895c741e41cc55d159c838bf89\", element=\"a9975acf-8be4-4482-882c-0cb8b1928a7e\")>,\n",
       " <selenium.webdriver.remote.webelement.WebElement (session=\"f52bb3895c741e41cc55d159c838bf89\", element=\"270f1834-51b4-4ce0-a3bc-bc276d760dee\")>,\n",
       " <selenium.webdriver.remote.webelement.WebElement (session=\"f52bb3895c741e41cc55d159c838bf89\", element=\"36ca8a56-d026-4eb5-9624-71c2920496bd\")>,\n",
       " <selenium.webdriver.remote.webelement.WebElement (session=\"f52bb3895c741e41cc55d159c838bf89\", element=\"15ce19de-3fad-4d45-8fdd-6f195a029593\")>]"
      ]
     },
     "execution_count": 188,
     "metadata": {},
     "output_type": "execute_result"
    }
   ],
   "source": [
    "#Finding tags for ratings \n",
    "search_ratings=driver.find_elements_by_xpath(\"//div[@class='_3LWZlK _1BLPMq']\")\n",
    "search_ratings"
   ]
  },
  {
   "cell_type": "code",
   "execution_count": 189,
   "id": "731cdc49",
   "metadata": {},
   "outputs": [
    {
     "data": {
      "text/plain": [
       "['5', '5', '5', '5', '5', '5', '5', '5', '4', '5']"
      ]
     },
     "execution_count": 189,
     "metadata": {},
     "output_type": "execute_result"
    }
   ],
   "source": [
    "for i in search_ratings:\n",
    "    rating=i.text\n",
    "    Rating.append(rating)\n",
    "\n",
    "Rating\n",
    "    "
   ]
  },
  {
   "cell_type": "code",
   "execution_count": 190,
   "id": "b0846dc5",
   "metadata": {},
   "outputs": [
    {
     "data": {
      "text/plain": [
       "[<selenium.webdriver.remote.webelement.WebElement (session=\"f52bb3895c741e41cc55d159c838bf89\", element=\"9d8fd45d-84c1-415d-857a-2dce82538a23\")>,\n",
       " <selenium.webdriver.remote.webelement.WebElement (session=\"f52bb3895c741e41cc55d159c838bf89\", element=\"d82de3a8-be84-4c31-a26c-50098a9c816e\")>,\n",
       " <selenium.webdriver.remote.webelement.WebElement (session=\"f52bb3895c741e41cc55d159c838bf89\", element=\"106c613e-572d-4b89-92cd-df47f7551e28\")>,\n",
       " <selenium.webdriver.remote.webelement.WebElement (session=\"f52bb3895c741e41cc55d159c838bf89\", element=\"e26b58c1-2606-42a6-a292-09d7f0f3efe3\")>,\n",
       " <selenium.webdriver.remote.webelement.WebElement (session=\"f52bb3895c741e41cc55d159c838bf89\", element=\"a7806d6e-7895-4a78-a466-a191ad3d4614\")>,\n",
       " <selenium.webdriver.remote.webelement.WebElement (session=\"f52bb3895c741e41cc55d159c838bf89\", element=\"4a754416-60c3-4430-97f6-9a1ecebde1e3\")>,\n",
       " <selenium.webdriver.remote.webelement.WebElement (session=\"f52bb3895c741e41cc55d159c838bf89\", element=\"e107e362-6595-456d-8c05-1773de10ff15\")>,\n",
       " <selenium.webdriver.remote.webelement.WebElement (session=\"f52bb3895c741e41cc55d159c838bf89\", element=\"fdf3b3c8-a6f4-4f32-b956-c2bdd0f450dd\")>,\n",
       " <selenium.webdriver.remote.webelement.WebElement (session=\"f52bb3895c741e41cc55d159c838bf89\", element=\"dcacee89-f87a-4225-a177-1f3d4b9c1c7c\")>,\n",
       " <selenium.webdriver.remote.webelement.WebElement (session=\"f52bb3895c741e41cc55d159c838bf89\", element=\"6a5bfabe-8e35-4dc5-80b5-c3d77c7622ee\")>]"
      ]
     },
     "execution_count": 190,
     "metadata": {},
     "output_type": "execute_result"
    }
   ],
   "source": [
    "#for extracting tags for review summary\n",
    "search_summary=driver.find_elements_by_xpath(\"//p[@class='_2-N8zT']\")\n",
    "search_summary[0:100]"
   ]
  },
  {
   "cell_type": "code",
   "execution_count": 191,
   "id": "5f65e3d6",
   "metadata": {},
   "outputs": [
    {
     "data": {
      "text/plain": [
       "['Brilliant',\n",
       " 'Simply awesome',\n",
       " 'Best in the market!',\n",
       " 'Perfect product!',\n",
       " 'Fabulous!',\n",
       " 'Worth every penny',\n",
       " 'Great product',\n",
       " 'Highly recommended',\n",
       " 'Good choice',\n",
       " 'Worth every penny']"
      ]
     },
     "execution_count": 191,
     "metadata": {},
     "output_type": "execute_result"
    }
   ],
   "source": [
    "#extracting data from above tags\n",
    "for i in search_summary:\n",
    "    review=i.text\n",
    "    Summary.append(review)\n",
    "    \n",
    "Summary[0:100]"
   ]
  },
  {
   "cell_type": "code",
   "execution_count": 193,
   "id": "3472943c",
   "metadata": {},
   "outputs": [
    {
     "data": {
      "text/plain": [
       "[<selenium.webdriver.remote.webelement.WebElement (session=\"f52bb3895c741e41cc55d159c838bf89\", element=\"066e3fff-a57a-4928-a5ed-2dcf9cdabf97\")>,\n",
       " <selenium.webdriver.remote.webelement.WebElement (session=\"f52bb3895c741e41cc55d159c838bf89\", element=\"6658a292-ff47-4eca-8790-8e75fcb3cf47\")>,\n",
       " <selenium.webdriver.remote.webelement.WebElement (session=\"f52bb3895c741e41cc55d159c838bf89\", element=\"cef193fd-8430-461e-8f63-fd523e57ff3e\")>,\n",
       " <selenium.webdriver.remote.webelement.WebElement (session=\"f52bb3895c741e41cc55d159c838bf89\", element=\"2ab46900-5fa4-45ee-a4f4-7cd6f5aa6242\")>,\n",
       " <selenium.webdriver.remote.webelement.WebElement (session=\"f52bb3895c741e41cc55d159c838bf89\", element=\"8eec7678-579c-4c6f-86f0-a34eded41fd4\")>,\n",
       " <selenium.webdriver.remote.webelement.WebElement (session=\"f52bb3895c741e41cc55d159c838bf89\", element=\"efba1f43-071e-4041-83c7-7c66ec5ad732\")>,\n",
       " <selenium.webdriver.remote.webelement.WebElement (session=\"f52bb3895c741e41cc55d159c838bf89\", element=\"d68ef979-39a7-4e9f-a814-ce622fe29fb6\")>,\n",
       " <selenium.webdriver.remote.webelement.WebElement (session=\"f52bb3895c741e41cc55d159c838bf89\", element=\"8b833644-5f2c-4603-80a9-db01a995921e\")>,\n",
       " <selenium.webdriver.remote.webelement.WebElement (session=\"f52bb3895c741e41cc55d159c838bf89\", element=\"8765ba2c-775b-41d4-9f45-044c80d02f2b\")>,\n",
       " <selenium.webdriver.remote.webelement.WebElement (session=\"f52bb3895c741e41cc55d159c838bf89\", element=\"ad599634-71ce-4b42-8d42-62307eca6ef9\")>]"
      ]
     },
     "execution_count": 193,
     "metadata": {},
     "output_type": "execute_result"
    }
   ],
   "source": [
    "#extracting tags for full review now\n",
    "Full_review=driver.find_elements_by_xpath(\"//div[@class='t-ZTKy']\")\n",
    "Full_review[0:10]"
   ]
  },
  {
   "cell_type": "code",
   "execution_count": 199,
   "id": "9c56da30",
   "metadata": {},
   "outputs": [
    {
     "data": {
      "text/plain": [
       "['The Best Phone for the Money\\n\\nThe iPhone 11 offers superb cameras, a more durable design and excellent battery life for an affordable price.\\n\\nCompelling ultra-wide camera\\nNew Night mode is excellent\\nLong battery life',\n",
       " 'Really satisfied with the Product I received... It’s totally genuine and the packaging was also really good so if ur planning to buy just go for it.',\n",
       " 'Great iPhone very snappy experience as apple kind. Upgraded from iPhone 7.\\nPros\\n-Camera top class\\n- Battery top performed\\n-Chipset no need to say as apple kind\\n-Security as you expect from apple\\n- Display super bright industry leading colour\\naccuracy and super responsive\\n-Build quality as expect from apple sturdy\\npremium durable beautiful stylish.\\n-Os most stable os in smartphone industry\\n\\nCons\\n-No 5G\\n-Display is not based on OLED technology\\n-Charger headphones and 1 apple stic...\\nREAD MORE',\n",
       " 'Amazing phone with great cameras and better battery which gives you the best performance. I just love the camera .',\n",
       " 'This is my first iOS phone. I am very happy with this product. Very much satisfied with this. I love this phone.',\n",
       " 'Previously I was using one plus 3t it was a great phone\\nAnd then I decided to upgrade I am stuck between Samsung s10 plus or iPhone 11\\nI have seen the specs and everything were good except the display it’s somewhere between 720-1080 and it’s not even an amoled it’s an LCD display\\nBut I decided to go with iPhone because I have never used an IOS device I have Been an android user from the past 9 years I ordered IPhone 11 (128gb) product red\\nMy experience after using 3 weeks\\n1. The delivery ...\\nREAD MORE',\n",
       " 'Amazing Powerful and Durable Gadget.\\n\\nI’m am very happy with the camera picture quality, Amazing face id unlocked in dark room, Strong battery with perfect screen size as you can carry easily in pocket. This is my third iPhone.\\n\\nI shifted from android Samsung Note series to iPhone because of the strong build quality and peace of mind for next 3-4 years.\\n\\nDon’t think to much just go for it and I suggest you to go for minimum 128gb variant or more 256gb.\\n\\nI’ve attached my puppy pics and no fi...\\nREAD MORE',\n",
       " 'What a camera .....just awesome ..you can feel this iPhone just awesome . Good for gaming also ...try pubg in hd it’s just wow',\n",
       " 'So far it’s been an AMAZING experience coming back to iOS after nearly a decade but it’s not as versatile as android though phone is sturdy dropped it accidentally a couple of times and nothing happened fortunately camera is awesome',\n",
       " 'i11 is worthy to buy, too much happy with the product. Thank u flipkart I received the item on time..loved it..']"
      ]
     },
     "execution_count": 199,
     "metadata": {},
     "output_type": "execute_result"
    }
   ],
   "source": [
    "#taking out data from above tags\n",
    "for i in Full_review:\n",
    "    full=i.text\n",
    "    Full.append(full.replace(\"\\n\",\"\"))\n",
    "    \n",
    "Full[0:10]"
   ]
  },
  {
   "cell_type": "code",
   "execution_count": 200,
   "id": "b38ad471",
   "metadata": {},
   "outputs": [
    {
     "name": "stdout",
     "output_type": "stream",
     "text": [
      "10 10 50\n"
     ]
    }
   ],
   "source": [
    "#now checking the length of each list\n",
    "print(len(Rating),len(Summary),len(Full))"
   ]
  },
  {
   "cell_type": "code",
   "execution_count": 202,
   "id": "d61647be",
   "metadata": {},
   "outputs": [
    {
     "data": {
      "text/plain": [
       "['The Best Phone for the Money\\n\\nThe iPhone 11 offers superb cameras, a more durable design and excellent battery life for an affordable price.\\n\\nCompelling ultra-wide camera\\nNew Night mode is excellent\\nLong battery life',\n",
       " 'Really satisfied with the Product I received... It’s totally genuine and the packaging was also really good so if ur planning to buy just go for it.',\n",
       " 'Great iPhone very snappy experience as apple kind. Upgraded from iPhone 7.\\nPros\\n-Camera top class\\n- Battery top performed\\n-Chipset no need to say as apple kind\\n-Security as you expect from apple\\n- Display super bright industry leading colour\\naccuracy and super responsive\\n-Build quality as expect from apple sturdy\\npremium durable beautiful stylish.\\n-Os most stable os in smartphone industry\\n\\nCons\\n-No 5G\\n-Display is not based on OLED technology\\n-Charger headphones and 1 apple stic...\\nREAD MORE',\n",
       " 'Amazing phone with great cameras and better battery which gives you the best performance. I just love the camera .',\n",
       " 'This is my first iOS phone. I am very happy with this product. Very much satisfied with this. I love this phone.',\n",
       " 'Previously I was using one plus 3t it was a great phone\\nAnd then I decided to upgrade I am stuck between Samsung s10 plus or iPhone 11\\nI have seen the specs and everything were good except the display it’s somewhere between 720-1080 and it’s not even an amoled it’s an LCD display\\nBut I decided to go with iPhone because I have never used an IOS device I have Been an android user from the past 9 years I ordered IPhone 11 (128gb) product red\\nMy experience after using 3 weeks\\n1. The delivery ...\\nREAD MORE',\n",
       " 'Amazing Powerful and Durable Gadget.\\n\\nI’m am very happy with the camera picture quality, Amazing face id unlocked in dark room, Strong battery with perfect screen size as you can carry easily in pocket. This is my third iPhone.\\n\\nI shifted from android Samsung Note series to iPhone because of the strong build quality and peace of mind for next 3-4 years.\\n\\nDon’t think to much just go for it and I suggest you to go for minimum 128gb variant or more 256gb.\\n\\nI’ve attached my puppy pics and no fi...\\nREAD MORE',\n",
       " 'What a camera .....just awesome ..you can feel this iPhone just awesome . Good for gaming also ...try pubg in hd it’s just wow',\n",
       " 'So far it’s been an AMAZING experience coming back to iOS after nearly a decade but it’s not as versatile as android though phone is sturdy dropped it accidentally a couple of times and nothing happened fortunately camera is awesome',\n",
       " 'i11 is worthy to buy, too much happy with the product. Thank u flipkart I received the item on time..loved it..']"
      ]
     },
     "execution_count": 202,
     "metadata": {},
     "output_type": "execute_result"
    }
   ],
   "source": [
    "Full=Full[0:10]   ##in order to make lengths equal\n",
    "Full"
   ]
  },
  {
   "cell_type": "code",
   "execution_count": 203,
   "id": "c589cfbe",
   "metadata": {},
   "outputs": [
    {
     "name": "stdout",
     "output_type": "stream",
     "text": [
      "10 10 10\n"
     ]
    }
   ],
   "source": [
    "print(len(Rating),len(Summary),len(Full))  "
   ]
  },
  {
   "cell_type": "code",
   "execution_count": 205,
   "id": "e3b50864",
   "metadata": {},
   "outputs": [
    {
     "data": {
      "text/html": [
       "<div>\n",
       "<style scoped>\n",
       "    .dataframe tbody tr th:only-of-type {\n",
       "        vertical-align: middle;\n",
       "    }\n",
       "\n",
       "    .dataframe tbody tr th {\n",
       "        vertical-align: top;\n",
       "    }\n",
       "\n",
       "    .dataframe thead th {\n",
       "        text-align: right;\n",
       "    }\n",
       "</style>\n",
       "<table border=\"1\" class=\"dataframe\">\n",
       "  <thead>\n",
       "    <tr style=\"text-align: right;\">\n",
       "      <th></th>\n",
       "      <th>Ratings</th>\n",
       "      <th>Review Summary</th>\n",
       "      <th>Full Summary</th>\n",
       "    </tr>\n",
       "  </thead>\n",
       "  <tbody>\n",
       "    <tr>\n",
       "      <th>0</th>\n",
       "      <td>5</td>\n",
       "      <td>Brilliant</td>\n",
       "      <td>The Best Phone for the Money\\n\\nThe iPhone 11 ...</td>\n",
       "    </tr>\n",
       "    <tr>\n",
       "      <th>1</th>\n",
       "      <td>5</td>\n",
       "      <td>Simply awesome</td>\n",
       "      <td>Really satisfied with the Product I received.....</td>\n",
       "    </tr>\n",
       "    <tr>\n",
       "      <th>2</th>\n",
       "      <td>5</td>\n",
       "      <td>Best in the market!</td>\n",
       "      <td>Great iPhone very snappy experience as apple k...</td>\n",
       "    </tr>\n",
       "    <tr>\n",
       "      <th>3</th>\n",
       "      <td>5</td>\n",
       "      <td>Perfect product!</td>\n",
       "      <td>Amazing phone with great cameras and better ba...</td>\n",
       "    </tr>\n",
       "    <tr>\n",
       "      <th>4</th>\n",
       "      <td>5</td>\n",
       "      <td>Fabulous!</td>\n",
       "      <td>This is my first iOS phone. I am very happy wi...</td>\n",
       "    </tr>\n",
       "    <tr>\n",
       "      <th>5</th>\n",
       "      <td>5</td>\n",
       "      <td>Worth every penny</td>\n",
       "      <td>Previously I was using one plus 3t it was a gr...</td>\n",
       "    </tr>\n",
       "    <tr>\n",
       "      <th>6</th>\n",
       "      <td>5</td>\n",
       "      <td>Great product</td>\n",
       "      <td>Amazing Powerful and Durable Gadget.\\n\\nI’m am...</td>\n",
       "    </tr>\n",
       "    <tr>\n",
       "      <th>7</th>\n",
       "      <td>5</td>\n",
       "      <td>Highly recommended</td>\n",
       "      <td>What a camera .....just awesome ..you can feel...</td>\n",
       "    </tr>\n",
       "    <tr>\n",
       "      <th>8</th>\n",
       "      <td>4</td>\n",
       "      <td>Good choice</td>\n",
       "      <td>So far it’s been an AMAZING experience coming ...</td>\n",
       "    </tr>\n",
       "    <tr>\n",
       "      <th>9</th>\n",
       "      <td>5</td>\n",
       "      <td>Worth every penny</td>\n",
       "      <td>i11 is worthy to buy, too much happy with the ...</td>\n",
       "    </tr>\n",
       "  </tbody>\n",
       "</table>\n",
       "</div>"
      ],
      "text/plain": [
       "  Ratings       Review Summary  \\\n",
       "0       5            Brilliant   \n",
       "1       5       Simply awesome   \n",
       "2       5  Best in the market!   \n",
       "3       5     Perfect product!   \n",
       "4       5            Fabulous!   \n",
       "5       5    Worth every penny   \n",
       "6       5        Great product   \n",
       "7       5   Highly recommended   \n",
       "8       4          Good choice   \n",
       "9       5    Worth every penny   \n",
       "\n",
       "                                        Full Summary  \n",
       "0  The Best Phone for the Money\\n\\nThe iPhone 11 ...  \n",
       "1  Really satisfied with the Product I received.....  \n",
       "2  Great iPhone very snappy experience as apple k...  \n",
       "3  Amazing phone with great cameras and better ba...  \n",
       "4  This is my first iOS phone. I am very happy wi...  \n",
       "5  Previously I was using one plus 3t it was a gr...  \n",
       "6  Amazing Powerful and Durable Gadget.\\n\\nI’m am...  \n",
       "7  What a camera .....just awesome ..you can feel...  \n",
       "8  So far it’s been an AMAZING experience coming ...  \n",
       "9  i11 is worthy to buy, too much happy with the ...  "
      ]
     },
     "execution_count": 205,
     "metadata": {},
     "output_type": "execute_result"
    }
   ],
   "source": [
    "#creating a dataframe\n",
    "dr=pd.DataFrame({'Ratings': Rating ,'Review Summary': Summary ,'Full Summary': Full})\n",
    "dr\n"
   ]
  },
  {
   "cell_type": "code",
   "execution_count": null,
   "id": "95025520",
   "metadata": {},
   "outputs": [],
   "source": []
  },
  {
   "cell_type": "markdown",
   "id": "6cae2adb",
   "metadata": {},
   "source": [
    "# Question 6: Scrape data for first 100 sneakers you find when you visit flipkart.com and search for “sneakers” in the search field.\n",
    "\n",
    "You have to scrape 4 attributes of each sneaker:\n",
    "1. Brand\n",
    "2. Product Description\n",
    "3. Price"
   ]
  },
  {
   "cell_type": "code",
   "execution_count": 206,
   "id": "40884140",
   "metadata": {},
   "outputs": [],
   "source": [
    "#opening web browser\n",
    "driver=webdriver.Chrome(\"chromedriver.exe\")\n",
    "time.sleep(2)"
   ]
  },
  {
   "cell_type": "code",
   "execution_count": 207,
   "id": "f0d56856",
   "metadata": {},
   "outputs": [],
   "source": [
    "driver.get(\"https://www.flipkart.com/\")"
   ]
  },
  {
   "cell_type": "code",
   "execution_count": 208,
   "id": "252673a1",
   "metadata": {},
   "outputs": [],
   "source": [
    "#Finding sneakers by sending keys and searching them\n",
    "search_field_item=driver.find_element_by_class_name(\"_3704LK\")\n",
    "search_field_item.send_keys(\"sneakers\")"
   ]
  },
  {
   "cell_type": "code",
   "execution_count": 209,
   "id": "08f4ff97",
   "metadata": {},
   "outputs": [],
   "source": [
    "#executing the search\n",
    "search_button=driver.find_element_by_xpath(\"/html/body/div[1]/div/div[1]/div[1]/div[2]/div[2]/form/div/button\")\n",
    "search_button.click()"
   ]
  },
  {
   "cell_type": "code",
   "execution_count": 210,
   "id": "4945ceca",
   "metadata": {},
   "outputs": [],
   "source": [
    "#creating 3 empty lists as per the requirement of the question\n",
    "Brands=[]\n",
    "p_Desc=[]\n",
    "s_price=[]"
   ]
  },
  {
   "cell_type": "code",
   "execution_count": 211,
   "id": "be84efb4",
   "metadata": {},
   "outputs": [
    {
     "data": {
      "text/plain": [
       "[<selenium.webdriver.remote.webelement.WebElement (session=\"a93c1e261705c60fa60b3d86830f27be\", element=\"fcfa6c85-19aa-4d45-8799-44a7ffd69a58\")>,\n",
       " <selenium.webdriver.remote.webelement.WebElement (session=\"a93c1e261705c60fa60b3d86830f27be\", element=\"14ca0021-686a-409a-9cdb-8b799726b531\")>,\n",
       " <selenium.webdriver.remote.webelement.WebElement (session=\"a93c1e261705c60fa60b3d86830f27be\", element=\"a7313ed9-323b-41eb-b4ff-26ea9b4bde6e\")>,\n",
       " <selenium.webdriver.remote.webelement.WebElement (session=\"a93c1e261705c60fa60b3d86830f27be\", element=\"e394a977-dfb0-4286-bd38-e1c107880918\")>,\n",
       " <selenium.webdriver.remote.webelement.WebElement (session=\"a93c1e261705c60fa60b3d86830f27be\", element=\"036e71c9-d7b0-4981-91a0-b9bf004060a3\")>,\n",
       " <selenium.webdriver.remote.webelement.WebElement (session=\"a93c1e261705c60fa60b3d86830f27be\", element=\"f20c28f2-2f1e-45d1-a2e7-d447bcecd928\")>,\n",
       " <selenium.webdriver.remote.webelement.WebElement (session=\"a93c1e261705c60fa60b3d86830f27be\", element=\"93a86e00-085c-4f17-9fdb-c392e4672a60\")>,\n",
       " <selenium.webdriver.remote.webelement.WebElement (session=\"a93c1e261705c60fa60b3d86830f27be\", element=\"91f024ff-c9bb-4b7a-9c6f-60e9efce6220\")>,\n",
       " <selenium.webdriver.remote.webelement.WebElement (session=\"a93c1e261705c60fa60b3d86830f27be\", element=\"2166206b-183b-41cc-b36d-11872247bd72\")>,\n",
       " <selenium.webdriver.remote.webelement.WebElement (session=\"a93c1e261705c60fa60b3d86830f27be\", element=\"0bb8a0de-cd5f-4140-a5fe-0ebd217d8d0e\")>,\n",
       " <selenium.webdriver.remote.webelement.WebElement (session=\"a93c1e261705c60fa60b3d86830f27be\", element=\"b8e117d5-1c90-463a-b0a5-570dbe058405\")>,\n",
       " <selenium.webdriver.remote.webelement.WebElement (session=\"a93c1e261705c60fa60b3d86830f27be\", element=\"130336ec-6f12-4860-9aa7-371333315843\")>,\n",
       " <selenium.webdriver.remote.webelement.WebElement (session=\"a93c1e261705c60fa60b3d86830f27be\", element=\"3ff7040e-cf94-440b-9568-272d5bdf24f3\")>,\n",
       " <selenium.webdriver.remote.webelement.WebElement (session=\"a93c1e261705c60fa60b3d86830f27be\", element=\"b43cf428-4e64-43b2-ba71-820be71e6b48\")>,\n",
       " <selenium.webdriver.remote.webelement.WebElement (session=\"a93c1e261705c60fa60b3d86830f27be\", element=\"df252923-393f-4914-8942-b67b64b845e2\")>,\n",
       " <selenium.webdriver.remote.webelement.WebElement (session=\"a93c1e261705c60fa60b3d86830f27be\", element=\"908e3e32-f042-43f7-9593-11aa43de30c6\")>,\n",
       " <selenium.webdriver.remote.webelement.WebElement (session=\"a93c1e261705c60fa60b3d86830f27be\", element=\"356b259b-59d5-466d-a72a-c5af8feeb760\")>,\n",
       " <selenium.webdriver.remote.webelement.WebElement (session=\"a93c1e261705c60fa60b3d86830f27be\", element=\"3aa32095-d623-41fe-8553-4cb9ee15e60d\")>,\n",
       " <selenium.webdriver.remote.webelement.WebElement (session=\"a93c1e261705c60fa60b3d86830f27be\", element=\"bc9ab294-f2f2-4ad1-b3ac-8a347b00dc02\")>,\n",
       " <selenium.webdriver.remote.webelement.WebElement (session=\"a93c1e261705c60fa60b3d86830f27be\", element=\"ef883534-33d6-4651-bf26-3b86581edb6f\")>,\n",
       " <selenium.webdriver.remote.webelement.WebElement (session=\"a93c1e261705c60fa60b3d86830f27be\", element=\"8a88c6e4-2f6c-480f-a93f-5dc258dcfd95\")>,\n",
       " <selenium.webdriver.remote.webelement.WebElement (session=\"a93c1e261705c60fa60b3d86830f27be\", element=\"6eb262d3-a59c-4d08-a2d1-6189ba7b73dd\")>,\n",
       " <selenium.webdriver.remote.webelement.WebElement (session=\"a93c1e261705c60fa60b3d86830f27be\", element=\"d4fddf37-de77-4aab-9cad-0dd023b33d3a\")>,\n",
       " <selenium.webdriver.remote.webelement.WebElement (session=\"a93c1e261705c60fa60b3d86830f27be\", element=\"0f1e0982-0881-4ceb-953f-fbd8687a1a9a\")>,\n",
       " <selenium.webdriver.remote.webelement.WebElement (session=\"a93c1e261705c60fa60b3d86830f27be\", element=\"0d9d99f2-c118-4c89-b233-0d8769d0b927\")>,\n",
       " <selenium.webdriver.remote.webelement.WebElement (session=\"a93c1e261705c60fa60b3d86830f27be\", element=\"3c7116a9-81c9-460f-9623-697ae410dcef\")>,\n",
       " <selenium.webdriver.remote.webelement.WebElement (session=\"a93c1e261705c60fa60b3d86830f27be\", element=\"64eb8fb9-c7f6-4515-95e6-e665db2e6c05\")>,\n",
       " <selenium.webdriver.remote.webelement.WebElement (session=\"a93c1e261705c60fa60b3d86830f27be\", element=\"fb42aa28-13bc-4d22-84c4-1f314881df73\")>,\n",
       " <selenium.webdriver.remote.webelement.WebElement (session=\"a93c1e261705c60fa60b3d86830f27be\", element=\"b4db4644-b26e-437b-ac3f-31ba8a809e0c\")>,\n",
       " <selenium.webdriver.remote.webelement.WebElement (session=\"a93c1e261705c60fa60b3d86830f27be\", element=\"7df2352f-9fe1-431e-b650-d576f6ce0953\")>,\n",
       " <selenium.webdriver.remote.webelement.WebElement (session=\"a93c1e261705c60fa60b3d86830f27be\", element=\"af4d3066-ebed-4b31-a432-18ab102afd79\")>,\n",
       " <selenium.webdriver.remote.webelement.WebElement (session=\"a93c1e261705c60fa60b3d86830f27be\", element=\"e902c8c2-fe93-404a-a706-cd53d595f169\")>,\n",
       " <selenium.webdriver.remote.webelement.WebElement (session=\"a93c1e261705c60fa60b3d86830f27be\", element=\"df279894-dbef-4529-92b3-573eeb41b490\")>,\n",
       " <selenium.webdriver.remote.webelement.WebElement (session=\"a93c1e261705c60fa60b3d86830f27be\", element=\"49427069-421b-4c7e-87be-b1608fcfced2\")>,\n",
       " <selenium.webdriver.remote.webelement.WebElement (session=\"a93c1e261705c60fa60b3d86830f27be\", element=\"f094a4e3-296b-4515-b88b-275b3f1477f9\")>,\n",
       " <selenium.webdriver.remote.webelement.WebElement (session=\"a93c1e261705c60fa60b3d86830f27be\", element=\"cfbc917b-e7d1-44da-b9c9-0829c66ff780\")>,\n",
       " <selenium.webdriver.remote.webelement.WebElement (session=\"a93c1e261705c60fa60b3d86830f27be\", element=\"f99b3f00-6609-4db0-a06b-7988bdab6c78\")>,\n",
       " <selenium.webdriver.remote.webelement.WebElement (session=\"a93c1e261705c60fa60b3d86830f27be\", element=\"8c0b00da-4c31-4c13-bbc7-80e7c1a133c1\")>,\n",
       " <selenium.webdriver.remote.webelement.WebElement (session=\"a93c1e261705c60fa60b3d86830f27be\", element=\"5fe784a0-1eeb-4fa7-b91c-0f461fc55e71\")>,\n",
       " <selenium.webdriver.remote.webelement.WebElement (session=\"a93c1e261705c60fa60b3d86830f27be\", element=\"6c39deff-54e5-4981-90d1-3d5a7ea8aa67\")>]"
      ]
     },
     "execution_count": 211,
     "metadata": {},
     "output_type": "execute_result"
    }
   ],
   "source": [
    "#extracting all the tags which contain brands for first 100 sneakers\n",
    "brands_tags=driver.find_elements_by_xpath(\"//div[@class='_2WkVRV']\")  \n",
    "brands_tags[0:100]"
   ]
  },
  {
   "cell_type": "code",
   "execution_count": 212,
   "id": "7b96c134",
   "metadata": {},
   "outputs": [
    {
     "data": {
      "text/plain": [
       "['ADIDAS ORIGINALS',\n",
       " 'Extoes',\n",
       " 'URBANBOX',\n",
       " 'aadi',\n",
       " 'corsac',\n",
       " 'Chevit',\n",
       " 'D-SNEAKERZ',\n",
       " 'Nilatin',\n",
       " 'BRUTON',\n",
       " 'World Wear Footwear',\n",
       " 'Labbin',\n",
       " 'U.S. POLO ASSN.',\n",
       " 'World Wear Footwear',\n",
       " 'Magnolia',\n",
       " 'World Wear Footwear',\n",
       " 'FEWROK',\n",
       " 'aadi',\n",
       " 'ASTEROID',\n",
       " 'Chevit',\n",
       " 'Bacan',\n",
       " 'Kraasa',\n",
       " 'PUMA',\n",
       " 'BIRDE',\n",
       " 'Bacan',\n",
       " 'ASTEROID',\n",
       " 'SCATCHITE',\n",
       " 'BRUTON',\n",
       " 'Bacan',\n",
       " 'aadi',\n",
       " 'Kraasa',\n",
       " 'Chevit',\n",
       " 'STRANGER BROTHERS',\n",
       " 'World Wear Footwear',\n",
       " 'Airland',\n",
       " 'D-SNEAKERZ',\n",
       " 'U.S. POLO ASSN.',\n",
       " 'corsac',\n",
       " 'BIRDE',\n",
       " 'Arohi',\n",
       " 'Red Rose']"
      ]
     },
     "execution_count": 212,
     "metadata": {},
     "output_type": "execute_result"
    }
   ],
   "source": [
    "#now extracting all the data from these tags in text form\n",
    "for i in brands_tags:\n",
    "    brand=i.text\n",
    "    Brands.append(brand)\n",
    "    \n",
    "Brands[0:100]"
   ]
  },
  {
   "cell_type": "code",
   "execution_count": 213,
   "id": "d47a0374",
   "metadata": {},
   "outputs": [
    {
     "data": {
      "text/plain": [
       "[<selenium.webdriver.remote.webelement.WebElement (session=\"a93c1e261705c60fa60b3d86830f27be\", element=\"13431dac-3c9b-44bf-92e2-4d77e0f5a948\")>,\n",
       " <selenium.webdriver.remote.webelement.WebElement (session=\"a93c1e261705c60fa60b3d86830f27be\", element=\"d4007796-212d-4e37-8576-117532f4af76\")>,\n",
       " <selenium.webdriver.remote.webelement.WebElement (session=\"a93c1e261705c60fa60b3d86830f27be\", element=\"b8371067-2c50-4df8-9280-f1d1c53980a9\")>,\n",
       " <selenium.webdriver.remote.webelement.WebElement (session=\"a93c1e261705c60fa60b3d86830f27be\", element=\"4bc32119-13a9-4bc5-8a39-59cf166a029b\")>,\n",
       " <selenium.webdriver.remote.webelement.WebElement (session=\"a93c1e261705c60fa60b3d86830f27be\", element=\"cd6c761a-d6f3-49de-a294-391c04a4e5ad\")>,\n",
       " <selenium.webdriver.remote.webelement.WebElement (session=\"a93c1e261705c60fa60b3d86830f27be\", element=\"605375f4-71c2-4bdd-bb9d-f87b8f303151\")>,\n",
       " <selenium.webdriver.remote.webelement.WebElement (session=\"a93c1e261705c60fa60b3d86830f27be\", element=\"3aae94fa-3727-473b-92f7-58524e1a9982\")>,\n",
       " <selenium.webdriver.remote.webelement.WebElement (session=\"a93c1e261705c60fa60b3d86830f27be\", element=\"43a1f3b6-c5b6-4fdd-afc0-6431cac2ebe5\")>,\n",
       " <selenium.webdriver.remote.webelement.WebElement (session=\"a93c1e261705c60fa60b3d86830f27be\", element=\"90869628-55e8-450d-b838-0639efae30e6\")>,\n",
       " <selenium.webdriver.remote.webelement.WebElement (session=\"a93c1e261705c60fa60b3d86830f27be\", element=\"f0d42287-a4e5-46dd-b78b-e0420a6a8e6e\")>,\n",
       " <selenium.webdriver.remote.webelement.WebElement (session=\"a93c1e261705c60fa60b3d86830f27be\", element=\"14927457-ec59-4c57-9daf-4daaf9f0503f\")>,\n",
       " <selenium.webdriver.remote.webelement.WebElement (session=\"a93c1e261705c60fa60b3d86830f27be\", element=\"c40bfb75-dfbe-4c2f-8808-3a5d031bf305\")>,\n",
       " <selenium.webdriver.remote.webelement.WebElement (session=\"a93c1e261705c60fa60b3d86830f27be\", element=\"51029447-c005-49f6-916f-bea91ea06c9c\")>,\n",
       " <selenium.webdriver.remote.webelement.WebElement (session=\"a93c1e261705c60fa60b3d86830f27be\", element=\"d1f23b63-29c8-429c-a029-b1b521d27285\")>,\n",
       " <selenium.webdriver.remote.webelement.WebElement (session=\"a93c1e261705c60fa60b3d86830f27be\", element=\"56b1073b-df63-4216-91b3-2650ded93a2f\")>,\n",
       " <selenium.webdriver.remote.webelement.WebElement (session=\"a93c1e261705c60fa60b3d86830f27be\", element=\"241f1436-d402-48d0-a975-e13e424e5040\")>,\n",
       " <selenium.webdriver.remote.webelement.WebElement (session=\"a93c1e261705c60fa60b3d86830f27be\", element=\"12920d24-66f2-4773-af69-da2676090ca2\")>,\n",
       " <selenium.webdriver.remote.webelement.WebElement (session=\"a93c1e261705c60fa60b3d86830f27be\", element=\"b6b2a1b0-1a25-4cca-a197-e871217e0f28\")>,\n",
       " <selenium.webdriver.remote.webelement.WebElement (session=\"a93c1e261705c60fa60b3d86830f27be\", element=\"43f2ef28-4b36-4886-95a1-815a7d5b142a\")>,\n",
       " <selenium.webdriver.remote.webelement.WebElement (session=\"a93c1e261705c60fa60b3d86830f27be\", element=\"73508c3b-6f62-426d-b999-e2290cd91aff\")>,\n",
       " <selenium.webdriver.remote.webelement.WebElement (session=\"a93c1e261705c60fa60b3d86830f27be\", element=\"99849019-2b7e-4eb0-80e6-7ae269476d40\")>,\n",
       " <selenium.webdriver.remote.webelement.WebElement (session=\"a93c1e261705c60fa60b3d86830f27be\", element=\"11c4a699-5f22-4a61-ba61-c6f49374f416\")>,\n",
       " <selenium.webdriver.remote.webelement.WebElement (session=\"a93c1e261705c60fa60b3d86830f27be\", element=\"9b50ca66-8127-4be9-947d-c521f89d47a2\")>,\n",
       " <selenium.webdriver.remote.webelement.WebElement (session=\"a93c1e261705c60fa60b3d86830f27be\", element=\"1b94f780-5f92-4437-a7a2-0d905916b180\")>,\n",
       " <selenium.webdriver.remote.webelement.WebElement (session=\"a93c1e261705c60fa60b3d86830f27be\", element=\"a207734a-4a6a-4d4e-90e4-b5cd5e2af3c5\")>,\n",
       " <selenium.webdriver.remote.webelement.WebElement (session=\"a93c1e261705c60fa60b3d86830f27be\", element=\"066a2dce-b9b1-4b83-a2f7-69c8586399ea\")>,\n",
       " <selenium.webdriver.remote.webelement.WebElement (session=\"a93c1e261705c60fa60b3d86830f27be\", element=\"80861367-b0ac-4ad1-b22c-c89d4a953553\")>,\n",
       " <selenium.webdriver.remote.webelement.WebElement (session=\"a93c1e261705c60fa60b3d86830f27be\", element=\"63987506-19bc-4fb6-b171-627c18b20024\")>,\n",
       " <selenium.webdriver.remote.webelement.WebElement (session=\"a93c1e261705c60fa60b3d86830f27be\", element=\"66fb5270-b736-492a-b5ac-920b4445b713\")>,\n",
       " <selenium.webdriver.remote.webelement.WebElement (session=\"a93c1e261705c60fa60b3d86830f27be\", element=\"274d89fb-f732-4357-b87c-170f30f2ff0b\")>,\n",
       " <selenium.webdriver.remote.webelement.WebElement (session=\"a93c1e261705c60fa60b3d86830f27be\", element=\"83d3c796-90fb-4dcd-8680-005dc537ac25\")>,\n",
       " <selenium.webdriver.remote.webelement.WebElement (session=\"a93c1e261705c60fa60b3d86830f27be\", element=\"dc623897-4467-42b7-9dd1-9cbb8f8b0169\")>,\n",
       " <selenium.webdriver.remote.webelement.WebElement (session=\"a93c1e261705c60fa60b3d86830f27be\", element=\"a9520ea2-a267-4194-9499-e24fb7d7a337\")>,\n",
       " <selenium.webdriver.remote.webelement.WebElement (session=\"a93c1e261705c60fa60b3d86830f27be\", element=\"4895c026-01ae-4e7a-bd8d-2f0593f7765e\")>,\n",
       " <selenium.webdriver.remote.webelement.WebElement (session=\"a93c1e261705c60fa60b3d86830f27be\", element=\"5c1f410a-848e-45c3-a3f4-64573cb8ca79\")>,\n",
       " <selenium.webdriver.remote.webelement.WebElement (session=\"a93c1e261705c60fa60b3d86830f27be\", element=\"20cca675-1a6b-477c-b0ef-08ed79320386\")>]"
      ]
     },
     "execution_count": 213,
     "metadata": {},
     "output_type": "execute_result"
    }
   ],
   "source": [
    "description_tags=driver.find_elements_by_xpath(\"//a[@class='IRpwTa']\")  \n",
    "description_tags[0:100]"
   ]
  },
  {
   "cell_type": "code",
   "execution_count": 214,
   "id": "adcae4cc",
   "metadata": {},
   "outputs": [
    {
     "data": {
      "text/plain": [
       "['SMOOTH RUNNER Sneakers For Men',\n",
       " 'Lighweight, slip-on and lace-up Sneakers For Men',\n",
       " 'Sneakers For Men',\n",
       " 'STYLISH MENS BLACK SNEAKER Sneakers For Men',\n",
       " '516 Trendy Star Perfect Sneakers For Men',\n",
       " \"Casual , Partywear Sneakers Shoes For Men's And Boys Wh...\",\n",
       " 'Sneakers For Men',\n",
       " 'Canvas shoes for Men Sneakers For Men',\n",
       " '5013-Latest Collection Stylish & Trendy of casuals Snea...',\n",
       " 'Sneakers For Men',\n",
       " 'Sneakers For Men',\n",
       " '5011-Latest Collection Stylish & Trendy Casual Sneakers...',\n",
       " 'Sneakers For Men',\n",
       " 'Men 5014 Latest Collection Stylish Casual Sports Loafer...',\n",
       " 'Sneakers For Men',\n",
       " \"Luxury Branded Fashionable Men's Casual Walking Partywe...\",\n",
       " 'Perfect Combo Pack of 03 Pairs Casual Sneakers Outdoor ...',\n",
       " 'Sneakers For Men',\n",
       " 'Casuals, Canvas, Partywear Sneakers For Men',\n",
       " 'Blend Sneakers For Men',\n",
       " 'Stylish Comfortable Lightweight, Breathable Walking Sho...',\n",
       " 'Sneakers For Men',\n",
       " \"Original Luxury Branded Fashionable Men's Casual Walkin...\",\n",
       " 'Sneakers Sneakers For Men',\n",
       " 'Lightweight Pack Of 1 Trendy Sneakers Sneakers For Men',\n",
       " 'Sneakers For Men',\n",
       " 'Sneakers For Men',\n",
       " 'Series 7 Sneakers For Men',\n",
       " 'Fashionable shoes for men Sneakers For Men',\n",
       " 'Latest Collection-1227 Stylish Casual Sports Sneakers F...',\n",
       " 'Sneakers For Men',\n",
       " \"Casual , Partywear Sneakers Shoes For Men's And Boys Wh...\",\n",
       " 'Sneakers For Men',\n",
       " 'Stylish Comfortable Lightweight, Breathable Walking Sho...',\n",
       " 'Sneakers For Men',\n",
       " 'Sneakers For Men']"
      ]
     },
     "execution_count": 214,
     "metadata": {},
     "output_type": "execute_result"
    }
   ],
   "source": [
    "for i in description_tags:\n",
    "    desc=i.text\n",
    "    p_Desc.append(desc)\n",
    "    \n",
    "p_Desc[0:100]"
   ]
  },
  {
   "cell_type": "code",
   "execution_count": 215,
   "id": "cce1f4f9",
   "metadata": {},
   "outputs": [
    {
     "data": {
      "text/plain": [
       "[<selenium.webdriver.remote.webelement.WebElement (session=\"a93c1e261705c60fa60b3d86830f27be\", element=\"ef455025-a76f-4865-af2c-1c441a5473a1\")>,\n",
       " <selenium.webdriver.remote.webelement.WebElement (session=\"a93c1e261705c60fa60b3d86830f27be\", element=\"2a25c11e-7762-468a-b9f6-fec4059ac07f\")>,\n",
       " <selenium.webdriver.remote.webelement.WebElement (session=\"a93c1e261705c60fa60b3d86830f27be\", element=\"7ba2f28e-2c57-46b1-8861-5977daebfc86\")>,\n",
       " <selenium.webdriver.remote.webelement.WebElement (session=\"a93c1e261705c60fa60b3d86830f27be\", element=\"46f43d1d-5a63-4c00-9b91-b739653248b8\")>,\n",
       " <selenium.webdriver.remote.webelement.WebElement (session=\"a93c1e261705c60fa60b3d86830f27be\", element=\"e7ede7c8-a87b-4be9-9064-198f8d5cb3e0\")>,\n",
       " <selenium.webdriver.remote.webelement.WebElement (session=\"a93c1e261705c60fa60b3d86830f27be\", element=\"7414c94d-bfee-4235-8c4c-8cea2eec05f4\")>,\n",
       " <selenium.webdriver.remote.webelement.WebElement (session=\"a93c1e261705c60fa60b3d86830f27be\", element=\"0b424c3f-860d-4aa1-a0f4-a67f251f9ec9\")>,\n",
       " <selenium.webdriver.remote.webelement.WebElement (session=\"a93c1e261705c60fa60b3d86830f27be\", element=\"e79a7f9c-10c5-4337-ad96-60a5c73a09ef\")>,\n",
       " <selenium.webdriver.remote.webelement.WebElement (session=\"a93c1e261705c60fa60b3d86830f27be\", element=\"05521878-4c93-45f4-8ace-34d47617a447\")>,\n",
       " <selenium.webdriver.remote.webelement.WebElement (session=\"a93c1e261705c60fa60b3d86830f27be\", element=\"24b6f5c6-f9f4-4136-8ce0-98c10fe2f21c\")>,\n",
       " <selenium.webdriver.remote.webelement.WebElement (session=\"a93c1e261705c60fa60b3d86830f27be\", element=\"b72428be-6601-4e60-961f-47b5e01cb3ad\")>,\n",
       " <selenium.webdriver.remote.webelement.WebElement (session=\"a93c1e261705c60fa60b3d86830f27be\", element=\"76ad31d3-88d5-4dfa-8cde-e8417863e450\")>,\n",
       " <selenium.webdriver.remote.webelement.WebElement (session=\"a93c1e261705c60fa60b3d86830f27be\", element=\"86bccdd2-8fa1-4863-a3b6-482b0ece8632\")>,\n",
       " <selenium.webdriver.remote.webelement.WebElement (session=\"a93c1e261705c60fa60b3d86830f27be\", element=\"02440c9c-4f1c-4adf-954e-ea4e0a276d9d\")>,\n",
       " <selenium.webdriver.remote.webelement.WebElement (session=\"a93c1e261705c60fa60b3d86830f27be\", element=\"8c5dd803-9718-44c4-8f21-6c39fc981883\")>,\n",
       " <selenium.webdriver.remote.webelement.WebElement (session=\"a93c1e261705c60fa60b3d86830f27be\", element=\"ee218c59-cfa6-4fce-827b-ce11dbd300cb\")>,\n",
       " <selenium.webdriver.remote.webelement.WebElement (session=\"a93c1e261705c60fa60b3d86830f27be\", element=\"4d02f65d-bb8c-4456-b927-2be213d2d10e\")>,\n",
       " <selenium.webdriver.remote.webelement.WebElement (session=\"a93c1e261705c60fa60b3d86830f27be\", element=\"32390fcb-28b2-4923-88ad-4ac76948abf3\")>,\n",
       " <selenium.webdriver.remote.webelement.WebElement (session=\"a93c1e261705c60fa60b3d86830f27be\", element=\"27ff75d3-5958-4fd1-8d7b-ed4463dbb25d\")>,\n",
       " <selenium.webdriver.remote.webelement.WebElement (session=\"a93c1e261705c60fa60b3d86830f27be\", element=\"5ef3aef4-2da3-4d69-90ff-7dbca4c2f082\")>,\n",
       " <selenium.webdriver.remote.webelement.WebElement (session=\"a93c1e261705c60fa60b3d86830f27be\", element=\"34a8cfc9-b3d8-4b9f-a50b-7a9a81178ad0\")>,\n",
       " <selenium.webdriver.remote.webelement.WebElement (session=\"a93c1e261705c60fa60b3d86830f27be\", element=\"618ea5f6-26b2-4b6f-89a7-5e52ccf56845\")>,\n",
       " <selenium.webdriver.remote.webelement.WebElement (session=\"a93c1e261705c60fa60b3d86830f27be\", element=\"90e5ebd7-d6cb-4760-8b4a-32b985eb70fc\")>,\n",
       " <selenium.webdriver.remote.webelement.WebElement (session=\"a93c1e261705c60fa60b3d86830f27be\", element=\"6f2e64f1-17f0-4ca6-a92b-1cdafd71949b\")>,\n",
       " <selenium.webdriver.remote.webelement.WebElement (session=\"a93c1e261705c60fa60b3d86830f27be\", element=\"5a722bcc-5dec-4fa1-8c4c-28e16b147ad1\")>,\n",
       " <selenium.webdriver.remote.webelement.WebElement (session=\"a93c1e261705c60fa60b3d86830f27be\", element=\"23dded14-bd02-4605-8f23-5513fe0142f1\")>,\n",
       " <selenium.webdriver.remote.webelement.WebElement (session=\"a93c1e261705c60fa60b3d86830f27be\", element=\"2179c432-b984-465e-8378-891d432713a9\")>,\n",
       " <selenium.webdriver.remote.webelement.WebElement (session=\"a93c1e261705c60fa60b3d86830f27be\", element=\"12ba2214-ef08-4e1f-81d9-11a000c60c27\")>,\n",
       " <selenium.webdriver.remote.webelement.WebElement (session=\"a93c1e261705c60fa60b3d86830f27be\", element=\"4fce775e-2575-45e7-acaf-be76aedbb7e3\")>,\n",
       " <selenium.webdriver.remote.webelement.WebElement (session=\"a93c1e261705c60fa60b3d86830f27be\", element=\"afd4bb9e-6541-4b1a-aec0-dec2caf09aa3\")>,\n",
       " <selenium.webdriver.remote.webelement.WebElement (session=\"a93c1e261705c60fa60b3d86830f27be\", element=\"8681ff74-18cf-4699-a5d9-5ae0d9b58f65\")>,\n",
       " <selenium.webdriver.remote.webelement.WebElement (session=\"a93c1e261705c60fa60b3d86830f27be\", element=\"5516f6da-cf7e-441c-a4f1-dda5c151b4c4\")>,\n",
       " <selenium.webdriver.remote.webelement.WebElement (session=\"a93c1e261705c60fa60b3d86830f27be\", element=\"54f4903d-1d3d-4c63-b7d9-8a2f17a9935c\")>,\n",
       " <selenium.webdriver.remote.webelement.WebElement (session=\"a93c1e261705c60fa60b3d86830f27be\", element=\"79d08cb2-1360-4cba-98c7-cdc665e54bc8\")>,\n",
       " <selenium.webdriver.remote.webelement.WebElement (session=\"a93c1e261705c60fa60b3d86830f27be\", element=\"000d8f73-f7c5-4323-925c-8154c08a21e6\")>,\n",
       " <selenium.webdriver.remote.webelement.WebElement (session=\"a93c1e261705c60fa60b3d86830f27be\", element=\"452f4bce-e74b-4ec9-825b-ccf569065eca\")>,\n",
       " <selenium.webdriver.remote.webelement.WebElement (session=\"a93c1e261705c60fa60b3d86830f27be\", element=\"3aa99505-ab70-4f80-8726-773464ba5917\")>,\n",
       " <selenium.webdriver.remote.webelement.WebElement (session=\"a93c1e261705c60fa60b3d86830f27be\", element=\"d7094f5b-484a-4f82-ab37-c88eca367b2f\")>,\n",
       " <selenium.webdriver.remote.webelement.WebElement (session=\"a93c1e261705c60fa60b3d86830f27be\", element=\"0fed4a2a-5ba8-4b8f-94d6-822099a115a4\")>,\n",
       " <selenium.webdriver.remote.webelement.WebElement (session=\"a93c1e261705c60fa60b3d86830f27be\", element=\"b555ae6c-d6bc-4c82-bbfb-06a5d097a43d\")>]"
      ]
     },
     "execution_count": 215,
     "metadata": {},
     "output_type": "execute_result"
    }
   ],
   "source": [
    "Prices_tags=driver.find_elements_by_xpath(\"//div[@class='_30jeq3']\")\n",
    "Prices_tags[0:100]\n"
   ]
  },
  {
   "cell_type": "code",
   "execution_count": 216,
   "id": "440b9a16",
   "metadata": {},
   "outputs": [
    {
     "data": {
      "text/plain": [
       "['₹5,209',\n",
       " '₹498',\n",
       " '₹158',\n",
       " '₹269',\n",
       " '₹449',\n",
       " '₹249',\n",
       " '₹349',\n",
       " '₹424',\n",
       " '₹299',\n",
       " '₹199',\n",
       " '₹424',\n",
       " '₹2,579',\n",
       " '₹199',\n",
       " '₹422',\n",
       " '₹199',\n",
       " '₹369',\n",
       " '₹269',\n",
       " '₹449',\n",
       " '₹565',\n",
       " '₹449',\n",
       " '₹421',\n",
       " '₹1,749',\n",
       " '₹347',\n",
       " '₹449',\n",
       " '₹449',\n",
       " '₹348',\n",
       " '₹158',\n",
       " '₹399',\n",
       " '₹269',\n",
       " '₹421',\n",
       " '₹209',\n",
       " '₹409',\n",
       " '₹199',\n",
       " '₹209',\n",
       " '₹384',\n",
       " '₹2,469',\n",
       " '₹499',\n",
       " '₹369',\n",
       " '₹379',\n",
       " '₹349']"
      ]
     },
     "execution_count": 216,
     "metadata": {},
     "output_type": "execute_result"
    }
   ],
   "source": [
    "for i in Prices_tags:\n",
    "    amount=i.text\n",
    "    s_price.append(amount)\n",
    "    \n",
    "s_price[0:100]"
   ]
  },
  {
   "cell_type": "code",
   "execution_count": 218,
   "id": "da7de883",
   "metadata": {},
   "outputs": [],
   "source": [
    "#clicking on the next button for extracting remaining data\n",
    "next_button=driver.find_element_by_xpath(\"/html/body/div[1]/div/div[3]/div[1]/div[2]/div[12]/div/div/nav/a[11]/span\")\n",
    "next_button.click()"
   ]
  },
  {
   "cell_type": "code",
   "execution_count": 219,
   "id": "4f4db524",
   "metadata": {},
   "outputs": [
    {
     "data": {
      "text/plain": [
       "[<selenium.webdriver.remote.webelement.WebElement (session=\"a93c1e261705c60fa60b3d86830f27be\", element=\"96c39200-aa98-45c9-bce0-83e998f816d0\")>,\n",
       " <selenium.webdriver.remote.webelement.WebElement (session=\"a93c1e261705c60fa60b3d86830f27be\", element=\"51bf1c47-9f00-448d-999a-d98027979775\")>,\n",
       " <selenium.webdriver.remote.webelement.WebElement (session=\"a93c1e261705c60fa60b3d86830f27be\", element=\"e182a30d-f8e6-41bc-878f-a6a66c6e322d\")>,\n",
       " <selenium.webdriver.remote.webelement.WebElement (session=\"a93c1e261705c60fa60b3d86830f27be\", element=\"8495f2ca-1465-4eb4-aa01-a7f692d008c5\")>,\n",
       " <selenium.webdriver.remote.webelement.WebElement (session=\"a93c1e261705c60fa60b3d86830f27be\", element=\"10386b81-5dac-4078-8037-ec920e6b3c3d\")>,\n",
       " <selenium.webdriver.remote.webelement.WebElement (session=\"a93c1e261705c60fa60b3d86830f27be\", element=\"5c14b236-63cc-49e4-9141-7bc34d44dfdb\")>,\n",
       " <selenium.webdriver.remote.webelement.WebElement (session=\"a93c1e261705c60fa60b3d86830f27be\", element=\"fce2509a-dcb8-4d90-91f4-2b1d6fb0063e\")>,\n",
       " <selenium.webdriver.remote.webelement.WebElement (session=\"a93c1e261705c60fa60b3d86830f27be\", element=\"6bb688e8-cda8-453e-a641-3e17cb9c99a4\")>,\n",
       " <selenium.webdriver.remote.webelement.WebElement (session=\"a93c1e261705c60fa60b3d86830f27be\", element=\"bd71c978-e831-4608-b848-4dbadb919b57\")>,\n",
       " <selenium.webdriver.remote.webelement.WebElement (session=\"a93c1e261705c60fa60b3d86830f27be\", element=\"4caa77a3-2a19-44de-9d6e-175934237879\")>,\n",
       " <selenium.webdriver.remote.webelement.WebElement (session=\"a93c1e261705c60fa60b3d86830f27be\", element=\"665dac2a-f651-49d5-adbc-c9c7762179d2\")>,\n",
       " <selenium.webdriver.remote.webelement.WebElement (session=\"a93c1e261705c60fa60b3d86830f27be\", element=\"47e83b5d-32f6-41ad-845b-e42fd6ef5b83\")>,\n",
       " <selenium.webdriver.remote.webelement.WebElement (session=\"a93c1e261705c60fa60b3d86830f27be\", element=\"ce28df9b-36a3-42e8-912f-bb3821c48b8d\")>,\n",
       " <selenium.webdriver.remote.webelement.WebElement (session=\"a93c1e261705c60fa60b3d86830f27be\", element=\"60bca975-1bef-429c-b19e-73c0d68041fb\")>,\n",
       " <selenium.webdriver.remote.webelement.WebElement (session=\"a93c1e261705c60fa60b3d86830f27be\", element=\"213a8744-03a6-4887-947d-a65c9331ff42\")>,\n",
       " <selenium.webdriver.remote.webelement.WebElement (session=\"a93c1e261705c60fa60b3d86830f27be\", element=\"745bf8a7-e804-4f10-a845-3b2c356e793c\")>,\n",
       " <selenium.webdriver.remote.webelement.WebElement (session=\"a93c1e261705c60fa60b3d86830f27be\", element=\"2b09e667-148e-41f1-aeb5-5f8405a89bcf\")>,\n",
       " <selenium.webdriver.remote.webelement.WebElement (session=\"a93c1e261705c60fa60b3d86830f27be\", element=\"1b2af5f4-02f2-4728-a30a-dc88d982c9ab\")>,\n",
       " <selenium.webdriver.remote.webelement.WebElement (session=\"a93c1e261705c60fa60b3d86830f27be\", element=\"b9f8402d-671d-43d0-9dc8-aa1584c8731c\")>,\n",
       " <selenium.webdriver.remote.webelement.WebElement (session=\"a93c1e261705c60fa60b3d86830f27be\", element=\"cbd0f1ac-ace3-48e7-b23c-c73bfde522b1\")>,\n",
       " <selenium.webdriver.remote.webelement.WebElement (session=\"a93c1e261705c60fa60b3d86830f27be\", element=\"a087ea64-f0b4-4d16-be7e-f343711a76a7\")>,\n",
       " <selenium.webdriver.remote.webelement.WebElement (session=\"a93c1e261705c60fa60b3d86830f27be\", element=\"3fc87a89-0427-4012-b4de-4e98e8af8128\")>,\n",
       " <selenium.webdriver.remote.webelement.WebElement (session=\"a93c1e261705c60fa60b3d86830f27be\", element=\"f47ca3ed-c86a-4297-94e2-39eab25080b8\")>,\n",
       " <selenium.webdriver.remote.webelement.WebElement (session=\"a93c1e261705c60fa60b3d86830f27be\", element=\"01524a28-edc6-487b-97b4-48084471bdb7\")>,\n",
       " <selenium.webdriver.remote.webelement.WebElement (session=\"a93c1e261705c60fa60b3d86830f27be\", element=\"e05b1540-1dac-4d62-aa1a-7795b095ff8d\")>,\n",
       " <selenium.webdriver.remote.webelement.WebElement (session=\"a93c1e261705c60fa60b3d86830f27be\", element=\"5d3ed5d3-ddf5-4052-8ef9-9878797a64a7\")>,\n",
       " <selenium.webdriver.remote.webelement.WebElement (session=\"a93c1e261705c60fa60b3d86830f27be\", element=\"2a295fd9-4645-4641-a540-81c4d1b57cd2\")>,\n",
       " <selenium.webdriver.remote.webelement.WebElement (session=\"a93c1e261705c60fa60b3d86830f27be\", element=\"4abe836f-d18e-465a-a9b8-ee42ab8ff00e\")>,\n",
       " <selenium.webdriver.remote.webelement.WebElement (session=\"a93c1e261705c60fa60b3d86830f27be\", element=\"62a82460-316b-4338-b535-d5a99c4b920e\")>,\n",
       " <selenium.webdriver.remote.webelement.WebElement (session=\"a93c1e261705c60fa60b3d86830f27be\", element=\"72f8c258-df1c-4e60-8559-cbde0c8f5671\")>,\n",
       " <selenium.webdriver.remote.webelement.WebElement (session=\"a93c1e261705c60fa60b3d86830f27be\", element=\"4dbe7835-af15-4cad-b3ea-bea2facc1ca9\")>,\n",
       " <selenium.webdriver.remote.webelement.WebElement (session=\"a93c1e261705c60fa60b3d86830f27be\", element=\"eb4315ca-041d-462b-9ddd-ef97c9baea2c\")>,\n",
       " <selenium.webdriver.remote.webelement.WebElement (session=\"a93c1e261705c60fa60b3d86830f27be\", element=\"6c7bc080-2c56-4271-8dbf-863f141c5870\")>,\n",
       " <selenium.webdriver.remote.webelement.WebElement (session=\"a93c1e261705c60fa60b3d86830f27be\", element=\"cae9a6f8-6869-4e0b-b02a-9c39e066dad5\")>,\n",
       " <selenium.webdriver.remote.webelement.WebElement (session=\"a93c1e261705c60fa60b3d86830f27be\", element=\"2ff0936f-b06a-456e-88ca-882c5c6dfe51\")>,\n",
       " <selenium.webdriver.remote.webelement.WebElement (session=\"a93c1e261705c60fa60b3d86830f27be\", element=\"4f5c3045-6131-4acc-a768-28749fbacdb3\")>,\n",
       " <selenium.webdriver.remote.webelement.WebElement (session=\"a93c1e261705c60fa60b3d86830f27be\", element=\"140a9006-c43f-4cd1-bc69-dd3bb7bc69c3\")>,\n",
       " <selenium.webdriver.remote.webelement.WebElement (session=\"a93c1e261705c60fa60b3d86830f27be\", element=\"c4f59da8-4661-4ea3-a050-630c3c894d14\")>,\n",
       " <selenium.webdriver.remote.webelement.WebElement (session=\"a93c1e261705c60fa60b3d86830f27be\", element=\"e2c212ef-1f14-4b8d-95c5-27d5c2983d7d\")>,\n",
       " <selenium.webdriver.remote.webelement.WebElement (session=\"a93c1e261705c60fa60b3d86830f27be\", element=\"e797adb4-1e22-48ce-b1cb-d90f9cb29cbc\")>]"
      ]
     },
     "execution_count": 219,
     "metadata": {},
     "output_type": "execute_result"
    }
   ],
   "source": [
    "search_more_names=driver.find_elements_by_xpath(\"//div[@class='_2WkVRV']\")\n",
    "search_more_names[0:100]"
   ]
  },
  {
   "cell_type": "code",
   "execution_count": 220,
   "id": "5f09583c",
   "metadata": {},
   "outputs": [
    {
     "data": {
      "text/plain": [
       "['ADIDAS ORIGINALS',\n",
       " 'Extoes',\n",
       " 'URBANBOX',\n",
       " 'aadi',\n",
       " 'corsac',\n",
       " 'Chevit',\n",
       " 'D-SNEAKERZ',\n",
       " 'Nilatin',\n",
       " 'BRUTON',\n",
       " 'World Wear Footwear',\n",
       " 'Labbin',\n",
       " 'U.S. POLO ASSN.',\n",
       " 'World Wear Footwear',\n",
       " 'Magnolia',\n",
       " 'World Wear Footwear',\n",
       " 'FEWROK',\n",
       " 'aadi',\n",
       " 'ASTEROID',\n",
       " 'Chevit',\n",
       " 'Bacan',\n",
       " 'Kraasa',\n",
       " 'PUMA',\n",
       " 'BIRDE',\n",
       " 'Bacan',\n",
       " 'ASTEROID',\n",
       " 'SCATCHITE',\n",
       " 'BRUTON',\n",
       " 'Bacan',\n",
       " 'aadi',\n",
       " 'Kraasa',\n",
       " 'Chevit',\n",
       " 'STRANGER BROTHERS',\n",
       " 'World Wear Footwear',\n",
       " 'Airland',\n",
       " 'D-SNEAKERZ',\n",
       " 'U.S. POLO ASSN.',\n",
       " 'corsac',\n",
       " 'BIRDE',\n",
       " 'Arohi',\n",
       " 'Red Rose',\n",
       " 'Robbie jones',\n",
       " 'CLYMB',\n",
       " 'EMPTILE',\n",
       " 'BIRDE',\n",
       " 'BRUTON',\n",
       " 'Rzisbo',\n",
       " 'BRUTON',\n",
       " 'Bacan',\n",
       " 'Echor',\n",
       " 'bluemaker',\n",
       " 'Hida',\n",
       " 'BIRDE',\n",
       " 'BRUTON',\n",
       " 'ZF Klub',\n",
       " 'Robbie jones',\n",
       " 'BIRDE',\n",
       " 'BIRDE',\n",
       " 'ONECENTRE',\n",
       " 'Stefano Rads',\n",
       " 'LANCER',\n",
       " 'Layasa',\n",
       " 'WHITE WALKERS',\n",
       " 'SPARX',\n",
       " 'LANCER',\n",
       " 'Chevit',\n",
       " 'RapidBox',\n",
       " 'Shoes Bank',\n",
       " 'LANCER',\n",
       " 'BIRDE',\n",
       " 'Zsyto',\n",
       " 'WHITE WALKERS',\n",
       " 'LANCER',\n",
       " 'KNIGHT WALKERS',\n",
       " 'Echor',\n",
       " 'BRUTON',\n",
       " 'Stinson',\n",
       " 'Robbie jones',\n",
       " 'aadi',\n",
       " 'Kzaara',\n",
       " 'Nilatin']"
      ]
     },
     "execution_count": 220,
     "metadata": {},
     "output_type": "execute_result"
    }
   ],
   "source": [
    "#to extract the above tags for more names of sneakers\n",
    "for i in search_more_names:\n",
    "    namess=i.text\n",
    "    Brands.append(namess)\n",
    "    \n",
    "Brands[0:100]"
   ]
  },
  {
   "cell_type": "code",
   "execution_count": 221,
   "id": "d6fc55e3",
   "metadata": {},
   "outputs": [
    {
     "data": {
      "text/plain": [
       "[<selenium.webdriver.remote.webelement.WebElement (session=\"a93c1e261705c60fa60b3d86830f27be\", element=\"e68335ca-b62d-43e1-b94d-328013849a7e\")>,\n",
       " <selenium.webdriver.remote.webelement.WebElement (session=\"a93c1e261705c60fa60b3d86830f27be\", element=\"bef0784a-2c96-4293-9e4f-1871bc4212e9\")>,\n",
       " <selenium.webdriver.remote.webelement.WebElement (session=\"a93c1e261705c60fa60b3d86830f27be\", element=\"85aa01ca-c3b5-45e6-a624-3f6d2434ee1e\")>,\n",
       " <selenium.webdriver.remote.webelement.WebElement (session=\"a93c1e261705c60fa60b3d86830f27be\", element=\"33a15743-46a6-4944-ac26-c0d955326c59\")>,\n",
       " <selenium.webdriver.remote.webelement.WebElement (session=\"a93c1e261705c60fa60b3d86830f27be\", element=\"8ba50ead-36f4-4691-9f13-49156441db84\")>,\n",
       " <selenium.webdriver.remote.webelement.WebElement (session=\"a93c1e261705c60fa60b3d86830f27be\", element=\"319778b8-2fe7-430c-b9b0-c85d17febdf1\")>,\n",
       " <selenium.webdriver.remote.webelement.WebElement (session=\"a93c1e261705c60fa60b3d86830f27be\", element=\"07584ee1-ce86-4e0d-a25e-0b671660c9d7\")>,\n",
       " <selenium.webdriver.remote.webelement.WebElement (session=\"a93c1e261705c60fa60b3d86830f27be\", element=\"1b4fa326-ac93-4937-a3f6-a0a484a5878d\")>,\n",
       " <selenium.webdriver.remote.webelement.WebElement (session=\"a93c1e261705c60fa60b3d86830f27be\", element=\"dbb9bb2a-2ced-4699-a76c-32184be4ab50\")>,\n",
       " <selenium.webdriver.remote.webelement.WebElement (session=\"a93c1e261705c60fa60b3d86830f27be\", element=\"3683a9a6-c649-4847-bdf5-80a350554c98\")>,\n",
       " <selenium.webdriver.remote.webelement.WebElement (session=\"a93c1e261705c60fa60b3d86830f27be\", element=\"64f1ca91-d920-44e3-ad84-8b763bad2a3e\")>,\n",
       " <selenium.webdriver.remote.webelement.WebElement (session=\"a93c1e261705c60fa60b3d86830f27be\", element=\"e9eb72fa-8bd8-4ac4-930f-dac23a2a749e\")>,\n",
       " <selenium.webdriver.remote.webelement.WebElement (session=\"a93c1e261705c60fa60b3d86830f27be\", element=\"36e52de9-4b39-46a7-89bd-034e9a27fb28\")>,\n",
       " <selenium.webdriver.remote.webelement.WebElement (session=\"a93c1e261705c60fa60b3d86830f27be\", element=\"b02d1618-3f27-40fa-bfba-edc744bb8b61\")>,\n",
       " <selenium.webdriver.remote.webelement.WebElement (session=\"a93c1e261705c60fa60b3d86830f27be\", element=\"a1910d88-d16b-4f32-a86e-7d378e43016f\")>,\n",
       " <selenium.webdriver.remote.webelement.WebElement (session=\"a93c1e261705c60fa60b3d86830f27be\", element=\"6c0f825f-b911-4dbd-9785-65febd49fcae\")>,\n",
       " <selenium.webdriver.remote.webelement.WebElement (session=\"a93c1e261705c60fa60b3d86830f27be\", element=\"82084aab-e8e9-42b8-a4fe-adcfe747b51c\")>,\n",
       " <selenium.webdriver.remote.webelement.WebElement (session=\"a93c1e261705c60fa60b3d86830f27be\", element=\"e10a9b9d-0ec7-4911-8cd6-7d9569fee8e7\")>,\n",
       " <selenium.webdriver.remote.webelement.WebElement (session=\"a93c1e261705c60fa60b3d86830f27be\", element=\"5ccff9f2-9695-4d5a-874b-21bbe9a51af0\")>,\n",
       " <selenium.webdriver.remote.webelement.WebElement (session=\"a93c1e261705c60fa60b3d86830f27be\", element=\"43f57c10-281c-4455-94d3-c336e15fc09d\")>,\n",
       " <selenium.webdriver.remote.webelement.WebElement (session=\"a93c1e261705c60fa60b3d86830f27be\", element=\"393c55bd-dc85-4a86-bcfd-1d66783af5ec\")>,\n",
       " <selenium.webdriver.remote.webelement.WebElement (session=\"a93c1e261705c60fa60b3d86830f27be\", element=\"4ad215d5-f2a7-49d7-beaf-f4efb38dcc72\")>,\n",
       " <selenium.webdriver.remote.webelement.WebElement (session=\"a93c1e261705c60fa60b3d86830f27be\", element=\"ef4856a5-34ea-4f0f-a897-05162dad1bad\")>,\n",
       " <selenium.webdriver.remote.webelement.WebElement (session=\"a93c1e261705c60fa60b3d86830f27be\", element=\"9e088725-7479-4cd6-8019-493a194ddfc2\")>,\n",
       " <selenium.webdriver.remote.webelement.WebElement (session=\"a93c1e261705c60fa60b3d86830f27be\", element=\"82e450b4-b8d8-48c9-a7e3-f85fb48b5023\")>,\n",
       " <selenium.webdriver.remote.webelement.WebElement (session=\"a93c1e261705c60fa60b3d86830f27be\", element=\"c9d7bafc-5598-45c6-92c2-82ea6b5b691d\")>,\n",
       " <selenium.webdriver.remote.webelement.WebElement (session=\"a93c1e261705c60fa60b3d86830f27be\", element=\"ef6c3b5c-0428-445d-9c68-3dac5e595f26\")>,\n",
       " <selenium.webdriver.remote.webelement.WebElement (session=\"a93c1e261705c60fa60b3d86830f27be\", element=\"4041e41f-239c-4dd6-82d3-c34625f91084\")>,\n",
       " <selenium.webdriver.remote.webelement.WebElement (session=\"a93c1e261705c60fa60b3d86830f27be\", element=\"6ef2a02f-1f99-4413-a28e-05063ce159ce\")>,\n",
       " <selenium.webdriver.remote.webelement.WebElement (session=\"a93c1e261705c60fa60b3d86830f27be\", element=\"c5803d03-94a3-420b-a2ae-07d44e00622a\")>,\n",
       " <selenium.webdriver.remote.webelement.WebElement (session=\"a93c1e261705c60fa60b3d86830f27be\", element=\"23a84041-4e9a-4596-9f39-73603542b336\")>,\n",
       " <selenium.webdriver.remote.webelement.WebElement (session=\"a93c1e261705c60fa60b3d86830f27be\", element=\"a75d938b-6890-4244-917b-7c31d418e0cd\")>,\n",
       " <selenium.webdriver.remote.webelement.WebElement (session=\"a93c1e261705c60fa60b3d86830f27be\", element=\"5b6d2cbd-bfba-4c39-b321-79c2213ea019\")>]"
      ]
     },
     "execution_count": 221,
     "metadata": {},
     "output_type": "execute_result"
    }
   ],
   "source": [
    "search_more_desc=driver.find_elements_by_xpath(\"//a[@class='IRpwTa']\")\n",
    "search_more_desc[0:100]"
   ]
  },
  {
   "cell_type": "code",
   "execution_count": 222,
   "id": "b6069f64",
   "metadata": {},
   "outputs": [
    {
     "data": {
      "text/plain": [
       "['SMOOTH RUNNER Sneakers For Men',\n",
       " 'Lighweight, slip-on and lace-up Sneakers For Men',\n",
       " 'Sneakers For Men',\n",
       " 'STYLISH MENS BLACK SNEAKER Sneakers For Men',\n",
       " '516 Trendy Star Perfect Sneakers For Men',\n",
       " \"Casual , Partywear Sneakers Shoes For Men's And Boys Wh...\",\n",
       " 'Sneakers For Men',\n",
       " 'Canvas shoes for Men Sneakers For Men',\n",
       " '5013-Latest Collection Stylish & Trendy of casuals Snea...',\n",
       " 'Sneakers For Men',\n",
       " 'Sneakers For Men',\n",
       " '5011-Latest Collection Stylish & Trendy Casual Sneakers...',\n",
       " 'Sneakers For Men',\n",
       " 'Men 5014 Latest Collection Stylish Casual Sports Loafer...',\n",
       " 'Sneakers For Men',\n",
       " \"Luxury Branded Fashionable Men's Casual Walking Partywe...\",\n",
       " 'Perfect Combo Pack of 03 Pairs Casual Sneakers Outdoor ...',\n",
       " 'Sneakers For Men',\n",
       " 'Casuals, Canvas, Partywear Sneakers For Men',\n",
       " 'Blend Sneakers For Men',\n",
       " 'Stylish Comfortable Lightweight, Breathable Walking Sho...',\n",
       " 'Sneakers For Men',\n",
       " \"Original Luxury Branded Fashionable Men's Casual Walkin...\",\n",
       " 'Sneakers Sneakers For Men',\n",
       " 'Lightweight Pack Of 1 Trendy Sneakers Sneakers For Men',\n",
       " 'Sneakers For Men',\n",
       " 'Sneakers For Men',\n",
       " 'Series 7 Sneakers For Men',\n",
       " 'Fashionable shoes for men Sneakers For Men',\n",
       " 'Latest Collection-1227 Stylish Casual Sports Sneakers F...',\n",
       " 'Sneakers For Men',\n",
       " \"Casual , Partywear Sneakers Shoes For Men's And Boys Wh...\",\n",
       " 'Sneakers For Men',\n",
       " 'Stylish Comfortable Lightweight, Breathable Walking Sho...',\n",
       " 'Sneakers For Men',\n",
       " 'Sneakers For Men',\n",
       " 'Sneakers For Men',\n",
       " 'Sneakers For Men',\n",
       " 'all white heartbeat casual shoe Sneakers For Men',\n",
       " 'Birde High Top Casual Sneakers For Men Sneakers For Men',\n",
       " 'Lattest Sneakers Shoe Sneakers For Men',\n",
       " 'Sneakers For Men',\n",
       " 'Combo Pack Of 4 Casual Shoes Loafer Shoes Sneakers For ...',\n",
       " 'White Sneakers For Men',\n",
       " \"Men's Sneakers Fashion Lightweight Running Shoes Tennis...\",\n",
       " 'casual shoe for men Sneakers For Men',\n",
       " 'Stylish Comfortable Lightweight, Breathable Casual Shoe...',\n",
       " 'Lightweight Pack Of 1 Trendy Sneakers Sneakers Sneakers...',\n",
       " '6616-ZF-BLACK-08 Sneakers For Men',\n",
       " 'Sneakers For Men',\n",
       " 'Stylish Comfortable Lightweight, Breathable Walking Sho...',\n",
       " 'Sports Running Shoes Sneakers For Men',\n",
       " 'PILOT-1WHT Sneakers For Men',\n",
       " 'Sneakers For Men',\n",
       " 'Stylish & Trending Outdoor Walking Comfortable Sneakers...',\n",
       " 'Men White Sneakers Sneakers For Men',\n",
       " 'PILOT-4WHT Sneakers For Men',\n",
       " 'Super Stylish & Trendy Combo Pack of 02 Pairs Sneakers ...',\n",
       " \"White Sneaker For Men's/Boy's Sneakers For Men\",\n",
       " 'PILOT-3WHT Sneakers For Men',\n",
       " 'Stylish Comfortable Lightweight, Breathable Walking Sho...',\n",
       " 'Stylish & Trending Outdoor Walking Comfortable Sneakers...',\n",
       " 'PILOT-4NBL Sneakers For Men',\n",
       " 'Sneakers For Men',\n",
       " \"Men's Sneakers Fashion Lightweight Running Shoes Tennis...\",\n",
       " 'Sneaker Sneakers For Men',\n",
       " 'Trendy comfertable Combo pack Of 2 Sneakers For Men',\n",
       " 'Casual Sneakers White Shoes For Men Sneakers For Men',\n",
       " 'Sneakers For Men']"
      ]
     },
     "execution_count": 222,
     "metadata": {},
     "output_type": "execute_result"
    }
   ],
   "source": [
    "#extracting the above tags for more description\n",
    "for i in search_more_desc:\n",
    "    Desc=i.text\n",
    "    p_Desc.append(Desc)\n",
    "    \n",
    "p_Desc[0:100]\n",
    "    \n",
    "     \n",
    "    "
   ]
  },
  {
   "cell_type": "code",
   "execution_count": 223,
   "id": "c1060dae",
   "metadata": {},
   "outputs": [
    {
     "data": {
      "text/plain": [
       "[<selenium.webdriver.remote.webelement.WebElement (session=\"a93c1e261705c60fa60b3d86830f27be\", element=\"634ca808-7ae6-4ca2-8e2b-4c5b056542fe\")>,\n",
       " <selenium.webdriver.remote.webelement.WebElement (session=\"a93c1e261705c60fa60b3d86830f27be\", element=\"7daca1fc-e4bf-4585-92a8-74c401c4a417\")>,\n",
       " <selenium.webdriver.remote.webelement.WebElement (session=\"a93c1e261705c60fa60b3d86830f27be\", element=\"e3230db1-7e6d-4025-850b-8260d33c45ed\")>,\n",
       " <selenium.webdriver.remote.webelement.WebElement (session=\"a93c1e261705c60fa60b3d86830f27be\", element=\"3ae7be62-2c84-4b38-951f-2db7c88c75d7\")>,\n",
       " <selenium.webdriver.remote.webelement.WebElement (session=\"a93c1e261705c60fa60b3d86830f27be\", element=\"fb3d5836-99e1-4648-ad1c-b0c165a70904\")>,\n",
       " <selenium.webdriver.remote.webelement.WebElement (session=\"a93c1e261705c60fa60b3d86830f27be\", element=\"10a38cca-e4be-42dd-9d08-11773974fb5f\")>,\n",
       " <selenium.webdriver.remote.webelement.WebElement (session=\"a93c1e261705c60fa60b3d86830f27be\", element=\"86fedcf0-4f56-4f2d-93d7-dee05e5f55fb\")>,\n",
       " <selenium.webdriver.remote.webelement.WebElement (session=\"a93c1e261705c60fa60b3d86830f27be\", element=\"08caf1c2-891e-4847-9eba-049bb3480c2c\")>,\n",
       " <selenium.webdriver.remote.webelement.WebElement (session=\"a93c1e261705c60fa60b3d86830f27be\", element=\"68ca2687-0e16-47ec-bb49-bcbaa6541d30\")>,\n",
       " <selenium.webdriver.remote.webelement.WebElement (session=\"a93c1e261705c60fa60b3d86830f27be\", element=\"f3726afd-a14e-4c03-b1fe-4ab19124977e\")>,\n",
       " <selenium.webdriver.remote.webelement.WebElement (session=\"a93c1e261705c60fa60b3d86830f27be\", element=\"da8d3fc1-3475-4954-bdd1-993c15e9f1a0\")>,\n",
       " <selenium.webdriver.remote.webelement.WebElement (session=\"a93c1e261705c60fa60b3d86830f27be\", element=\"ee14da69-1917-40cd-9d26-7310d4bc2840\")>,\n",
       " <selenium.webdriver.remote.webelement.WebElement (session=\"a93c1e261705c60fa60b3d86830f27be\", element=\"45912903-55ef-41ae-a8a3-705343a1c6ae\")>,\n",
       " <selenium.webdriver.remote.webelement.WebElement (session=\"a93c1e261705c60fa60b3d86830f27be\", element=\"b391d9ba-5d0c-4b26-b95c-e74b93bc2936\")>,\n",
       " <selenium.webdriver.remote.webelement.WebElement (session=\"a93c1e261705c60fa60b3d86830f27be\", element=\"59bc2d3a-ddc6-4f98-bbfa-e18f09034e25\")>,\n",
       " <selenium.webdriver.remote.webelement.WebElement (session=\"a93c1e261705c60fa60b3d86830f27be\", element=\"c8c946d4-dcaf-4d8a-aa38-2f61cf303746\")>,\n",
       " <selenium.webdriver.remote.webelement.WebElement (session=\"a93c1e261705c60fa60b3d86830f27be\", element=\"484b60f3-bda0-4ba5-9c60-dd53b392e411\")>,\n",
       " <selenium.webdriver.remote.webelement.WebElement (session=\"a93c1e261705c60fa60b3d86830f27be\", element=\"fcff1f78-f8d5-4580-94b5-e588c72eaf82\")>,\n",
       " <selenium.webdriver.remote.webelement.WebElement (session=\"a93c1e261705c60fa60b3d86830f27be\", element=\"84580ae1-651b-4b83-8340-4d9e5675b544\")>,\n",
       " <selenium.webdriver.remote.webelement.WebElement (session=\"a93c1e261705c60fa60b3d86830f27be\", element=\"62319917-8255-494c-8bc6-6305bc3f496b\")>,\n",
       " <selenium.webdriver.remote.webelement.WebElement (session=\"a93c1e261705c60fa60b3d86830f27be\", element=\"2e29a5fe-87b6-49a2-8713-9d394ed2740e\")>,\n",
       " <selenium.webdriver.remote.webelement.WebElement (session=\"a93c1e261705c60fa60b3d86830f27be\", element=\"589f582e-feb2-4c3f-86ae-c55481655360\")>,\n",
       " <selenium.webdriver.remote.webelement.WebElement (session=\"a93c1e261705c60fa60b3d86830f27be\", element=\"25718808-72f9-464a-8fc2-75fc1b7f27ef\")>,\n",
       " <selenium.webdriver.remote.webelement.WebElement (session=\"a93c1e261705c60fa60b3d86830f27be\", element=\"6a9eec5d-74aa-4d5c-b282-3bed2e815fd6\")>,\n",
       " <selenium.webdriver.remote.webelement.WebElement (session=\"a93c1e261705c60fa60b3d86830f27be\", element=\"cee06ede-4e59-4c9f-96a6-d1ff3ebd4380\")>,\n",
       " <selenium.webdriver.remote.webelement.WebElement (session=\"a93c1e261705c60fa60b3d86830f27be\", element=\"e3bbaa40-e6a4-4a68-8336-06c4bbac3d04\")>,\n",
       " <selenium.webdriver.remote.webelement.WebElement (session=\"a93c1e261705c60fa60b3d86830f27be\", element=\"4713a371-c9b8-4e0b-b1f5-5cc8aca65ddf\")>,\n",
       " <selenium.webdriver.remote.webelement.WebElement (session=\"a93c1e261705c60fa60b3d86830f27be\", element=\"4ac989a8-5a19-4ba3-aedb-68ba04834a61\")>,\n",
       " <selenium.webdriver.remote.webelement.WebElement (session=\"a93c1e261705c60fa60b3d86830f27be\", element=\"d7ccea57-faf8-4695-bdde-d99dd2e03414\")>,\n",
       " <selenium.webdriver.remote.webelement.WebElement (session=\"a93c1e261705c60fa60b3d86830f27be\", element=\"4e4e16fd-fc97-4cbc-a84a-fa564218390a\")>,\n",
       " <selenium.webdriver.remote.webelement.WebElement (session=\"a93c1e261705c60fa60b3d86830f27be\", element=\"ef7b2081-6b81-4e44-b0f4-264618fd3832\")>,\n",
       " <selenium.webdriver.remote.webelement.WebElement (session=\"a93c1e261705c60fa60b3d86830f27be\", element=\"0998f268-1466-4df5-a1df-3747f57dcd8c\")>,\n",
       " <selenium.webdriver.remote.webelement.WebElement (session=\"a93c1e261705c60fa60b3d86830f27be\", element=\"844ccd56-1e7a-4be1-9742-9bbfe7b8a3a6\")>,\n",
       " <selenium.webdriver.remote.webelement.WebElement (session=\"a93c1e261705c60fa60b3d86830f27be\", element=\"80679ca2-fde3-4379-b036-020748aafe01\")>,\n",
       " <selenium.webdriver.remote.webelement.WebElement (session=\"a93c1e261705c60fa60b3d86830f27be\", element=\"5fdd7987-e4b1-49b4-910c-a580ddd702a7\")>,\n",
       " <selenium.webdriver.remote.webelement.WebElement (session=\"a93c1e261705c60fa60b3d86830f27be\", element=\"e2e180c0-d06b-451c-8ef8-2fcef1c878a4\")>,\n",
       " <selenium.webdriver.remote.webelement.WebElement (session=\"a93c1e261705c60fa60b3d86830f27be\", element=\"a0633c93-7141-4e44-a147-4b265cb4043d\")>,\n",
       " <selenium.webdriver.remote.webelement.WebElement (session=\"a93c1e261705c60fa60b3d86830f27be\", element=\"a7b67257-cdfd-4692-9422-cf49c68455eb\")>,\n",
       " <selenium.webdriver.remote.webelement.WebElement (session=\"a93c1e261705c60fa60b3d86830f27be\", element=\"c5e8f73e-7cee-4560-b7f2-58fb4acde398\")>,\n",
       " <selenium.webdriver.remote.webelement.WebElement (session=\"a93c1e261705c60fa60b3d86830f27be\", element=\"c76c0411-1308-4a80-94e7-2aa638e841c3\")>]"
      ]
     },
     "execution_count": 223,
     "metadata": {},
     "output_type": "execute_result"
    }
   ],
   "source": [
    "#code to extract more tags for prices accordingly\n",
    "search_more_prices=driver.find_elements_by_xpath(\"//div[@class='_30jeq3']\")\n",
    "search_more_prices[0:100]"
   ]
  },
  {
   "cell_type": "code",
   "execution_count": 224,
   "id": "516b345c",
   "metadata": {},
   "outputs": [
    {
     "data": {
      "text/plain": [
       "['₹5,209',\n",
       " '₹498',\n",
       " '₹158',\n",
       " '₹269',\n",
       " '₹449',\n",
       " '₹249',\n",
       " '₹349',\n",
       " '₹424',\n",
       " '₹299',\n",
       " '₹199',\n",
       " '₹424',\n",
       " '₹2,579',\n",
       " '₹199',\n",
       " '₹422',\n",
       " '₹199',\n",
       " '₹369',\n",
       " '₹269',\n",
       " '₹449',\n",
       " '₹565',\n",
       " '₹449',\n",
       " '₹421',\n",
       " '₹1,749',\n",
       " '₹347',\n",
       " '₹449',\n",
       " '₹449',\n",
       " '₹348',\n",
       " '₹158',\n",
       " '₹399',\n",
       " '₹269',\n",
       " '₹421',\n",
       " '₹209',\n",
       " '₹409',\n",
       " '₹199',\n",
       " '₹209',\n",
       " '₹384',\n",
       " '₹2,469',\n",
       " '₹499',\n",
       " '₹369',\n",
       " '₹379',\n",
       " '₹349',\n",
       " '₹424',\n",
       " '₹599',\n",
       " '₹379',\n",
       " '₹596',\n",
       " '₹249',\n",
       " '₹549',\n",
       " '₹542',\n",
       " '₹423',\n",
       " '₹489',\n",
       " '₹399',\n",
       " '₹534',\n",
       " '₹412',\n",
       " '₹177',\n",
       " '₹349',\n",
       " '₹424',\n",
       " '₹477',\n",
       " '₹301',\n",
       " '₹250',\n",
       " '₹201',\n",
       " '₹943',\n",
       " '₹399',\n",
       " '₹549',\n",
       " '₹706',\n",
       " '₹943',\n",
       " '₹714',\n",
       " '₹670',\n",
       " '₹348',\n",
       " '₹943',\n",
       " '₹309',\n",
       " '₹298',\n",
       " '₹549',\n",
       " '₹943',\n",
       " '₹598',\n",
       " '₹489',\n",
       " '₹249',\n",
       " '₹448',\n",
       " '₹424',\n",
       " '₹269',\n",
       " '₹249',\n",
       " '₹549']"
      ]
     },
     "execution_count": 224,
     "metadata": {},
     "output_type": "execute_result"
    }
   ],
   "source": [
    "#extracting the above data from tags\n",
    "for i in search_more_prices:\n",
    "    m_price=i.text\n",
    "    s_price.append(m_price)\n",
    "    \n",
    "s_price[0:100]"
   ]
  },
  {
   "cell_type": "code",
   "execution_count": 225,
   "id": "aa262dae",
   "metadata": {},
   "outputs": [],
   "source": [
    "#clicking on the next button\n",
    "next_page_button=driver.find_element_by_xpath(\"/html/body/div[1]/div/div[3]/div[1]/div[2]/div[12]/div/div/nav/a[12]/span\")\n",
    "next_page_button.click()"
   ]
  },
  {
   "cell_type": "code",
   "execution_count": 226,
   "id": "e8463b9c",
   "metadata": {},
   "outputs": [
    {
     "data": {
      "text/plain": [
       "[<selenium.webdriver.remote.webelement.WebElement (session=\"a93c1e261705c60fa60b3d86830f27be\", element=\"0ea97240-6325-41e9-8392-4db32afd6afb\")>,\n",
       " <selenium.webdriver.remote.webelement.WebElement (session=\"a93c1e261705c60fa60b3d86830f27be\", element=\"4729c2a8-ab55-4780-9546-79a2400dcd0a\")>,\n",
       " <selenium.webdriver.remote.webelement.WebElement (session=\"a93c1e261705c60fa60b3d86830f27be\", element=\"e8d1a208-18ea-455d-ac15-95f036fa24eb\")>,\n",
       " <selenium.webdriver.remote.webelement.WebElement (session=\"a93c1e261705c60fa60b3d86830f27be\", element=\"392423a0-a5de-4d6f-ad6d-8e7c2bfa991e\")>,\n",
       " <selenium.webdriver.remote.webelement.WebElement (session=\"a93c1e261705c60fa60b3d86830f27be\", element=\"67029594-2ee1-4d82-82c8-7d3d65e6e746\")>,\n",
       " <selenium.webdriver.remote.webelement.WebElement (session=\"a93c1e261705c60fa60b3d86830f27be\", element=\"6069f366-8cc2-4e5a-9800-55607cb9d792\")>,\n",
       " <selenium.webdriver.remote.webelement.WebElement (session=\"a93c1e261705c60fa60b3d86830f27be\", element=\"d5532e48-8b46-4501-89e0-1cffd3a42a22\")>,\n",
       " <selenium.webdriver.remote.webelement.WebElement (session=\"a93c1e261705c60fa60b3d86830f27be\", element=\"4f1e4ca3-21ec-4533-a381-216139612dd9\")>,\n",
       " <selenium.webdriver.remote.webelement.WebElement (session=\"a93c1e261705c60fa60b3d86830f27be\", element=\"c527ee91-b5d2-4530-9e5a-89ddb597c667\")>,\n",
       " <selenium.webdriver.remote.webelement.WebElement (session=\"a93c1e261705c60fa60b3d86830f27be\", element=\"40509684-06fe-433a-a6f2-4dade6256801\")>,\n",
       " <selenium.webdriver.remote.webelement.WebElement (session=\"a93c1e261705c60fa60b3d86830f27be\", element=\"b0415f8a-0d04-408d-af8c-877dc9a10467\")>,\n",
       " <selenium.webdriver.remote.webelement.WebElement (session=\"a93c1e261705c60fa60b3d86830f27be\", element=\"11bbf8bb-be54-4d98-9b14-178fbf30e31c\")>,\n",
       " <selenium.webdriver.remote.webelement.WebElement (session=\"a93c1e261705c60fa60b3d86830f27be\", element=\"17d77935-b909-40b8-8834-f0803465566a\")>,\n",
       " <selenium.webdriver.remote.webelement.WebElement (session=\"a93c1e261705c60fa60b3d86830f27be\", element=\"8775d77d-2656-4cf2-b8bc-e6bac8d04532\")>,\n",
       " <selenium.webdriver.remote.webelement.WebElement (session=\"a93c1e261705c60fa60b3d86830f27be\", element=\"a9f8e800-56ce-450a-9011-b5cb74f92ff6\")>,\n",
       " <selenium.webdriver.remote.webelement.WebElement (session=\"a93c1e261705c60fa60b3d86830f27be\", element=\"cb2b2935-72b2-49f7-ad20-b30063fe36b5\")>,\n",
       " <selenium.webdriver.remote.webelement.WebElement (session=\"a93c1e261705c60fa60b3d86830f27be\", element=\"0319d59c-7444-4f8e-98e6-a91a47f74e71\")>,\n",
       " <selenium.webdriver.remote.webelement.WebElement (session=\"a93c1e261705c60fa60b3d86830f27be\", element=\"0cd521b9-c5e6-47fc-b14a-4267dd4ae1a3\")>,\n",
       " <selenium.webdriver.remote.webelement.WebElement (session=\"a93c1e261705c60fa60b3d86830f27be\", element=\"5c8aeb61-0d6e-451b-8353-cd86132acc8a\")>,\n",
       " <selenium.webdriver.remote.webelement.WebElement (session=\"a93c1e261705c60fa60b3d86830f27be\", element=\"70086b3a-6331-4d72-b9a3-163ef6610bde\")>]"
      ]
     },
     "execution_count": 226,
     "metadata": {},
     "output_type": "execute_result"
    }
   ],
   "source": [
    "#extracting more information like above\n",
    "search_name_tags=driver.find_elements_by_xpath(\"//div[@class='_2WkVRV']\")\n",
    "search_name_tags[0:20]"
   ]
  },
  {
   "cell_type": "code",
   "execution_count": 227,
   "id": "bf7dbe65",
   "metadata": {},
   "outputs": [
    {
     "data": {
      "text/plain": [
       "['ADIDAS ORIGINALS',\n",
       " 'Extoes',\n",
       " 'URBANBOX',\n",
       " 'aadi',\n",
       " 'corsac',\n",
       " 'Chevit',\n",
       " 'D-SNEAKERZ',\n",
       " 'Nilatin',\n",
       " 'BRUTON',\n",
       " 'World Wear Footwear',\n",
       " 'Labbin',\n",
       " 'U.S. POLO ASSN.',\n",
       " 'World Wear Footwear',\n",
       " 'Magnolia',\n",
       " 'World Wear Footwear',\n",
       " 'FEWROK',\n",
       " 'aadi',\n",
       " 'ASTEROID',\n",
       " 'Chevit',\n",
       " 'Bacan']"
      ]
     },
     "execution_count": 227,
     "metadata": {},
     "output_type": "execute_result"
    }
   ],
   "source": [
    "for i in search_name_tags:\n",
    "    name=i.text\n",
    "    Brands.append(name)\n",
    "    \n",
    "Brands[0:20]"
   ]
  },
  {
   "cell_type": "code",
   "execution_count": 228,
   "id": "e54c09b6",
   "metadata": {},
   "outputs": [
    {
     "data": {
      "text/plain": [
       "[<selenium.webdriver.remote.webelement.WebElement (session=\"a93c1e261705c60fa60b3d86830f27be\", element=\"5a9ed35f-3930-46d2-9f77-be78d3b141ce\")>,\n",
       " <selenium.webdriver.remote.webelement.WebElement (session=\"a93c1e261705c60fa60b3d86830f27be\", element=\"27918e58-4a4c-4d33-83a9-b660eab5addf\")>,\n",
       " <selenium.webdriver.remote.webelement.WebElement (session=\"a93c1e261705c60fa60b3d86830f27be\", element=\"65ddabd1-a1ec-41f7-ac17-3bc597658a70\")>,\n",
       " <selenium.webdriver.remote.webelement.WebElement (session=\"a93c1e261705c60fa60b3d86830f27be\", element=\"91c5a218-1d56-4317-bb44-8cfbab4c70c8\")>,\n",
       " <selenium.webdriver.remote.webelement.WebElement (session=\"a93c1e261705c60fa60b3d86830f27be\", element=\"da127225-9c6b-4f71-8a4e-169f48e97526\")>,\n",
       " <selenium.webdriver.remote.webelement.WebElement (session=\"a93c1e261705c60fa60b3d86830f27be\", element=\"a5ef2442-5d9d-4f71-b74a-bc96a40ab2e4\")>,\n",
       " <selenium.webdriver.remote.webelement.WebElement (session=\"a93c1e261705c60fa60b3d86830f27be\", element=\"068f52cf-597f-4121-87c3-9533797f4439\")>,\n",
       " <selenium.webdriver.remote.webelement.WebElement (session=\"a93c1e261705c60fa60b3d86830f27be\", element=\"e344c6d8-e45d-46c0-b003-c6cf55cf3834\")>,\n",
       " <selenium.webdriver.remote.webelement.WebElement (session=\"a93c1e261705c60fa60b3d86830f27be\", element=\"bcfefd14-c056-4056-beec-390553956033\")>,\n",
       " <selenium.webdriver.remote.webelement.WebElement (session=\"a93c1e261705c60fa60b3d86830f27be\", element=\"204f6da6-8f6b-49a9-a8d7-b7b61d89f2c5\")>,\n",
       " <selenium.webdriver.remote.webelement.WebElement (session=\"a93c1e261705c60fa60b3d86830f27be\", element=\"5ef235e1-bd73-4b8e-b79b-58e78907db3a\")>,\n",
       " <selenium.webdriver.remote.webelement.WebElement (session=\"a93c1e261705c60fa60b3d86830f27be\", element=\"e329010d-9459-4859-9db1-16f43538ce28\")>,\n",
       " <selenium.webdriver.remote.webelement.WebElement (session=\"a93c1e261705c60fa60b3d86830f27be\", element=\"65dad786-4881-4bc2-9920-05b146a0f770\")>,\n",
       " <selenium.webdriver.remote.webelement.WebElement (session=\"a93c1e261705c60fa60b3d86830f27be\", element=\"dad7576c-6ef4-4a91-ab8c-4d78270715b5\")>,\n",
       " <selenium.webdriver.remote.webelement.WebElement (session=\"a93c1e261705c60fa60b3d86830f27be\", element=\"57abe6c1-bebf-4993-a2dd-7cf1288e5e5a\")>,\n",
       " <selenium.webdriver.remote.webelement.WebElement (session=\"a93c1e261705c60fa60b3d86830f27be\", element=\"9686ca6a-5057-436b-9013-46f897f61f66\")>,\n",
       " <selenium.webdriver.remote.webelement.WebElement (session=\"a93c1e261705c60fa60b3d86830f27be\", element=\"88ef99c4-2215-4631-9b71-dd613da5e5e4\")>,\n",
       " <selenium.webdriver.remote.webelement.WebElement (session=\"a93c1e261705c60fa60b3d86830f27be\", element=\"293870fd-3526-43d2-9d9f-8165af50af08\")>,\n",
       " <selenium.webdriver.remote.webelement.WebElement (session=\"a93c1e261705c60fa60b3d86830f27be\", element=\"e35341c3-b7d3-4575-b611-911b98ac8f3c\")>,\n",
       " <selenium.webdriver.remote.webelement.WebElement (session=\"a93c1e261705c60fa60b3d86830f27be\", element=\"4ff9797a-c7b2-4a7a-a05f-18fb0eaad41d\")>]"
      ]
     },
     "execution_count": 228,
     "metadata": {},
     "output_type": "execute_result"
    }
   ],
   "source": [
    "search_desc_tags=driver.find_elements_by_xpath(\"//a[@class='IRpwTa']\")\n",
    "search_desc_tags[0:20]"
   ]
  },
  {
   "cell_type": "code",
   "execution_count": 229,
   "id": "dcb15711",
   "metadata": {},
   "outputs": [
    {
     "data": {
      "text/plain": [
       "['SMOOTH RUNNER Sneakers For Men',\n",
       " 'Lighweight, slip-on and lace-up Sneakers For Men',\n",
       " 'Sneakers For Men',\n",
       " 'STYLISH MENS BLACK SNEAKER Sneakers For Men',\n",
       " '516 Trendy Star Perfect Sneakers For Men',\n",
       " \"Casual , Partywear Sneakers Shoes For Men's And Boys Wh...\",\n",
       " 'Sneakers For Men',\n",
       " 'Canvas shoes for Men Sneakers For Men',\n",
       " '5013-Latest Collection Stylish & Trendy of casuals Snea...',\n",
       " 'Sneakers For Men',\n",
       " 'Sneakers For Men',\n",
       " '5011-Latest Collection Stylish & Trendy Casual Sneakers...',\n",
       " 'Sneakers For Men',\n",
       " 'Men 5014 Latest Collection Stylish Casual Sports Loafer...',\n",
       " 'Sneakers For Men',\n",
       " \"Luxury Branded Fashionable Men's Casual Walking Partywe...\",\n",
       " 'Perfect Combo Pack of 03 Pairs Casual Sneakers Outdoor ...',\n",
       " 'Sneakers For Men',\n",
       " 'Casuals, Canvas, Partywear Sneakers For Men',\n",
       " 'Blend Sneakers For Men']"
      ]
     },
     "execution_count": 229,
     "metadata": {},
     "output_type": "execute_result"
    }
   ],
   "source": [
    "for i in search_desc_tags:\n",
    "    descc=i.text\n",
    "    p_Desc.append(descc)\n",
    "    \n",
    "p_Desc[0:20]"
   ]
  },
  {
   "cell_type": "code",
   "execution_count": 230,
   "id": "49470f01",
   "metadata": {},
   "outputs": [
    {
     "data": {
      "text/plain": [
       "[<selenium.webdriver.remote.webelement.WebElement (session=\"a93c1e261705c60fa60b3d86830f27be\", element=\"925aa079-c579-4fea-9d53-4b341b9069f8\")>,\n",
       " <selenium.webdriver.remote.webelement.WebElement (session=\"a93c1e261705c60fa60b3d86830f27be\", element=\"93a88650-6cc8-4a45-9bb0-0a01a0c265a5\")>,\n",
       " <selenium.webdriver.remote.webelement.WebElement (session=\"a93c1e261705c60fa60b3d86830f27be\", element=\"e67d6305-bf37-4f1e-857a-685bd5a7281c\")>,\n",
       " <selenium.webdriver.remote.webelement.WebElement (session=\"a93c1e261705c60fa60b3d86830f27be\", element=\"ef09c7ba-495d-41db-bd54-99023cdd81b7\")>,\n",
       " <selenium.webdriver.remote.webelement.WebElement (session=\"a93c1e261705c60fa60b3d86830f27be\", element=\"08d5bf03-3103-49b4-99b4-5601ea586a93\")>,\n",
       " <selenium.webdriver.remote.webelement.WebElement (session=\"a93c1e261705c60fa60b3d86830f27be\", element=\"34ed90b6-67ad-42ae-a596-24b13614741e\")>,\n",
       " <selenium.webdriver.remote.webelement.WebElement (session=\"a93c1e261705c60fa60b3d86830f27be\", element=\"9d45f856-20c6-4831-8b6d-2ffb036fdbbe\")>,\n",
       " <selenium.webdriver.remote.webelement.WebElement (session=\"a93c1e261705c60fa60b3d86830f27be\", element=\"f324e89f-f42e-445f-8104-0237e4681deb\")>,\n",
       " <selenium.webdriver.remote.webelement.WebElement (session=\"a93c1e261705c60fa60b3d86830f27be\", element=\"a69988c2-8b1c-483f-940c-7ae86899234e\")>,\n",
       " <selenium.webdriver.remote.webelement.WebElement (session=\"a93c1e261705c60fa60b3d86830f27be\", element=\"e3295a1e-2297-428d-b170-05718752fdb4\")>,\n",
       " <selenium.webdriver.remote.webelement.WebElement (session=\"a93c1e261705c60fa60b3d86830f27be\", element=\"43b5bfe5-181b-435c-98a9-fe3d2d96e866\")>,\n",
       " <selenium.webdriver.remote.webelement.WebElement (session=\"a93c1e261705c60fa60b3d86830f27be\", element=\"b93f93f3-30c6-4e3f-b439-44b361bda83f\")>,\n",
       " <selenium.webdriver.remote.webelement.WebElement (session=\"a93c1e261705c60fa60b3d86830f27be\", element=\"34f7c729-7518-45e6-b99b-ec8339dbee25\")>,\n",
       " <selenium.webdriver.remote.webelement.WebElement (session=\"a93c1e261705c60fa60b3d86830f27be\", element=\"15f264c5-f743-42ba-a602-54cfc38adca3\")>,\n",
       " <selenium.webdriver.remote.webelement.WebElement (session=\"a93c1e261705c60fa60b3d86830f27be\", element=\"ef4bc534-cfe8-4396-ab6e-2f1520166c78\")>,\n",
       " <selenium.webdriver.remote.webelement.WebElement (session=\"a93c1e261705c60fa60b3d86830f27be\", element=\"a71f46aa-8714-4319-8725-a8deb8589dca\")>,\n",
       " <selenium.webdriver.remote.webelement.WebElement (session=\"a93c1e261705c60fa60b3d86830f27be\", element=\"e797b623-f480-4a5f-b761-160abefbfb46\")>,\n",
       " <selenium.webdriver.remote.webelement.WebElement (session=\"a93c1e261705c60fa60b3d86830f27be\", element=\"07561e98-bf9e-48b4-8e71-30693a6716ce\")>,\n",
       " <selenium.webdriver.remote.webelement.WebElement (session=\"a93c1e261705c60fa60b3d86830f27be\", element=\"ede9149b-ab2a-4d89-a287-7d2d403ad638\")>,\n",
       " <selenium.webdriver.remote.webelement.WebElement (session=\"a93c1e261705c60fa60b3d86830f27be\", element=\"b72e0244-9f25-4fdf-b0f9-2dee794a0b7e\")>]"
      ]
     },
     "execution_count": 230,
     "metadata": {},
     "output_type": "execute_result"
    }
   ],
   "source": [
    "search_prices_tags=driver.find_elements_by_xpath(\"//div[@class='_30jeq3']\")\n",
    "search_prices_tags[0:20]"
   ]
  },
  {
   "cell_type": "code",
   "execution_count": 231,
   "id": "9b0f6c15",
   "metadata": {},
   "outputs": [
    {
     "data": {
      "text/plain": [
       "['₹5,209',\n",
       " '₹498',\n",
       " '₹158',\n",
       " '₹269',\n",
       " '₹449',\n",
       " '₹249',\n",
       " '₹349',\n",
       " '₹424',\n",
       " '₹299',\n",
       " '₹199',\n",
       " '₹424',\n",
       " '₹2,579',\n",
       " '₹199',\n",
       " '₹422',\n",
       " '₹199',\n",
       " '₹369',\n",
       " '₹269',\n",
       " '₹449',\n",
       " '₹565',\n",
       " '₹449']"
      ]
     },
     "execution_count": 231,
     "metadata": {},
     "output_type": "execute_result"
    }
   ],
   "source": [
    "for i in search_prices_tags:\n",
    "    prices=i.text\n",
    "    s_price.append(prices)\n",
    "    \n",
    "s_price[0:20]"
   ]
  },
  {
   "cell_type": "code",
   "execution_count": 232,
   "id": "1abf45e8",
   "metadata": {},
   "outputs": [],
   "source": [
    "#taking desired elements\n",
    "Brands=Brands[0:100]"
   ]
  },
  {
   "cell_type": "code",
   "execution_count": 233,
   "id": "5bbc1f0a",
   "metadata": {},
   "outputs": [],
   "source": [
    "p_Desc=p_Desc[0:100]"
   ]
  },
  {
   "cell_type": "code",
   "execution_count": 234,
   "id": "1f6899e6",
   "metadata": {},
   "outputs": [],
   "source": [
    "s_price=s_price[0:100]"
   ]
  },
  {
   "cell_type": "code",
   "execution_count": 235,
   "id": "19e3399c",
   "metadata": {},
   "outputs": [
    {
     "name": "stdout",
     "output_type": "stream",
     "text": [
      "100 100 100\n"
     ]
    }
   ],
   "source": [
    "print(len(Brands),len(p_Desc),len(s_price))  #checking the length of the lists made"
   ]
  },
  {
   "cell_type": "code",
   "execution_count": 236,
   "id": "e01d0e4d",
   "metadata": {},
   "outputs": [
    {
     "data": {
      "text/html": [
       "<div>\n",
       "<style scoped>\n",
       "    .dataframe tbody tr th:only-of-type {\n",
       "        vertical-align: middle;\n",
       "    }\n",
       "\n",
       "    .dataframe tbody tr th {\n",
       "        vertical-align: top;\n",
       "    }\n",
       "\n",
       "    .dataframe thead th {\n",
       "        text-align: right;\n",
       "    }\n",
       "</style>\n",
       "<table border=\"1\" class=\"dataframe\">\n",
       "  <thead>\n",
       "    <tr style=\"text-align: right;\">\n",
       "      <th></th>\n",
       "      <th>Brands</th>\n",
       "      <th>Product Description</th>\n",
       "      <th>Prices</th>\n",
       "    </tr>\n",
       "  </thead>\n",
       "  <tbody>\n",
       "    <tr>\n",
       "      <th>0</th>\n",
       "      <td>ADIDAS ORIGINALS</td>\n",
       "      <td>SMOOTH RUNNER Sneakers For Men</td>\n",
       "      <td>₹5,209</td>\n",
       "    </tr>\n",
       "    <tr>\n",
       "      <th>1</th>\n",
       "      <td>Extoes</td>\n",
       "      <td>Lighweight, slip-on and lace-up Sneakers For Men</td>\n",
       "      <td>₹498</td>\n",
       "    </tr>\n",
       "    <tr>\n",
       "      <th>2</th>\n",
       "      <td>URBANBOX</td>\n",
       "      <td>Sneakers For Men</td>\n",
       "      <td>₹158</td>\n",
       "    </tr>\n",
       "    <tr>\n",
       "      <th>3</th>\n",
       "      <td>aadi</td>\n",
       "      <td>STYLISH MENS BLACK SNEAKER Sneakers For Men</td>\n",
       "      <td>₹269</td>\n",
       "    </tr>\n",
       "    <tr>\n",
       "      <th>4</th>\n",
       "      <td>corsac</td>\n",
       "      <td>516 Trendy Star Perfect Sneakers For Men</td>\n",
       "      <td>₹449</td>\n",
       "    </tr>\n",
       "    <tr>\n",
       "      <th>...</th>\n",
       "      <td>...</td>\n",
       "      <td>...</td>\n",
       "      <td>...</td>\n",
       "    </tr>\n",
       "    <tr>\n",
       "      <th>95</th>\n",
       "      <td>ASTEROID</td>\n",
       "      <td>Sneakers For Men</td>\n",
       "      <td>₹549</td>\n",
       "    </tr>\n",
       "    <tr>\n",
       "      <th>96</th>\n",
       "      <td>OUTALYFE</td>\n",
       "      <td>white Casual shoes,Sneakers for men's Sneakers...</td>\n",
       "      <td>₹430</td>\n",
       "    </tr>\n",
       "    <tr>\n",
       "      <th>97</th>\n",
       "      <td>Robbie jones</td>\n",
       "      <td>Sneakers For Men</td>\n",
       "      <td>₹424</td>\n",
       "    </tr>\n",
       "    <tr>\n",
       "      <th>98</th>\n",
       "      <td>luxury fashion</td>\n",
       "      <td>Brave Sneakers For Men</td>\n",
       "      <td>₹399</td>\n",
       "    </tr>\n",
       "    <tr>\n",
       "      <th>99</th>\n",
       "      <td>Extoes</td>\n",
       "      <td>Super 445 Fashion Sneakers For Men</td>\n",
       "      <td>₹498</td>\n",
       "    </tr>\n",
       "  </tbody>\n",
       "</table>\n",
       "<p>100 rows × 3 columns</p>\n",
       "</div>"
      ],
      "text/plain": [
       "              Brands                                Product Description  \\\n",
       "0   ADIDAS ORIGINALS                     SMOOTH RUNNER Sneakers For Men   \n",
       "1             Extoes   Lighweight, slip-on and lace-up Sneakers For Men   \n",
       "2           URBANBOX                                   Sneakers For Men   \n",
       "3               aadi        STYLISH MENS BLACK SNEAKER Sneakers For Men   \n",
       "4             corsac           516 Trendy Star Perfect Sneakers For Men   \n",
       "..               ...                                                ...   \n",
       "95          ASTEROID                                   Sneakers For Men   \n",
       "96          OUTALYFE  white Casual shoes,Sneakers for men's Sneakers...   \n",
       "97      Robbie jones                                   Sneakers For Men   \n",
       "98    luxury fashion                             Brave Sneakers For Men   \n",
       "99            Extoes                 Super 445 Fashion Sneakers For Men   \n",
       "\n",
       "    Prices  \n",
       "0   ₹5,209  \n",
       "1     ₹498  \n",
       "2     ₹158  \n",
       "3     ₹269  \n",
       "4     ₹449  \n",
       "..     ...  \n",
       "95    ₹549  \n",
       "96    ₹430  \n",
       "97    ₹424  \n",
       "98    ₹399  \n",
       "99    ₹498  \n",
       "\n",
       "[100 rows x 3 columns]"
      ]
     },
     "execution_count": 236,
     "metadata": {},
     "output_type": "execute_result"
    }
   ],
   "source": [
    "#creating dataframe\n",
    "ds=pd.DataFrame({'Brands': Brands ,'Product Description': p_Desc ,'Prices': s_price})\n",
    "ds"
   ]
  },
  {
   "cell_type": "code",
   "execution_count": null,
   "id": "46a3547a",
   "metadata": {},
   "outputs": [],
   "source": []
  },
  {
   "cell_type": "markdown",
   "id": "9c171060",
   "metadata": {},
   "source": [
    "# Question 7: Go to the link - https://www.myntra.com/shoes\n",
    "Set Price filter to “Rs. 7149 to Rs. 14099 ” , Color filter to “Black”\n",
    "And then scrape First 100 shoes data you get. The data should include “Brand” of the shoes , Short Shoe\n",
    "description, price of the shoe ."
   ]
  },
  {
   "cell_type": "code",
   "execution_count": 237,
   "id": "18d9d4c5",
   "metadata": {},
   "outputs": [],
   "source": [
    "#connecting to the web driver\n",
    "driver=webdriver.Chrome(r\"C:\\Users\\Mohini\\Downloads\\chromedriver_win32\\chromedriver.exe\")"
   ]
  },
  {
   "cell_type": "code",
   "execution_count": 238,
   "id": "aa857d1d",
   "metadata": {},
   "outputs": [],
   "source": [
    "driver=webdriver.Chrome(\"chromedriver.exe\")  #another way of opening our web browser\n",
    "time.sleep(2)"
   ]
  },
  {
   "cell_type": "code",
   "execution_count": 239,
   "id": "05900553",
   "metadata": {},
   "outputs": [],
   "source": [
    "driver.get(\"https://www.myntra.com/shoes\")"
   ]
  },
  {
   "cell_type": "code",
   "execution_count": 240,
   "id": "ede4119a",
   "metadata": {},
   "outputs": [],
   "source": [
    "#setting price filter\n",
    "price_filter_tags=driver.find_element_by_xpath(\"/html/body/div[2]/div/div[1]/main/div[3]/div[1]/section/div/div[5]/ul/li[1]/label/div\")\n",
    "price_filter_tags.click()\n"
   ]
  },
  {
   "cell_type": "code",
   "execution_count": 241,
   "id": "81c09a2b",
   "metadata": {},
   "outputs": [],
   "source": [
    "#setting colour filter to black\n",
    "colour_filter_tags=driver.find_element_by_xpath(\"/html/body/div[2]/div/div[1]/main/div[3]/div[1]/section/div/div[6]/ul/li[1]/label/div\")\n",
    "colour_filter_tags.click()"
   ]
  },
  {
   "cell_type": "code",
   "execution_count": 248,
   "id": "e83c61a5",
   "metadata": {},
   "outputs": [],
   "source": [
    "#creating empty lists\n",
    "Brand_name=[]\n",
    "Descr=[]\n",
    "Price=[]\n"
   ]
  },
  {
   "cell_type": "code",
   "execution_count": 249,
   "id": "3ed11352",
   "metadata": {},
   "outputs": [
    {
     "data": {
      "text/plain": [
       "[<selenium.webdriver.remote.webelement.WebElement (session=\"aa3648e1d99cabd542ddb4ed9fdf661b\", element=\"c2f27673-d559-4932-a479-c544730104b1\")>,\n",
       " <selenium.webdriver.remote.webelement.WebElement (session=\"aa3648e1d99cabd542ddb4ed9fdf661b\", element=\"0b1aeda8-448d-4329-ae1a-969dcc6a4ef4\")>,\n",
       " <selenium.webdriver.remote.webelement.WebElement (session=\"aa3648e1d99cabd542ddb4ed9fdf661b\", element=\"942d8e34-08f2-47a8-967e-38e6bb1437b9\")>,\n",
       " <selenium.webdriver.remote.webelement.WebElement (session=\"aa3648e1d99cabd542ddb4ed9fdf661b\", element=\"fb2f98e1-1a73-4dea-9c00-4c44f62bcc96\")>,\n",
       " <selenium.webdriver.remote.webelement.WebElement (session=\"aa3648e1d99cabd542ddb4ed9fdf661b\", element=\"10b0911b-97a8-4fd6-8c49-9308ed0806be\")>,\n",
       " <selenium.webdriver.remote.webelement.WebElement (session=\"aa3648e1d99cabd542ddb4ed9fdf661b\", element=\"079141ab-659f-4e54-89b8-3e51075cfe6f\")>,\n",
       " <selenium.webdriver.remote.webelement.WebElement (session=\"aa3648e1d99cabd542ddb4ed9fdf661b\", element=\"0e44552d-b089-4fcf-9a16-0c0ab4948ac7\")>,\n",
       " <selenium.webdriver.remote.webelement.WebElement (session=\"aa3648e1d99cabd542ddb4ed9fdf661b\", element=\"1511b52a-fa8d-428f-8dca-421866cfd822\")>,\n",
       " <selenium.webdriver.remote.webelement.WebElement (session=\"aa3648e1d99cabd542ddb4ed9fdf661b\", element=\"dac1fad3-0dcc-4c66-b02c-bd428f45fd85\")>,\n",
       " <selenium.webdriver.remote.webelement.WebElement (session=\"aa3648e1d99cabd542ddb4ed9fdf661b\", element=\"224ddcfe-66ee-4b9d-bdd7-6787de22a5b7\")>,\n",
       " <selenium.webdriver.remote.webelement.WebElement (session=\"aa3648e1d99cabd542ddb4ed9fdf661b\", element=\"1ae25b80-c6b7-4753-ab52-0dab314cbe59\")>,\n",
       " <selenium.webdriver.remote.webelement.WebElement (session=\"aa3648e1d99cabd542ddb4ed9fdf661b\", element=\"a8b0f6e2-717f-4d9a-a438-0516e2238ac9\")>,\n",
       " <selenium.webdriver.remote.webelement.WebElement (session=\"aa3648e1d99cabd542ddb4ed9fdf661b\", element=\"98b6690e-1ed4-4356-9b83-15fe9492a091\")>,\n",
       " <selenium.webdriver.remote.webelement.WebElement (session=\"aa3648e1d99cabd542ddb4ed9fdf661b\", element=\"aac7efaf-0d51-4157-ae7d-c8974d2cf44d\")>,\n",
       " <selenium.webdriver.remote.webelement.WebElement (session=\"aa3648e1d99cabd542ddb4ed9fdf661b\", element=\"88139a9f-6453-4f1d-b082-939b9c9049d8\")>,\n",
       " <selenium.webdriver.remote.webelement.WebElement (session=\"aa3648e1d99cabd542ddb4ed9fdf661b\", element=\"b96d1aa3-8c01-4b67-97c1-c8745e8726d1\")>,\n",
       " <selenium.webdriver.remote.webelement.WebElement (session=\"aa3648e1d99cabd542ddb4ed9fdf661b\", element=\"a79402f7-c08d-4ee9-b248-245fdbd22963\")>,\n",
       " <selenium.webdriver.remote.webelement.WebElement (session=\"aa3648e1d99cabd542ddb4ed9fdf661b\", element=\"fb686c67-71d4-42ed-9d58-c7ebc6142ce4\")>,\n",
       " <selenium.webdriver.remote.webelement.WebElement (session=\"aa3648e1d99cabd542ddb4ed9fdf661b\", element=\"4e8f5d68-1f8b-46a6-827c-667478043257\")>,\n",
       " <selenium.webdriver.remote.webelement.WebElement (session=\"aa3648e1d99cabd542ddb4ed9fdf661b\", element=\"f30a9c44-dfb6-4b98-9e9f-0f57c88a6d5f\")>,\n",
       " <selenium.webdriver.remote.webelement.WebElement (session=\"aa3648e1d99cabd542ddb4ed9fdf661b\", element=\"6a7346c4-584e-43be-98c2-e93cb3674587\")>,\n",
       " <selenium.webdriver.remote.webelement.WebElement (session=\"aa3648e1d99cabd542ddb4ed9fdf661b\", element=\"2b1efb53-c90d-41dd-a8cf-9f23316022bd\")>,\n",
       " <selenium.webdriver.remote.webelement.WebElement (session=\"aa3648e1d99cabd542ddb4ed9fdf661b\", element=\"11ab123f-478e-4746-95b4-ad9dcc564be9\")>,\n",
       " <selenium.webdriver.remote.webelement.WebElement (session=\"aa3648e1d99cabd542ddb4ed9fdf661b\", element=\"1d26c19b-e0ef-4ea5-963b-f76d0c8259b2\")>,\n",
       " <selenium.webdriver.remote.webelement.WebElement (session=\"aa3648e1d99cabd542ddb4ed9fdf661b\", element=\"8406cfbc-e5e8-42b0-808e-58dc046b6348\")>,\n",
       " <selenium.webdriver.remote.webelement.WebElement (session=\"aa3648e1d99cabd542ddb4ed9fdf661b\", element=\"5cf8b3bc-54c0-4d00-a0e6-ffe4f7be272d\")>,\n",
       " <selenium.webdriver.remote.webelement.WebElement (session=\"aa3648e1d99cabd542ddb4ed9fdf661b\", element=\"66ad0088-bce6-4627-8ee6-a18d1ea977f1\")>,\n",
       " <selenium.webdriver.remote.webelement.WebElement (session=\"aa3648e1d99cabd542ddb4ed9fdf661b\", element=\"85898e4d-d98e-48bf-af89-ebb7c461ee53\")>,\n",
       " <selenium.webdriver.remote.webelement.WebElement (session=\"aa3648e1d99cabd542ddb4ed9fdf661b\", element=\"2d3d6422-0979-448a-9bfa-156d352d5cd4\")>,\n",
       " <selenium.webdriver.remote.webelement.WebElement (session=\"aa3648e1d99cabd542ddb4ed9fdf661b\", element=\"14ea236d-80e1-498b-89e8-3cc5b1318266\")>,\n",
       " <selenium.webdriver.remote.webelement.WebElement (session=\"aa3648e1d99cabd542ddb4ed9fdf661b\", element=\"efb4e4b7-601c-4fde-a03a-ba0b3fa89571\")>,\n",
       " <selenium.webdriver.remote.webelement.WebElement (session=\"aa3648e1d99cabd542ddb4ed9fdf661b\", element=\"64a677b2-7fed-489d-9a0a-6b308c8e6158\")>,\n",
       " <selenium.webdriver.remote.webelement.WebElement (session=\"aa3648e1d99cabd542ddb4ed9fdf661b\", element=\"3f185fec-e989-4b1c-bc9d-8528ec883d1d\")>,\n",
       " <selenium.webdriver.remote.webelement.WebElement (session=\"aa3648e1d99cabd542ddb4ed9fdf661b\", element=\"3c40b8fe-5fe8-4f70-b11d-97a643fd0cd8\")>,\n",
       " <selenium.webdriver.remote.webelement.WebElement (session=\"aa3648e1d99cabd542ddb4ed9fdf661b\", element=\"d9d75a0b-519f-4219-89e6-a5e5202f02b6\")>,\n",
       " <selenium.webdriver.remote.webelement.WebElement (session=\"aa3648e1d99cabd542ddb4ed9fdf661b\", element=\"fce260d8-079c-4c8f-83af-cfc46bd5e1bf\")>,\n",
       " <selenium.webdriver.remote.webelement.WebElement (session=\"aa3648e1d99cabd542ddb4ed9fdf661b\", element=\"a9bef20d-c5f8-4585-8d93-987dcdecee3f\")>,\n",
       " <selenium.webdriver.remote.webelement.WebElement (session=\"aa3648e1d99cabd542ddb4ed9fdf661b\", element=\"50e0e4a4-b09f-4122-8150-33f0ab9aab57\")>,\n",
       " <selenium.webdriver.remote.webelement.WebElement (session=\"aa3648e1d99cabd542ddb4ed9fdf661b\", element=\"6073e6e1-5042-4639-896e-402ad2872410\")>,\n",
       " <selenium.webdriver.remote.webelement.WebElement (session=\"aa3648e1d99cabd542ddb4ed9fdf661b\", element=\"9db7123e-8015-425e-9720-7064ba58cc2a\")>,\n",
       " <selenium.webdriver.remote.webelement.WebElement (session=\"aa3648e1d99cabd542ddb4ed9fdf661b\", element=\"10d06acb-a341-4d28-83aa-987121f131b6\")>,\n",
       " <selenium.webdriver.remote.webelement.WebElement (session=\"aa3648e1d99cabd542ddb4ed9fdf661b\", element=\"59d41522-938c-4d36-bddf-c4f232e0bfa0\")>,\n",
       " <selenium.webdriver.remote.webelement.WebElement (session=\"aa3648e1d99cabd542ddb4ed9fdf661b\", element=\"0084f429-51d5-410b-9ef6-f96ea9617cb6\")>,\n",
       " <selenium.webdriver.remote.webelement.WebElement (session=\"aa3648e1d99cabd542ddb4ed9fdf661b\", element=\"fb5a8b57-995e-4ad7-868a-aee4aa1ed1fe\")>,\n",
       " <selenium.webdriver.remote.webelement.WebElement (session=\"aa3648e1d99cabd542ddb4ed9fdf661b\", element=\"91beb21e-2476-4d9c-941d-67fd85542b9a\")>,\n",
       " <selenium.webdriver.remote.webelement.WebElement (session=\"aa3648e1d99cabd542ddb4ed9fdf661b\", element=\"598403e5-7b03-46ba-a6ae-b06ef740978c\")>,\n",
       " <selenium.webdriver.remote.webelement.WebElement (session=\"aa3648e1d99cabd542ddb4ed9fdf661b\", element=\"2a04dedf-dd4d-44e8-8f3c-29d451b08243\")>,\n",
       " <selenium.webdriver.remote.webelement.WebElement (session=\"aa3648e1d99cabd542ddb4ed9fdf661b\", element=\"10fb65ea-a4d8-4915-81dc-0223d93a08de\")>,\n",
       " <selenium.webdriver.remote.webelement.WebElement (session=\"aa3648e1d99cabd542ddb4ed9fdf661b\", element=\"06e0cc27-fa2f-4e43-b548-8b35467fef56\")>,\n",
       " <selenium.webdriver.remote.webelement.WebElement (session=\"aa3648e1d99cabd542ddb4ed9fdf661b\", element=\"07893d55-c436-4e91-8196-b7cb29823720\")>]"
      ]
     },
     "execution_count": 249,
     "metadata": {},
     "output_type": "execute_result"
    }
   ],
   "source": [
    "search_brand_tags=driver.find_elements_by_xpath(\"//h3[@class='product-brand']\")\n",
    "search_brand_tags[0:100]"
   ]
  },
  {
   "cell_type": "code",
   "execution_count": 250,
   "id": "f552d491",
   "metadata": {},
   "outputs": [
    {
     "data": {
      "text/plain": [
       "['Puma',\n",
       " 'Nike',\n",
       " 'Red Tape',\n",
       " 'Nike',\n",
       " 'Red Tape',\n",
       " 'Puma',\n",
       " 'Puma',\n",
       " 'Provogue',\n",
       " 'Red Tape',\n",
       " 'HIGHLANDER',\n",
       " 'Nike',\n",
       " 'Nike',\n",
       " 'Puma',\n",
       " 'ALDO',\n",
       " 'Louis Philippe',\n",
       " 'Nike',\n",
       " 'Louis Philippe',\n",
       " 'Red Tape',\n",
       " 'Eego Italy',\n",
       " 'Louis Philippe',\n",
       " 'Red Tape',\n",
       " 'Red Tape',\n",
       " 'Puma',\n",
       " 'Red Tape',\n",
       " 'HRX by Hrithik Roshan',\n",
       " 'Mactree',\n",
       " 'Sparx',\n",
       " 'Fentacia',\n",
       " 'Bata',\n",
       " 'mr.wonker',\n",
       " 'Nike',\n",
       " 'Red Tape',\n",
       " 'Reebok',\n",
       " 'MENGLER',\n",
       " 'Nike',\n",
       " 'Lancer',\n",
       " 'Nike',\n",
       " 'Skechers',\n",
       " 'Skechers',\n",
       " 'U.S. Polo Assn.',\n",
       " 'CLYMB',\n",
       " 'Reebok',\n",
       " 'HRX by Hrithik Roshan',\n",
       " 'Nike',\n",
       " 'ADIDAS',\n",
       " 'Skechers',\n",
       " 'Sir Corbett',\n",
       " 'H&M',\n",
       " 'DEAS',\n",
       " 'Puma']"
      ]
     },
     "execution_count": 250,
     "metadata": {},
     "output_type": "execute_result"
    }
   ],
   "source": [
    "for i in search_brand_tags:\n",
    "    brand=i.text\n",
    "    Brand_name.append(brand)\n",
    "    \n",
    "Brand_name[0:100]"
   ]
  },
  {
   "cell_type": "code",
   "execution_count": 251,
   "id": "8416d6d2",
   "metadata": {},
   "outputs": [
    {
     "data": {
      "text/plain": [
       "[<selenium.webdriver.remote.webelement.WebElement (session=\"aa3648e1d99cabd542ddb4ed9fdf661b\", element=\"697e6b64-5914-4662-b8a1-c336b01a6bed\")>,\n",
       " <selenium.webdriver.remote.webelement.WebElement (session=\"aa3648e1d99cabd542ddb4ed9fdf661b\", element=\"89171563-5734-4682-bafd-66b3fcc3ab6b\")>,\n",
       " <selenium.webdriver.remote.webelement.WebElement (session=\"aa3648e1d99cabd542ddb4ed9fdf661b\", element=\"b8783c56-6884-455d-81d5-c4e24ed58b49\")>,\n",
       " <selenium.webdriver.remote.webelement.WebElement (session=\"aa3648e1d99cabd542ddb4ed9fdf661b\", element=\"fdf96604-7d42-4107-896d-a85bd68893f3\")>,\n",
       " <selenium.webdriver.remote.webelement.WebElement (session=\"aa3648e1d99cabd542ddb4ed9fdf661b\", element=\"6969b6ee-504a-428e-a9ba-f03776bebc6d\")>,\n",
       " <selenium.webdriver.remote.webelement.WebElement (session=\"aa3648e1d99cabd542ddb4ed9fdf661b\", element=\"0d346dae-6d20-423e-9f7c-f124591bd4d4\")>,\n",
       " <selenium.webdriver.remote.webelement.WebElement (session=\"aa3648e1d99cabd542ddb4ed9fdf661b\", element=\"0c441bdf-7578-473b-81e4-65a91adf8a7d\")>,\n",
       " <selenium.webdriver.remote.webelement.WebElement (session=\"aa3648e1d99cabd542ddb4ed9fdf661b\", element=\"3db625fb-a6fe-4567-8ad7-143f6f4a22d1\")>,\n",
       " <selenium.webdriver.remote.webelement.WebElement (session=\"aa3648e1d99cabd542ddb4ed9fdf661b\", element=\"5ca74b50-1735-4a6e-bb11-501ef506bed7\")>,\n",
       " <selenium.webdriver.remote.webelement.WebElement (session=\"aa3648e1d99cabd542ddb4ed9fdf661b\", element=\"14e99c4c-16f0-4c07-a116-f3e609570f9d\")>,\n",
       " <selenium.webdriver.remote.webelement.WebElement (session=\"aa3648e1d99cabd542ddb4ed9fdf661b\", element=\"b8e8bb8e-c72d-4a3b-a132-a1d8a0c64203\")>,\n",
       " <selenium.webdriver.remote.webelement.WebElement (session=\"aa3648e1d99cabd542ddb4ed9fdf661b\", element=\"c3ec4c66-d5fe-4ef9-a139-afb41cc788fd\")>,\n",
       " <selenium.webdriver.remote.webelement.WebElement (session=\"aa3648e1d99cabd542ddb4ed9fdf661b\", element=\"75d80b03-e6a2-458c-941d-6cae620e59ba\")>,\n",
       " <selenium.webdriver.remote.webelement.WebElement (session=\"aa3648e1d99cabd542ddb4ed9fdf661b\", element=\"1402b98b-6f56-4911-a8be-d768fbbc3e5c\")>,\n",
       " <selenium.webdriver.remote.webelement.WebElement (session=\"aa3648e1d99cabd542ddb4ed9fdf661b\", element=\"0eccfd13-d4b8-4825-825c-aec2c0735297\")>,\n",
       " <selenium.webdriver.remote.webelement.WebElement (session=\"aa3648e1d99cabd542ddb4ed9fdf661b\", element=\"4a3e4cd5-e3eb-4bba-a13a-e4ecb66a67a4\")>,\n",
       " <selenium.webdriver.remote.webelement.WebElement (session=\"aa3648e1d99cabd542ddb4ed9fdf661b\", element=\"f1bf4d16-8cb0-4664-9d7e-1fc41c8e4e07\")>,\n",
       " <selenium.webdriver.remote.webelement.WebElement (session=\"aa3648e1d99cabd542ddb4ed9fdf661b\", element=\"639c1d38-b806-4966-9de5-e694c7039bba\")>,\n",
       " <selenium.webdriver.remote.webelement.WebElement (session=\"aa3648e1d99cabd542ddb4ed9fdf661b\", element=\"bb5a2ec3-0bce-4a6d-8a93-749e9eabe675\")>,\n",
       " <selenium.webdriver.remote.webelement.WebElement (session=\"aa3648e1d99cabd542ddb4ed9fdf661b\", element=\"44160ad0-d4ca-4fdc-8ad6-950dc4e74ee1\")>,\n",
       " <selenium.webdriver.remote.webelement.WebElement (session=\"aa3648e1d99cabd542ddb4ed9fdf661b\", element=\"fd51c54c-d876-48cd-845c-2bad9b96362c\")>,\n",
       " <selenium.webdriver.remote.webelement.WebElement (session=\"aa3648e1d99cabd542ddb4ed9fdf661b\", element=\"b1b17d64-39bc-4169-80cc-e1c95fb46803\")>,\n",
       " <selenium.webdriver.remote.webelement.WebElement (session=\"aa3648e1d99cabd542ddb4ed9fdf661b\", element=\"dd7a242d-c101-4b1e-9131-75efac9ec342\")>,\n",
       " <selenium.webdriver.remote.webelement.WebElement (session=\"aa3648e1d99cabd542ddb4ed9fdf661b\", element=\"ef32a1bf-80fc-42b8-82a3-75a85a93ff0d\")>,\n",
       " <selenium.webdriver.remote.webelement.WebElement (session=\"aa3648e1d99cabd542ddb4ed9fdf661b\", element=\"a60a0bac-4641-486a-a431-54063305572b\")>,\n",
       " <selenium.webdriver.remote.webelement.WebElement (session=\"aa3648e1d99cabd542ddb4ed9fdf661b\", element=\"ade488cf-0f83-4175-a106-a7c143e8bafb\")>,\n",
       " <selenium.webdriver.remote.webelement.WebElement (session=\"aa3648e1d99cabd542ddb4ed9fdf661b\", element=\"37feaf34-681a-4315-a494-f19d7e82f652\")>,\n",
       " <selenium.webdriver.remote.webelement.WebElement (session=\"aa3648e1d99cabd542ddb4ed9fdf661b\", element=\"61b5347f-79b1-4bc0-9f97-283d48bf54a1\")>,\n",
       " <selenium.webdriver.remote.webelement.WebElement (session=\"aa3648e1d99cabd542ddb4ed9fdf661b\", element=\"020a2763-a1d1-418e-9737-e867f93bad88\")>,\n",
       " <selenium.webdriver.remote.webelement.WebElement (session=\"aa3648e1d99cabd542ddb4ed9fdf661b\", element=\"e110ac8d-5304-4c3e-941c-692c09161e4b\")>,\n",
       " <selenium.webdriver.remote.webelement.WebElement (session=\"aa3648e1d99cabd542ddb4ed9fdf661b\", element=\"69d98aae-39bb-4c24-be25-44ec0c5a83e2\")>,\n",
       " <selenium.webdriver.remote.webelement.WebElement (session=\"aa3648e1d99cabd542ddb4ed9fdf661b\", element=\"bcd197fb-19b5-4021-88ac-e514cfe4a372\")>,\n",
       " <selenium.webdriver.remote.webelement.WebElement (session=\"aa3648e1d99cabd542ddb4ed9fdf661b\", element=\"4b0891fc-d3dc-4627-b809-522234f66475\")>,\n",
       " <selenium.webdriver.remote.webelement.WebElement (session=\"aa3648e1d99cabd542ddb4ed9fdf661b\", element=\"ea03cec7-bc25-4281-bbf2-381391d649b5\")>,\n",
       " <selenium.webdriver.remote.webelement.WebElement (session=\"aa3648e1d99cabd542ddb4ed9fdf661b\", element=\"a8c8d930-6cc7-4a42-ad48-8a038bfe6f6e\")>,\n",
       " <selenium.webdriver.remote.webelement.WebElement (session=\"aa3648e1d99cabd542ddb4ed9fdf661b\", element=\"53889532-b835-470f-be92-53f4aae38aab\")>,\n",
       " <selenium.webdriver.remote.webelement.WebElement (session=\"aa3648e1d99cabd542ddb4ed9fdf661b\", element=\"31f6dede-7aa6-4eff-bc23-48e5e69a13f6\")>,\n",
       " <selenium.webdriver.remote.webelement.WebElement (session=\"aa3648e1d99cabd542ddb4ed9fdf661b\", element=\"896c6be7-714c-420f-a606-b1b2e41fab1c\")>,\n",
       " <selenium.webdriver.remote.webelement.WebElement (session=\"aa3648e1d99cabd542ddb4ed9fdf661b\", element=\"b1d606ec-d4c5-4755-a3a6-d79ffd92124b\")>,\n",
       " <selenium.webdriver.remote.webelement.WebElement (session=\"aa3648e1d99cabd542ddb4ed9fdf661b\", element=\"e12c0fde-1087-49f5-aeea-ac6e3c761ebc\")>,\n",
       " <selenium.webdriver.remote.webelement.WebElement (session=\"aa3648e1d99cabd542ddb4ed9fdf661b\", element=\"82bd4c11-3293-4a2f-a039-1c5d3488de4d\")>,\n",
       " <selenium.webdriver.remote.webelement.WebElement (session=\"aa3648e1d99cabd542ddb4ed9fdf661b\", element=\"7c3c4149-2777-4f2d-b712-4ef9dc780f93\")>,\n",
       " <selenium.webdriver.remote.webelement.WebElement (session=\"aa3648e1d99cabd542ddb4ed9fdf661b\", element=\"7b5188e5-5ebb-4be7-973c-9d224219ff08\")>,\n",
       " <selenium.webdriver.remote.webelement.WebElement (session=\"aa3648e1d99cabd542ddb4ed9fdf661b\", element=\"97caeb95-4ba5-4a2e-9bf6-4c6b9f344fa4\")>,\n",
       " <selenium.webdriver.remote.webelement.WebElement (session=\"aa3648e1d99cabd542ddb4ed9fdf661b\", element=\"b6494583-0a3e-4cc1-8d22-57f61b725d76\")>,\n",
       " <selenium.webdriver.remote.webelement.WebElement (session=\"aa3648e1d99cabd542ddb4ed9fdf661b\", element=\"875f54c7-765a-4a13-bfce-1722cbdec089\")>,\n",
       " <selenium.webdriver.remote.webelement.WebElement (session=\"aa3648e1d99cabd542ddb4ed9fdf661b\", element=\"085da5cf-3d0f-477e-9077-797b95b86f30\")>,\n",
       " <selenium.webdriver.remote.webelement.WebElement (session=\"aa3648e1d99cabd542ddb4ed9fdf661b\", element=\"cca88660-510a-487c-a358-2c0c56ba720a\")>,\n",
       " <selenium.webdriver.remote.webelement.WebElement (session=\"aa3648e1d99cabd542ddb4ed9fdf661b\", element=\"a39cbeef-001b-47f4-91ca-f892fa2df652\")>,\n",
       " <selenium.webdriver.remote.webelement.WebElement (session=\"aa3648e1d99cabd542ddb4ed9fdf661b\", element=\"432abfa9-ba7f-4ad5-8c87-877412a227d4\")>]"
      ]
     },
     "execution_count": 251,
     "metadata": {},
     "output_type": "execute_result"
    }
   ],
   "source": [
    "#extracting tags for description\n",
    "search_desc_tags=driver.find_elements_by_xpath(\"//h4[@class='product-product']\")\n",
    "search_desc_tags[0:100]"
   ]
  },
  {
   "cell_type": "code",
   "execution_count": 252,
   "id": "4bc0e7be",
   "metadata": {},
   "outputs": [
    {
     "data": {
      "text/plain": [
       "['Men Running Shoes',\n",
       " 'Men Revolution 5 Running Shoes',\n",
       " 'Men Walking Shoes',\n",
       " 'Men MC Training Shoes',\n",
       " 'Men Walking Shoes',\n",
       " 'Men Solid Running Shoes',\n",
       " 'Men HYBRID Fuego Running Shoes',\n",
       " 'Men Black Solid Formal Debys',\n",
       " 'Men Solid Formal Slip On Loafers',\n",
       " 'Men Sneakers',\n",
       " 'Kids Revolution 4 Running',\n",
       " 'LEGEND ESSENTIAL Training Shoe',\n",
       " 'Hybrid NX Ozone Running Shoes',\n",
       " 'Men Textured Sneakers',\n",
       " 'Men Solid Driving Shoes',\n",
       " 'Men Vapor Lite HC Tennis Shoes',\n",
       " 'Men Solid Driving Shoes',\n",
       " 'Men Walking Shoes',\n",
       " 'Men Trekking Shoes',\n",
       " 'Men Leather Formal Oxfords',\n",
       " 'Men Walking Shoes',\n",
       " 'Men Sneakers',\n",
       " 'Men Trinity IDP Shoes Sneakers',\n",
       " 'Men Solid Leather Formal Oxfords',\n",
       " 'Women Running Shoes',\n",
       " 'Men Suede Loafers',\n",
       " 'Men Running Sports Shoes',\n",
       " 'Men Lightweight Flat Boots',\n",
       " 'Men Solid Formal Oxfords',\n",
       " 'Men Solid Formal Loafers',\n",
       " 'Men Renew Training Shoes',\n",
       " 'Men Walking Shoes',\n",
       " 'Men Grafite Running Shoes',\n",
       " 'Men Walking Shoes',\n",
       " 'Unisex Shane Skateboarding',\n",
       " 'Men Sneakers',\n",
       " 'Men Zoom Court Lite 3 Tennis',\n",
       " 'Men Ultra Groove Templar',\n",
       " 'Women Walking Shoes',\n",
       " 'Men Bronx Sneakers',\n",
       " 'Men Running Shoes',\n",
       " 'Men Austin 2.0 Running Shoes',\n",
       " 'Men Gamescape sneaker',\n",
       " 'Unisex RE II Basketball Shoes',\n",
       " 'Men Classigy Running Shoes',\n",
       " 'Men BOUNDER-MIRKLE Sneakers',\n",
       " 'Semi-Formal Shoes',\n",
       " 'Men Slip-On Trainers',\n",
       " 'Women Mules Flats',\n",
       " 'Men Retaliate 2 Running Shoes']"
      ]
     },
     "execution_count": 252,
     "metadata": {},
     "output_type": "execute_result"
    }
   ],
   "source": [
    "for i in search_desc_tags:\n",
    "    describe=i.text\n",
    "    Descr.append(describe)\n",
    "    \n",
    "Descr[0:100]"
   ]
  },
  {
   "cell_type": "code",
   "execution_count": 253,
   "id": "79c2451e",
   "metadata": {},
   "outputs": [
    {
     "data": {
      "text/plain": [
       "[<selenium.webdriver.remote.webelement.WebElement (session=\"aa3648e1d99cabd542ddb4ed9fdf661b\", element=\"ca5062c6-d7a8-413c-af62-ee3e8e2cce2f\")>,\n",
       " <selenium.webdriver.remote.webelement.WebElement (session=\"aa3648e1d99cabd542ddb4ed9fdf661b\", element=\"9083bf9d-ad00-4561-b84a-e3e09c2e3c3b\")>,\n",
       " <selenium.webdriver.remote.webelement.WebElement (session=\"aa3648e1d99cabd542ddb4ed9fdf661b\", element=\"de6d2742-7a6a-45bf-911a-cd8276f9a6c7\")>,\n",
       " <selenium.webdriver.remote.webelement.WebElement (session=\"aa3648e1d99cabd542ddb4ed9fdf661b\", element=\"86bf968c-05ab-4a6c-83f3-5cf726162952\")>,\n",
       " <selenium.webdriver.remote.webelement.WebElement (session=\"aa3648e1d99cabd542ddb4ed9fdf661b\", element=\"48c83c3c-cb3c-40a0-b6cf-6a2c1372d6a2\")>,\n",
       " <selenium.webdriver.remote.webelement.WebElement (session=\"aa3648e1d99cabd542ddb4ed9fdf661b\", element=\"5a009ae2-5851-4648-bad4-2d398eb9b9dc\")>,\n",
       " <selenium.webdriver.remote.webelement.WebElement (session=\"aa3648e1d99cabd542ddb4ed9fdf661b\", element=\"6a95d102-8b3d-43a5-90de-8582f10cfa48\")>,\n",
       " <selenium.webdriver.remote.webelement.WebElement (session=\"aa3648e1d99cabd542ddb4ed9fdf661b\", element=\"b3233f51-7319-4c42-91fb-c308aa5b0d76\")>,\n",
       " <selenium.webdriver.remote.webelement.WebElement (session=\"aa3648e1d99cabd542ddb4ed9fdf661b\", element=\"43801de4-58b2-4754-a433-d5e0514cf2b9\")>,\n",
       " <selenium.webdriver.remote.webelement.WebElement (session=\"aa3648e1d99cabd542ddb4ed9fdf661b\", element=\"38ee9cb5-83bd-4194-a468-2a11ba1b9320\")>,\n",
       " <selenium.webdriver.remote.webelement.WebElement (session=\"aa3648e1d99cabd542ddb4ed9fdf661b\", element=\"ad7c07e8-31c7-4c91-b348-13f262fcedef\")>,\n",
       " <selenium.webdriver.remote.webelement.WebElement (session=\"aa3648e1d99cabd542ddb4ed9fdf661b\", element=\"1dd764ea-f8e7-4ac5-b504-728b865bcff5\")>,\n",
       " <selenium.webdriver.remote.webelement.WebElement (session=\"aa3648e1d99cabd542ddb4ed9fdf661b\", element=\"fd0f87b2-98f2-4b20-b5bf-f16b5bbf7af8\")>,\n",
       " <selenium.webdriver.remote.webelement.WebElement (session=\"aa3648e1d99cabd542ddb4ed9fdf661b\", element=\"deebae0b-d22f-40dc-ad4a-d07b42fb7ddd\")>,\n",
       " <selenium.webdriver.remote.webelement.WebElement (session=\"aa3648e1d99cabd542ddb4ed9fdf661b\", element=\"deb24812-6fa1-4a7f-b81f-329776dc8ab7\")>,\n",
       " <selenium.webdriver.remote.webelement.WebElement (session=\"aa3648e1d99cabd542ddb4ed9fdf661b\", element=\"f026b706-22de-406b-851a-635bfc57aa15\")>,\n",
       " <selenium.webdriver.remote.webelement.WebElement (session=\"aa3648e1d99cabd542ddb4ed9fdf661b\", element=\"2bac54ca-5be3-4281-b6e0-a6dbd5c86998\")>,\n",
       " <selenium.webdriver.remote.webelement.WebElement (session=\"aa3648e1d99cabd542ddb4ed9fdf661b\", element=\"9c67ea09-100a-480b-97c8-d6a4b1391efa\")>,\n",
       " <selenium.webdriver.remote.webelement.WebElement (session=\"aa3648e1d99cabd542ddb4ed9fdf661b\", element=\"7a8604ee-2585-44c0-bfb5-279159a36b6f\")>,\n",
       " <selenium.webdriver.remote.webelement.WebElement (session=\"aa3648e1d99cabd542ddb4ed9fdf661b\", element=\"70fced23-21ed-44b7-ae76-2bae1cdbf81d\")>,\n",
       " <selenium.webdriver.remote.webelement.WebElement (session=\"aa3648e1d99cabd542ddb4ed9fdf661b\", element=\"bd0f4197-52ce-40f6-ad0e-8e7c865eadef\")>,\n",
       " <selenium.webdriver.remote.webelement.WebElement (session=\"aa3648e1d99cabd542ddb4ed9fdf661b\", element=\"7773d327-9c64-4d69-bd3b-471e46daafd0\")>,\n",
       " <selenium.webdriver.remote.webelement.WebElement (session=\"aa3648e1d99cabd542ddb4ed9fdf661b\", element=\"b41ea6d1-e720-4e8f-8e9e-bf590578d275\")>,\n",
       " <selenium.webdriver.remote.webelement.WebElement (session=\"aa3648e1d99cabd542ddb4ed9fdf661b\", element=\"52307cb2-30eb-4e48-b727-aff0ab8f2eb6\")>,\n",
       " <selenium.webdriver.remote.webelement.WebElement (session=\"aa3648e1d99cabd542ddb4ed9fdf661b\", element=\"fe1271a6-730a-4c37-965d-d606b9643d86\")>,\n",
       " <selenium.webdriver.remote.webelement.WebElement (session=\"aa3648e1d99cabd542ddb4ed9fdf661b\", element=\"6c199929-6286-4db0-ad9d-eb4bc11853ff\")>,\n",
       " <selenium.webdriver.remote.webelement.WebElement (session=\"aa3648e1d99cabd542ddb4ed9fdf661b\", element=\"86d6d92b-6616-4c42-8b2d-d0f6de775452\")>,\n",
       " <selenium.webdriver.remote.webelement.WebElement (session=\"aa3648e1d99cabd542ddb4ed9fdf661b\", element=\"d296f1c8-8d74-43ac-b97b-a735f9ac4c7a\")>,\n",
       " <selenium.webdriver.remote.webelement.WebElement (session=\"aa3648e1d99cabd542ddb4ed9fdf661b\", element=\"8332eaf0-db78-4e24-b9cf-e00f5b1e1c9f\")>,\n",
       " <selenium.webdriver.remote.webelement.WebElement (session=\"aa3648e1d99cabd542ddb4ed9fdf661b\", element=\"8ded04b1-3dd2-4f1e-b40f-442f101c7de0\")>,\n",
       " <selenium.webdriver.remote.webelement.WebElement (session=\"aa3648e1d99cabd542ddb4ed9fdf661b\", element=\"150952da-f7a8-4527-a29f-3052755448fe\")>,\n",
       " <selenium.webdriver.remote.webelement.WebElement (session=\"aa3648e1d99cabd542ddb4ed9fdf661b\", element=\"f8184a87-e912-411e-b22b-49eabceee4af\")>,\n",
       " <selenium.webdriver.remote.webelement.WebElement (session=\"aa3648e1d99cabd542ddb4ed9fdf661b\", element=\"8b41b3dc-40ca-49cf-9bf5-2510c0516537\")>,\n",
       " <selenium.webdriver.remote.webelement.WebElement (session=\"aa3648e1d99cabd542ddb4ed9fdf661b\", element=\"22805f27-e544-4575-a52c-92a3125aacdc\")>,\n",
       " <selenium.webdriver.remote.webelement.WebElement (session=\"aa3648e1d99cabd542ddb4ed9fdf661b\", element=\"fbfa8c6b-6062-4917-a80e-d1d0fa4d9cc5\")>,\n",
       " <selenium.webdriver.remote.webelement.WebElement (session=\"aa3648e1d99cabd542ddb4ed9fdf661b\", element=\"602c6540-ec98-47a7-9deb-5ceed5ca2922\")>,\n",
       " <selenium.webdriver.remote.webelement.WebElement (session=\"aa3648e1d99cabd542ddb4ed9fdf661b\", element=\"29058fb9-547b-48d2-8ab9-a228a0bbb84a\")>,\n",
       " <selenium.webdriver.remote.webelement.WebElement (session=\"aa3648e1d99cabd542ddb4ed9fdf661b\", element=\"8048f0b6-af46-4fd7-b170-14860e645843\")>,\n",
       " <selenium.webdriver.remote.webelement.WebElement (session=\"aa3648e1d99cabd542ddb4ed9fdf661b\", element=\"f2f09233-f3df-4fe3-930a-ebabd01d5633\")>,\n",
       " <selenium.webdriver.remote.webelement.WebElement (session=\"aa3648e1d99cabd542ddb4ed9fdf661b\", element=\"db8a730e-2e46-424f-9d77-dce9cb748295\")>,\n",
       " <selenium.webdriver.remote.webelement.WebElement (session=\"aa3648e1d99cabd542ddb4ed9fdf661b\", element=\"54641b7f-dbbc-433a-9c66-1a8b55e6f6eb\")>]"
      ]
     },
     "execution_count": 253,
     "metadata": {},
     "output_type": "execute_result"
    }
   ],
   "source": [
    "#extracting tags for price details\n",
    "search_price_tags=driver.find_elements_by_xpath(\"//span[@class='product-discountedPrice']\")\n",
    "search_price_tags[0:100]"
   ]
  },
  {
   "cell_type": "code",
   "execution_count": 254,
   "id": "c86c9446",
   "metadata": {},
   "outputs": [
    {
     "data": {
      "text/plain": [
       "['Rs. 2749',\n",
       " 'Rs. 1449',\n",
       " 'Rs. 1574',\n",
       " 'Rs. 2249',\n",
       " 'Rs. 3249',\n",
       " 'Rs. 899',\n",
       " 'Rs. 1749',\n",
       " 'Rs. 895',\n",
       " 'Rs. 1502',\n",
       " 'Rs. 3820',\n",
       " 'Rs. 3999',\n",
       " 'Rs. 6999',\n",
       " 'Rs. 3499',\n",
       " 'Rs. 5775',\n",
       " 'Rs. 3499',\n",
       " 'Rs. 1224',\n",
       " 'Rs. 987',\n",
       " 'Rs. 4799',\n",
       " 'Rs. 1224',\n",
       " 'Rs. 1174',\n",
       " 'Rs. 2449',\n",
       " 'Rs. 1724',\n",
       " 'Rs. 1799',\n",
       " 'Rs. 898',\n",
       " 'Rs. 1574',\n",
       " 'Rs. 1199',\n",
       " 'Rs. 699',\n",
       " 'Rs. 1574',\n",
       " 'Rs. 799',\n",
       " 'Rs. 779',\n",
       " 'Rs. 4224',\n",
       " 'Rs. 3399',\n",
       " 'Rs. 2079',\n",
       " 'Rs. 569',\n",
       " 'Rs. 1724',\n",
       " 'Rs. 2459',\n",
       " 'Rs. 3849',\n",
       " 'Rs. 1999',\n",
       " 'Rs. 1274',\n",
       " 'Rs. 499',\n",
       " 'Rs. 3849']"
      ]
     },
     "execution_count": 254,
     "metadata": {},
     "output_type": "execute_result"
    }
   ],
   "source": [
    "for i in search_price_tags:\n",
    "    prices=i.text\n",
    "    Price.append(prices)\n",
    "    \n",
    "Price[0:100]"
   ]
  },
  {
   "cell_type": "code",
   "execution_count": 255,
   "id": "71b5f7d3",
   "metadata": {},
   "outputs": [],
   "source": [
    "#clicking on next button\n",
    "next_button=driver.find_element_by_xpath(\"/html/body/div[2]/div/div[1]/main/div[3]/div[2]/div/div[2]/section/div[2]/ul/li[12]/a\")\n",
    "next_button.click()"
   ]
  },
  {
   "cell_type": "code",
   "execution_count": 256,
   "id": "b2ab5912",
   "metadata": {},
   "outputs": [
    {
     "data": {
      "text/plain": [
       "[<selenium.webdriver.remote.webelement.WebElement (session=\"aa3648e1d99cabd542ddb4ed9fdf661b\", element=\"07893d55-c436-4e91-8196-b7cb29823720\")>,\n",
       " <selenium.webdriver.remote.webelement.WebElement (session=\"aa3648e1d99cabd542ddb4ed9fdf661b\", element=\"7038fb0c-edae-43fd-ae05-5b84ee41809c\")>,\n",
       " <selenium.webdriver.remote.webelement.WebElement (session=\"aa3648e1d99cabd542ddb4ed9fdf661b\", element=\"b40b3f60-9ec2-44c4-b397-1f79b6650a9b\")>,\n",
       " <selenium.webdriver.remote.webelement.WebElement (session=\"aa3648e1d99cabd542ddb4ed9fdf661b\", element=\"39f67d0c-d6c0-404f-9667-4da5f2f9bbb1\")>,\n",
       " <selenium.webdriver.remote.webelement.WebElement (session=\"aa3648e1d99cabd542ddb4ed9fdf661b\", element=\"bee900bd-cec7-414d-8128-b5993fedb847\")>,\n",
       " <selenium.webdriver.remote.webelement.WebElement (session=\"aa3648e1d99cabd542ddb4ed9fdf661b\", element=\"c586c858-bcd2-4085-88b6-1d7caf48a4f1\")>,\n",
       " <selenium.webdriver.remote.webelement.WebElement (session=\"aa3648e1d99cabd542ddb4ed9fdf661b\", element=\"fa3ba1c5-0c85-41f2-979f-32078a748bca\")>,\n",
       " <selenium.webdriver.remote.webelement.WebElement (session=\"aa3648e1d99cabd542ddb4ed9fdf661b\", element=\"e1c1cf97-70e4-4662-a2ed-bb631bc9dfc5\")>,\n",
       " <selenium.webdriver.remote.webelement.WebElement (session=\"aa3648e1d99cabd542ddb4ed9fdf661b\", element=\"718d2345-34a3-4094-a9d7-df352e1eebbc\")>,\n",
       " <selenium.webdriver.remote.webelement.WebElement (session=\"aa3648e1d99cabd542ddb4ed9fdf661b\", element=\"83613f56-4da5-42d4-a4d8-698acbf5c5c3\")>,\n",
       " <selenium.webdriver.remote.webelement.WebElement (session=\"aa3648e1d99cabd542ddb4ed9fdf661b\", element=\"7fb0417d-bc62-45bd-9686-e7e161e61dfd\")>,\n",
       " <selenium.webdriver.remote.webelement.WebElement (session=\"aa3648e1d99cabd542ddb4ed9fdf661b\", element=\"e07c568a-3c37-44a3-b4a0-dd33cfec8570\")>,\n",
       " <selenium.webdriver.remote.webelement.WebElement (session=\"aa3648e1d99cabd542ddb4ed9fdf661b\", element=\"0d2fd318-aa09-449a-a61e-7cef167cece4\")>,\n",
       " <selenium.webdriver.remote.webelement.WebElement (session=\"aa3648e1d99cabd542ddb4ed9fdf661b\", element=\"163ff6df-030a-45ae-b30a-67fd18b1ffc7\")>,\n",
       " <selenium.webdriver.remote.webelement.WebElement (session=\"aa3648e1d99cabd542ddb4ed9fdf661b\", element=\"9a31a8ca-9996-47d6-88db-22d79f453b16\")>,\n",
       " <selenium.webdriver.remote.webelement.WebElement (session=\"aa3648e1d99cabd542ddb4ed9fdf661b\", element=\"b8a7272b-22ec-439f-b697-3469fbe7c7a0\")>,\n",
       " <selenium.webdriver.remote.webelement.WebElement (session=\"aa3648e1d99cabd542ddb4ed9fdf661b\", element=\"27eb2eb4-7b6f-4f73-8c61-f8e93333f3f2\")>,\n",
       " <selenium.webdriver.remote.webelement.WebElement (session=\"aa3648e1d99cabd542ddb4ed9fdf661b\", element=\"68273acf-3d00-4552-8b78-4ed14e2ffd82\")>,\n",
       " <selenium.webdriver.remote.webelement.WebElement (session=\"aa3648e1d99cabd542ddb4ed9fdf661b\", element=\"0d9a39e5-0560-49b4-a310-9865434ea68f\")>,\n",
       " <selenium.webdriver.remote.webelement.WebElement (session=\"aa3648e1d99cabd542ddb4ed9fdf661b\", element=\"9b01ef92-f027-4170-a559-b977b44e632c\")>,\n",
       " <selenium.webdriver.remote.webelement.WebElement (session=\"aa3648e1d99cabd542ddb4ed9fdf661b\", element=\"16eadc6b-489c-44f8-a8bb-0d24c0471148\")>,\n",
       " <selenium.webdriver.remote.webelement.WebElement (session=\"aa3648e1d99cabd542ddb4ed9fdf661b\", element=\"39cd1c59-423d-4ae1-9177-07ce95f9a743\")>,\n",
       " <selenium.webdriver.remote.webelement.WebElement (session=\"aa3648e1d99cabd542ddb4ed9fdf661b\", element=\"cf52f7b0-1ce3-4166-a62a-e2b15b46a993\")>,\n",
       " <selenium.webdriver.remote.webelement.WebElement (session=\"aa3648e1d99cabd542ddb4ed9fdf661b\", element=\"df64bc0a-5597-458a-9226-98d31b6781e0\")>,\n",
       " <selenium.webdriver.remote.webelement.WebElement (session=\"aa3648e1d99cabd542ddb4ed9fdf661b\", element=\"412941f4-e8cf-4854-b8de-1334468821f9\")>,\n",
       " <selenium.webdriver.remote.webelement.WebElement (session=\"aa3648e1d99cabd542ddb4ed9fdf661b\", element=\"cf478fbd-f386-416f-a088-46a4d1a1e339\")>,\n",
       " <selenium.webdriver.remote.webelement.WebElement (session=\"aa3648e1d99cabd542ddb4ed9fdf661b\", element=\"78345ad1-b12b-4e70-b3a7-19fd0a09bc65\")>,\n",
       " <selenium.webdriver.remote.webelement.WebElement (session=\"aa3648e1d99cabd542ddb4ed9fdf661b\", element=\"d430575f-cebd-4a33-87eb-660171c2f804\")>,\n",
       " <selenium.webdriver.remote.webelement.WebElement (session=\"aa3648e1d99cabd542ddb4ed9fdf661b\", element=\"03f31d22-aec6-4979-8404-ae1deab4ab8a\")>,\n",
       " <selenium.webdriver.remote.webelement.WebElement (session=\"aa3648e1d99cabd542ddb4ed9fdf661b\", element=\"750bd572-7aa6-4012-a4db-7b61245fd671\")>,\n",
       " <selenium.webdriver.remote.webelement.WebElement (session=\"aa3648e1d99cabd542ddb4ed9fdf661b\", element=\"e9348244-ad76-4d59-aae3-47281cb98a3b\")>,\n",
       " <selenium.webdriver.remote.webelement.WebElement (session=\"aa3648e1d99cabd542ddb4ed9fdf661b\", element=\"abca039b-7763-452d-841f-3bacab0746a7\")>,\n",
       " <selenium.webdriver.remote.webelement.WebElement (session=\"aa3648e1d99cabd542ddb4ed9fdf661b\", element=\"050f5e0e-582a-4c24-90c7-0c3cb7584985\")>,\n",
       " <selenium.webdriver.remote.webelement.WebElement (session=\"aa3648e1d99cabd542ddb4ed9fdf661b\", element=\"83da70c1-2bba-4cf7-8f9d-66c2a945bae8\")>,\n",
       " <selenium.webdriver.remote.webelement.WebElement (session=\"aa3648e1d99cabd542ddb4ed9fdf661b\", element=\"22d34bda-530c-4daf-8a97-af4a404481b4\")>,\n",
       " <selenium.webdriver.remote.webelement.WebElement (session=\"aa3648e1d99cabd542ddb4ed9fdf661b\", element=\"3ddab03a-ea70-4f59-9a9b-e4f47e1ead71\")>,\n",
       " <selenium.webdriver.remote.webelement.WebElement (session=\"aa3648e1d99cabd542ddb4ed9fdf661b\", element=\"6934a03c-2005-4173-bdc2-bb473cd50dc0\")>,\n",
       " <selenium.webdriver.remote.webelement.WebElement (session=\"aa3648e1d99cabd542ddb4ed9fdf661b\", element=\"5506e10e-d209-4ce1-b9a5-3b0bb3f26718\")>,\n",
       " <selenium.webdriver.remote.webelement.WebElement (session=\"aa3648e1d99cabd542ddb4ed9fdf661b\", element=\"35bb09e5-684c-4de0-a453-b7852b425249\")>,\n",
       " <selenium.webdriver.remote.webelement.WebElement (session=\"aa3648e1d99cabd542ddb4ed9fdf661b\", element=\"9f0b2378-052d-45fb-9882-888de65920d4\")>,\n",
       " <selenium.webdriver.remote.webelement.WebElement (session=\"aa3648e1d99cabd542ddb4ed9fdf661b\", element=\"84445097-81fd-40cb-986b-34c0e863f47a\")>,\n",
       " <selenium.webdriver.remote.webelement.WebElement (session=\"aa3648e1d99cabd542ddb4ed9fdf661b\", element=\"962c2205-6bfc-4147-9370-8f374ced306f\")>,\n",
       " <selenium.webdriver.remote.webelement.WebElement (session=\"aa3648e1d99cabd542ddb4ed9fdf661b\", element=\"627f9364-33a5-40f5-b292-29ae64bba987\")>,\n",
       " <selenium.webdriver.remote.webelement.WebElement (session=\"aa3648e1d99cabd542ddb4ed9fdf661b\", element=\"73eeeb1a-f929-4e4a-985e-2344dfa5f27b\")>,\n",
       " <selenium.webdriver.remote.webelement.WebElement (session=\"aa3648e1d99cabd542ddb4ed9fdf661b\", element=\"3e57ed76-3727-46fb-a6cd-ab9a2b442695\")>,\n",
       " <selenium.webdriver.remote.webelement.WebElement (session=\"aa3648e1d99cabd542ddb4ed9fdf661b\", element=\"c9103fc7-2f64-4ad2-b1b1-1e0ca82b7c15\")>,\n",
       " <selenium.webdriver.remote.webelement.WebElement (session=\"aa3648e1d99cabd542ddb4ed9fdf661b\", element=\"7f3243bb-20bd-46fa-b024-592aa7e074c1\")>,\n",
       " <selenium.webdriver.remote.webelement.WebElement (session=\"aa3648e1d99cabd542ddb4ed9fdf661b\", element=\"e1a8b1d8-5ab3-4e9c-95d6-e4770220084f\")>,\n",
       " <selenium.webdriver.remote.webelement.WebElement (session=\"aa3648e1d99cabd542ddb4ed9fdf661b\", element=\"a0c4a68e-9c14-4dd6-96b4-d9c7f1ddc183\")>,\n",
       " <selenium.webdriver.remote.webelement.WebElement (session=\"aa3648e1d99cabd542ddb4ed9fdf661b\", element=\"adb0178a-fbcc-4389-a975-51d010fc5a75\")>]"
      ]
     },
     "execution_count": 256,
     "metadata": {},
     "output_type": "execute_result"
    }
   ],
   "source": [
    "#extracting tags from next page\n",
    "search_more_names=driver.find_elements_by_xpath(\"//h3[@class='product-brand']\")\n",
    "search_more_names[0:100]"
   ]
  },
  {
   "cell_type": "code",
   "execution_count": 257,
   "id": "54d426a6",
   "metadata": {},
   "outputs": [
    {
     "data": {
      "text/plain": [
       "['Puma',\n",
       " 'Nike',\n",
       " 'Red Tape',\n",
       " 'Nike',\n",
       " 'Red Tape',\n",
       " 'Puma',\n",
       " 'Puma',\n",
       " 'Provogue',\n",
       " 'Red Tape',\n",
       " 'HIGHLANDER',\n",
       " 'Nike',\n",
       " 'Nike',\n",
       " 'Puma',\n",
       " 'ALDO',\n",
       " 'Louis Philippe',\n",
       " 'Nike',\n",
       " 'Louis Philippe',\n",
       " 'Red Tape',\n",
       " 'Eego Italy',\n",
       " 'Louis Philippe',\n",
       " 'Red Tape',\n",
       " 'Red Tape',\n",
       " 'Puma',\n",
       " 'Red Tape',\n",
       " 'HRX by Hrithik Roshan',\n",
       " 'Mactree',\n",
       " 'Sparx',\n",
       " 'Fentacia',\n",
       " 'Bata',\n",
       " 'mr.wonker',\n",
       " 'Nike',\n",
       " 'Red Tape',\n",
       " 'Reebok',\n",
       " 'MENGLER',\n",
       " 'Nike',\n",
       " 'Lancer',\n",
       " 'Nike',\n",
       " 'Skechers',\n",
       " 'Skechers',\n",
       " 'U.S. Polo Assn.',\n",
       " 'CLYMB',\n",
       " 'Reebok',\n",
       " 'HRX by Hrithik Roshan',\n",
       " 'Nike',\n",
       " 'ADIDAS',\n",
       " 'Skechers',\n",
       " 'Sir Corbett',\n",
       " 'H&M',\n",
       " 'DEAS',\n",
       " 'Puma',\n",
       " 'Puma',\n",
       " 'Shoetopia',\n",
       " 'Red Tape',\n",
       " 'one8 x PUMA',\n",
       " 'Puma',\n",
       " 'Nike',\n",
       " 'Red Tape',\n",
       " 'HRX by Hrithik Roshan',\n",
       " 'Red Tape',\n",
       " 'Nike',\n",
       " 'ADIDAS',\n",
       " 'INVICTUS',\n",
       " 'Skechers',\n",
       " 'one8 x PUMA',\n",
       " 'Puma',\n",
       " 'Monrow',\n",
       " 'Nike',\n",
       " 'AfroJack',\n",
       " 'Red Tape',\n",
       " 'Provogue',\n",
       " 'HRX by Hrithik Roshan',\n",
       " 'Skechers',\n",
       " 'Skechers',\n",
       " 'DressBerry',\n",
       " 'Puma',\n",
       " 'HRX by Hrithik Roshan',\n",
       " 'Absolutee Shoes',\n",
       " 'Sparx',\n",
       " 'Puma',\n",
       " 'Puma',\n",
       " 'RINDAS',\n",
       " 'Puma',\n",
       " 'Red Tape',\n",
       " 'Puma',\n",
       " 'Skechers',\n",
       " 'El Paso',\n",
       " 'Campus',\n",
       " 'Fentacia',\n",
       " 'Provogue',\n",
       " 'Arrow',\n",
       " 'Mast & Harbour',\n",
       " 'Puma',\n",
       " 'ALBERTO MORENO',\n",
       " 'Red Tape',\n",
       " 'ADIDAS',\n",
       " 'ELIXIR MAN',\n",
       " 'Red Tape',\n",
       " 'HRX by Hrithik Roshan',\n",
       " 'U.S. Polo Assn.',\n",
       " 'Provogue']"
      ]
     },
     "execution_count": 257,
     "metadata": {},
     "output_type": "execute_result"
    }
   ],
   "source": [
    "for i in search_more_names:\n",
    "    names_m=i.text\n",
    "    Brand_name.append(names_m)\n",
    "    \n",
    "Brand_name[0:100]"
   ]
  },
  {
   "cell_type": "code",
   "execution_count": 258,
   "id": "a200e2b8",
   "metadata": {},
   "outputs": [
    {
     "data": {
      "text/plain": [
       "[<selenium.webdriver.remote.webelement.WebElement (session=\"aa3648e1d99cabd542ddb4ed9fdf661b\", element=\"432abfa9-ba7f-4ad5-8c87-877412a227d4\")>,\n",
       " <selenium.webdriver.remote.webelement.WebElement (session=\"aa3648e1d99cabd542ddb4ed9fdf661b\", element=\"7d57a92c-d714-4bb5-ae61-6b3ad8838035\")>,\n",
       " <selenium.webdriver.remote.webelement.WebElement (session=\"aa3648e1d99cabd542ddb4ed9fdf661b\", element=\"be68083b-610d-436d-a54f-0ffc460d9657\")>,\n",
       " <selenium.webdriver.remote.webelement.WebElement (session=\"aa3648e1d99cabd542ddb4ed9fdf661b\", element=\"d040b455-e682-4754-97d6-87997c0f69f5\")>,\n",
       " <selenium.webdriver.remote.webelement.WebElement (session=\"aa3648e1d99cabd542ddb4ed9fdf661b\", element=\"9d5f2279-5520-4768-a970-8b421f8b02f5\")>,\n",
       " <selenium.webdriver.remote.webelement.WebElement (session=\"aa3648e1d99cabd542ddb4ed9fdf661b\", element=\"6b8cc6d6-e621-4785-8343-473917247915\")>,\n",
       " <selenium.webdriver.remote.webelement.WebElement (session=\"aa3648e1d99cabd542ddb4ed9fdf661b\", element=\"adadbfb1-05a5-4787-b54c-fb6c15be7cb4\")>,\n",
       " <selenium.webdriver.remote.webelement.WebElement (session=\"aa3648e1d99cabd542ddb4ed9fdf661b\", element=\"22206284-7f99-46ec-a71a-fde34f8afd40\")>,\n",
       " <selenium.webdriver.remote.webelement.WebElement (session=\"aa3648e1d99cabd542ddb4ed9fdf661b\", element=\"c6a9883d-b800-4884-bd2f-e3f201843a7a\")>,\n",
       " <selenium.webdriver.remote.webelement.WebElement (session=\"aa3648e1d99cabd542ddb4ed9fdf661b\", element=\"9ad13830-2ebc-430d-adb7-98a2baed6421\")>,\n",
       " <selenium.webdriver.remote.webelement.WebElement (session=\"aa3648e1d99cabd542ddb4ed9fdf661b\", element=\"dafe4a94-ed16-4c8f-8295-4d84da95eaa1\")>,\n",
       " <selenium.webdriver.remote.webelement.WebElement (session=\"aa3648e1d99cabd542ddb4ed9fdf661b\", element=\"47de6a95-604f-4ba4-817b-b5231683d467\")>,\n",
       " <selenium.webdriver.remote.webelement.WebElement (session=\"aa3648e1d99cabd542ddb4ed9fdf661b\", element=\"c22ff2e0-5233-4318-b97d-f6a1b2c478fd\")>,\n",
       " <selenium.webdriver.remote.webelement.WebElement (session=\"aa3648e1d99cabd542ddb4ed9fdf661b\", element=\"e6a3a618-5e4d-42a0-a7e4-d09ba8594017\")>,\n",
       " <selenium.webdriver.remote.webelement.WebElement (session=\"aa3648e1d99cabd542ddb4ed9fdf661b\", element=\"c114cad4-21bc-4995-b36d-02c5ef9be672\")>,\n",
       " <selenium.webdriver.remote.webelement.WebElement (session=\"aa3648e1d99cabd542ddb4ed9fdf661b\", element=\"db960c92-89d2-4ec2-8415-57c5a84fb07a\")>,\n",
       " <selenium.webdriver.remote.webelement.WebElement (session=\"aa3648e1d99cabd542ddb4ed9fdf661b\", element=\"7094266b-389d-4185-bde9-ec225bf66d4d\")>,\n",
       " <selenium.webdriver.remote.webelement.WebElement (session=\"aa3648e1d99cabd542ddb4ed9fdf661b\", element=\"2fa312b3-a5ff-4ed5-ac2d-ccf439d755b5\")>,\n",
       " <selenium.webdriver.remote.webelement.WebElement (session=\"aa3648e1d99cabd542ddb4ed9fdf661b\", element=\"91752f6d-31a7-4fdf-b06a-798328d8eb02\")>,\n",
       " <selenium.webdriver.remote.webelement.WebElement (session=\"aa3648e1d99cabd542ddb4ed9fdf661b\", element=\"4e930459-4221-4940-8e8b-ff046fa6a2c0\")>,\n",
       " <selenium.webdriver.remote.webelement.WebElement (session=\"aa3648e1d99cabd542ddb4ed9fdf661b\", element=\"ac536ee0-c276-4d99-9eb4-beb0782bd6f1\")>,\n",
       " <selenium.webdriver.remote.webelement.WebElement (session=\"aa3648e1d99cabd542ddb4ed9fdf661b\", element=\"5b517fc7-6df4-4b58-927d-738c271af76e\")>,\n",
       " <selenium.webdriver.remote.webelement.WebElement (session=\"aa3648e1d99cabd542ddb4ed9fdf661b\", element=\"10a160d8-65c4-40a0-9f5a-06b0a703737c\")>,\n",
       " <selenium.webdriver.remote.webelement.WebElement (session=\"aa3648e1d99cabd542ddb4ed9fdf661b\", element=\"c42b6a69-0986-4d33-83bb-36bd83652aca\")>,\n",
       " <selenium.webdriver.remote.webelement.WebElement (session=\"aa3648e1d99cabd542ddb4ed9fdf661b\", element=\"201dd4b5-8b36-430b-81e5-22f8ae0f73c2\")>,\n",
       " <selenium.webdriver.remote.webelement.WebElement (session=\"aa3648e1d99cabd542ddb4ed9fdf661b\", element=\"2c9c75a5-71e8-4853-b393-724c173fae3f\")>,\n",
       " <selenium.webdriver.remote.webelement.WebElement (session=\"aa3648e1d99cabd542ddb4ed9fdf661b\", element=\"f6e1c54e-aedc-47ef-9be5-16c9adf8385b\")>,\n",
       " <selenium.webdriver.remote.webelement.WebElement (session=\"aa3648e1d99cabd542ddb4ed9fdf661b\", element=\"3e8210c6-6f7e-47c9-8c4f-039c101af6c6\")>,\n",
       " <selenium.webdriver.remote.webelement.WebElement (session=\"aa3648e1d99cabd542ddb4ed9fdf661b\", element=\"d4ad8b42-beda-449c-840e-8588f965925a\")>,\n",
       " <selenium.webdriver.remote.webelement.WebElement (session=\"aa3648e1d99cabd542ddb4ed9fdf661b\", element=\"00f33639-7f7c-406f-bd02-309c2cc0ecbc\")>,\n",
       " <selenium.webdriver.remote.webelement.WebElement (session=\"aa3648e1d99cabd542ddb4ed9fdf661b\", element=\"bac6a80d-e6ee-42b8-8669-c3006f147cef\")>,\n",
       " <selenium.webdriver.remote.webelement.WebElement (session=\"aa3648e1d99cabd542ddb4ed9fdf661b\", element=\"bc071ff0-9055-46df-ad80-c9fab4dc89f7\")>,\n",
       " <selenium.webdriver.remote.webelement.WebElement (session=\"aa3648e1d99cabd542ddb4ed9fdf661b\", element=\"657ca393-8a83-4d1f-a308-13ef699ad370\")>,\n",
       " <selenium.webdriver.remote.webelement.WebElement (session=\"aa3648e1d99cabd542ddb4ed9fdf661b\", element=\"4bba62f7-e76c-493d-9c53-9f7d48dbf25c\")>,\n",
       " <selenium.webdriver.remote.webelement.WebElement (session=\"aa3648e1d99cabd542ddb4ed9fdf661b\", element=\"184014d0-841a-448a-ae6b-20fd7552678f\")>,\n",
       " <selenium.webdriver.remote.webelement.WebElement (session=\"aa3648e1d99cabd542ddb4ed9fdf661b\", element=\"38237384-75d4-4cfa-b97f-bc7b7ab23894\")>,\n",
       " <selenium.webdriver.remote.webelement.WebElement (session=\"aa3648e1d99cabd542ddb4ed9fdf661b\", element=\"8b231f9e-07b1-49d1-8d42-a2e6e6a2d085\")>,\n",
       " <selenium.webdriver.remote.webelement.WebElement (session=\"aa3648e1d99cabd542ddb4ed9fdf661b\", element=\"9d3e8328-e9d7-4e57-8986-d92de7a42a47\")>,\n",
       " <selenium.webdriver.remote.webelement.WebElement (session=\"aa3648e1d99cabd542ddb4ed9fdf661b\", element=\"f74def36-6716-4b99-9c78-b9e810a8d7b0\")>,\n",
       " <selenium.webdriver.remote.webelement.WebElement (session=\"aa3648e1d99cabd542ddb4ed9fdf661b\", element=\"a326d3ea-d199-4922-937e-23226795fc72\")>,\n",
       " <selenium.webdriver.remote.webelement.WebElement (session=\"aa3648e1d99cabd542ddb4ed9fdf661b\", element=\"234be154-091a-4cd4-af05-59748766fcc7\")>,\n",
       " <selenium.webdriver.remote.webelement.WebElement (session=\"aa3648e1d99cabd542ddb4ed9fdf661b\", element=\"81fcdcee-8099-427c-a7a1-8f198212bc39\")>,\n",
       " <selenium.webdriver.remote.webelement.WebElement (session=\"aa3648e1d99cabd542ddb4ed9fdf661b\", element=\"901068f4-006b-499b-8f5f-8ea9d140b189\")>,\n",
       " <selenium.webdriver.remote.webelement.WebElement (session=\"aa3648e1d99cabd542ddb4ed9fdf661b\", element=\"80a78a14-88ed-4b52-8236-3516570154be\")>,\n",
       " <selenium.webdriver.remote.webelement.WebElement (session=\"aa3648e1d99cabd542ddb4ed9fdf661b\", element=\"2b2c6c37-5d1b-4f67-a944-afb706d3cb11\")>,\n",
       " <selenium.webdriver.remote.webelement.WebElement (session=\"aa3648e1d99cabd542ddb4ed9fdf661b\", element=\"67c57731-d676-439d-b28d-65523e8347fc\")>,\n",
       " <selenium.webdriver.remote.webelement.WebElement (session=\"aa3648e1d99cabd542ddb4ed9fdf661b\", element=\"39552f41-2cdb-42f8-8aac-a4b0ab443bbc\")>,\n",
       " <selenium.webdriver.remote.webelement.WebElement (session=\"aa3648e1d99cabd542ddb4ed9fdf661b\", element=\"2f4dc1bb-7913-459e-8ed2-6811d3218de0\")>,\n",
       " <selenium.webdriver.remote.webelement.WebElement (session=\"aa3648e1d99cabd542ddb4ed9fdf661b\", element=\"44b2695d-ce15-4457-b069-95a31fb9457a\")>,\n",
       " <selenium.webdriver.remote.webelement.WebElement (session=\"aa3648e1d99cabd542ddb4ed9fdf661b\", element=\"707cd6d9-622b-485d-9523-d46222fc0824\")>]"
      ]
     },
     "execution_count": 258,
     "metadata": {},
     "output_type": "execute_result"
    }
   ],
   "source": [
    "#extracting more info for description accordingly\n",
    "search_more_des=driver.find_elements_by_xpath(\"//h4[@class='product-product']\")\n",
    "search_more_des[0:100]"
   ]
  },
  {
   "cell_type": "code",
   "execution_count": 259,
   "id": "1df9931d",
   "metadata": {},
   "outputs": [
    {
     "data": {
      "text/plain": [
       "['Men Running Shoes',\n",
       " 'Men Revolution 5 Running Shoes',\n",
       " 'Men Walking Shoes',\n",
       " 'Men MC Training Shoes',\n",
       " 'Men Walking Shoes',\n",
       " 'Men Solid Running Shoes',\n",
       " 'Men HYBRID Fuego Running Shoes',\n",
       " 'Men Black Solid Formal Debys',\n",
       " 'Men Solid Formal Slip On Loafers',\n",
       " 'Men Sneakers',\n",
       " 'Kids Revolution 4 Running',\n",
       " 'LEGEND ESSENTIAL Training Shoe',\n",
       " 'Hybrid NX Ozone Running Shoes',\n",
       " 'Men Textured Sneakers',\n",
       " 'Men Solid Driving Shoes',\n",
       " 'Men Vapor Lite HC Tennis Shoes',\n",
       " 'Men Solid Driving Shoes',\n",
       " 'Men Walking Shoes',\n",
       " 'Men Trekking Shoes',\n",
       " 'Men Leather Formal Oxfords',\n",
       " 'Men Walking Shoes',\n",
       " 'Men Sneakers',\n",
       " 'Men Trinity IDP Shoes Sneakers',\n",
       " 'Men Solid Leather Formal Oxfords',\n",
       " 'Women Running Shoes',\n",
       " 'Men Suede Loafers',\n",
       " 'Men Running Sports Shoes',\n",
       " 'Men Lightweight Flat Boots',\n",
       " 'Men Solid Formal Oxfords',\n",
       " 'Men Solid Formal Loafers',\n",
       " 'Men Renew Training Shoes',\n",
       " 'Men Walking Shoes',\n",
       " 'Men Grafite Running Shoes',\n",
       " 'Men Walking Shoes',\n",
       " 'Unisex Shane Skateboarding',\n",
       " 'Men Sneakers',\n",
       " 'Men Zoom Court Lite 3 Tennis',\n",
       " 'Men Ultra Groove Templar',\n",
       " 'Women Walking Shoes',\n",
       " 'Men Bronx Sneakers',\n",
       " 'Men Running Shoes',\n",
       " 'Men Austin 2.0 Running Shoes',\n",
       " 'Men Gamescape sneaker',\n",
       " 'Unisex RE II Basketball Shoes',\n",
       " 'Men Classigy Running Shoes',\n",
       " 'Men BOUNDER-MIRKLE Sneakers',\n",
       " 'Semi-Formal Shoes',\n",
       " 'Men Slip-On Trainers',\n",
       " 'Women Mules Flats',\n",
       " 'Men Retaliate 2 Running Shoes',\n",
       " 'Men Retaliate 2 Running Shoes',\n",
       " 'Women Open Toe Flats',\n",
       " 'Men Walking Shoes',\n",
       " 'Men Dart IDP Sneakers',\n",
       " 'Men Cell Phase Training Shoes',\n",
       " 'Women Renew In-Season Training',\n",
       " 'Women Walking Shoes',\n",
       " 'Men Urban Street Shoes',\n",
       " 'Men Woven Design Sneakers',\n",
       " 'Kids REVOLUTION 4 Shoes',\n",
       " 'Men Turbo Glide Running Shoes',\n",
       " 'Men Solid Formal Oxford Shoes',\n",
       " 'Men EVOLUTION Walking Shoes',\n",
       " 'Men Strike Textured Sneakers',\n",
       " 'Men Dwane IDP Running Shoes',\n",
       " 'Women Sandals',\n",
       " 'Women MC Trainer Shoes',\n",
       " 'Men Colourblocked Sneakers',\n",
       " 'Women Walking Shoes',\n",
       " 'Men Solid Formal Loafers',\n",
       " 'Men Gamescape Sneakers',\n",
       " 'Women Walking Shoes',\n",
       " 'Men Go Run Pulse Running Shoes',\n",
       " 'Women Cut-Work Open Toe Flats',\n",
       " 'Men Running Shoes',\n",
       " 'Men Hoop Life Sneakers',\n",
       " 'Men Striped Sneakers',\n",
       " 'Men Running Shoes',\n",
       " 'Men Running Shoes',\n",
       " 'Flex Essential Running Shoes',\n",
       " 'Women Colourblocked Sneakers',\n",
       " 'Contempt Demi Running Shoes',\n",
       " 'Men Solid Leather Formal Brogues',\n",
       " 'Men Clasp IDP Sneakers',\n",
       " 'Men Go Walk Evolution Ultra',\n",
       " 'Women Solid Heeled Boots',\n",
       " 'Men Running Shoes',\n",
       " 'Men Woven Flat Boots',\n",
       " 'Men Solid Penny Loafers',\n",
       " 'Men Formal Oxfords Shoes',\n",
       " 'Men Slip-On Sneakers',\n",
       " 'Men Rapido III TT Football',\n",
       " 'Men Loafers',\n",
       " 'Unisex Kids Walking Shoes',\n",
       " 'Men Axelate Running Shoes',\n",
       " 'Men Sneakers',\n",
       " 'Men Solid Leather Derbys',\n",
       " 'Men Alpha Running Shoes',\n",
       " 'Men LEBRON 2.0 Walking Shoes',\n",
       " 'Men Textured Formal Loafers']"
      ]
     },
     "execution_count": 259,
     "metadata": {},
     "output_type": "execute_result"
    }
   ],
   "source": [
    "for i in search_more_des:\n",
    "    Des=i.text\n",
    "    Descr.append(Des)\n",
    "    \n",
    "Descr[0:100]"
   ]
  },
  {
   "cell_type": "code",
   "execution_count": 260,
   "id": "b5c38387",
   "metadata": {},
   "outputs": [
    {
     "data": {
      "text/plain": [
       "[<selenium.webdriver.remote.webelement.WebElement (session=\"aa3648e1d99cabd542ddb4ed9fdf661b\", element=\"54641b7f-dbbc-433a-9c66-1a8b55e6f6eb\")>,\n",
       " <selenium.webdriver.remote.webelement.WebElement (session=\"aa3648e1d99cabd542ddb4ed9fdf661b\", element=\"4271180e-03e7-4b1a-82af-ac78e4ea27a9\")>,\n",
       " <selenium.webdriver.remote.webelement.WebElement (session=\"aa3648e1d99cabd542ddb4ed9fdf661b\", element=\"d372c547-0461-4ffa-b171-12c2304359a4\")>,\n",
       " <selenium.webdriver.remote.webelement.WebElement (session=\"aa3648e1d99cabd542ddb4ed9fdf661b\", element=\"a5e69f28-f951-4dc0-b496-184cbf8c0688\")>,\n",
       " <selenium.webdriver.remote.webelement.WebElement (session=\"aa3648e1d99cabd542ddb4ed9fdf661b\", element=\"01dce9e3-be97-4d15-a560-4577f2e2f691\")>,\n",
       " <selenium.webdriver.remote.webelement.WebElement (session=\"aa3648e1d99cabd542ddb4ed9fdf661b\", element=\"a62ee16a-66c1-4b4c-b1f7-49846c64d04e\")>,\n",
       " <selenium.webdriver.remote.webelement.WebElement (session=\"aa3648e1d99cabd542ddb4ed9fdf661b\", element=\"63b53c9a-c33e-4cce-b267-7b17aa8f397c\")>,\n",
       " <selenium.webdriver.remote.webelement.WebElement (session=\"aa3648e1d99cabd542ddb4ed9fdf661b\", element=\"50dbcd66-b9a3-4b10-b5e0-6b5dce344a97\")>,\n",
       " <selenium.webdriver.remote.webelement.WebElement (session=\"aa3648e1d99cabd542ddb4ed9fdf661b\", element=\"8b2aaf93-c125-4a1b-8f9c-428fcccf0b64\")>,\n",
       " <selenium.webdriver.remote.webelement.WebElement (session=\"aa3648e1d99cabd542ddb4ed9fdf661b\", element=\"efb07036-dbb0-4ce0-8afb-0d0dc3ecbacf\")>,\n",
       " <selenium.webdriver.remote.webelement.WebElement (session=\"aa3648e1d99cabd542ddb4ed9fdf661b\", element=\"a3afb6de-c6f5-4c62-8d61-96937919daaf\")>,\n",
       " <selenium.webdriver.remote.webelement.WebElement (session=\"aa3648e1d99cabd542ddb4ed9fdf661b\", element=\"01cb7e98-7ff2-4840-b309-02f7c01a7def\")>,\n",
       " <selenium.webdriver.remote.webelement.WebElement (session=\"aa3648e1d99cabd542ddb4ed9fdf661b\", element=\"971e7aad-ad98-44d2-b499-7d86d46574ee\")>,\n",
       " <selenium.webdriver.remote.webelement.WebElement (session=\"aa3648e1d99cabd542ddb4ed9fdf661b\", element=\"b8b841df-2f08-4a46-9e69-24ce56fc92b4\")>,\n",
       " <selenium.webdriver.remote.webelement.WebElement (session=\"aa3648e1d99cabd542ddb4ed9fdf661b\", element=\"19e51073-d349-4516-adf8-350939abf827\")>,\n",
       " <selenium.webdriver.remote.webelement.WebElement (session=\"aa3648e1d99cabd542ddb4ed9fdf661b\", element=\"cf3b3bbe-17bd-4565-b667-7f6c03e430c1\")>,\n",
       " <selenium.webdriver.remote.webelement.WebElement (session=\"aa3648e1d99cabd542ddb4ed9fdf661b\", element=\"255566fa-c3c0-4bcc-94ea-ef82498eecd6\")>,\n",
       " <selenium.webdriver.remote.webelement.WebElement (session=\"aa3648e1d99cabd542ddb4ed9fdf661b\", element=\"6abca8ad-673a-43fb-86d4-da4d890a7c1f\")>,\n",
       " <selenium.webdriver.remote.webelement.WebElement (session=\"aa3648e1d99cabd542ddb4ed9fdf661b\", element=\"7c9711ac-40f5-4e69-b671-f3ae5540bde1\")>,\n",
       " <selenium.webdriver.remote.webelement.WebElement (session=\"aa3648e1d99cabd542ddb4ed9fdf661b\", element=\"acc8c1fe-1af7-432e-bcff-1273883af28e\")>,\n",
       " <selenium.webdriver.remote.webelement.WebElement (session=\"aa3648e1d99cabd542ddb4ed9fdf661b\", element=\"e30d58f8-988f-4d81-b88d-414c7d45ffe8\")>,\n",
       " <selenium.webdriver.remote.webelement.WebElement (session=\"aa3648e1d99cabd542ddb4ed9fdf661b\", element=\"3b16888a-0450-4315-9cb2-accf65bc62da\")>,\n",
       " <selenium.webdriver.remote.webelement.WebElement (session=\"aa3648e1d99cabd542ddb4ed9fdf661b\", element=\"f159dd44-d668-40eb-861c-aa53f04c34e7\")>,\n",
       " <selenium.webdriver.remote.webelement.WebElement (session=\"aa3648e1d99cabd542ddb4ed9fdf661b\", element=\"dc2fab12-fdcf-43c6-848a-9f610557bc6a\")>,\n",
       " <selenium.webdriver.remote.webelement.WebElement (session=\"aa3648e1d99cabd542ddb4ed9fdf661b\", element=\"accec3c5-88e2-4f92-b4ba-4abbcc4ef9a9\")>,\n",
       " <selenium.webdriver.remote.webelement.WebElement (session=\"aa3648e1d99cabd542ddb4ed9fdf661b\", element=\"0400e8d5-bda3-432b-9905-09d142d89b11\")>,\n",
       " <selenium.webdriver.remote.webelement.WebElement (session=\"aa3648e1d99cabd542ddb4ed9fdf661b\", element=\"e1bda112-622f-46d5-b591-cf5215faf61c\")>,\n",
       " <selenium.webdriver.remote.webelement.WebElement (session=\"aa3648e1d99cabd542ddb4ed9fdf661b\", element=\"25ea97ec-042e-4913-b8da-80797e6706bf\")>,\n",
       " <selenium.webdriver.remote.webelement.WebElement (session=\"aa3648e1d99cabd542ddb4ed9fdf661b\", element=\"64718bb9-fd81-4f06-9b1d-23d9a6b4ddcf\")>,\n",
       " <selenium.webdriver.remote.webelement.WebElement (session=\"aa3648e1d99cabd542ddb4ed9fdf661b\", element=\"14e595b3-c864-47e5-b4ed-0b750d628621\")>,\n",
       " <selenium.webdriver.remote.webelement.WebElement (session=\"aa3648e1d99cabd542ddb4ed9fdf661b\", element=\"3c7370e8-492e-4892-955b-07883a1f6f09\")>,\n",
       " <selenium.webdriver.remote.webelement.WebElement (session=\"aa3648e1d99cabd542ddb4ed9fdf661b\", element=\"195c9d34-38dc-446f-8ad6-4e541f2de16f\")>,\n",
       " <selenium.webdriver.remote.webelement.WebElement (session=\"aa3648e1d99cabd542ddb4ed9fdf661b\", element=\"3b0699cb-0b06-4091-9ce7-64de37b6c76e\")>,\n",
       " <selenium.webdriver.remote.webelement.WebElement (session=\"aa3648e1d99cabd542ddb4ed9fdf661b\", element=\"46ced894-e95b-4fe4-bc90-a494fb08074c\")>,\n",
       " <selenium.webdriver.remote.webelement.WebElement (session=\"aa3648e1d99cabd542ddb4ed9fdf661b\", element=\"a9553005-177e-4bc0-9836-82dc43363569\")>,\n",
       " <selenium.webdriver.remote.webelement.WebElement (session=\"aa3648e1d99cabd542ddb4ed9fdf661b\", element=\"16acfd9b-ff6a-42d1-a49e-23f957e8b0ac\")>,\n",
       " <selenium.webdriver.remote.webelement.WebElement (session=\"aa3648e1d99cabd542ddb4ed9fdf661b\", element=\"3f86fe8a-4cf8-45dd-beb8-7592e41c6940\")>,\n",
       " <selenium.webdriver.remote.webelement.WebElement (session=\"aa3648e1d99cabd542ddb4ed9fdf661b\", element=\"7656e7db-f171-405c-b2f6-5444500fe562\")>,\n",
       " <selenium.webdriver.remote.webelement.WebElement (session=\"aa3648e1d99cabd542ddb4ed9fdf661b\", element=\"5df81e6d-5c1c-4c45-90c0-783209ad9287\")>,\n",
       " <selenium.webdriver.remote.webelement.WebElement (session=\"aa3648e1d99cabd542ddb4ed9fdf661b\", element=\"b050b81f-0b3a-4043-b782-0a69a092ff94\")>,\n",
       " <selenium.webdriver.remote.webelement.WebElement (session=\"aa3648e1d99cabd542ddb4ed9fdf661b\", element=\"f7bd3855-399d-4ddf-9319-bcec831e23b2\")>,\n",
       " <selenium.webdriver.remote.webelement.WebElement (session=\"aa3648e1d99cabd542ddb4ed9fdf661b\", element=\"297804a4-de17-44c9-9980-3590abfd6b17\")>,\n",
       " <selenium.webdriver.remote.webelement.WebElement (session=\"aa3648e1d99cabd542ddb4ed9fdf661b\", element=\"9112f3a2-4b97-4c0a-a168-efc400b81617\")>,\n",
       " <selenium.webdriver.remote.webelement.WebElement (session=\"aa3648e1d99cabd542ddb4ed9fdf661b\", element=\"d0989e7a-0c47-4505-a106-9d51dad463cd\")>,\n",
       " <selenium.webdriver.remote.webelement.WebElement (session=\"aa3648e1d99cabd542ddb4ed9fdf661b\", element=\"a7a782cb-b2b7-45f6-a3e2-0fa2aec9690f\")>,\n",
       " <selenium.webdriver.remote.webelement.WebElement (session=\"aa3648e1d99cabd542ddb4ed9fdf661b\", element=\"53abd496-76b7-4638-afc7-cf66d2e49899\")>]"
      ]
     },
     "execution_count": 260,
     "metadata": {},
     "output_type": "execute_result"
    }
   ],
   "source": [
    "#extracting tags and then data for prices accordingly\n",
    "search_more_prices=driver.find_elements_by_xpath(\"//span[@class='product-discountedPrice']\")\n",
    "search_more_prices[0:100]"
   ]
  },
  {
   "cell_type": "code",
   "execution_count": 272,
   "id": "10ab27ff",
   "metadata": {},
   "outputs": [
    {
     "data": {
      "text/plain": [
       "['Rs. 2749',\n",
       " 'Rs. 1449',\n",
       " 'Rs. 1574',\n",
       " 'Rs. 2249',\n",
       " 'Rs. 3249',\n",
       " 'Rs. 899',\n",
       " 'Rs. 1749',\n",
       " 'Rs. 895',\n",
       " 'Rs. 1502',\n",
       " 'Rs. 3820',\n",
       " 'Rs. 3999',\n",
       " 'Rs. 6999',\n",
       " 'Rs. 3499',\n",
       " 'Rs. 5775',\n",
       " 'Rs. 3499',\n",
       " 'Rs. 1224',\n",
       " 'Rs. 987',\n",
       " 'Rs. 4799',\n",
       " 'Rs. 1224',\n",
       " 'Rs. 1174',\n",
       " 'Rs. 2449',\n",
       " 'Rs. 1724',\n",
       " 'Rs. 1799',\n",
       " 'Rs. 898',\n",
       " 'Rs. 1574',\n",
       " 'Rs. 1199',\n",
       " 'Rs. 699',\n",
       " 'Rs. 1574',\n",
       " 'Rs. 799',\n",
       " 'Rs. 779',\n",
       " 'Rs. 4224',\n",
       " 'Rs. 3399',\n",
       " 'Rs. 2079',\n",
       " 'Rs. 569',\n",
       " 'Rs. 1724',\n",
       " 'Rs. 2459',\n",
       " 'Rs. 3849',\n",
       " 'Rs. 1999',\n",
       " 'Rs. 1274',\n",
       " 'Rs. 499',\n",
       " 'Rs. 3849',\n",
       " 'Rs. 3849',\n",
       " 'Rs. 599',\n",
       " 'Rs. 1574',\n",
       " 'Rs. 2799',\n",
       " 'Rs. 3249',\n",
       " 'Rs. 1124',\n",
       " 'Rs. 1479',\n",
       " 'Rs. 1149',\n",
       " 'Rs. 1502',\n",
       " 'Rs. 3059',\n",
       " 'Rs. 898',\n",
       " 'Rs. 4929',\n",
       " 'Rs. 2624',\n",
       " 'Rs. 1399',\n",
       " 'Rs. 1249',\n",
       " 'Rs. 749',\n",
       " 'Rs. 1524',\n",
       " 'Rs. 879',\n",
       " 'Rs. 1949',\n",
       " 'Rs. 3399',\n",
       " 'Rs. 4899',\n",
       " 'Rs. 449',\n",
       " 'Rs. 4799',\n",
       " 'Rs. 2204',\n",
       " 'Rs. 699',\n",
       " 'Rs. 2924',\n",
       " 'Rs. 2249',\n",
       " 'Rs. 895',\n",
       " 'Rs. 2474',\n",
       " 'Rs. 1724',\n",
       " 'Rs. 2024',\n",
       " 'Rs. 3849',\n",
       " 'Rs. 995',\n",
       " 'Rs. 1104',\n",
       " 'Rs. 764',\n",
       " 'Rs. 729',\n",
       " 'Rs. 3599',\n",
       " 'Rs. 1304',\n",
       " 'Rs. 999',\n",
       " 'Rs. 924',\n",
       " 'Rs. 3224',\n",
       " 'Rs. 579',\n",
       " 'Rs. 1699',\n",
       " 'Rs. 1979',\n",
       " 'Rs. 2399',\n",
       " 'Rs. 849',\n",
       " 'Rs. 3849',\n",
       " 'Rs. 599',\n",
       " 'Rs. 1574',\n",
       " 'Rs. 2799',\n",
       " 'Rs. 3249',\n",
       " 'Rs. 1124',\n",
       " 'Rs. 1479',\n",
       " 'Rs. 1149',\n",
       " 'Rs. 1502',\n",
       " 'Rs. 3059',\n",
       " 'Rs. 898',\n",
       " 'Rs. 4929',\n",
       " 'Rs. 2624']"
      ]
     },
     "execution_count": 272,
     "metadata": {},
     "output_type": "execute_result"
    }
   ],
   "source": [
    "for i in search_more_prices:\n",
    "    prices=i.text\n",
    "    Price.append(prices)\n",
    "    \n",
    "Price[0:100]"
   ]
  },
  {
   "cell_type": "code",
   "execution_count": 273,
   "id": "93bcc367",
   "metadata": {},
   "outputs": [],
   "source": [
    "Brand_name=Brand_name[0:100]"
   ]
  },
  {
   "cell_type": "code",
   "execution_count": 274,
   "id": "939a725a",
   "metadata": {},
   "outputs": [],
   "source": [
    "Descr=Descr[0:100]"
   ]
  },
  {
   "cell_type": "code",
   "execution_count": 275,
   "id": "bd1e161b",
   "metadata": {},
   "outputs": [
    {
     "data": {
      "text/plain": [
       "['Rs. 2749',\n",
       " 'Rs. 1449',\n",
       " 'Rs. 1574',\n",
       " 'Rs. 2249',\n",
       " 'Rs. 3249',\n",
       " 'Rs. 899',\n",
       " 'Rs. 1749',\n",
       " 'Rs. 895',\n",
       " 'Rs. 1502',\n",
       " 'Rs. 3820',\n",
       " 'Rs. 3999',\n",
       " 'Rs. 6999',\n",
       " 'Rs. 3499',\n",
       " 'Rs. 5775',\n",
       " 'Rs. 3499',\n",
       " 'Rs. 1224',\n",
       " 'Rs. 987',\n",
       " 'Rs. 4799',\n",
       " 'Rs. 1224',\n",
       " 'Rs. 1174',\n",
       " 'Rs. 2449',\n",
       " 'Rs. 1724',\n",
       " 'Rs. 1799',\n",
       " 'Rs. 898',\n",
       " 'Rs. 1574',\n",
       " 'Rs. 1199',\n",
       " 'Rs. 699',\n",
       " 'Rs. 1574',\n",
       " 'Rs. 799',\n",
       " 'Rs. 779',\n",
       " 'Rs. 4224',\n",
       " 'Rs. 3399',\n",
       " 'Rs. 2079',\n",
       " 'Rs. 569',\n",
       " 'Rs. 1724',\n",
       " 'Rs. 2459',\n",
       " 'Rs. 3849',\n",
       " 'Rs. 1999',\n",
       " 'Rs. 1274',\n",
       " 'Rs. 499',\n",
       " 'Rs. 3849',\n",
       " 'Rs. 3849',\n",
       " 'Rs. 599',\n",
       " 'Rs. 1574',\n",
       " 'Rs. 2799',\n",
       " 'Rs. 3249',\n",
       " 'Rs. 1124',\n",
       " 'Rs. 1479',\n",
       " 'Rs. 1149',\n",
       " 'Rs. 1502',\n",
       " 'Rs. 3059',\n",
       " 'Rs. 898',\n",
       " 'Rs. 4929',\n",
       " 'Rs. 2624',\n",
       " 'Rs. 1399',\n",
       " 'Rs. 1249',\n",
       " 'Rs. 749',\n",
       " 'Rs. 1524',\n",
       " 'Rs. 879',\n",
       " 'Rs. 1949',\n",
       " 'Rs. 3399',\n",
       " 'Rs. 4899',\n",
       " 'Rs. 449',\n",
       " 'Rs. 4799',\n",
       " 'Rs. 2204',\n",
       " 'Rs. 699',\n",
       " 'Rs. 2924',\n",
       " 'Rs. 2249',\n",
       " 'Rs. 895',\n",
       " 'Rs. 2474',\n",
       " 'Rs. 1724',\n",
       " 'Rs. 2024',\n",
       " 'Rs. 3849',\n",
       " 'Rs. 995',\n",
       " 'Rs. 1104',\n",
       " 'Rs. 764',\n",
       " 'Rs. 729',\n",
       " 'Rs. 3599',\n",
       " 'Rs. 1304',\n",
       " 'Rs. 999',\n",
       " 'Rs. 924',\n",
       " 'Rs. 3224',\n",
       " 'Rs. 579',\n",
       " 'Rs. 1699',\n",
       " 'Rs. 1979',\n",
       " 'Rs. 2399',\n",
       " 'Rs. 849',\n",
       " 'Rs. 3849',\n",
       " 'Rs. 599',\n",
       " 'Rs. 1574',\n",
       " 'Rs. 2799',\n",
       " 'Rs. 3249',\n",
       " 'Rs. 1124',\n",
       " 'Rs. 1479',\n",
       " 'Rs. 1149',\n",
       " 'Rs. 1502',\n",
       " 'Rs. 3059',\n",
       " 'Rs. 898',\n",
       " 'Rs. 4929',\n",
       " 'Rs. 2624']"
      ]
     },
     "execution_count": 275,
     "metadata": {},
     "output_type": "execute_result"
    }
   ],
   "source": [
    "Price=Price[0:100]\n",
    "Price"
   ]
  },
  {
   "cell_type": "code",
   "execution_count": 276,
   "id": "60461442",
   "metadata": {},
   "outputs": [
    {
     "name": "stdout",
     "output_type": "stream",
     "text": [
      "100 100 100\n"
     ]
    }
   ],
   "source": [
    "print(len(Brand_name),len(Descr),len(Price))"
   ]
  },
  {
   "cell_type": "code",
   "execution_count": 277,
   "id": "fc594b23",
   "metadata": {},
   "outputs": [
    {
     "data": {
      "text/html": [
       "<div>\n",
       "<style scoped>\n",
       "    .dataframe tbody tr th:only-of-type {\n",
       "        vertical-align: middle;\n",
       "    }\n",
       "\n",
       "    .dataframe tbody tr th {\n",
       "        vertical-align: top;\n",
       "    }\n",
       "\n",
       "    .dataframe thead th {\n",
       "        text-align: right;\n",
       "    }\n",
       "</style>\n",
       "<table border=\"1\" class=\"dataframe\">\n",
       "  <thead>\n",
       "    <tr style=\"text-align: right;\">\n",
       "      <th></th>\n",
       "      <th>Brand Name</th>\n",
       "      <th>Price</th>\n",
       "      <th>Description</th>\n",
       "    </tr>\n",
       "  </thead>\n",
       "  <tbody>\n",
       "    <tr>\n",
       "      <th>0</th>\n",
       "      <td>Puma</td>\n",
       "      <td>Rs. 2749</td>\n",
       "      <td>Men Running Shoes</td>\n",
       "    </tr>\n",
       "    <tr>\n",
       "      <th>1</th>\n",
       "      <td>Nike</td>\n",
       "      <td>Rs. 1449</td>\n",
       "      <td>Men Revolution 5 Running Shoes</td>\n",
       "    </tr>\n",
       "    <tr>\n",
       "      <th>2</th>\n",
       "      <td>Red Tape</td>\n",
       "      <td>Rs. 1574</td>\n",
       "      <td>Men Walking Shoes</td>\n",
       "    </tr>\n",
       "    <tr>\n",
       "      <th>3</th>\n",
       "      <td>Nike</td>\n",
       "      <td>Rs. 2249</td>\n",
       "      <td>Men MC Training Shoes</td>\n",
       "    </tr>\n",
       "    <tr>\n",
       "      <th>4</th>\n",
       "      <td>Red Tape</td>\n",
       "      <td>Rs. 3249</td>\n",
       "      <td>Men Walking Shoes</td>\n",
       "    </tr>\n",
       "    <tr>\n",
       "      <th>...</th>\n",
       "      <td>...</td>\n",
       "      <td>...</td>\n",
       "      <td>...</td>\n",
       "    </tr>\n",
       "    <tr>\n",
       "      <th>95</th>\n",
       "      <td>ELIXIR MAN</td>\n",
       "      <td>Rs. 1502</td>\n",
       "      <td>Men Sneakers</td>\n",
       "    </tr>\n",
       "    <tr>\n",
       "      <th>96</th>\n",
       "      <td>Red Tape</td>\n",
       "      <td>Rs. 3059</td>\n",
       "      <td>Men Solid Leather Derbys</td>\n",
       "    </tr>\n",
       "    <tr>\n",
       "      <th>97</th>\n",
       "      <td>HRX by Hrithik Roshan</td>\n",
       "      <td>Rs. 898</td>\n",
       "      <td>Men Alpha Running Shoes</td>\n",
       "    </tr>\n",
       "    <tr>\n",
       "      <th>98</th>\n",
       "      <td>U.S. Polo Assn.</td>\n",
       "      <td>Rs. 4929</td>\n",
       "      <td>Men LEBRON 2.0 Walking Shoes</td>\n",
       "    </tr>\n",
       "    <tr>\n",
       "      <th>99</th>\n",
       "      <td>Provogue</td>\n",
       "      <td>Rs. 2624</td>\n",
       "      <td>Men Textured Formal Loafers</td>\n",
       "    </tr>\n",
       "  </tbody>\n",
       "</table>\n",
       "<p>100 rows × 3 columns</p>\n",
       "</div>"
      ],
      "text/plain": [
       "               Brand Name     Price                     Description\n",
       "0                    Puma  Rs. 2749               Men Running Shoes\n",
       "1                    Nike  Rs. 1449  Men Revolution 5 Running Shoes\n",
       "2                Red Tape  Rs. 1574               Men Walking Shoes\n",
       "3                    Nike  Rs. 2249           Men MC Training Shoes\n",
       "4                Red Tape  Rs. 3249               Men Walking Shoes\n",
       "..                    ...       ...                             ...\n",
       "95             ELIXIR MAN  Rs. 1502                    Men Sneakers\n",
       "96               Red Tape  Rs. 3059        Men Solid Leather Derbys\n",
       "97  HRX by Hrithik Roshan   Rs. 898         Men Alpha Running Shoes\n",
       "98        U.S. Polo Assn.  Rs. 4929    Men LEBRON 2.0 Walking Shoes\n",
       "99               Provogue  Rs. 2624     Men Textured Formal Loafers\n",
       "\n",
       "[100 rows x 3 columns]"
      ]
     },
     "execution_count": 277,
     "metadata": {},
     "output_type": "execute_result"
    }
   ],
   "source": [
    "Dm=pd.DataFrame({'Brand Name': Brand_name ,'Price': Price, 'Description': Descr})\n",
    "Dm"
   ]
  },
  {
   "cell_type": "code",
   "execution_count": null,
   "id": "d3fe2e6f",
   "metadata": {},
   "outputs": [],
   "source": []
  },
  {
   "cell_type": "markdown",
   "id": "ef79ef6f",
   "metadata": {},
   "source": [
    "# Question 8: Go to webpage https://www.amazon.in/\n",
    "Enter “Laptop” in the search field and then click the search icon.\n",
    "Then set CPU Type filter to “Intel Core i7” and “Intel Core i9”\n",
    "After setting the filters scrape first 10 laptops data. You have to scrape 2 attributes for each laptop:\n",
    "1. Title\n",
    "2. Price\n"
   ]
  },
  {
   "cell_type": "code",
   "execution_count": 94,
   "id": "569067ad",
   "metadata": {},
   "outputs": [],
   "source": [
    "#connecting to the web driver\n",
    "driver=webdriver.Chrome(r\"C:\\Users\\Mohini\\Downloads\\chromedriver_win32\\chromedriver.exe\")"
   ]
  },
  {
   "cell_type": "code",
   "execution_count": 95,
   "id": "1a3c811f",
   "metadata": {},
   "outputs": [],
   "source": [
    "driver=webdriver.Chrome(\"chromedriver.exe\")  #another way of opening our web browser\n",
    "time.sleep(2)"
   ]
  },
  {
   "cell_type": "code",
   "execution_count": 96,
   "id": "bfb73cbd",
   "metadata": {},
   "outputs": [],
   "source": [
    "driver.get(\"https://www.amazon.in/\")"
   ]
  },
  {
   "cell_type": "code",
   "execution_count": 99,
   "id": "f2ff5d56",
   "metadata": {},
   "outputs": [],
   "source": [
    "#Finding elements for search bar\n",
    "search_field_designation=driver.find_element_by_xpath(\"/html/body/div[1]/header/div/div[1]/div[2]/div/form/div[2]/div[1]/input\")\n",
    "search_field_designation.send_keys(\"Laptop\")"
   ]
  },
  {
   "cell_type": "code",
   "execution_count": 102,
   "id": "0050806f",
   "metadata": {},
   "outputs": [],
   "source": [
    "search_button = driver.find_element_by_xpath(\"/html/body/div[1]/header/div/div[1]/div[2]/div/form/div[3]/div/span/input\")\n",
    "search_button.click()"
   ]
  },
  {
   "cell_type": "code",
   "execution_count": 105,
   "id": "41c6391e",
   "metadata": {},
   "outputs": [],
   "source": [
    "#selecting i7 in the checkbox\n",
    "click_tags=driver.find_element_by_xpath(\"/html/body/div[1]/div[2]/div[1]/div[2]/div/div[3]/span/div[1]/div/div/div[6]/ul[4]/li[15]/span/a/span\")\n",
    "click_tags.click()"
   ]
  },
  {
   "cell_type": "code",
   "execution_count": 106,
   "id": "55a9ecb6",
   "metadata": {},
   "outputs": [],
   "source": [
    "#creating 3 empty lists as per the requirement of the question\n",
    "Title=[]\n",
    "Ratings=[]\n",
    "Price=[]"
   ]
  },
  {
   "cell_type": "code",
   "execution_count": 107,
   "id": "618e3724",
   "metadata": {},
   "outputs": [
    {
     "data": {
      "text/plain": [
       "[<selenium.webdriver.remote.webelement.WebElement (session=\"3286cadeceae4820ed78bffed48ca882\", element=\"7a304821-e9df-443a-9d7f-1aa0ada24150\")>,\n",
       " <selenium.webdriver.remote.webelement.WebElement (session=\"3286cadeceae4820ed78bffed48ca882\", element=\"cacf9e83-b90f-4209-9cb8-89abf70ce901\")>,\n",
       " <selenium.webdriver.remote.webelement.WebElement (session=\"3286cadeceae4820ed78bffed48ca882\", element=\"483e88ec-b8c1-439f-8c55-d0ee123a85d1\")>,\n",
       " <selenium.webdriver.remote.webelement.WebElement (session=\"3286cadeceae4820ed78bffed48ca882\", element=\"0d868d4d-2603-40b0-aeda-ca34bfda8632\")>,\n",
       " <selenium.webdriver.remote.webelement.WebElement (session=\"3286cadeceae4820ed78bffed48ca882\", element=\"3df6f2f3-123e-4a53-be32-65b6c13445ee\")>,\n",
       " <selenium.webdriver.remote.webelement.WebElement (session=\"3286cadeceae4820ed78bffed48ca882\", element=\"6557c0d4-8395-46b9-8a99-50370dedbccf\")>,\n",
       " <selenium.webdriver.remote.webelement.WebElement (session=\"3286cadeceae4820ed78bffed48ca882\", element=\"665ece26-895c-430f-9a66-9b03dcb06972\")>,\n",
       " <selenium.webdriver.remote.webelement.WebElement (session=\"3286cadeceae4820ed78bffed48ca882\", element=\"b9153308-f788-473d-9fc8-2c724bb7bf0f\")>,\n",
       " <selenium.webdriver.remote.webelement.WebElement (session=\"3286cadeceae4820ed78bffed48ca882\", element=\"45895f79-b2fb-436b-bd77-a57f45348956\")>,\n",
       " <selenium.webdriver.remote.webelement.WebElement (session=\"3286cadeceae4820ed78bffed48ca882\", element=\"bd639c19-6e26-4a2f-a550-c74ea0177ad3\")>]"
      ]
     },
     "execution_count": 107,
     "metadata": {},
     "output_type": "execute_result"
    }
   ],
   "source": [
    "item_tags=driver.find_elements_by_xpath(\"//h2[@class='a-size-mini a-spacing-none a-color-base s-line-clamp-2']\")  \n",
    "item_tags[0:10]"
   ]
  },
  {
   "cell_type": "code",
   "execution_count": 108,
   "id": "10d19370",
   "metadata": {},
   "outputs": [
    {
     "data": {
      "text/plain": [
       "['Samsung Galaxy Book2 Pro 360 Intel 12th Gen i7 EvoTM 15.6 inch Touchscreen 2-in-1 AMOLED Thin & Light Laptop (16 GB/512 GB SSD/Windows 11/MSO Home & Student 2021/Graphite/1.41Kg), NP950QED-KA1IN',\n",
       " 'Samsung Galaxy Book2 360 Intel 12th Gen i7 EvoTM  33.78cm (13.3\") AMOLED Thin & Light Laptop (16 GB/512 GB SSD/Windows 11/MS Office Home & Student 2021/Graphite/1.16Kg), NP730QED-KA1IN',\n",
       " 'Lenovo ThinkBook 15 Intel 11th Gen Core i7 15.6\"(39.62 cm)FHD Thin and Light Laptop (16GB/512GB SSD/Windows 11 Home/MS Office H&S 2021/Iris® Xe Graphics/Backlit/Mineral Grey/1.7 Kg) 20VE00W4IH',\n",
       " 'ASUS VivoBook 14 (2021), 14-inch (35.56 cms) FHD, Intel Core i7-1065G7 10th Gen, Thin and Light Laptop (16GB/512GB SSD/Integrated Graphics/Office 2021/Windows 11/Silver/1.6 Kg), X415JA-EK701WS',\n",
       " 'LG Gram 16 inches Intel Evo 11th Gen Core i7 Ultra-Light Laptop (16 GB RAM, 512 GB SSD, New Windows 11 Home Preload, Iris Xe Graphics, USC -C x 2 (with Power), 1.19 kg, 16Z90P-G.AH85A2, Black)',\n",
       " 'HP Pavilion 14, 11th Gen Intel Core i7-16GB RAM/1TB SSD 14 inch(35.6 cm) Laptop/Intel Iris Xe Graphics/Backlit Keyboard/Alexa/B&O Audio/Fast Charge/FPR/Win 11/MS Office, 14-dv1029TU,Natural Silver',\n",
       " 'HP Pavilion x360 11th Gen Intel Core i7 14 inch(35.6 cm) FHD Multitouch 2-in-1 Laptop(16GB RAM/512GB SSD/B&O/Win 11/FPR/Backlit KB/Intel Iris Xe Graphics/Pen/Alexa/MS Office/Silver/1.52Kg) 14-dy1047TU',\n",
       " 'ASUS TUF Gaming F15 (2021), 15.6\" (39.62 cms) FHD 144Hz, Intel Core i7-11600H 11th Gen, 4GB RTX 3050 Graphics, Gaming Laptop (16GB/512GB SSD/Windows 10/Office 2019/Gray/2.3 Kg), FX566HCB-HN299TS',\n",
       " 'LG Gram Intel Evo 11th Gen Core i7 17 inches Ultra-Light Laptop (16 GB RAM, 512 GB SSD, New Windows 11 Home Preload, Iris Xe Graphics, USC -C x 2 (with Power), 1.35 kg, 17Z90P-G.AH85A2, Black)',\n",
       " 'Samsung Galaxy Book2 Pro Intel 12th Gen i7 EvoTM 33.78cm (13.3\") AMOLED Thin & Light Laptop (16 GB/512 GB SSD/Windows 11/MSO Home & Student 2021/Silver/0.87Kg), NP930XED-KB2IN']"
      ]
     },
     "execution_count": 108,
     "metadata": {},
     "output_type": "execute_result"
    }
   ],
   "source": [
    "#extracting data from all the above tags\n",
    "for i in item_tags:\n",
    "    item=i.text\n",
    "    Title.append(item)\n",
    "    \n",
    "Title[0:10]"
   ]
  },
  {
   "cell_type": "code",
   "execution_count": 109,
   "id": "cd4b51dd",
   "metadata": {},
   "outputs": [
    {
     "data": {
      "text/plain": [
       "[<selenium.webdriver.remote.webelement.WebElement (session=\"3286cadeceae4820ed78bffed48ca882\", element=\"3751f7da-4b88-41d8-b4b8-a091a5dd491d\")>,\n",
       " <selenium.webdriver.remote.webelement.WebElement (session=\"3286cadeceae4820ed78bffed48ca882\", element=\"fe9544d3-5121-4ce3-8f0d-1b94f20ffe1a\")>,\n",
       " <selenium.webdriver.remote.webelement.WebElement (session=\"3286cadeceae4820ed78bffed48ca882\", element=\"2f0c5d0d-0e9e-41f7-8e77-de2e70a08f5f\")>,\n",
       " <selenium.webdriver.remote.webelement.WebElement (session=\"3286cadeceae4820ed78bffed48ca882\", element=\"99d05531-ec8b-4e0f-9f66-b1d15c9c7932\")>,\n",
       " <selenium.webdriver.remote.webelement.WebElement (session=\"3286cadeceae4820ed78bffed48ca882\", element=\"e0d92bbc-7d70-47bc-8527-74da69c5b3dd\")>,\n",
       " <selenium.webdriver.remote.webelement.WebElement (session=\"3286cadeceae4820ed78bffed48ca882\", element=\"4166e2a6-1096-46b8-a2cf-4df74910456c\")>,\n",
       " <selenium.webdriver.remote.webelement.WebElement (session=\"3286cadeceae4820ed78bffed48ca882\", element=\"42522936-8a20-4eb5-a4e3-c2d79d8ae0da\")>,\n",
       " <selenium.webdriver.remote.webelement.WebElement (session=\"3286cadeceae4820ed78bffed48ca882\", element=\"1a07bff6-097f-449b-86cd-bd619eba3b15\")>,\n",
       " <selenium.webdriver.remote.webelement.WebElement (session=\"3286cadeceae4820ed78bffed48ca882\", element=\"0ff4d769-c805-4e99-83cc-dce27e4b1d99\")>,\n",
       " <selenium.webdriver.remote.webelement.WebElement (session=\"3286cadeceae4820ed78bffed48ca882\", element=\"c7792ae0-b3f8-4eca-bc06-c863fcb45096\")>]"
      ]
     },
     "execution_count": 109,
     "metadata": {},
     "output_type": "execute_result"
    }
   ],
   "source": [
    "#extracting price tags\n",
    "Price_tags=driver.find_elements_by_xpath(\"//span[@class='a-price-whole']\")\n",
    "Price_tags[0:10]"
   ]
  },
  {
   "cell_type": "code",
   "execution_count": 110,
   "id": "840efb1f",
   "metadata": {},
   "outputs": [
    {
     "data": {
      "text/plain": [
       "['1,29,990',\n",
       " '1,05,990',\n",
       " '86,990',\n",
       " '57,310',\n",
       " '89,611',\n",
       " '86,990',\n",
       " '86,990',\n",
       " '89,990',\n",
       " '93,552',\n",
       " '1,14,990']"
      ]
     },
     "execution_count": 110,
     "metadata": {},
     "output_type": "execute_result"
    }
   ],
   "source": [
    "#taking out all the data from above tags for prices\n",
    "for i in Price_tags:\n",
    "    price=i.text\n",
    "    Price.append(price)\n",
    "    \n",
    "Price[0:10]"
   ]
  },
  {
   "cell_type": "code",
   "execution_count": 111,
   "id": "9c96faac",
   "metadata": {},
   "outputs": [
    {
     "name": "stdout",
     "output_type": "stream",
     "text": [
      "30 30\n"
     ]
    }
   ],
   "source": [
    "print(len(Title),len(Price))"
   ]
  },
  {
   "cell_type": "code",
   "execution_count": 115,
   "id": "8c4837fa",
   "metadata": {},
   "outputs": [
    {
     "data": {
      "text/html": [
       "<div>\n",
       "<style scoped>\n",
       "    .dataframe tbody tr th:only-of-type {\n",
       "        vertical-align: middle;\n",
       "    }\n",
       "\n",
       "    .dataframe tbody tr th {\n",
       "        vertical-align: top;\n",
       "    }\n",
       "\n",
       "    .dataframe thead th {\n",
       "        text-align: right;\n",
       "    }\n",
       "</style>\n",
       "<table border=\"1\" class=\"dataframe\">\n",
       "  <thead>\n",
       "    <tr style=\"text-align: right;\">\n",
       "      <th></th>\n",
       "      <th>Laptop Brands</th>\n",
       "      <th>Price</th>\n",
       "    </tr>\n",
       "  </thead>\n",
       "  <tbody>\n",
       "    <tr>\n",
       "      <th>0</th>\n",
       "      <td>Samsung Galaxy Book2 Pro 360 Intel 12th Gen i7...</td>\n",
       "      <td>1,29,990</td>\n",
       "    </tr>\n",
       "    <tr>\n",
       "      <th>1</th>\n",
       "      <td>Samsung Galaxy Book2 360 Intel 12th Gen i7 Evo...</td>\n",
       "      <td>1,05,990</td>\n",
       "    </tr>\n",
       "    <tr>\n",
       "      <th>2</th>\n",
       "      <td>Lenovo ThinkBook 15 Intel 11th Gen Core i7 15....</td>\n",
       "      <td>86,990</td>\n",
       "    </tr>\n",
       "    <tr>\n",
       "      <th>3</th>\n",
       "      <td>ASUS VivoBook 14 (2021), 14-inch (35.56 cms) F...</td>\n",
       "      <td>57,310</td>\n",
       "    </tr>\n",
       "    <tr>\n",
       "      <th>4</th>\n",
       "      <td>LG Gram 16 inches Intel Evo 11th Gen Core i7 U...</td>\n",
       "      <td>89,611</td>\n",
       "    </tr>\n",
       "    <tr>\n",
       "      <th>5</th>\n",
       "      <td>HP Pavilion 14, 11th Gen Intel Core i7-16GB RA...</td>\n",
       "      <td>86,990</td>\n",
       "    </tr>\n",
       "    <tr>\n",
       "      <th>6</th>\n",
       "      <td>HP Pavilion x360 11th Gen Intel Core i7 14 inc...</td>\n",
       "      <td>86,990</td>\n",
       "    </tr>\n",
       "    <tr>\n",
       "      <th>7</th>\n",
       "      <td>ASUS TUF Gaming F15 (2021), 15.6\" (39.62 cms) ...</td>\n",
       "      <td>89,990</td>\n",
       "    </tr>\n",
       "    <tr>\n",
       "      <th>8</th>\n",
       "      <td>LG Gram Intel Evo 11th Gen Core i7 17 inches U...</td>\n",
       "      <td>93,552</td>\n",
       "    </tr>\n",
       "    <tr>\n",
       "      <th>9</th>\n",
       "      <td>Samsung Galaxy Book2 Pro Intel 12th Gen i7 Evo...</td>\n",
       "      <td>1,14,990</td>\n",
       "    </tr>\n",
       "  </tbody>\n",
       "</table>\n",
       "</div>"
      ],
      "text/plain": [
       "                                       Laptop Brands     Price\n",
       "0  Samsung Galaxy Book2 Pro 360 Intel 12th Gen i7...  1,29,990\n",
       "1  Samsung Galaxy Book2 360 Intel 12th Gen i7 Evo...  1,05,990\n",
       "2  Lenovo ThinkBook 15 Intel 11th Gen Core i7 15....    86,990\n",
       "3  ASUS VivoBook 14 (2021), 14-inch (35.56 cms) F...    57,310\n",
       "4  LG Gram 16 inches Intel Evo 11th Gen Core i7 U...    89,611\n",
       "5  HP Pavilion 14, 11th Gen Intel Core i7-16GB RA...    86,990\n",
       "6  HP Pavilion x360 11th Gen Intel Core i7 14 inc...    86,990\n",
       "7  ASUS TUF Gaming F15 (2021), 15.6\" (39.62 cms) ...    89,990\n",
       "8  LG Gram Intel Evo 11th Gen Core i7 17 inches U...    93,552\n",
       "9  Samsung Galaxy Book2 Pro Intel 12th Gen i7 Evo...  1,14,990"
      ]
     },
     "execution_count": 115,
     "metadata": {},
     "output_type": "execute_result"
    }
   ],
   "source": [
    "#creating a dataframe\n",
    "dl=pd.DataFrame({'Laptop Brands': Title ,'Price': Price})\n",
    "dl.head(10)  # for getting only data of 10 laptops"
   ]
  },
  {
   "cell_type": "markdown",
   "id": "e365ff86",
   "metadata": {},
   "source": [
    "# Question 9: Write a python program to scrape data for first 10 job results for Data Scientist Designation in Noida location. You have to scrape company name, No. of days ago when job was posted, Rating of the company.\n",
    "\n"
   ]
  },
  {
   "cell_type": "code",
   "execution_count": 21,
   "id": "b10f942a",
   "metadata": {},
   "outputs": [],
   "source": [
    "#opening web browser\n",
    "driver=webdriver.Chrome(\"chromedriver.exe\")\n",
    "time.sleep(2)"
   ]
  },
  {
   "cell_type": "code",
   "execution_count": 22,
   "id": "88a19be1",
   "metadata": {},
   "outputs": [],
   "source": [
    "driver.get(\"https://www.ambitionbox.com/\")"
   ]
  },
  {
   "cell_type": "code",
   "execution_count": 23,
   "id": "422c8c07",
   "metadata": {},
   "outputs": [],
   "source": [
    "#clicking on job option\n",
    "search_field_job=driver.find_element_by_xpath(\"/html/body/div[1]/nav/nav/a[6]\")\n",
    "search_field_job.click()"
   ]
  },
  {
   "cell_type": "code",
   "execution_count": 24,
   "id": "3725c5cc",
   "metadata": {},
   "outputs": [],
   "source": [
    "#Giving Datascientist in the keys to search\n",
    "search_field_designation=driver.find_element_by_xpath(\"/html/body/div/div/div/div[2]/div[1]/div[1]/div/div/div/div/span/input\")\n",
    "search_field_designation.send_keys(\"Data Scientist\")"
   ]
  },
  {
   "cell_type": "code",
   "execution_count": 25,
   "id": "7bf238d4",
   "metadata": {},
   "outputs": [],
   "source": [
    "#clicking it to execute search\n",
    "search_button=driver.find_element_by_xpath(\"/html/body/div/div/div/div[2]/div[1]/div[1]/div/div/div/button/span\")\n",
    "search_button.click()"
   ]
  },
  {
   "cell_type": "code",
   "execution_count": 26,
   "id": "6233a835",
   "metadata": {},
   "outputs": [],
   "source": [
    "#setting location filter \n",
    "search_location=driver.find_element_by_xpath(\"/html/body/div/div/div/div[2]/div[1]/div[2]/div[1]/div/div/div/div[2]/div[1]\")\n",
    "search_location.click()"
   ]
  },
  {
   "cell_type": "code",
   "execution_count": 27,
   "id": "7f505737",
   "metadata": {},
   "outputs": [],
   "source": [
    "#Typing Noida in that search option\n",
    "type_Noida=driver.find_element_by_xpath(\"/html/body/div/div/div/div[2]/div[1]/div[2]/div[1]/div/div/div/div[2]/div[2]/div/div[2]/input\")\n",
    "type_Noida.send_keys(\"Noida\")"
   ]
  },
  {
   "cell_type": "code",
   "execution_count": 28,
   "id": "e9ebc065",
   "metadata": {},
   "outputs": [],
   "source": [
    "#selecting Noida location\n",
    "select_noida=driver.find_element_by_xpath(\"/html/body/div/div/div/div[2]/div[1]/div[2]/div[1]/div/div/div/div[2]/div[2]/div/div[3]/div[1]/div[1]/div/label\")\n",
    "select_noida.click()"
   ]
  },
  {
   "cell_type": "code",
   "execution_count": 29,
   "id": "d434b66e",
   "metadata": {},
   "outputs": [],
   "source": [
    "#creating 3 empty lists as per the requirement of the question\n",
    "Company=[]\n",
    "Job_posted=[]\n",
    "Rating=[]"
   ]
  },
  {
   "cell_type": "code",
   "execution_count": 31,
   "id": "c08b9833",
   "metadata": {},
   "outputs": [
    {
     "data": {
      "text/plain": [
       "[<selenium.webdriver.remote.webelement.WebElement (session=\"5bf80b2fe22d2afb039bb5df033f0fb0\", element=\"746ae0fe-33be-4dda-bbd1-520a974cb358\")>,\n",
       " <selenium.webdriver.remote.webelement.WebElement (session=\"5bf80b2fe22d2afb039bb5df033f0fb0\", element=\"f8b78f58-de3f-45dd-b635-daec84a9dadc\")>,\n",
       " <selenium.webdriver.remote.webelement.WebElement (session=\"5bf80b2fe22d2afb039bb5df033f0fb0\", element=\"7c6a220a-7e76-4edd-803c-72571ccf205b\")>,\n",
       " <selenium.webdriver.remote.webelement.WebElement (session=\"5bf80b2fe22d2afb039bb5df033f0fb0\", element=\"34acf3cf-8380-47bb-9075-75018832f61d\")>,\n",
       " <selenium.webdriver.remote.webelement.WebElement (session=\"5bf80b2fe22d2afb039bb5df033f0fb0\", element=\"d2117759-2648-4ba5-bd91-dc800d009349\")>,\n",
       " <selenium.webdriver.remote.webelement.WebElement (session=\"5bf80b2fe22d2afb039bb5df033f0fb0\", element=\"982fc05e-a1be-4a52-8501-565ce56ab317\")>,\n",
       " <selenium.webdriver.remote.webelement.WebElement (session=\"5bf80b2fe22d2afb039bb5df033f0fb0\", element=\"f5406af1-2928-4975-873b-1475fda3789e\")>,\n",
       " <selenium.webdriver.remote.webelement.WebElement (session=\"5bf80b2fe22d2afb039bb5df033f0fb0\", element=\"296410db-9aba-476e-ae05-61d6019f1e29\")>,\n",
       " <selenium.webdriver.remote.webelement.WebElement (session=\"5bf80b2fe22d2afb039bb5df033f0fb0\", element=\"6c15821a-339c-415d-bed1-1020802572f3\")>,\n",
       " <selenium.webdriver.remote.webelement.WebElement (session=\"5bf80b2fe22d2afb039bb5df033f0fb0\", element=\"325cc0dd-e0b8-49f8-a862-bd3c6b503354\")>]"
      ]
     },
     "execution_count": 31,
     "metadata": {},
     "output_type": "execute_result"
    }
   ],
   "source": [
    "company = driver.find_elements_by_xpath(\"//p[@class='company body-medium']\")\n",
    "company[0:10]"
   ]
  },
  {
   "cell_type": "code",
   "execution_count": 32,
   "id": "137301d8",
   "metadata": {},
   "outputs": [
    {
     "data": {
      "text/plain": [
       "['GENPACT India Private Limited',\n",
       " 'GENPACT India Private Limited',\n",
       " 'Tech Mahindra Ltd',\n",
       " 'GENPACT India Private Limited',\n",
       " 'HCL Technologies',\n",
       " 'Bristlecone India Limited',\n",
       " 'Zyoin',\n",
       " 'Newgen Software Technologies Ltd.',\n",
       " 'Pitney Bowes India Pvt Ltd',\n",
       " 'JK Technosoft Ltd']"
      ]
     },
     "execution_count": 32,
     "metadata": {},
     "output_type": "execute_result"
    }
   ],
   "source": [
    "for i in company:\n",
    "    companies=i.text\n",
    "    Company.append(companies)\n",
    "    \n",
    "Company[0:10]"
   ]
  },
  {
   "cell_type": "code",
   "execution_count": 33,
   "id": "05a19350",
   "metadata": {},
   "outputs": [
    {
     "data": {
      "text/plain": [
       "[<selenium.webdriver.remote.webelement.WebElement (session=\"5bf80b2fe22d2afb039bb5df033f0fb0\", element=\"5b7b3540-f83a-4ed3-a9a7-220622e2de18\")>,\n",
       " <selenium.webdriver.remote.webelement.WebElement (session=\"5bf80b2fe22d2afb039bb5df033f0fb0\", element=\"0514c05b-0339-4dc9-b5a4-488e66521fb9\")>,\n",
       " <selenium.webdriver.remote.webelement.WebElement (session=\"5bf80b2fe22d2afb039bb5df033f0fb0\", element=\"32d10324-1767-4793-bd03-402bb1d4b726\")>,\n",
       " <selenium.webdriver.remote.webelement.WebElement (session=\"5bf80b2fe22d2afb039bb5df033f0fb0\", element=\"b00740b7-a2d0-407d-901e-bd8cfc68927b\")>,\n",
       " <selenium.webdriver.remote.webelement.WebElement (session=\"5bf80b2fe22d2afb039bb5df033f0fb0\", element=\"d3319dae-4c0d-4f44-919f-98d2ac378fc2\")>,\n",
       " <selenium.webdriver.remote.webelement.WebElement (session=\"5bf80b2fe22d2afb039bb5df033f0fb0\", element=\"c994cc07-bde9-4086-b0db-d14c0ca91821\")>,\n",
       " <selenium.webdriver.remote.webelement.WebElement (session=\"5bf80b2fe22d2afb039bb5df033f0fb0\", element=\"5f007456-ee5a-4612-b471-3dac2be9024f\")>,\n",
       " <selenium.webdriver.remote.webelement.WebElement (session=\"5bf80b2fe22d2afb039bb5df033f0fb0\", element=\"cb27fea1-c4d6-43f1-b1a1-29c9542666e1\")>,\n",
       " <selenium.webdriver.remote.webelement.WebElement (session=\"5bf80b2fe22d2afb039bb5df033f0fb0\", element=\"72181be5-56a6-4dbd-9200-cf205517b171\")>,\n",
       " <selenium.webdriver.remote.webelement.WebElement (session=\"5bf80b2fe22d2afb039bb5df033f0fb0\", element=\"0f76131f-d3d7-4161-8e99-1b814c372317\")>]"
      ]
     },
     "execution_count": 33,
     "metadata": {},
     "output_type": "execute_result"
    }
   ],
   "source": [
    "#extracting the tags for days the job was posted\n",
    "job_posted_days_ago=driver.find_elements_by_xpath(\"//div[@class='other-info']/span[1]\")\n",
    "job_posted_days_ago[0:10]"
   ]
  },
  {
   "cell_type": "code",
   "execution_count": 34,
   "id": "ea57bafd",
   "metadata": {},
   "outputs": [
    {
     "data": {
      "text/plain": [
       "['5d ago',\n",
       " '10d ago',\n",
       " '24d ago',\n",
       " '27d ago',\n",
       " '1mon ago',\n",
       " '5d ago',\n",
       " '9d ago',\n",
       " '11d ago',\n",
       " '1mon ago',\n",
       " '20d ago']"
      ]
     },
     "execution_count": 34,
     "metadata": {},
     "output_type": "execute_result"
    }
   ],
   "source": [
    "for i in job_posted_days_ago:\n",
    "    ago=i.text\n",
    "    Job_posted.append(ago)\n",
    "    \n",
    "Job_posted[0:10]"
   ]
  },
  {
   "cell_type": "code",
   "execution_count": 35,
   "id": "1b8881e8",
   "metadata": {},
   "outputs": [
    {
     "data": {
      "text/plain": [
       "[<selenium.webdriver.remote.webelement.WebElement (session=\"5bf80b2fe22d2afb039bb5df033f0fb0\", element=\"4ae2437b-29dd-44d9-8b63-1124aa02f5b8\")>,\n",
       " <selenium.webdriver.remote.webelement.WebElement (session=\"5bf80b2fe22d2afb039bb5df033f0fb0\", element=\"cc69bcf2-1cfa-4d12-8102-f1998d683be6\")>,\n",
       " <selenium.webdriver.remote.webelement.WebElement (session=\"5bf80b2fe22d2afb039bb5df033f0fb0\", element=\"a67d2193-ad55-4128-8da7-9f894d9ead2f\")>,\n",
       " <selenium.webdriver.remote.webelement.WebElement (session=\"5bf80b2fe22d2afb039bb5df033f0fb0\", element=\"f1830a46-4a2f-448e-b5b7-b2cf1e41d04a\")>,\n",
       " <selenium.webdriver.remote.webelement.WebElement (session=\"5bf80b2fe22d2afb039bb5df033f0fb0\", element=\"43b34d60-64a3-4a47-b67f-5b18a8a7e4ac\")>,\n",
       " <selenium.webdriver.remote.webelement.WebElement (session=\"5bf80b2fe22d2afb039bb5df033f0fb0\", element=\"4b5eca9c-b257-4781-af01-9a99877f13b4\")>,\n",
       " <selenium.webdriver.remote.webelement.WebElement (session=\"5bf80b2fe22d2afb039bb5df033f0fb0\", element=\"615c7560-642e-409a-9d0f-6537bd9bbb8b\")>,\n",
       " <selenium.webdriver.remote.webelement.WebElement (session=\"5bf80b2fe22d2afb039bb5df033f0fb0\", element=\"55503c21-402f-476a-b9e3-c3f6da189035\")>,\n",
       " <selenium.webdriver.remote.webelement.WebElement (session=\"5bf80b2fe22d2afb039bb5df033f0fb0\", element=\"61994a4d-3d8b-428f-89d8-fdfccb102eb6\")>,\n",
       " <selenium.webdriver.remote.webelement.WebElement (session=\"5bf80b2fe22d2afb039bb5df033f0fb0\", element=\"60c07567-85cb-4e65-ab07-eed1fef3b4ae\")>]"
      ]
     },
     "execution_count": 35,
     "metadata": {},
     "output_type": "execute_result"
    }
   ],
   "source": [
    "#code to extract tags for ratings\n",
    "ratings=driver.find_elements_by_xpath(\"//span[@class='body-small']\")\n",
    "ratings[0:10]"
   ]
  },
  {
   "cell_type": "code",
   "execution_count": 36,
   "id": "901ea842",
   "metadata": {},
   "outputs": [
    {
     "data": {
      "text/plain": [
       "['4.0', '4.0', '3.7', '4.0', '3.8', '3.9', '4.1', '3.5', '4.3', '3.6']"
      ]
     },
     "execution_count": 36,
     "metadata": {},
     "output_type": "execute_result"
    }
   ],
   "source": [
    "for i in ratings:\n",
    "    Rat=i.text\n",
    "    Rating.append(Rat)\n",
    "    \n",
    "Rating[0:10]"
   ]
  },
  {
   "cell_type": "code",
   "execution_count": 37,
   "id": "94b9c2af",
   "metadata": {},
   "outputs": [
    {
     "name": "stdout",
     "output_type": "stream",
     "text": [
      "10 10 10\n"
     ]
    }
   ],
   "source": [
    "print(len(Company),len(Job_posted),len(Rating))  #checking length"
   ]
  },
  {
   "cell_type": "code",
   "execution_count": 38,
   "id": "c9ed41f8",
   "metadata": {},
   "outputs": [
    {
     "data": {
      "text/plain": [
       "['GENPACT India Private Limited',\n",
       " 'GENPACT India Private Limited',\n",
       " 'Tech Mahindra Ltd',\n",
       " 'GENPACT India Private Limited',\n",
       " 'HCL Technologies',\n",
       " 'Bristlecone India Limited',\n",
       " 'Zyoin',\n",
       " 'Newgen Software Technologies Ltd.',\n",
       " 'Pitney Bowes India Pvt Ltd',\n",
       " 'JK Technosoft Ltd']"
      ]
     },
     "execution_count": 38,
     "metadata": {},
     "output_type": "execute_result"
    }
   ],
   "source": [
    "Company=Company[0:10]  #to get only 10 elements\n",
    "Company"
   ]
  },
  {
   "cell_type": "code",
   "execution_count": 39,
   "id": "7ec7732e",
   "metadata": {},
   "outputs": [
    {
     "data": {
      "text/html": [
       "<div>\n",
       "<style scoped>\n",
       "    .dataframe tbody tr th:only-of-type {\n",
       "        vertical-align: middle;\n",
       "    }\n",
       "\n",
       "    .dataframe tbody tr th {\n",
       "        vertical-align: top;\n",
       "    }\n",
       "\n",
       "    .dataframe thead th {\n",
       "        text-align: right;\n",
       "    }\n",
       "</style>\n",
       "<table border=\"1\" class=\"dataframe\">\n",
       "  <thead>\n",
       "    <tr style=\"text-align: right;\">\n",
       "      <th></th>\n",
       "      <th>Company name</th>\n",
       "      <th>Days when Job was posted</th>\n",
       "      <th>Ratings</th>\n",
       "    </tr>\n",
       "  </thead>\n",
       "  <tbody>\n",
       "    <tr>\n",
       "      <th>0</th>\n",
       "      <td>GENPACT India Private Limited</td>\n",
       "      <td>5d ago</td>\n",
       "      <td>4.0</td>\n",
       "    </tr>\n",
       "    <tr>\n",
       "      <th>1</th>\n",
       "      <td>GENPACT India Private Limited</td>\n",
       "      <td>10d ago</td>\n",
       "      <td>4.0</td>\n",
       "    </tr>\n",
       "    <tr>\n",
       "      <th>2</th>\n",
       "      <td>Tech Mahindra Ltd</td>\n",
       "      <td>24d ago</td>\n",
       "      <td>3.7</td>\n",
       "    </tr>\n",
       "    <tr>\n",
       "      <th>3</th>\n",
       "      <td>GENPACT India Private Limited</td>\n",
       "      <td>27d ago</td>\n",
       "      <td>4.0</td>\n",
       "    </tr>\n",
       "    <tr>\n",
       "      <th>4</th>\n",
       "      <td>HCL Technologies</td>\n",
       "      <td>1mon ago</td>\n",
       "      <td>3.8</td>\n",
       "    </tr>\n",
       "    <tr>\n",
       "      <th>5</th>\n",
       "      <td>Bristlecone India Limited</td>\n",
       "      <td>5d ago</td>\n",
       "      <td>3.9</td>\n",
       "    </tr>\n",
       "    <tr>\n",
       "      <th>6</th>\n",
       "      <td>Zyoin</td>\n",
       "      <td>9d ago</td>\n",
       "      <td>4.1</td>\n",
       "    </tr>\n",
       "    <tr>\n",
       "      <th>7</th>\n",
       "      <td>Newgen Software Technologies Ltd.</td>\n",
       "      <td>11d ago</td>\n",
       "      <td>3.5</td>\n",
       "    </tr>\n",
       "    <tr>\n",
       "      <th>8</th>\n",
       "      <td>Pitney Bowes India Pvt Ltd</td>\n",
       "      <td>1mon ago</td>\n",
       "      <td>4.3</td>\n",
       "    </tr>\n",
       "    <tr>\n",
       "      <th>9</th>\n",
       "      <td>JK Technosoft Ltd</td>\n",
       "      <td>20d ago</td>\n",
       "      <td>3.6</td>\n",
       "    </tr>\n",
       "  </tbody>\n",
       "</table>\n",
       "</div>"
      ],
      "text/plain": [
       "                        Company name Days when Job was posted Ratings\n",
       "0      GENPACT India Private Limited                   5d ago     4.0\n",
       "1      GENPACT India Private Limited                  10d ago     4.0\n",
       "2                  Tech Mahindra Ltd                  24d ago     3.7\n",
       "3      GENPACT India Private Limited                  27d ago     4.0\n",
       "4                   HCL Technologies                 1mon ago     3.8\n",
       "5          Bristlecone India Limited                   5d ago     3.9\n",
       "6                              Zyoin                   9d ago     4.1\n",
       "7  Newgen Software Technologies Ltd.                  11d ago     3.5\n",
       "8         Pitney Bowes India Pvt Ltd                 1mon ago     4.3\n",
       "9                  JK Technosoft Ltd                  20d ago     3.6"
      ]
     },
     "execution_count": 39,
     "metadata": {},
     "output_type": "execute_result"
    }
   ],
   "source": [
    "ds=pd.DataFrame({'Company name': Company ,'Days when Job was posted': Job_posted,'Ratings':Rating})\n",
    "ds"
   ]
  },
  {
   "cell_type": "code",
   "execution_count": null,
   "id": "d42ea36c",
   "metadata": {},
   "outputs": [],
   "source": []
  },
  {
   "cell_type": "markdown",
   "id": "f71b8672",
   "metadata": {},
   "source": [
    "# Question 10:Write a python program to scrape the salary data for Data Scientist designation.\n",
    "You have to scrape Company name, Number of salaries, Average salary, Minsalary, Max Salary.\n",
    "1. First get the webpage https://www.ambitionbox.com/\n",
    "2. Click on the salaries option\n",
    "3. After reaching to the following webpage, In place of “Search Job Profile” enters “Data Scientist” and\n",
    "then click on “Data Scientist”.\n",
    "You have to scrape the data ticked in the above image.\n",
    "4. Scrape the data for the first 10 companies. Scrape the company name, total salary record, average\n",
    "salary, minimum salary, maximum salary, experience required.\n",
    "5. Store the data in a dataframe.\n"
   ]
  },
  {
   "cell_type": "code",
   "execution_count": 86,
   "id": "b71c4073",
   "metadata": {},
   "outputs": [],
   "source": [
    "#opening web browser\n",
    "driver=webdriver.Chrome(\"chromedriver.exe\")\n",
    "time.sleep(2)"
   ]
  },
  {
   "cell_type": "code",
   "execution_count": 87,
   "id": "c7fb1a51",
   "metadata": {},
   "outputs": [],
   "source": [
    "driver.get(\"https://www.ambitionbox.com/\")"
   ]
  },
  {
   "cell_type": "code",
   "execution_count": 88,
   "id": "4b894ab3",
   "metadata": {},
   "outputs": [],
   "source": [
    "#clicking on salary option\n",
    "Salary_tag=driver.find_element_by_xpath(\"/html/body/div[1]/nav/nav/a[4]\")\n",
    "Salary_tag.click()"
   ]
  },
  {
   "cell_type": "code",
   "execution_count": 89,
   "id": "3807c590",
   "metadata": {},
   "outputs": [],
   "source": [
    "#sending Data Scientist keys to job profiles \n",
    "search_field=driver.find_element_by_xpath(\"//input[@class='tt-input']\")\n",
    "search_field.send_keys(\"Data Scientist\")"
   ]
  },
  {
   "cell_type": "code",
   "execution_count": 90,
   "id": "b95f41a0",
   "metadata": {},
   "outputs": [],
   "source": [
    "#clicking on the search button above after typing Data Scientist below in job profiles\n",
    "search_button=driver.find_element_by_xpath(\"/html/body/div/div/div/div[2]/div/div/div/button/span\")\n",
    "search_button.click()"
   ]
  },
  {
   "cell_type": "code",
   "execution_count": 91,
   "id": "5b62ec1d",
   "metadata": {},
   "outputs": [],
   "source": [
    "#creating empty lists as per requirement of the task\n",
    "Company=[]\n",
    "Record=[]\n",
    "Average=[]\n",
    "Min=[]\n",
    "Max=[]\n",
    "Exp=[]"
   ]
  },
  {
   "cell_type": "code",
   "execution_count": 119,
   "id": "118e26a8",
   "metadata": {},
   "outputs": [
    {
     "data": {
      "text/plain": [
       "[<selenium.webdriver.remote.webelement.WebElement (session=\"b31c28f69466d27f7bb3dcf69f2c833c\", element=\"f1f1ece7-bd38-4276-9176-868b352d70cf\")>,\n",
       " <selenium.webdriver.remote.webelement.WebElement (session=\"b31c28f69466d27f7bb3dcf69f2c833c\", element=\"0f86fa11-0bf5-4f91-b333-fdcf3111540b\")>,\n",
       " <selenium.webdriver.remote.webelement.WebElement (session=\"b31c28f69466d27f7bb3dcf69f2c833c\", element=\"be5b8f13-02f0-436b-b50b-e1ab19e8b9d6\")>,\n",
       " <selenium.webdriver.remote.webelement.WebElement (session=\"b31c28f69466d27f7bb3dcf69f2c833c\", element=\"117dd071-9b50-4bbc-956b-5a7eba038f53\")>,\n",
       " <selenium.webdriver.remote.webelement.WebElement (session=\"b31c28f69466d27f7bb3dcf69f2c833c\", element=\"5596bf49-d961-49a9-9b48-cf0642b19747\")>,\n",
       " <selenium.webdriver.remote.webelement.WebElement (session=\"b31c28f69466d27f7bb3dcf69f2c833c\", element=\"9c4bc57f-eb8a-438c-8374-0a5dc0a5dd0b\")>,\n",
       " <selenium.webdriver.remote.webelement.WebElement (session=\"b31c28f69466d27f7bb3dcf69f2c833c\", element=\"0b760a5f-523f-4803-8038-d9226c0862df\")>,\n",
       " <selenium.webdriver.remote.webelement.WebElement (session=\"b31c28f69466d27f7bb3dcf69f2c833c\", element=\"9298941e-f0ea-419b-af6d-e79016fcf88c\")>,\n",
       " <selenium.webdriver.remote.webelement.WebElement (session=\"b31c28f69466d27f7bb3dcf69f2c833c\", element=\"47995870-5f19-4a27-9af4-73b2274c680e\")>,\n",
       " <selenium.webdriver.remote.webelement.WebElement (session=\"b31c28f69466d27f7bb3dcf69f2c833c\", element=\"b7359263-0227-43ca-b85f-7e8cec4afa2b\")>]"
      ]
     },
     "execution_count": 119,
     "metadata": {},
     "output_type": "execute_result"
    }
   ],
   "source": [
    "#extracting companies names\n",
    "search_names=driver.find_elements_by_xpath(\"//div[@class='name']/a\")\n",
    "search_names[0:10]\n"
   ]
  },
  {
   "cell_type": "code",
   "execution_count": 120,
   "id": "b06c9b6d",
   "metadata": {},
   "outputs": [
    {
     "data": {
      "text/plain": [
       "['Google\\nbased on 11 salaries',\n",
       " 'Arista Networks\\nbased on 13 salaries',\n",
       " 'Microsoft Corporation\\nbased on 253 salaries',\n",
       " 'Goldman Sachs\\nbased on 16 salaries',\n",
       " 'Tekion\\nbased on 32 salaries',\n",
       " 'Flipkart\\nbased on 61 salaries',\n",
       " 'Servicenow Software Development India\\nbased on 54 salaries',\n",
       " 'Walmart\\nbased on 81 salaries',\n",
       " 'PayPal\\nbased on 26 salaries',\n",
       " 'Amazon\\nbased on 103 salaries']"
      ]
     },
     "execution_count": 120,
     "metadata": {},
     "output_type": "execute_result"
    }
   ],
   "source": [
    "for i in search_names:\n",
    "    Name=i.text\n",
    "    Company.append(Name)\n",
    "    \n",
    "Company[0:10]"
   ]
  },
  {
   "cell_type": "code",
   "execution_count": 98,
   "id": "cb8c20a8",
   "metadata": {},
   "outputs": [
    {
     "data": {
      "text/plain": [
       "[<selenium.webdriver.remote.webelement.WebElement (session=\"b31c28f69466d27f7bb3dcf69f2c833c\", element=\"ccd0b505-16d3-4a20-8d06-192db6a084ff\")>,\n",
       " <selenium.webdriver.remote.webelement.WebElement (session=\"b31c28f69466d27f7bb3dcf69f2c833c\", element=\"61cff857-7080-463b-b64c-530df59bfa22\")>,\n",
       " <selenium.webdriver.remote.webelement.WebElement (session=\"b31c28f69466d27f7bb3dcf69f2c833c\", element=\"75b7ffa2-0e84-4bb0-8e27-a8088fe167c6\")>,\n",
       " <selenium.webdriver.remote.webelement.WebElement (session=\"b31c28f69466d27f7bb3dcf69f2c833c\", element=\"f6ec8bef-a7b8-47c6-99bb-3be96632ef0a\")>,\n",
       " <selenium.webdriver.remote.webelement.WebElement (session=\"b31c28f69466d27f7bb3dcf69f2c833c\", element=\"726fed66-0b3e-46e9-b340-d2d9712bce05\")>,\n",
       " <selenium.webdriver.remote.webelement.WebElement (session=\"b31c28f69466d27f7bb3dcf69f2c833c\", element=\"bd9566eb-085c-4e8a-9301-cb55bd014d20\")>,\n",
       " <selenium.webdriver.remote.webelement.WebElement (session=\"b31c28f69466d27f7bb3dcf69f2c833c\", element=\"d51bfb07-017c-410b-85b0-cc310987c662\")>,\n",
       " <selenium.webdriver.remote.webelement.WebElement (session=\"b31c28f69466d27f7bb3dcf69f2c833c\", element=\"ca2a839b-ede6-4450-8b44-0c0eb182d457\")>,\n",
       " <selenium.webdriver.remote.webelement.WebElement (session=\"b31c28f69466d27f7bb3dcf69f2c833c\", element=\"ca7d77d5-d7b5-45af-9cc6-9025763e4d30\")>,\n",
       " <selenium.webdriver.remote.webelement.WebElement (session=\"b31c28f69466d27f7bb3dcf69f2c833c\", element=\"9ae22d76-9d51-40d5-a782-ec9f32a71d36\")>]"
      ]
     },
     "execution_count": 98,
     "metadata": {},
     "output_type": "execute_result"
    }
   ],
   "source": [
    "#extracting salary record\n",
    "Total=driver.find_elements_by_xpath(\"//div[@class='name']/span\")  #using parent class to extract this data\n",
    "Total[0:10]"
   ]
  },
  {
   "cell_type": "code",
   "execution_count": 99,
   "id": "a5e9df2d",
   "metadata": {},
   "outputs": [
    {
     "data": {
      "text/plain": [
       "['based on 11 salaries',\n",
       " 'based on 13 salaries',\n",
       " 'based on 253 salaries',\n",
       " 'based on 16 salaries',\n",
       " 'based on 32 salaries',\n",
       " 'based on 61 salaries',\n",
       " 'based on 54 salaries',\n",
       " 'based on 81 salaries',\n",
       " 'based on 26 salaries',\n",
       " 'based on 103 salaries']"
      ]
     },
     "execution_count": 99,
     "metadata": {},
     "output_type": "execute_result"
    }
   ],
   "source": [
    "for i in Total:\n",
    "    record=i.text\n",
    "    Record.append(record)\n",
    "    \n",
    "Record[0:10]"
   ]
  },
  {
   "cell_type": "code",
   "execution_count": 102,
   "id": "9ae72e6f",
   "metadata": {},
   "outputs": [
    {
     "data": {
      "text/plain": [
       "[<selenium.webdriver.remote.webelement.WebElement (session=\"b31c28f69466d27f7bb3dcf69f2c833c\", element=\"a667b777-07fb-43fe-9c5b-d7345433b0b9\")>,\n",
       " <selenium.webdriver.remote.webelement.WebElement (session=\"b31c28f69466d27f7bb3dcf69f2c833c\", element=\"0baf7532-7349-4930-9a82-4174acceb415\")>,\n",
       " <selenium.webdriver.remote.webelement.WebElement (session=\"b31c28f69466d27f7bb3dcf69f2c833c\", element=\"eaa31738-d931-4327-aa5d-ce7fcd97a53d\")>,\n",
       " <selenium.webdriver.remote.webelement.WebElement (session=\"b31c28f69466d27f7bb3dcf69f2c833c\", element=\"0e4a2a76-1021-4fb9-b956-879f32463d38\")>,\n",
       " <selenium.webdriver.remote.webelement.WebElement (session=\"b31c28f69466d27f7bb3dcf69f2c833c\", element=\"313bce5b-ddbb-4fad-8d68-00f410aba70e\")>,\n",
       " <selenium.webdriver.remote.webelement.WebElement (session=\"b31c28f69466d27f7bb3dcf69f2c833c\", element=\"d4072ebf-b489-4e2e-af1e-37018a6e9c50\")>,\n",
       " <selenium.webdriver.remote.webelement.WebElement (session=\"b31c28f69466d27f7bb3dcf69f2c833c\", element=\"f9562a86-5d35-447d-982c-9901a773a937\")>,\n",
       " <selenium.webdriver.remote.webelement.WebElement (session=\"b31c28f69466d27f7bb3dcf69f2c833c\", element=\"c90534b5-a3af-4e46-90fb-850f40eb56c5\")>,\n",
       " <selenium.webdriver.remote.webelement.WebElement (session=\"b31c28f69466d27f7bb3dcf69f2c833c\", element=\"d8e574e4-4c8f-4a06-b595-8ec0a0df4232\")>,\n",
       " <selenium.webdriver.remote.webelement.WebElement (session=\"b31c28f69466d27f7bb3dcf69f2c833c\", element=\"60837c98-00e3-410d-8d3c-9ec83f84f8b3\")>]"
      ]
     },
     "execution_count": 102,
     "metadata": {},
     "output_type": "execute_result"
    }
   ],
   "source": [
    "#finding tags for average salary\n",
    "average_salary=driver.find_elements_by_xpath(\"//div[@class='average-indicator-wrapper']\")\n",
    "average_salary[0:10]"
   ]
  },
  {
   "cell_type": "code",
   "execution_count": 103,
   "id": "ad9fecfc",
   "metadata": {},
   "outputs": [
    {
     "data": {
      "text/plain": [
       "['₹ 26.9L',\n",
       " '₹ 24.7L',\n",
       " '₹ 23.7L',\n",
       " '₹ 22.3L',\n",
       " '₹ 21.0L',\n",
       " '₹ 20.3L',\n",
       " '₹ 20.2L',\n",
       " '₹ 19.9L',\n",
       " '₹ 19.8L',\n",
       " '₹ 19.7L']"
      ]
     },
     "execution_count": 103,
     "metadata": {},
     "output_type": "execute_result"
    }
   ],
   "source": [
    "#extracting data from above tags for average salary\n",
    "for i in average_salary:\n",
    "    avg=i.text\n",
    "    Average.append(avg)\n",
    "    \n",
    "Average[0:10]"
   ]
  },
  {
   "cell_type": "code",
   "execution_count": 104,
   "id": "421dd1c5",
   "metadata": {},
   "outputs": [
    {
     "data": {
      "text/plain": [
       "[<selenium.webdriver.remote.webelement.WebElement (session=\"b31c28f69466d27f7bb3dcf69f2c833c\", element=\"c6e60e81-e74e-460f-80e6-65d56a08f58b\")>,\n",
       " <selenium.webdriver.remote.webelement.WebElement (session=\"b31c28f69466d27f7bb3dcf69f2c833c\", element=\"69e22718-8760-443c-bcee-73606f1ae723\")>,\n",
       " <selenium.webdriver.remote.webelement.WebElement (session=\"b31c28f69466d27f7bb3dcf69f2c833c\", element=\"16d680f5-11ff-43f8-8307-75d5d6060702\")>,\n",
       " <selenium.webdriver.remote.webelement.WebElement (session=\"b31c28f69466d27f7bb3dcf69f2c833c\", element=\"359d8730-5178-48fb-8183-4c74e938dde3\")>,\n",
       " <selenium.webdriver.remote.webelement.WebElement (session=\"b31c28f69466d27f7bb3dcf69f2c833c\", element=\"38884666-10db-4c65-8e86-eb5556b37181\")>,\n",
       " <selenium.webdriver.remote.webelement.WebElement (session=\"b31c28f69466d27f7bb3dcf69f2c833c\", element=\"cea2c5a3-89c6-4296-aa0f-54a52b5f1f81\")>,\n",
       " <selenium.webdriver.remote.webelement.WebElement (session=\"b31c28f69466d27f7bb3dcf69f2c833c\", element=\"6ff68751-8540-43cc-b0a5-1fb3f6d518d7\")>,\n",
       " <selenium.webdriver.remote.webelement.WebElement (session=\"b31c28f69466d27f7bb3dcf69f2c833c\", element=\"14d7b199-930b-4e7a-87e4-106528051c1a\")>,\n",
       " <selenium.webdriver.remote.webelement.WebElement (session=\"b31c28f69466d27f7bb3dcf69f2c833c\", element=\"7448ef07-8e9a-498c-bb36-9156df4985f3\")>,\n",
       " <selenium.webdriver.remote.webelement.WebElement (session=\"b31c28f69466d27f7bb3dcf69f2c833c\", element=\"1d7e0677-c776-46b2-b7d7-fc5a4eed2b6e\")>]"
      ]
     },
     "execution_count": 104,
     "metadata": {},
     "output_type": "execute_result"
    }
   ],
   "source": [
    "#taking out tags for minimum salary\n",
    "Min_salary=driver.find_elements_by_xpath(\"//div[@class='value body-medium']\")\n",
    "Min_salary[0:10]\n"
   ]
  },
  {
   "cell_type": "code",
   "execution_count": 105,
   "id": "819fe66f",
   "metadata": {},
   "outputs": [
    {
     "data": {
      "text/plain": [
       "['₹ 10.4L',\n",
       " '₹ 40.0L',\n",
       " '₹ 10.7L',\n",
       " '₹ 38.0L',\n",
       " '₹ 13.0L',\n",
       " '₹ 45.0L',\n",
       " '₹ 12.0L',\n",
       " '₹ 34.0L',\n",
       " '₹ 12.0L',\n",
       " '₹ 33.0L']"
      ]
     },
     "execution_count": 105,
     "metadata": {},
     "output_type": "execute_result"
    }
   ],
   "source": [
    "for i in Min_salary:\n",
    "    Minimum=i.text\n",
    "    Min.append(Minimum)\n",
    "    \n",
    "Min[0:10]"
   ]
  },
  {
   "cell_type": "code",
   "execution_count": 106,
   "id": "bf5e3688",
   "metadata": {},
   "outputs": [
    {
     "data": {
      "text/plain": [
       "[<selenium.webdriver.remote.webelement.WebElement (session=\"b31c28f69466d27f7bb3dcf69f2c833c\", element=\"c6e60e81-e74e-460f-80e6-65d56a08f58b\")>,\n",
       " <selenium.webdriver.remote.webelement.WebElement (session=\"b31c28f69466d27f7bb3dcf69f2c833c\", element=\"69e22718-8760-443c-bcee-73606f1ae723\")>,\n",
       " <selenium.webdriver.remote.webelement.WebElement (session=\"b31c28f69466d27f7bb3dcf69f2c833c\", element=\"16d680f5-11ff-43f8-8307-75d5d6060702\")>,\n",
       " <selenium.webdriver.remote.webelement.WebElement (session=\"b31c28f69466d27f7bb3dcf69f2c833c\", element=\"359d8730-5178-48fb-8183-4c74e938dde3\")>,\n",
       " <selenium.webdriver.remote.webelement.WebElement (session=\"b31c28f69466d27f7bb3dcf69f2c833c\", element=\"38884666-10db-4c65-8e86-eb5556b37181\")>,\n",
       " <selenium.webdriver.remote.webelement.WebElement (session=\"b31c28f69466d27f7bb3dcf69f2c833c\", element=\"cea2c5a3-89c6-4296-aa0f-54a52b5f1f81\")>,\n",
       " <selenium.webdriver.remote.webelement.WebElement (session=\"b31c28f69466d27f7bb3dcf69f2c833c\", element=\"6ff68751-8540-43cc-b0a5-1fb3f6d518d7\")>,\n",
       " <selenium.webdriver.remote.webelement.WebElement (session=\"b31c28f69466d27f7bb3dcf69f2c833c\", element=\"14d7b199-930b-4e7a-87e4-106528051c1a\")>,\n",
       " <selenium.webdriver.remote.webelement.WebElement (session=\"b31c28f69466d27f7bb3dcf69f2c833c\", element=\"7448ef07-8e9a-498c-bb36-9156df4985f3\")>,\n",
       " <selenium.webdriver.remote.webelement.WebElement (session=\"b31c28f69466d27f7bb3dcf69f2c833c\", element=\"1d7e0677-c776-46b2-b7d7-fc5a4eed2b6e\")>]"
      ]
     },
     "execution_count": 106,
     "metadata": {},
     "output_type": "execute_result"
    }
   ],
   "source": [
    "#taking out tags for Maximum salary\n",
    "Max_salary=driver.find_elements_by_xpath(\"//div[@class='value body-medium']\")\n",
    "Max_salary[0:10]"
   ]
  },
  {
   "cell_type": "code",
   "execution_count": 107,
   "id": "21b81c5c",
   "metadata": {},
   "outputs": [
    {
     "data": {
      "text/plain": [
       "['₹ 10.4L',\n",
       " '₹ 40.0L',\n",
       " '₹ 10.7L',\n",
       " '₹ 38.0L',\n",
       " '₹ 13.0L',\n",
       " '₹ 45.0L',\n",
       " '₹ 12.0L',\n",
       " '₹ 34.0L',\n",
       " '₹ 12.0L',\n",
       " '₹ 33.0L']"
      ]
     },
     "execution_count": 107,
     "metadata": {},
     "output_type": "execute_result"
    }
   ],
   "source": [
    "for i in Max_salary:\n",
    "    Maximum=i.text\n",
    "    Max.append(Maximum)\n",
    "    \n",
    "Max[0:10]"
   ]
  },
  {
   "cell_type": "code",
   "execution_count": 110,
   "id": "5a9d4d18",
   "metadata": {},
   "outputs": [
    {
     "data": {
      "text/plain": [
       "[<selenium.webdriver.remote.webelement.WebElement (session=\"b31c28f69466d27f7bb3dcf69f2c833c\", element=\"3bf7916e-1710-49c4-ba6c-af04f3640a9f\")>,\n",
       " <selenium.webdriver.remote.webelement.WebElement (session=\"b31c28f69466d27f7bb3dcf69f2c833c\", element=\"eb39cbf9-7b75-44bc-8152-8b90c456ccf1\")>,\n",
       " <selenium.webdriver.remote.webelement.WebElement (session=\"b31c28f69466d27f7bb3dcf69f2c833c\", element=\"c27cb36c-bfe5-4577-8587-dc6b2def31b8\")>,\n",
       " <selenium.webdriver.remote.webelement.WebElement (session=\"b31c28f69466d27f7bb3dcf69f2c833c\", element=\"ebce8b59-c11f-44f3-8d58-4852fa5d1806\")>,\n",
       " <selenium.webdriver.remote.webelement.WebElement (session=\"b31c28f69466d27f7bb3dcf69f2c833c\", element=\"65930c9a-69cd-4659-bf9d-9cf90ffcb2c9\")>,\n",
       " <selenium.webdriver.remote.webelement.WebElement (session=\"b31c28f69466d27f7bb3dcf69f2c833c\", element=\"09eb15fe-6451-437e-99c9-03127d135851\")>,\n",
       " <selenium.webdriver.remote.webelement.WebElement (session=\"b31c28f69466d27f7bb3dcf69f2c833c\", element=\"1ec10373-9c7d-4c7a-93c0-7aeae58cccfd\")>,\n",
       " <selenium.webdriver.remote.webelement.WebElement (session=\"b31c28f69466d27f7bb3dcf69f2c833c\", element=\"33d572ff-e15f-45c1-bc7f-06afc9ce5b2b\")>,\n",
       " <selenium.webdriver.remote.webelement.WebElement (session=\"b31c28f69466d27f7bb3dcf69f2c833c\", element=\"bf25b176-864d-42da-ac0a-11fab44865c9\")>,\n",
       " <selenium.webdriver.remote.webelement.WebElement (session=\"b31c28f69466d27f7bb3dcf69f2c833c\", element=\"a9685636-3044-49d0-a53b-5154a07107cd\")>]"
      ]
     },
     "execution_count": 110,
     "metadata": {},
     "output_type": "execute_result"
    }
   ],
   "source": [
    "#extracting tags for experience required\n",
    "required=driver.find_elements_by_xpath(\"//div[@class='salaries sbold-list-header']/span\")\n",
    "required[0:10]"
   ]
  },
  {
   "cell_type": "code",
   "execution_count": 111,
   "id": "849e77ee",
   "metadata": {},
   "outputs": [
    {
     "data": {
      "text/plain": [
       "['Software Engineer\\n . \\n1 yr exp',\n",
       " 'Software Engineer\\n . \\n3 yrs exp',\n",
       " 'Software Engineer\\n . \\n1-4 yrs exp',\n",
       " 'Software Engineer\\n . \\n2 yrs exp',\n",
       " 'Software Engineer\\n . \\n2-4 yrs exp',\n",
       " 'Software Engineer\\n . \\n1-4 yrs exp',\n",
       " 'Software Engineer\\n . \\n2-4 yrs exp',\n",
       " 'Software Engineer\\n . \\n1-4 yrs exp',\n",
       " 'Software Engineer\\n . \\n1-2 yrs exp',\n",
       " 'Software Engineer\\n . \\n1-4 yrs exp']"
      ]
     },
     "execution_count": 111,
     "metadata": {},
     "output_type": "execute_result"
    }
   ],
   "source": [
    "for i in required:\n",
    "    exp=i.text\n",
    "    Exp.append(exp)\n",
    "    \n",
    "Exp[0:10]"
   ]
  },
  {
   "cell_type": "code",
   "execution_count": 112,
   "id": "376cd8f0",
   "metadata": {},
   "outputs": [
    {
     "name": "stdout",
     "output_type": "stream",
     "text": [
      "10 10 10 20 20 20\n"
     ]
    }
   ],
   "source": [
    "#now checking the length of all lists so as to make a dataframe.\n",
    "print(len(Company),len(Record),len(Average),len(Min),len(Max),len(Exp))"
   ]
  },
  {
   "cell_type": "code",
   "execution_count": 113,
   "id": "77b26663",
   "metadata": {},
   "outputs": [],
   "source": [
    "Min=Min[0:10]  #to get only desired elements"
   ]
  },
  {
   "cell_type": "code",
   "execution_count": 114,
   "id": "4ccf17d7",
   "metadata": {},
   "outputs": [],
   "source": [
    "Max=Max[0:10]"
   ]
  },
  {
   "cell_type": "code",
   "execution_count": 115,
   "id": "856ec8b0",
   "metadata": {},
   "outputs": [],
   "source": [
    "Exp=Exp[0:10]"
   ]
  },
  {
   "cell_type": "code",
   "execution_count": 116,
   "id": "128d804c",
   "metadata": {},
   "outputs": [
    {
     "name": "stdout",
     "output_type": "stream",
     "text": [
      "10 10 10 10 10 10\n"
     ]
    }
   ],
   "source": [
    "print(len(Company),len(Record),len(Average),len(Min),len(Max),len(Exp))"
   ]
  },
  {
   "cell_type": "code",
   "execution_count": 118,
   "id": "48069721",
   "metadata": {},
   "outputs": [
    {
     "data": {
      "text/html": [
       "<div>\n",
       "<style scoped>\n",
       "    .dataframe tbody tr th:only-of-type {\n",
       "        vertical-align: middle;\n",
       "    }\n",
       "\n",
       "    .dataframe tbody tr th {\n",
       "        vertical-align: top;\n",
       "    }\n",
       "\n",
       "    .dataframe thead th {\n",
       "        text-align: right;\n",
       "    }\n",
       "</style>\n",
       "<table border=\"1\" class=\"dataframe\">\n",
       "  <thead>\n",
       "    <tr style=\"text-align: right;\">\n",
       "      <th></th>\n",
       "      <th>Company name</th>\n",
       "      <th>Total Salary Record</th>\n",
       "      <th>Minimum Salary</th>\n",
       "      <th>Maximum Salary</th>\n",
       "      <th>Average Salary</th>\n",
       "      <th>Experience required</th>\n",
       "    </tr>\n",
       "  </thead>\n",
       "  <tbody>\n",
       "    <tr>\n",
       "      <th>0</th>\n",
       "      <td>Google\\nbased on 11 salaries</td>\n",
       "      <td>based on 11 salaries</td>\n",
       "      <td>₹ 10.4L</td>\n",
       "      <td>₹ 10.4L</td>\n",
       "      <td>₹ 26.9L</td>\n",
       "      <td>Software Engineer\\n . \\n1 yr exp</td>\n",
       "    </tr>\n",
       "    <tr>\n",
       "      <th>1</th>\n",
       "      <td>Arista Networks\\nbased on 13 salaries</td>\n",
       "      <td>based on 13 salaries</td>\n",
       "      <td>₹ 40.0L</td>\n",
       "      <td>₹ 40.0L</td>\n",
       "      <td>₹ 24.7L</td>\n",
       "      <td>Software Engineer\\n . \\n3 yrs exp</td>\n",
       "    </tr>\n",
       "    <tr>\n",
       "      <th>2</th>\n",
       "      <td>Microsoft Corporation\\nbased on 253 salaries</td>\n",
       "      <td>based on 253 salaries</td>\n",
       "      <td>₹ 10.7L</td>\n",
       "      <td>₹ 10.7L</td>\n",
       "      <td>₹ 23.7L</td>\n",
       "      <td>Software Engineer\\n . \\n1-4 yrs exp</td>\n",
       "    </tr>\n",
       "    <tr>\n",
       "      <th>3</th>\n",
       "      <td>Goldman Sachs\\nbased on 16 salaries</td>\n",
       "      <td>based on 16 salaries</td>\n",
       "      <td>₹ 38.0L</td>\n",
       "      <td>₹ 38.0L</td>\n",
       "      <td>₹ 22.3L</td>\n",
       "      <td>Software Engineer\\n . \\n2 yrs exp</td>\n",
       "    </tr>\n",
       "    <tr>\n",
       "      <th>4</th>\n",
       "      <td>Tekion\\nbased on 32 salaries</td>\n",
       "      <td>based on 32 salaries</td>\n",
       "      <td>₹ 13.0L</td>\n",
       "      <td>₹ 13.0L</td>\n",
       "      <td>₹ 21.0L</td>\n",
       "      <td>Software Engineer\\n . \\n2-4 yrs exp</td>\n",
       "    </tr>\n",
       "    <tr>\n",
       "      <th>5</th>\n",
       "      <td>Flipkart\\nbased on 61 salaries</td>\n",
       "      <td>based on 61 salaries</td>\n",
       "      <td>₹ 45.0L</td>\n",
       "      <td>₹ 45.0L</td>\n",
       "      <td>₹ 20.3L</td>\n",
       "      <td>Software Engineer\\n . \\n1-4 yrs exp</td>\n",
       "    </tr>\n",
       "    <tr>\n",
       "      <th>6</th>\n",
       "      <td>Servicenow Software Development India\\nbased o...</td>\n",
       "      <td>based on 54 salaries</td>\n",
       "      <td>₹ 12.0L</td>\n",
       "      <td>₹ 12.0L</td>\n",
       "      <td>₹ 20.2L</td>\n",
       "      <td>Software Engineer\\n . \\n2-4 yrs exp</td>\n",
       "    </tr>\n",
       "    <tr>\n",
       "      <th>7</th>\n",
       "      <td>Walmart\\nbased on 81 salaries</td>\n",
       "      <td>based on 81 salaries</td>\n",
       "      <td>₹ 34.0L</td>\n",
       "      <td>₹ 34.0L</td>\n",
       "      <td>₹ 19.9L</td>\n",
       "      <td>Software Engineer\\n . \\n1-4 yrs exp</td>\n",
       "    </tr>\n",
       "    <tr>\n",
       "      <th>8</th>\n",
       "      <td>PayPal\\nbased on 26 salaries</td>\n",
       "      <td>based on 26 salaries</td>\n",
       "      <td>₹ 12.0L</td>\n",
       "      <td>₹ 12.0L</td>\n",
       "      <td>₹ 19.8L</td>\n",
       "      <td>Software Engineer\\n . \\n1-2 yrs exp</td>\n",
       "    </tr>\n",
       "    <tr>\n",
       "      <th>9</th>\n",
       "      <td>Amazon\\nbased on 103 salaries</td>\n",
       "      <td>based on 103 salaries</td>\n",
       "      <td>₹ 33.0L</td>\n",
       "      <td>₹ 33.0L</td>\n",
       "      <td>₹ 19.7L</td>\n",
       "      <td>Software Engineer\\n . \\n1-4 yrs exp</td>\n",
       "    </tr>\n",
       "  </tbody>\n",
       "</table>\n",
       "</div>"
      ],
      "text/plain": [
       "                                        Company name    Total Salary Record  \\\n",
       "0                       Google\\nbased on 11 salaries   based on 11 salaries   \n",
       "1              Arista Networks\\nbased on 13 salaries   based on 13 salaries   \n",
       "2       Microsoft Corporation\\nbased on 253 salaries  based on 253 salaries   \n",
       "3                Goldman Sachs\\nbased on 16 salaries   based on 16 salaries   \n",
       "4                       Tekion\\nbased on 32 salaries   based on 32 salaries   \n",
       "5                     Flipkart\\nbased on 61 salaries   based on 61 salaries   \n",
       "6  Servicenow Software Development India\\nbased o...   based on 54 salaries   \n",
       "7                      Walmart\\nbased on 81 salaries   based on 81 salaries   \n",
       "8                       PayPal\\nbased on 26 salaries   based on 26 salaries   \n",
       "9                      Amazon\\nbased on 103 salaries  based on 103 salaries   \n",
       "\n",
       "  Minimum Salary Maximum Salary Average Salary  \\\n",
       "0        ₹ 10.4L        ₹ 10.4L        ₹ 26.9L   \n",
       "1        ₹ 40.0L        ₹ 40.0L        ₹ 24.7L   \n",
       "2        ₹ 10.7L        ₹ 10.7L        ₹ 23.7L   \n",
       "3        ₹ 38.0L        ₹ 38.0L        ₹ 22.3L   \n",
       "4        ₹ 13.0L        ₹ 13.0L        ₹ 21.0L   \n",
       "5        ₹ 45.0L        ₹ 45.0L        ₹ 20.3L   \n",
       "6        ₹ 12.0L        ₹ 12.0L        ₹ 20.2L   \n",
       "7        ₹ 34.0L        ₹ 34.0L        ₹ 19.9L   \n",
       "8        ₹ 12.0L        ₹ 12.0L        ₹ 19.8L   \n",
       "9        ₹ 33.0L        ₹ 33.0L        ₹ 19.7L   \n",
       "\n",
       "                   Experience required  \n",
       "0     Software Engineer\\n . \\n1 yr exp  \n",
       "1    Software Engineer\\n . \\n3 yrs exp  \n",
       "2  Software Engineer\\n . \\n1-4 yrs exp  \n",
       "3    Software Engineer\\n . \\n2 yrs exp  \n",
       "4  Software Engineer\\n . \\n2-4 yrs exp  \n",
       "5  Software Engineer\\n . \\n1-4 yrs exp  \n",
       "6  Software Engineer\\n . \\n2-4 yrs exp  \n",
       "7  Software Engineer\\n . \\n1-4 yrs exp  \n",
       "8  Software Engineer\\n . \\n1-2 yrs exp  \n",
       "9  Software Engineer\\n . \\n1-4 yrs exp  "
      ]
     },
     "execution_count": 118,
     "metadata": {},
     "output_type": "execute_result"
    }
   ],
   "source": [
    "#creating a dataframe now\n",
    "df=pd.DataFrame({'Company name': Company ,'Total Salary Record': Record,'Minimum Salary':Min,'Maximum Salary': Max,'Average Salary':Average, 'Experience required':Exp})\n",
    "df\n"
   ]
  },
  {
   "cell_type": "code",
   "execution_count": null,
   "id": "922bccbb",
   "metadata": {},
   "outputs": [],
   "source": []
  }
 ],
 "metadata": {
  "kernelspec": {
   "display_name": "Python 3",
   "language": "python",
   "name": "python3"
  },
  "language_info": {
   "codemirror_mode": {
    "name": "ipython",
    "version": 3
   },
   "file_extension": ".py",
   "mimetype": "text/x-python",
   "name": "python",
   "nbconvert_exporter": "python",
   "pygments_lexer": "ipython3",
   "version": "3.8.8"
  }
 },
 "nbformat": 4,
 "nbformat_minor": 5
}
